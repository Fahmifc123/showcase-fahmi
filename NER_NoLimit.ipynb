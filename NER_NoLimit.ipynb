{
  "cells": [
    {
      "cell_type": "markdown",
      "metadata": {
        "id": "xZEbuHz_QTRB"
      },
      "source": [
        "# skenario 1 (ML)"
      ]
    },
    {
      "cell_type": "markdown",
      "metadata": {
        "id": "GUM3ZfekoPq1"
      },
      "source": [
        "## Model"
      ]
    },
    {
      "cell_type": "code",
      "execution_count": null,
      "metadata": {
        "id": "Yf0swOgejnip"
      },
      "outputs": [],
      "source": [
        "import pandas as pd\n",
        "import numpy as np\n",
        "from sklearn.feature_extraction import DictVectorizer\n",
        "from sklearn.feature_extraction.text import HashingVectorizer\n",
        "from sklearn.linear_model import Perceptron\n",
        "from sklearn.model_selection import train_test_split\n",
        "from sklearn.linear_model import SGDClassifier\n",
        "from sklearn.linear_model import PassiveAggressiveClassifier\n",
        "from sklearn.naive_bayes import MultinomialNB\n",
        "from sklearn.metrics import classification_report\n",
        "import pickle"
      ]
    },
    {
      "cell_type": "code",
      "execution_count": null,
      "metadata": {
        "id": "HTiYKGgP_gPR"
      },
      "outputs": [],
      "source": [
        "df = pd.read_csv('/content/drive/MyDrive/nolimit/NER/data/data_train_ner.csv')"
      ]
    },
    {
      "cell_type": "code",
      "execution_count": null,
      "metadata": {
        "id": "PDKYb7xBWGao"
      },
      "outputs": [],
      "source": [
        "df.sample(5)"
      ]
    },
    {
      "cell_type": "code",
      "execution_count": null,
      "metadata": {
        "id": "cH0Z3s3LlkZ0"
      },
      "outputs": [],
      "source": [
        "df"
      ]
    },
    {
      "cell_type": "code",
      "execution_count": null,
      "metadata": {
        "id": "3hYek7A2l6sN"
      },
      "outputs": [],
      "source": [
        "df.isna().sum()"
      ]
    },
    {
      "cell_type": "code",
      "execution_count": null,
      "metadata": {
        "id": "b839eOwKmF2P"
      },
      "outputs": [],
      "source": [
        "df = df.dropna().reset_index(drop=True)"
      ]
    },
    {
      "cell_type": "code",
      "execution_count": null,
      "metadata": {
        "id": "0JBxOXI6m-OE"
      },
      "outputs": [],
      "source": [
        "df.drop(df[df.tag == 'O1'].index, inplace=True)\n",
        "df.drop(df[df.tag == 'OO'].index, inplace=True)"
      ]
    },
    {
      "cell_type": "code",
      "execution_count": null,
      "metadata": {
        "id": "MZRawJIMnHEb"
      },
      "outputs": [],
      "source": [
        "df.tag.value_counts()"
      ]
    },
    {
      "cell_type": "code",
      "execution_count": null,
      "metadata": {
        "id": "6xKSD_sZKdr7"
      },
      "outputs": [],
      "source": [
        "#Simple feature map to feed arrays into the classifier.\n",
        "def feature_map(word):\n",
        "    return np.array([word.istitle(), word.islower(), word.isupper(), len(word),\n",
        "                     word.isdigit(),  word.isalpha()])"
      ]
    },
    {
      "cell_type": "code",
      "execution_count": null,
      "metadata": {
        "id": "eBgewucULlxU"
      },
      "outputs": [],
      "source": [
        "df['word'] = df['word'].astype(str)"
      ]
    },
    {
      "cell_type": "code",
      "execution_count": null,
      "metadata": {
        "id": "Z-E-M6N7Kfex"
      },
      "outputs": [],
      "source": [
        "#We divide the dataset into train and test sets\n",
        "words = [feature_map(w) for w in df[\"word\"].values.tolist()]"
      ]
    },
    {
      "cell_type": "code",
      "execution_count": null,
      "metadata": {
        "id": "Xl-w7rmjc6oh"
      },
      "outputs": [],
      "source": [
        "from sklearn import preprocessing\n",
        "le = preprocessing.LabelEncoder()\n",
        "\n",
        "tags = le.fit_transform(df[\"tag\"].values.tolist())"
      ]
    },
    {
      "cell_type": "code",
      "execution_count": null,
      "metadata": {
        "id": "jj4bXUgEzn-b"
      },
      "outputs": [],
      "source": [
        "X = words\n",
        "y = tags\n",
        "\n",
        "classes = np.unique(y)\n",
        "classes = classes.tolist()\n",
        "X_train, X_test, y_train, y_test = train_test_split(X, y, test_size = 0.30, random_state=0)"
      ]
    },
    {
      "cell_type": "code",
      "execution_count": null,
      "metadata": {
        "id": "Lpjlh-NQ9b56"
      },
      "outputs": [],
      "source": [
        "model = MultinomialNB()\n",
        "model.fit(X_train, y_train)\n",
        "\n",
        "y_pred = model.predict(X_test)\n",
        "\n",
        "#Lets check the performance\n",
        "from sklearn.metrics import classification_report\n",
        "report = classification_report(y_pred=y_pred, y_true=y_test)\n",
        "print(report)"
      ]
    },
    {
      "cell_type": "code",
      "execution_count": null,
      "metadata": {
        "id": "4erf5lZmVrkO"
      },
      "outputs": [],
      "source": [
        "tes = [feature_map(w) for w in ['ilmu']]\n",
        "\n",
        "model.predict(tes)"
      ]
    },
    {
      "cell_type": "markdown",
      "metadata": {
        "id": "Zrp1X8CwoSxC"
      },
      "source": [
        "## Train with imbalanced"
      ]
    },
    {
      "cell_type": "code",
      "execution_count": null,
      "metadata": {
        "id": "Lt8FkPSOW05G"
      },
      "outputs": [],
      "source": [
        "# Define a pipeline combining a text feature extractor with multi lable classifier\n",
        "from sklearn.naive_bayes import MultinomialNB\n",
        "from sklearn.multiclass import OneVsRestClassifier\n",
        "from imblearn.under_sampling import RandomUnderSampler\n",
        "from imblearn.over_sampling import RandomOverSampler\n",
        "from imblearn.over_sampling import SVMSMOTE\n",
        "\n",
        "sm = SVMSMOTE(random_state=42)\n",
        "\n",
        "X = words\n",
        "y = tags\n",
        "\n",
        "# classes = np.unique(y)\n",
        "# classes = classes.tolist()\n",
        "\n",
        "X_res, y_res = sm.fit_resample(X, y)\n",
        "X_train, X_test, y_train, y_test = train_test_split(X_res, y_res, test_size = 0.30, random_state=0)\n",
        "\n",
        "model = OneVsRestClassifier(MultinomialNB())\n",
        "# model = BalancedBaggingClassifier()\n",
        "model.fit(X_train, y_train)\n",
        "\n",
        "y_pred = model.predict(X_test)\n",
        "\n",
        "#Lets check the performance\n",
        "from sklearn.metrics import classification_report\n",
        "report = classification_report(y_pred=y_pred, y_true=y_test)\n",
        "print(report)"
      ]
    },
    {
      "cell_type": "code",
      "execution_count": null,
      "metadata": {
        "id": "1i0QAach9y65"
      },
      "outputs": [],
      "source": [
        "# # save the model to disk\n",
        "# filename = 'model_ner.pkl'\n",
        "# pickle.dump(model, open(filename, 'wb'))"
      ]
    },
    {
      "cell_type": "markdown",
      "metadata": {
        "id": "AjdZ9hS2DdyP"
      },
      "source": [
        "# skenario 2 (DL)"
      ]
    },
    {
      "cell_type": "markdown",
      "metadata": {
        "id": "Yho6fkxLk9rX"
      },
      "source": [
        "## Import, pre-processing"
      ]
    },
    {
      "cell_type": "code",
      "execution_count": null,
      "metadata": {
        "id": "h92H5PyhOwmh"
      },
      "outputs": [],
      "source": [
        "# !pip uninstall gensim"
      ]
    },
    {
      "cell_type": "code",
      "execution_count": null,
      "metadata": {
        "id": "tgIs9E9KO53g"
      },
      "outputs": [],
      "source": [
        "!pip install gensim"
      ]
    },
    {
      "cell_type": "code",
      "execution_count": null,
      "metadata": {
        "id": "JYT2chSNDfRL"
      },
      "outputs": [],
      "source": [
        "# Read in the data and clean up column names\n",
        "\n",
        "import gensim\n",
        "\n",
        "import numpy as np\n",
        "import pandas as pd\n",
        "from sklearn.model_selection import train_test_split"
      ]
    },
    {
      "cell_type": "code",
      "execution_count": null,
      "metadata": {
        "id": "ZBGJ0NJ4FxBk"
      },
      "outputs": [],
      "source": [
        "df = pd.read_csv('/content/drive/MyDrive/nolimit/NER/data/data_train_ner.csv')"
      ]
    },
    {
      "cell_type": "code",
      "execution_count": null,
      "metadata": {
        "id": "lEXylDGcF7Dp"
      },
      "outputs": [],
      "source": [
        "df['word'] = df['word'].astype(str)"
      ]
    },
    {
      "cell_type": "code",
      "execution_count": null,
      "metadata": {
        "id": "j_M0mSKwFxkP"
      },
      "outputs": [],
      "source": [
        "# Clean data using the built in cleaner in gensim\n",
        "df['word_clean'] = df['word'].str.replace(r'[^\\w\\s]+', '')\n",
        "df['word_clean'] = df['word_clean'].str.lower()\n",
        "df.head()"
      ]
    },
    {
      "cell_type": "code",
      "execution_count": null,
      "metadata": {
        "id": "PJWjbl9hjIw6"
      },
      "outputs": [],
      "source": [
        "df.drop(df[df.tag == 'O1'].index, inplace=True)\n",
        "df.drop(df[df.tag == 'OO'].index, inplace=True)"
      ]
    },
    {
      "cell_type": "code",
      "execution_count": null,
      "metadata": {
        "id": "t0TArfpnilbC"
      },
      "outputs": [],
      "source": [
        "df.isna().sum()"
      ]
    },
    {
      "cell_type": "code",
      "execution_count": null,
      "metadata": {
        "id": "Pixv9C5WjWPJ"
      },
      "outputs": [],
      "source": [
        "df = df.dropna().reset_index(drop=True)"
      ]
    },
    {
      "cell_type": "code",
      "execution_count": null,
      "metadata": {
        "id": "hrz6MVCZjbTD"
      },
      "outputs": [],
      "source": [
        "df.isna().sum()"
      ]
    },
    {
      "cell_type": "code",
      "execution_count": null,
      "metadata": {
        "id": "W8FXkShajdIX"
      },
      "outputs": [],
      "source": [
        "# df['tag'] = df['tag'].str.strip('I-')\n",
        "# df['tag'] = df['tag'].str.strip('B-')"
      ]
    },
    {
      "cell_type": "code",
      "execution_count": null,
      "metadata": {
        "id": "0Yo1gXdejyRf"
      },
      "outputs": [],
      "source": [
        "# df.tag.value_counts()"
      ]
    },
    {
      "cell_type": "code",
      "execution_count": null,
      "metadata": {
        "id": "C6hey48nMKGZ"
      },
      "outputs": [],
      "source": [
        "df.shape"
      ]
    },
    {
      "cell_type": "code",
      "execution_count": null,
      "metadata": {
        "id": "vaFijSceNV8o"
      },
      "outputs": [],
      "source": [
        "df"
      ]
    },
    {
      "cell_type": "code",
      "execution_count": null,
      "metadata": {
        "id": "0plMCsDlNWQi"
      },
      "outputs": [],
      "source": [
        "df[df['tag'] == 'B-NUM']"
      ]
    },
    {
      "cell_type": "code",
      "execution_count": null,
      "metadata": {
        "id": "sfP_BauFNhUY"
      },
      "outputs": [],
      "source": [
        "df.tag.value_counts()"
      ]
    },
    {
      "cell_type": "code",
      "execution_count": null,
      "metadata": {
        "id": "SX-4wnVsNxnd"
      },
      "outputs": [],
      "source": [
        "df.to_csv('/content/drive/MyDrive/nolimit/NER/data/data_clean.csv', index=False)"
      ]
    },
    {
      "cell_type": "markdown",
      "metadata": {
        "id": "OSDcfTUdlBuu"
      },
      "source": [
        "## word2vec - skenario 1 (gagal)"
      ]
    },
    {
      "cell_type": "code",
      "execution_count": null,
      "metadata": {
        "id": "x3mThFhCGENd"
      },
      "outputs": [],
      "source": [
        "# Encoding the label column\n",
        "from sklearn import preprocessing\n",
        "le = preprocessing.LabelEncoder()\n",
        "\n",
        "df['tag_num'] = le.fit_transform(df[\"tag\"].values.tolist())\n",
        "\n",
        "# Split data into train and test sets\n",
        "X_train, X_test, y_train, y_test = train_test_split(df['word_clean'], df['tag_num'] , test_size=0.2)"
      ]
    },
    {
      "cell_type": "code",
      "execution_count": null,
      "metadata": {
        "id": "2P4IyqkOhiF5"
      },
      "outputs": [],
      "source": [
        "# 8 = TL\n",
        "# 7 = PRO\n",
        "# 6 = PER\n",
        "# 5 = ORG\n",
        "# 4 = O\n",
        "# 3 = NUM\n",
        "# 2 = LOC\n",
        "# 1 = EVE\n",
        "# 0 = DT"
      ]
    },
    {
      "cell_type": "code",
      "execution_count": null,
      "metadata": {
        "id": "lrXWq1i9GepS"
      },
      "outputs": [],
      "source": [
        "# Train the word2vec model\n",
        "w2v_model = gensim.models.Word2Vec(X_train,\n",
        "                                   window=5,\n",
        "                                   min_count=2)"
      ]
    },
    {
      "cell_type": "code",
      "execution_count": null,
      "metadata": {
        "id": "nr5R7_kTHMFM"
      },
      "outputs": [],
      "source": [
        "# Find the most similar words to \"king\" based on word vectors from our trained model\n",
        "w2v_model.wv.most_similar('jakarta')"
      ]
    },
    {
      "cell_type": "code",
      "execution_count": null,
      "metadata": {
        "id": "_t68q9ZAqUDY"
      },
      "outputs": [],
      "source": [
        "w2v_model.wv.index_to_key"
      ]
    },
    {
      "cell_type": "code",
      "execution_count": null,
      "metadata": {
        "id": "QOTAILYqH8t1"
      },
      "outputs": [],
      "source": [
        "words = set(w2v_model.wv.index_to_key)\n",
        "X_train_vect = np.array([np.array([w2v_model.wv[i] for i in ls if i in words])\n",
        "                         for ls in X_train])\n",
        "X_test_vect = np.array([np.array([w2v_model.wv[i] for i in ls if i in words])\n",
        "                         for ls in X_test])"
      ]
    },
    {
      "cell_type": "code",
      "execution_count": null,
      "metadata": {
        "id": "NLl-tyXFJi0J"
      },
      "outputs": [],
      "source": [
        "# Why is the length of the sentence different than the length of the sentence vector?\n",
        "# for i, v in enumerate(X_train_vect):\n",
        "#     print(len(X_train.iloc[i]), len(v))"
      ]
    },
    {
      "cell_type": "code",
      "execution_count": null,
      "metadata": {
        "id": "0teC87ClJmXx"
      },
      "outputs": [],
      "source": [
        "# Compute sentence vectors by averaging the word vectors for the words contained in the sentence\n",
        "X_train_vect_avg = []\n",
        "for v in X_train_vect:\n",
        "    if v.size:\n",
        "        X_train_vect_avg.append(v.mean(axis=0))\n",
        "    else:\n",
        "        X_train_vect_avg.append(np.zeros(100, dtype=float))\n",
        "\n",
        "X_test_vect_avg = []\n",
        "for v in X_test_vect:\n",
        "    if v.size:\n",
        "        X_test_vect_avg.append(v.mean(axis=0))\n",
        "    else:\n",
        "        X_test_vect_avg.append(np.zeros(100, dtype=float))"
      ]
    },
    {
      "cell_type": "markdown",
      "metadata": {
        "id": "cBGsyxc5T3MW"
      },
      "source": [
        "## pad sequence - skenario 2"
      ]
    },
    {
      "cell_type": "code",
      "execution_count": null,
      "metadata": {
        "id": "NOV9ixDhaeJc"
      },
      "outputs": [],
      "source": [
        "# Read in the data and clean up column names\n",
        "\n",
        "import gensim\n",
        "\n",
        "import numpy as np\n",
        "import pandas as pd\n",
        "from sklearn.model_selection import train_test_split"
      ]
    },
    {
      "cell_type": "code",
      "execution_count": null,
      "metadata": {
        "id": "LEqtq_uONxM0"
      },
      "outputs": [],
      "source": [
        "df = pd.read_csv('/content/drive/MyDrive/nolimit/NER/data/data_clean.csv')"
      ]
    },
    {
      "cell_type": "code",
      "execution_count": null,
      "metadata": {
        "id": "yGXo2WloT4SV"
      },
      "outputs": [],
      "source": [
        "from tensorflow.keras.preprocessing.text import Tokenizer\n",
        "from tensorflow.keras.preprocessing.sequence import pad_sequences\n",
        "\n",
        "df['word_clean'] = df['word_clean'].astype(str)\n",
        "\n",
        "## Pra Pengolahan - Tokenisasi dan Sequence\n",
        "tokenizer = Tokenizer()\n",
        "tokenizer.fit_on_texts(df['word_clean'])\n",
        "sequences = tokenizer.texts_to_sequences(df['word_clean'])\n",
        "words = pad_sequences(sequences, maxlen=50, padding='post')"
      ]
    },
    {
      "cell_type": "code",
      "execution_count": null,
      "metadata": {
        "id": "xeCF1VLdUKyu"
      },
      "outputs": [],
      "source": [
        "# Encoding the label column\n",
        "from sklearn import preprocessing\n",
        "le = preprocessing.LabelEncoder()\n",
        "\n",
        "df['tag_num'] = le.fit_transform(df[\"tag\"].values.tolist())\n",
        "\n",
        "# Split data into train and test sets\n",
        "X_train, X_test, y_train, y_test = train_test_split(words, df['tag_num'] , test_size=0.2)"
      ]
    },
    {
      "cell_type": "code",
      "execution_count": null,
      "metadata": {
        "id": "mahGNN5GOwH-"
      },
      "outputs": [],
      "source": [
        "print(df[['tag', 'tag_num']].drop_duplicates(subset=['tag_num']).sort_values(by=['tag_num']))"
      ]
    },
    {
      "cell_type": "markdown",
      "metadata": {
        "id": "Ic6URMcTlD1G"
      },
      "source": [
        "## modelling ML"
      ]
    },
    {
      "cell_type": "code",
      "execution_count": null,
      "metadata": {
        "id": "loJALXnHsZwx"
      },
      "outputs": [],
      "source": [
        "df.tag.value_counts().plot(kind='bar')"
      ]
    },
    {
      "cell_type": "code",
      "execution_count": null,
      "metadata": {
        "id": "anyVonnKxyeC"
      },
      "outputs": [],
      "source": [
        "# # pakai ini jika mau coba balance\n",
        "# from imblearn.ensemble import BalancedRandomForestClassifier\n",
        "# clf = BalancedRandomForestClassifier()\n",
        "# rf_model = clf.fit(X_train, y_train.values.ravel())"
      ]
    },
    {
      "cell_type": "code",
      "execution_count": null,
      "metadata": {
        "id": "CUQ3Br3ZKmw_"
      },
      "outputs": [],
      "source": [
        "# Instantiate and fit a basic Random Forest model on top of the vectors\n",
        "from sklearn.ensemble import RandomForestClassifier\n",
        "rf = RandomForestClassifier()\n",
        "model = rf.fit(X_train, y_train.values.ravel())"
      ]
    },
    {
      "cell_type": "code",
      "execution_count": null,
      "metadata": {
        "colab": {
          "background_save": true
        },
        "id": "_D9-LFxB1WWa"
      },
      "outputs": [],
      "source": [
        "from sklearn.ensemble import AdaBoostClassifier\n",
        "\n",
        "clf = AdaBoostClassifier(n_estimators=100)\n",
        "model = clf.fit(X_train, y_train.values.ravel())"
      ]
    },
    {
      "cell_type": "code",
      "execution_count": null,
      "metadata": {
        "id": "yNFygxeBKsgz"
      },
      "outputs": [],
      "source": [
        "# Use the trained model to make predictions on the test data\n",
        "y_pred = model.predict(X_test)"
      ]
    },
    {
      "cell_type": "code",
      "execution_count": null,
      "metadata": {
        "id": "tYvWKj5Pd20F"
      },
      "outputs": [],
      "source": [
        "len(np.unique(y_pred))"
      ]
    },
    {
      "cell_type": "code",
      "execution_count": null,
      "metadata": {
        "id": "2f2MsgLceMix"
      },
      "outputs": [],
      "source": [
        "len(y_test.value_counts())"
      ]
    },
    {
      "cell_type": "code",
      "execution_count": null,
      "metadata": {
        "id": "plKKZ7xSfGPS"
      },
      "outputs": [],
      "source": [
        "#Lets check the performance\n",
        "from sklearn.metrics import classification_report\n",
        "report = classification_report(y_pred=y_pred, y_true=y_test)\n",
        "print(report)"
      ]
    },
    {
      "cell_type": "code",
      "execution_count": null,
      "metadata": {
        "id": "UdYmK9tWdGp0"
      },
      "outputs": [],
      "source": [
        "# save the model to disk\n",
        "\n",
        "import pickle\n",
        "\n",
        "filename = '/content/drive/MyDrive/nolimit/NER/model_bi_rf.pkl'\n",
        "pickle.dump(rf_model, open(filename, 'wb'))"
      ]
    },
    {
      "cell_type": "markdown",
      "metadata": {
        "id": "pyi2wCIafvDA"
      },
      "source": [
        "## load model"
      ]
    },
    {
      "cell_type": "code",
      "execution_count": null,
      "metadata": {
        "id": "IFRItCzmfwkM"
      },
      "outputs": [],
      "source": [
        "import pickle\n",
        "\n",
        "model = pickle.load(open('/content/drive/MyDrive/nolimit/NER/model_bi_rf.pkl', 'rb'))\n",
        "\n",
        "tokenizer = pickle.load(open('/content/drive/MyDrive/nolimit/NER/tokenizer.pkl', 'rb'))"
      ]
    },
    {
      "cell_type": "code",
      "execution_count": null,
      "metadata": {
        "id": "aNVodn7amqoi"
      },
      "outputs": [],
      "source": [
        "# #Lets check the performance\n",
        "# from sklearn.metrics import classification_report\n",
        "\n",
        "# y_pred = model.predict(X_test)\n",
        "# report = classification_report(y_pred=y_pred, y_true=y_test)\n",
        "# print(report)"
      ]
    },
    {
      "cell_type": "code",
      "execution_count": null,
      "metadata": {
        "id": "8iI8g5V4_GjF"
      },
      "outputs": [],
      "source": [
        "import nltk\n",
        "import re\n",
        "import string\n",
        "nltk.download('punkt')\n",
        "nltk.download('stopwords')\n",
        "\n",
        "from nltk.util import ngrams\n",
        "\n",
        "from nltk.corpus import stopwords\n",
        "sw = stopwords.words(\"indonesian\")\n",
        "\n",
        "def text_cleaning(text, remove_stop_words=True):\n",
        "    # Clean the text\n",
        "\n",
        "    text = text.lower() #lowercase atau case folding\n",
        "    text = re.sub('@[^\\s]+', '', text) #remove username\n",
        "    text = re.sub('\\[.*?\\]', '', text) # remove square brackets\n",
        "    text = re.sub('((www\\.[^\\s]+)|(https?://[^\\s]+))', '', text) # remove URLs\n",
        "    text = re.sub('[%s]' % re.escape(string.punctuation), '', text) # remove punctuation\n",
        "    text = re.sub('\\w*\\d\\w*', '', text)\n",
        "    text = re.sub('[‘’“”…]', '', text)\n",
        "    text = re.sub('\\n', '', text)\n",
        "\n",
        "    # Optionally, remove stop words\n",
        "    if remove_stop_words:\n",
        "        # load stopwords\n",
        "        text = text.split()\n",
        "        text = [w for w in text if not w in sw] #6\n",
        "        text = \" \".join(text)\n",
        "        text = text.lower()\n",
        "\n",
        "    return text"
      ]
    },
    {
      "cell_type": "code",
      "execution_count": null,
      "metadata": {
        "id": "uSACI6TwNSO9"
      },
      "outputs": [],
      "source": [
        "from tensorflow.keras.preprocessing.sequence import pad_sequences\n",
        "\n",
        "# text_new = \"\"\"\n",
        "# Sampai 31 Oktober 2022 jumlah kasus (gagal ginjal akut) ada 304, dirawat sebanyak 46 kasus, meninggal 159 kasus atau 52 persen, dan yang sembuh 99 orang, kata Juru Bicara Kemenkes Mohammad Syahril dalam konferensi pers daring di Jakarta, Selasa (1/11/2022)\n",
        "# \"\"\"\n",
        "\n",
        "text_new = \"Muhammad Fahmi pergi ke mall taman anggrek membeli kue bantal\"\n",
        "\n",
        "# text_new = \"\"\"JAKARTA, KOMPAS.com - Menteri Kesehatan (Menkes) Budi Gunadi Sadikin memaparkan,\n",
        "# jumlah total kasus gagal ginjal akut di Indonesia mencapai 325 kasus per Selasa (1/11/2022)\n",
        "# \"\"\"\n",
        "\n",
        "cleaned_review = text_cleaning(text_new)\n",
        "tokens = cleaned_review.lower().split()\n",
        "# bigrm = [' '.join(e) for e in ngrams(tokens, 2)]\n",
        "\n",
        "# tokens.extend(bigrm)\n",
        "\n",
        "## Pra Pengolahan Data Baru\n",
        "sequences = tokenizer.texts_to_sequences(tokens)\n",
        "vec_tokens = pad_sequences(sequences, maxlen=50, padding='post')"
      ]
    },
    {
      "cell_type": "code",
      "execution_count": null,
      "metadata": {
        "id": "gYw6XUlljCLg"
      },
      "outputs": [],
      "source": [
        "# prediksi\n",
        "hasil = model.predict(vec_tokens)\n",
        "\n",
        "hasil_prediksi = ['B-DT' if i == 0 else\n",
        "                  'B-EVE' if i == 1 else\n",
        "                  'B-LOC' if i == 2 else\n",
        "                  'B-NUM' if i == 3 else\n",
        "                  'B-ORG' if i == 4 else\n",
        "                  'B-PER' if i == 5 else\n",
        "                  'B-PRO' if i == 6 else\n",
        "                  'B-TL' if i == 7 else\n",
        "                  'I-DT' if i == 8 else\n",
        "                  'I-EVE' if i == 9 else\n",
        "                  'I-LOC' if i == 10 else\n",
        "                  'I-NUM' if i == 11 else\n",
        "                  'I-ORG' if i == 12 else\n",
        "                  'I-PER' if i == 13 else\n",
        "                  'I-PRO' if i == 14 else\n",
        "                  'I-TL' if i == 15 else\n",
        "                  'O' if i == 16 else\n",
        "                  i for i in hasil]"
      ]
    },
    {
      "cell_type": "code",
      "execution_count": null,
      "metadata": {
        "id": "WXnwZcpZ9eo8"
      },
      "outputs": [],
      "source": [
        "for a,b in zip(tokens, hasil_prediksi):\n",
        "  print(a, '=>', b)"
      ]
    },
    {
      "cell_type": "code",
      "execution_count": null,
      "metadata": {
        "id": "GQoXRDU6m817"
      },
      "outputs": [],
      "source": [
        "dt = []\n",
        "dh = []\n",
        "statement = {}\n",
        "\n",
        "for t,h in zip(tokens, hasil_prediksi):\n",
        "  # print(t, '-->', h)\n",
        "  dt.append(t)\n",
        "  dh.append(h)\n",
        "\n",
        "  if h == 'PER':\n",
        "    # print(type(t))\n",
        "    # print(t, 'mengatakan : ', ' '.join(str(txt) for txt in text_new.lower().split(t)[0].split(',')[:-1]))\n",
        "    # statement = {t : ' '.join(str(txt) for txt in text_new.lower().split(t)[0].split(',')[:-1]))}\n",
        "\n",
        "    if bool(re.search(r\"kata\", text_new.lower())) == True:\n",
        "      statement[t] = ' '.join(str(txt) for txt in text_new.lower().split(t)[0].split(',')[:-1]).strip()\n",
        "\n",
        "    elif bool(re.search(r\"memaparkan\", text_new.lower())) == True:\n",
        "      statement[t] = text_new.lower().split('memaparkan,')[1].strip()\n",
        "\n",
        "\n",
        "output = {dt[i]: dh[i] for i in range(len(dt))}\n",
        "print(text_new.lower())\n",
        "print(statement)"
      ]
    },
    {
      "cell_type": "code",
      "execution_count": null,
      "metadata": {
        "id": "LOnaZ1DHbzka"
      },
      "outputs": [],
      "source": [
        "# Sampai 31 Oktober 2022 jumlah kasus (gagal ginjal akut) ada 304,\n",
        "# dirawat sebanyak 46 kasus, meninggal 159 kasus atau 52 persen,\n",
        "# dan yang sembuh 99 orang, kata Juru Bicara Kemenkes Mohammad Syahril\n",
        "# dalam konferensi pers daring di Jakarta, Selasa (1/11/2022)"
      ]
    },
    {
      "cell_type": "code",
      "execution_count": null,
      "metadata": {
        "id": "qhDutjt9AU86"
      },
      "outputs": [],
      "source": [
        "result = {\"prediction\":output, \"statement\":statement}\n",
        "result"
      ]
    },
    {
      "cell_type": "code",
      "execution_count": null,
      "metadata": {
        "id": "T4LHX45sqrSE"
      },
      "outputs": [],
      "source": [
        "# # tes bigram\n",
        "\n",
        "# import nltk\n",
        "# text = 'Sampai 31 Oktober 2022 jumlah kasus (gagal ginjal akut) ada 304, dirawat sebanyak 46 kasus, meninggal 159 kasus atau 52 persen, dan yang sembuh 99 orang,\" kata Juru Bicara Kemenkes Mohammad Syahril dalam konferensi pers daring di Jakarta, Selasa (1/11/2022)'\n",
        "\n",
        "# bigrm = list(nltk.bigrams(text.split()))\n",
        "# bigrm"
      ]
    },
    {
      "cell_type": "markdown",
      "metadata": {
        "id": "z4qFbs2QXu-l"
      },
      "source": [
        "## Compare Model"
      ]
    },
    {
      "cell_type": "code",
      "execution_count": null,
      "metadata": {
        "id": "CE_Gl96GX35n"
      },
      "outputs": [],
      "source": [
        "import matplotlib.pyplot as plt\n",
        "from sklearn import model_selection\n",
        "from sklearn.linear_model import LogisticRegression\n",
        "from sklearn.tree import DecisionTreeClassifier\n",
        "from sklearn.neighbors import KNeighborsClassifier\n",
        "from sklearn.discriminant_analysis import LinearDiscriminantAnalysis\n",
        "from sklearn.naive_bayes import GaussianNB\n",
        "from sklearn.svm import SVC\n",
        "from sklearn.model_selection import train_test_split\n",
        "from sklearn import datasets\n",
        "import matplotlib.pyplot as plt\n",
        "\n",
        "plt.style.use('ggplot')"
      ]
    },
    {
      "cell_type": "code",
      "execution_count": null,
      "metadata": {
        "id": "Q1wjQ4g_X88q"
      },
      "outputs": [],
      "source": [
        "models = []\n",
        "models.append(('LR', LogisticRegression()))\n",
        "models.append(('LDA', LinearDiscriminantAnalysis()))\n",
        "models.append(('KNN', KNeighborsClassifier()))\n",
        "models.append(('CART', DecisionTreeClassifier()))\n",
        "models.append(('NB', GaussianNB()))\n",
        "models.append(('SVM', SVC()))"
      ]
    },
    {
      "cell_type": "code",
      "execution_count": null,
      "metadata": {
        "id": "APIhznWSYKY_"
      },
      "outputs": [],
      "source": [
        "X_train, X_test, y_train, y_test = train_test_split(words, df['tag_num'] , test_size=0.2)"
      ]
    },
    {
      "cell_type": "code",
      "execution_count": null,
      "metadata": {
        "id": "y30k6VTZoYo5"
      },
      "outputs": [],
      "source": [
        "models = SVC()\n",
        "models.fit(X_train, y_train)"
      ]
    },
    {
      "cell_type": "code",
      "execution_count": null,
      "metadata": {
        "id": "7IoLs1lgYB8y"
      },
      "outputs": [],
      "source": [
        "results = []\n",
        "names = []\n",
        "scoring = 'accuracy'\n",
        "for name, model in models:\n",
        "  kfold = model_selection.KFold(n_splits=10)\n",
        "  cv_results = model_selection.cross_val_score(model, X_train, y_train, cv=kfold, scoring=scoring)\n",
        "  results.append(cv_results)\n",
        "  names.append(name)\n",
        "  msg = \"%s: %f (%f)\" % (name, cv_results.mean(), cv_results.std())\n",
        "  print(msg)"
      ]
    },
    {
      "cell_type": "markdown",
      "metadata": {
        "id": "y46hWSiDq6Zs"
      },
      "source": [
        "# IndoBert"
      ]
    },
    {
      "cell_type": "markdown",
      "metadata": {
        "id": "NpRn31jAufDl"
      },
      "source": [
        "## import"
      ]
    },
    {
      "cell_type": "code",
      "execution_count": null,
      "metadata": {
        "colab": {
          "base_uri": "https://localhost:8080/"
        },
        "id": "JtAm29XEVF4_",
        "outputId": "ce79c743-231d-4dc0-8a71-a9f6860747df"
      },
      "outputs": [
        {
          "output_type": "stream",
          "name": "stdout",
          "text": [
            "/content\n"
          ]
        }
      ],
      "source": [
        "%cd /content"
      ]
    },
    {
      "cell_type": "code",
      "execution_count": null,
      "metadata": {
        "colab": {
          "base_uri": "https://localhost:8080/"
        },
        "id": "bhuNJHpYq8k8",
        "outputId": "82d3fa91-1cac-4400-d9a0-cd2dbae40095"
      },
      "outputs": [
        {
          "output_type": "stream",
          "name": "stdout",
          "text": [
            "Cloning into 'SEA_NLP_Workshop'...\n",
            "remote: Enumerating objects: 56, done.\u001b[K\n",
            "remote: Counting objects: 100% (56/56), done.\u001b[K\n",
            "remote: Compressing objects: 100% (51/51), done.\u001b[K\n",
            "remote: Total 56 (delta 14), reused 0 (delta 0), pack-reused 0\u001b[K\n",
            "Unpacking objects: 100% (56/56), 6.48 MiB | 3.54 MiB/s, done.\n"
          ]
        }
      ],
      "source": [
        "!git clone https://github.com/williamtjhi/SEA_NLP_Workshop.git"
      ]
    },
    {
      "cell_type": "code",
      "execution_count": null,
      "metadata": {
        "colab": {
          "base_uri": "https://localhost:8080/"
        },
        "id": "AymSZoO1sWFK",
        "outputId": "60b56eaf-6736-4f8c-a4c2-453cd2226b5a"
      },
      "outputs": [
        {
          "output_type": "stream",
          "name": "stdout",
          "text": [
            "/content/SEA_NLP_Workshop\n"
          ]
        }
      ],
      "source": [
        "%cd /content/SEA_NLP_Workshop"
      ]
    },
    {
      "cell_type": "code",
      "execution_count": null,
      "metadata": {
        "id": "Ia9rhyz9sYOW"
      },
      "outputs": [],
      "source": [
        "!pip install -r requirements_IndoBERT.txt"
      ]
    },
    {
      "cell_type": "code",
      "execution_count": null,
      "metadata": {
        "id": "eJLoa7WrrHBU"
      },
      "outputs": [],
      "source": [
        "import numpy as np\n",
        "import pandas as pd\n",
        "import torch\n",
        "\n",
        "from transformers import BertConfig, BertTokenizer #need transformers==2.9.0\n",
        "from nltk.tokenize import word_tokenize\n",
        "\n",
        "from word_classification import BertForWordClassification"
      ]
    },
    {
      "cell_type": "code",
      "execution_count": null,
      "metadata": {
        "id": "3_95Tb1Lss_R",
        "colab": {
          "base_uri": "https://localhost:8080/",
          "referenced_widgets": [
            "fcdf79404b71448fbd06edd46a266da8",
            "8b4e92f5d2f34c37b208cbd50eda7110",
            "96ae55c4beab46a9bafd415cb221e37b",
            "ac81edf3549d448fb0cd1c0d0b105c13",
            "5802b136746a44949433fb98a61af3a9",
            "45e1fdf253dd415a8059fdedf758f8cd",
            "a10f94765b51404caca03d9d90d5fa1a",
            "2cda40ebf3af43c4898e1da9406253c2",
            "8d04cd0ab5504625b0cc5893c3e897b9",
            "19f393903aa94884a1e1df15df9e494f",
            "cef44fcdc63f41fa97cc13e39592e4c1",
            "6281c054e9904a138940bc77c9a10819",
            "3d0afb2d8b1e4c1abf476f8a3b00d529",
            "d0a87aefb77b4c46b9a3c4d9fde43819",
            "dd895cc7736146e098d31bfded2d8a1e",
            "6a836b8bc32f45db8b902f6ff3dbaeb9",
            "f0f2fd1133c04255802393b77a71f30a",
            "b2d31e97f2fc454d804ac77306635cab",
            "53ae4fd8aa0b4769b4ada423a7e0c828",
            "7b31d4e5f449497c9358827a6aa936a4",
            "a04f011d68c3495281b5f2713e14c2a3",
            "ef930894834547c593cae29edd4085bb",
            "e6b31b87397b4d4c89db19a84abaa8a0",
            "72512e31321a489585b7e9fc692279d7",
            "42a43ffeb4d549e2817a836acbf17f1a",
            "dc6c4ab9e57e4740b76ee707ad22cef3",
            "b47ec9859a834c43809570607f315c39",
            "2cbfbf3d3fe8462da897ba5f854fc374",
            "a76ceaf2591449849616793b2ac721e2",
            "73934380345f4ce2a935f7eec3a2dbee",
            "180adf7fea8845d79739f6c1c8bf37c7",
            "55b4ff379f204ebd99609fce6864f032",
            "14f92d14a22f455e858066fb040fd492",
            "2e241d031a834fe296355378780aee37",
            "49932e8804ee42378616ac678e313c63",
            "47aa23527a074eb89f55ac616acd0625",
            "fcba8800bceb4f77b0057ef01ab6edd4",
            "bddd98f57cca486384ef44c882a32f42",
            "a76df900fc444958bf7e7d9f2d7572ad",
            "5524f4bc766a427190edd957954e3656",
            "2b6ecf917ad142729cb732d66aebb02a",
            "addb08e477bf463fb298e50514a909da",
            "3fd56568608145a49e5bb8773a9b5393",
            "f7ce6bdb238e43a8bb19d7a395690ef4"
          ]
        },
        "outputId": "7a7e2662-abea-484b-f2b4-370b486a4d06"
      },
      "outputs": [
        {
          "output_type": "display_data",
          "data": {
            "text/plain": [
              "Downloading:   0%|          | 0.00/229k [00:00<?, ?B/s]"
            ],
            "application/vnd.jupyter.widget-view+json": {
              "version_major": 2,
              "version_minor": 0,
              "model_id": "fcdf79404b71448fbd06edd46a266da8"
            }
          },
          "metadata": {}
        },
        {
          "output_type": "display_data",
          "data": {
            "text/plain": [
              "Downloading:   0%|          | 0.00/112 [00:00<?, ?B/s]"
            ],
            "application/vnd.jupyter.widget-view+json": {
              "version_major": 2,
              "version_minor": 0,
              "model_id": "6281c054e9904a138940bc77c9a10819"
            }
          },
          "metadata": {}
        },
        {
          "output_type": "display_data",
          "data": {
            "text/plain": [
              "Downloading:   0%|          | 0.00/2.00 [00:00<?, ?B/s]"
            ],
            "application/vnd.jupyter.widget-view+json": {
              "version_major": 2,
              "version_minor": 0,
              "model_id": "e6b31b87397b4d4c89db19a84abaa8a0"
            }
          },
          "metadata": {}
        },
        {
          "output_type": "display_data",
          "data": {
            "text/plain": [
              "Downloading:   0%|          | 0.00/1.53k [00:00<?, ?B/s]"
            ],
            "application/vnd.jupyter.widget-view+json": {
              "version_major": 2,
              "version_minor": 0,
              "model_id": "2e241d031a834fe296355378780aee37"
            }
          },
          "metadata": {}
        }
      ],
      "source": [
        "tokenizer = BertTokenizer.from_pretrained('indobenchmark/indobert-base-p1')\n",
        "config = BertConfig.from_pretrained('indobenchmark/indobert-base-p1')"
      ]
    },
    {
      "cell_type": "code",
      "execution_count": null,
      "metadata": {
        "id": "afbTmxwus0Z7"
      },
      "outputs": [],
      "source": [
        "config.num_labels = 7\n",
        "i2w = {0: 'I-PERSON', 1: 'B-ORGANISATION', 2: 'I-ORGANISATION', 3: 'B-PLACE', 4: 'I-PLACE', 5: 'O', 6: 'B-PERSON'}"
      ]
    },
    {
      "cell_type": "markdown",
      "metadata": {
        "id": "U5wenNYgudnt"
      },
      "source": [
        "## Finetunning"
      ]
    },
    {
      "cell_type": "code",
      "source": [
        "%cd /content/SEA_NLP_Workshop"
      ],
      "metadata": {
        "colab": {
          "base_uri": "https://localhost:8080/"
        },
        "id": "nd_rvgGcha0w",
        "outputId": "a978db2e-7c1c-4332-b1ed-95e9922b2147"
      },
      "execution_count": null,
      "outputs": [
        {
          "output_type": "stream",
          "name": "stdout",
          "text": [
            "/content/SEA_NLP_Workshop/Datasets\n"
          ]
        }
      ]
    },
    {
      "cell_type": "code",
      "execution_count": null,
      "metadata": {
        "colab": {
          "base_uri": "https://localhost:8080/"
        },
        "id": "7EPE7ILEu4Z4",
        "outputId": "1547b026-9e1a-4c10-de7c-824515420380"
      },
      "outputs": [
        {
          "output_type": "stream",
          "name": "stdout",
          "text": [
            "Cloning into 'indonlu'...\n",
            "remote: Enumerating objects: 500, done.\u001b[K\n",
            "remote: Counting objects: 100% (184/184), done.\u001b[K\n",
            "remote: Compressing objects: 100% (73/73), done.\u001b[K\n",
            "remote: Total 500 (delta 115), reused 142 (delta 111), pack-reused 316\u001b[K\n",
            "Receiving objects: 100% (500/500), 9.45 MiB | 11.03 MiB/s, done.\n",
            "Resolving deltas: 100% (235/235), done.\n"
          ]
        }
      ],
      "source": [
        "!git clone https://github.com/IndoNLP/indonlu"
      ]
    },
    {
      "cell_type": "code",
      "execution_count": null,
      "metadata": {
        "colab": {
          "base_uri": "https://localhost:8080/"
        },
        "id": "lbNyHmSEukEe",
        "outputId": "a3af5806-714d-44d1-e477-52ef7369d9bd"
      },
      "outputs": [
        {
          "output_type": "stream",
          "name": "stdout",
          "text": [
            "/content/SEA_NLP_Workshop/indonlu\n"
          ]
        },
        {
          "output_type": "stream",
          "name": "stderr",
          "text": [
            "[nltk_data] Downloading package punkt to /root/nltk_data...\n",
            "[nltk_data]   Unzipping tokenizers/punkt.zip.\n"
          ]
        },
        {
          "output_type": "execute_result",
          "data": {
            "text/plain": [
              "True"
            ]
          },
          "metadata": {},
          "execution_count": 13
        }
      ],
      "source": [
        "import os, sys\n",
        "sys.path.append('../')\n",
        "os.chdir('../')\n",
        "\n",
        "import random\n",
        "import numpy as np\n",
        "import pandas as pd\n",
        "import torch\n",
        "from torch import optim\n",
        "from tqdm import tqdm\n",
        "\n",
        "from transformers import BertConfig, BertTokenizer\n",
        "from nltk.tokenize import word_tokenize\n",
        "\n",
        "%cd /content/SEA_NLP_Workshop/indonlu\n",
        "from word_classification import BertForWordClassification\n",
        "from utils.forward_fn import forward_word_classification\n",
        "from utils.metrics import ner_metrics_fn\n",
        "from utils.data_utils import NerGritDataset, NerDataLoader\n",
        "\n",
        "import nltk\n",
        "nltk.download('punkt')"
      ]
    },
    {
      "cell_type": "code",
      "execution_count": null,
      "metadata": {
        "id": "c6Enfcncu_g0"
      },
      "outputs": [],
      "source": [
        "###\n",
        "# common functions\n",
        "###\n",
        "def set_seed(seed):\n",
        "    random.seed(seed)\n",
        "    np.random.seed(seed)\n",
        "    torch.manual_seed(seed)\n",
        "    torch.cuda.manual_seed(seed)\n",
        "\n",
        "def count_param(module, trainable=False):\n",
        "    if trainable:\n",
        "        return sum(p.numel() for p in module.parameters() if p.requires_grad)\n",
        "    else:\n",
        "        return sum(p.numel() for p in module.parameters())\n",
        "\n",
        "def get_lr(optimizer):\n",
        "    for param_group in optimizer.param_groups:\n",
        "        return param_group['lr']\n",
        "\n",
        "def metrics_to_string(metric_dict):\n",
        "    string_list = []\n",
        "    for key, value in metric_dict.items():\n",
        "        string_list.append('{}:{:.2f}'.format(key, value))\n",
        "    return ' '.join(string_list)\n"
      ]
    },
    {
      "cell_type": "code",
      "execution_count": null,
      "metadata": {
        "id": "dV6bUJDZu_jn"
      },
      "outputs": [],
      "source": [
        "# Set random seed\n",
        "set_seed(26092020)"
      ]
    },
    {
      "cell_type": "code",
      "execution_count": null,
      "metadata": {
        "id": "ClqHOexgu_nr",
        "colab": {
          "base_uri": "https://localhost:8080/",
          "referenced_widgets": [
            "3f5b8dbfcfe7488891f9b4b748cbb0b9",
            "d4bfe40c75b34b1e98f0e9a652fae1d9",
            "23484d34ae35432a922626ac68ab1a10",
            "39e7fd3b65c4436082a78796da363bf7",
            "be59eccb7d5b4b0ea3e4edc946e7178b",
            "ae029b0d40214aa3a931dfe18e99c484",
            "62a73a03deda44ee976f90d9782596d4",
            "849390b55d0a4d77bf7439b6eac2c939",
            "53f9ee1a78a843d1bd4ba6f72f38f034",
            "6466224b929a40489734292e863de6d3",
            "1c9aa0fff492439998e53722def2570a"
          ]
        },
        "outputId": "e70b9ca6-dde5-4d48-b759-ed0de00063bf"
      },
      "outputs": [
        {
          "output_type": "display_data",
          "data": {
            "text/plain": [
              "Downloading:   0%|          | 0.00/498M [00:00<?, ?B/s]"
            ],
            "application/vnd.jupyter.widget-view+json": {
              "version_major": 2,
              "version_minor": 0,
              "model_id": "3f5b8dbfcfe7488891f9b4b748cbb0b9"
            }
          },
          "metadata": {}
        }
      ],
      "source": [
        "# Load Tokenizer and Config\n",
        "tokenizer = BertTokenizer.from_pretrained('indobenchmark/indobert-base-p1')\n",
        "config = BertConfig.from_pretrained('indobenchmark/indobert-base-p1', num_hidden_layers = 6)\n",
        "config.num_labels = NerGritDataset.NUM_LABELS\n",
        "\n",
        "# Instantiate model\n",
        "model = BertForWordClassification.from_pretrained('indobenchmark/indobert-base-p1', config=config)"
      ]
    },
    {
      "cell_type": "code",
      "execution_count": null,
      "metadata": {
        "id": "4ZVdxBMru_qC"
      },
      "outputs": [],
      "source": [
        "# model"
      ]
    },
    {
      "cell_type": "code",
      "execution_count": null,
      "metadata": {
        "colab": {
          "base_uri": "https://localhost:8080/"
        },
        "id": "wxEYI1I9u_sQ",
        "outputId": "fd05dd67-4317-4523-9565-bbec56914f10"
      },
      "outputs": [
        {
          "output_type": "execute_result",
          "data": {
            "text/plain": [
              "81919495"
            ]
          },
          "metadata": {},
          "execution_count": 18
        }
      ],
      "source": [
        "count_param(model)"
      ]
    },
    {
      "cell_type": "code",
      "execution_count": null,
      "metadata": {
        "colab": {
          "base_uri": "https://localhost:8080/"
        },
        "id": "rx3eLay7kGPJ",
        "outputId": "98b141a0-0233-4442-ce2a-4c5f9c3cf6c6"
      },
      "outputs": [
        {
          "output_type": "execute_result",
          "data": {
            "text/plain": [
              "6"
            ]
          },
          "metadata": {},
          "execution_count": 19
        }
      ],
      "source": [
        "config.num_hidden_layers"
      ]
    },
    {
      "cell_type": "markdown",
      "metadata": {
        "id": "8fl6CSLOXMlD"
      },
      "source": [
        "## combine dataset"
      ]
    },
    {
      "cell_type": "code",
      "source": [
        "df = pd.read_csv('/content/drive/MyDrive/nolimit/NER/data/data_train_ner.csv')"
      ],
      "metadata": {
        "id": "rar9AO66Z8VZ"
      },
      "execution_count": null,
      "outputs": []
    },
    {
      "cell_type": "code",
      "source": [
        "df.head()"
      ],
      "metadata": {
        "colab": {
          "base_uri": "https://localhost:8080/"
        },
        "id": "B-ZAySpcaKcC",
        "outputId": "d4ba033a-a7b1-46d9-f2e2-34f1cf1166ff"
      },
      "execution_count": null,
      "outputs": [
        {
          "output_type": "execute_result",
          "data": {
            "text/plain": [
              "      word    tag\n",
              "0  JAKARTA  B-LOC\n",
              "1        –      O\n",
              "2    Tanah      O\n",
              "3      Air      O\n",
              "4     kini      O"
            ],
            "text/html": [
              "\n",
              "  <div id=\"df-74f00546-f16b-4fcd-b880-8158771d377f\">\n",
              "    <div class=\"colab-df-container\">\n",
              "      <div>\n",
              "<style scoped>\n",
              "    .dataframe tbody tr th:only-of-type {\n",
              "        vertical-align: middle;\n",
              "    }\n",
              "\n",
              "    .dataframe tbody tr th {\n",
              "        vertical-align: top;\n",
              "    }\n",
              "\n",
              "    .dataframe thead th {\n",
              "        text-align: right;\n",
              "    }\n",
              "</style>\n",
              "<table border=\"1\" class=\"dataframe\">\n",
              "  <thead>\n",
              "    <tr style=\"text-align: right;\">\n",
              "      <th></th>\n",
              "      <th>word</th>\n",
              "      <th>tag</th>\n",
              "    </tr>\n",
              "  </thead>\n",
              "  <tbody>\n",
              "    <tr>\n",
              "      <th>0</th>\n",
              "      <td>JAKARTA</td>\n",
              "      <td>B-LOC</td>\n",
              "    </tr>\n",
              "    <tr>\n",
              "      <th>1</th>\n",
              "      <td>–</td>\n",
              "      <td>O</td>\n",
              "    </tr>\n",
              "    <tr>\n",
              "      <th>2</th>\n",
              "      <td>Tanah</td>\n",
              "      <td>O</td>\n",
              "    </tr>\n",
              "    <tr>\n",
              "      <th>3</th>\n",
              "      <td>Air</td>\n",
              "      <td>O</td>\n",
              "    </tr>\n",
              "    <tr>\n",
              "      <th>4</th>\n",
              "      <td>kini</td>\n",
              "      <td>O</td>\n",
              "    </tr>\n",
              "  </tbody>\n",
              "</table>\n",
              "</div>\n",
              "      <button class=\"colab-df-convert\" onclick=\"convertToInteractive('df-74f00546-f16b-4fcd-b880-8158771d377f')\"\n",
              "              title=\"Convert this dataframe to an interactive table.\"\n",
              "              style=\"display:none;\">\n",
              "        \n",
              "  <svg xmlns=\"http://www.w3.org/2000/svg\" height=\"24px\"viewBox=\"0 0 24 24\"\n",
              "       width=\"24px\">\n",
              "    <path d=\"M0 0h24v24H0V0z\" fill=\"none\"/>\n",
              "    <path d=\"M18.56 5.44l.94 2.06.94-2.06 2.06-.94-2.06-.94-.94-2.06-.94 2.06-2.06.94zm-11 1L8.5 8.5l.94-2.06 2.06-.94-2.06-.94L8.5 2.5l-.94 2.06-2.06.94zm10 10l.94 2.06.94-2.06 2.06-.94-2.06-.94-.94-2.06-.94 2.06-2.06.94z\"/><path d=\"M17.41 7.96l-1.37-1.37c-.4-.4-.92-.59-1.43-.59-.52 0-1.04.2-1.43.59L10.3 9.45l-7.72 7.72c-.78.78-.78 2.05 0 2.83L4 21.41c.39.39.9.59 1.41.59.51 0 1.02-.2 1.41-.59l7.78-7.78 2.81-2.81c.8-.78.8-2.07 0-2.86zM5.41 20L4 18.59l7.72-7.72 1.47 1.35L5.41 20z\"/>\n",
              "  </svg>\n",
              "      </button>\n",
              "      \n",
              "  <style>\n",
              "    .colab-df-container {\n",
              "      display:flex;\n",
              "      flex-wrap:wrap;\n",
              "      gap: 12px;\n",
              "    }\n",
              "\n",
              "    .colab-df-convert {\n",
              "      background-color: #E8F0FE;\n",
              "      border: none;\n",
              "      border-radius: 50%;\n",
              "      cursor: pointer;\n",
              "      display: none;\n",
              "      fill: #1967D2;\n",
              "      height: 32px;\n",
              "      padding: 0 0 0 0;\n",
              "      width: 32px;\n",
              "    }\n",
              "\n",
              "    .colab-df-convert:hover {\n",
              "      background-color: #E2EBFA;\n",
              "      box-shadow: 0px 1px 2px rgba(60, 64, 67, 0.3), 0px 1px 3px 1px rgba(60, 64, 67, 0.15);\n",
              "      fill: #174EA6;\n",
              "    }\n",
              "\n",
              "    [theme=dark] .colab-df-convert {\n",
              "      background-color: #3B4455;\n",
              "      fill: #D2E3FC;\n",
              "    }\n",
              "\n",
              "    [theme=dark] .colab-df-convert:hover {\n",
              "      background-color: #434B5C;\n",
              "      box-shadow: 0px 1px 3px 1px rgba(0, 0, 0, 0.15);\n",
              "      filter: drop-shadow(0px 1px 2px rgba(0, 0, 0, 0.3));\n",
              "      fill: #FFFFFF;\n",
              "    }\n",
              "  </style>\n",
              "\n",
              "      <script>\n",
              "        const buttonEl =\n",
              "          document.querySelector('#df-74f00546-f16b-4fcd-b880-8158771d377f button.colab-df-convert');\n",
              "        buttonEl.style.display =\n",
              "          google.colab.kernel.accessAllowed ? 'block' : 'none';\n",
              "\n",
              "        async function convertToInteractive(key) {\n",
              "          const element = document.querySelector('#df-74f00546-f16b-4fcd-b880-8158771d377f');\n",
              "          const dataTable =\n",
              "            await google.colab.kernel.invokeFunction('convertToInteractive',\n",
              "                                                     [key], {});\n",
              "          if (!dataTable) return;\n",
              "\n",
              "          const docLinkHtml = 'Like what you see? Visit the ' +\n",
              "            '<a target=\"_blank\" href=https://colab.research.google.com/notebooks/data_table.ipynb>data table notebook</a>'\n",
              "            + ' to learn more about interactive tables.';\n",
              "          element.innerHTML = '';\n",
              "          dataTable['output_type'] = 'display_data';\n",
              "          await google.colab.output.renderOutput(dataTable, element);\n",
              "          const docLink = document.createElement('div');\n",
              "          docLink.innerHTML = docLinkHtml;\n",
              "          element.appendChild(docLink);\n",
              "        }\n",
              "      </script>\n",
              "    </div>\n",
              "  </div>\n",
              "  "
            ]
          },
          "metadata": {},
          "execution_count": 18
        }
      ]
    },
    {
      "cell_type": "code",
      "source": [
        "df['tag'].value_counts()"
      ],
      "metadata": {
        "colab": {
          "base_uri": "https://localhost:8080/"
        },
        "id": "tPszLp7vaLwA",
        "outputId": "39bee3fe-f359-4668-b6f2-fc082a7d7c20"
      },
      "execution_count": null,
      "outputs": [
        {
          "output_type": "execute_result",
          "data": {
            "text/plain": [
              "O        4065887\n",
              "I-DT      121960\n",
              "B-PER     107586\n",
              "B-LOC      93886\n",
              "I-ORG      86435\n",
              "I-NUM      75037\n",
              "I-LOC      70380\n",
              "B-ORG      68166\n",
              "I-TL       62389\n",
              "I-PER      61130\n",
              "B-NUM      46418\n",
              "B-DT       41827\n",
              "I-EVE      36276\n",
              "B-TL       33543\n",
              "B-EVE      17041\n",
              "I-PRO       8903\n",
              "B-PRO       6766\n",
              "O1             6\n",
              "OO             2\n",
              "Name: tag, dtype: int64"
            ]
          },
          "metadata": {},
          "execution_count": 19
        }
      ]
    },
    {
      "cell_type": "code",
      "source": [
        "drop = df[ (df['tag'] == 'I-DT') | (df['tag'] == 'I-NUM') | (df['tag'] == 'I-TL') |\n",
        "           (df['tag'] == 'B-NUM') | (df['tag'] == 'B-DT') | (df['tag'] == 'I-EVE') |\n",
        "           (df['tag'] == 'B-TL') | (df['tag'] == 'B-EVE') | (df['tag'] == 'I-PRO') |\n",
        "           (df['tag'] == 'B-PRO') | (df['tag'] == 'O1') | (df['tag'] == 'OO')].index\n",
        "\n",
        "df.drop(drop , inplace=True)"
      ],
      "metadata": {
        "id": "PFFyvTAaaWXd"
      },
      "execution_count": null,
      "outputs": []
    },
    {
      "cell_type": "code",
      "source": [
        "df['tag'].value_counts()"
      ],
      "metadata": {
        "colab": {
          "base_uri": "https://localhost:8080/"
        },
        "id": "cWqs3l-RbT8X",
        "outputId": "2677e355-6ef6-44af-9cce-b7333b2ebd3c"
      },
      "execution_count": null,
      "outputs": [
        {
          "output_type": "execute_result",
          "data": {
            "text/plain": [
              "O        4065887\n",
              "B-PER     107586\n",
              "B-LOC      93886\n",
              "I-ORG      86435\n",
              "I-LOC      70380\n",
              "B-ORG      68166\n",
              "I-PER      61130\n",
              "Name: tag, dtype: int64"
            ]
          },
          "metadata": {},
          "execution_count": 21
        }
      ]
    },
    {
      "cell_type": "code",
      "source": [
        "# 'I-PERSON': 0, 'B-ORGANISATION': 1, 'I-ORGANISATION': 2, 'B-PLACE': 3, 'I-PLACE': 4, 'O': 5, 'B-PERSON': 6\n",
        "\n",
        "df = df.replace(to_replace=\"B-PER\", value=\"B-PERSON\")\n",
        "df = df.replace(to_replace=\"B-LOC\", value=\"B-PLACE\")\n",
        "df = df.replace(to_replace=\"I-ORG\", value=\"I-ORGANISATION\")\n",
        "df = df.replace(to_replace=\"I-LOC\", value=\"I-PLACE\")\n",
        "df = df.replace(to_replace=\"B-ORG\", value=\"B-ORGANISATION\")\n",
        "df = df.replace(to_replace=\"I-PER\", value=\"I-PERSON\")"
      ],
      "metadata": {
        "id": "5k0B3DyEcIVf"
      },
      "execution_count": null,
      "outputs": []
    },
    {
      "cell_type": "code",
      "source": [
        "df['tag'].value_counts()"
      ],
      "metadata": {
        "colab": {
          "base_uri": "https://localhost:8080/"
        },
        "id": "ju2lYuhHctEH",
        "outputId": "78bd5783-0b31-4bda-89c6-a094ab6db6c6"
      },
      "execution_count": null,
      "outputs": [
        {
          "output_type": "execute_result",
          "data": {
            "text/plain": [
              "O                 4065887\n",
              "B-PERSON           107586\n",
              "B-PLACE             93886\n",
              "I-ORGANISATION      86435\n",
              "I-PLACE             70380\n",
              "B-ORGANISATION      68166\n",
              "I-PERSON            61130\n",
              "Name: tag, dtype: int64"
            ]
          },
          "metadata": {},
          "execution_count": 26
        }
      ]
    },
    {
      "cell_type": "code",
      "source": [
        "df.duplicated().sum()"
      ],
      "metadata": {
        "colab": {
          "base_uri": "https://localhost:8080/"
        },
        "id": "NVPWsqExc0ps",
        "outputId": "6ece6dc4-342d-48d9-8049-9eb445fffc0b"
      },
      "execution_count": null,
      "outputs": [
        {
          "output_type": "execute_result",
          "data": {
            "text/plain": [
              "4566629"
            ]
          },
          "metadata": {},
          "execution_count": 27
        }
      ]
    },
    {
      "cell_type": "code",
      "source": [
        "df = df.drop_duplicates().reset_index(drop=True)"
      ],
      "metadata": {
        "id": "HsmmCwD2c7ja"
      },
      "execution_count": null,
      "outputs": []
    },
    {
      "cell_type": "code",
      "source": [
        "df['tag'].value_counts()"
      ],
      "metadata": {
        "colab": {
          "base_uri": "https://localhost:8080/"
        },
        "id": "tgQkChQpc-qD",
        "outputId": "cd4a92a6-e56a-4b99-b50c-a243b269d672"
      },
      "execution_count": null,
      "outputs": [
        {
          "output_type": "execute_result",
          "data": {
            "text/plain": [
              "O                 17807\n",
              "B-PERSON           1621\n",
              "I-PERSON           1608\n",
              "I-ORGANISATION     1323\n",
              "I-PLACE            1291\n",
              "B-PLACE             966\n",
              "B-ORGANISATION      817\n",
              "Name: tag, dtype: int64"
            ]
          },
          "metadata": {},
          "execution_count": 29
        }
      ]
    },
    {
      "cell_type": "code",
      "source": [
        "df.word.isna().sum()"
      ],
      "metadata": {
        "colab": {
          "base_uri": "https://localhost:8080/"
        },
        "id": "vJrtGs4bgwLh",
        "outputId": "064f5045-6e51-4469-f696-f88f9c29d138"
      },
      "execution_count": null,
      "outputs": [
        {
          "output_type": "execute_result",
          "data": {
            "text/plain": [
              "1"
            ]
          },
          "metadata": {},
          "execution_count": 51
        }
      ]
    },
    {
      "cell_type": "code",
      "source": [
        "df = df.dropna(subset=['word']).reset_index(drop=True)"
      ],
      "metadata": {
        "id": "GcV2Rb8uhARR"
      },
      "execution_count": null,
      "outputs": []
    },
    {
      "cell_type": "code",
      "source": [
        "df[df.word.isna()]"
      ],
      "metadata": {
        "colab": {
          "base_uri": "https://localhost:8080/"
        },
        "id": "mGkbW3Rsg9JD",
        "outputId": "abb41de5-6a43-434d-8016-ef4e912103c7"
      },
      "execution_count": null,
      "outputs": [
        {
          "output_type": "execute_result",
          "data": {
            "text/plain": [
              "Empty DataFrame\n",
              "Columns: [word, tag]\n",
              "Index: []"
            ],
            "text/html": [
              "\n",
              "  <div id=\"df-09cf2c4d-3f1f-472b-a720-22a4893ad0a7\">\n",
              "    <div class=\"colab-df-container\">\n",
              "      <div>\n",
              "<style scoped>\n",
              "    .dataframe tbody tr th:only-of-type {\n",
              "        vertical-align: middle;\n",
              "    }\n",
              "\n",
              "    .dataframe tbody tr th {\n",
              "        vertical-align: top;\n",
              "    }\n",
              "\n",
              "    .dataframe thead th {\n",
              "        text-align: right;\n",
              "    }\n",
              "</style>\n",
              "<table border=\"1\" class=\"dataframe\">\n",
              "  <thead>\n",
              "    <tr style=\"text-align: right;\">\n",
              "      <th></th>\n",
              "      <th>word</th>\n",
              "      <th>tag</th>\n",
              "    </tr>\n",
              "  </thead>\n",
              "  <tbody>\n",
              "  </tbody>\n",
              "</table>\n",
              "</div>\n",
              "      <button class=\"colab-df-convert\" onclick=\"convertToInteractive('df-09cf2c4d-3f1f-472b-a720-22a4893ad0a7')\"\n",
              "              title=\"Convert this dataframe to an interactive table.\"\n",
              "              style=\"display:none;\">\n",
              "        \n",
              "  <svg xmlns=\"http://www.w3.org/2000/svg\" height=\"24px\"viewBox=\"0 0 24 24\"\n",
              "       width=\"24px\">\n",
              "    <path d=\"M0 0h24v24H0V0z\" fill=\"none\"/>\n",
              "    <path d=\"M18.56 5.44l.94 2.06.94-2.06 2.06-.94-2.06-.94-.94-2.06-.94 2.06-2.06.94zm-11 1L8.5 8.5l.94-2.06 2.06-.94-2.06-.94L8.5 2.5l-.94 2.06-2.06.94zm10 10l.94 2.06.94-2.06 2.06-.94-2.06-.94-.94-2.06-.94 2.06-2.06.94z\"/><path d=\"M17.41 7.96l-1.37-1.37c-.4-.4-.92-.59-1.43-.59-.52 0-1.04.2-1.43.59L10.3 9.45l-7.72 7.72c-.78.78-.78 2.05 0 2.83L4 21.41c.39.39.9.59 1.41.59.51 0 1.02-.2 1.41-.59l7.78-7.78 2.81-2.81c.8-.78.8-2.07 0-2.86zM5.41 20L4 18.59l7.72-7.72 1.47 1.35L5.41 20z\"/>\n",
              "  </svg>\n",
              "      </button>\n",
              "      \n",
              "  <style>\n",
              "    .colab-df-container {\n",
              "      display:flex;\n",
              "      flex-wrap:wrap;\n",
              "      gap: 12px;\n",
              "    }\n",
              "\n",
              "    .colab-df-convert {\n",
              "      background-color: #E8F0FE;\n",
              "      border: none;\n",
              "      border-radius: 50%;\n",
              "      cursor: pointer;\n",
              "      display: none;\n",
              "      fill: #1967D2;\n",
              "      height: 32px;\n",
              "      padding: 0 0 0 0;\n",
              "      width: 32px;\n",
              "    }\n",
              "\n",
              "    .colab-df-convert:hover {\n",
              "      background-color: #E2EBFA;\n",
              "      box-shadow: 0px 1px 2px rgba(60, 64, 67, 0.3), 0px 1px 3px 1px rgba(60, 64, 67, 0.15);\n",
              "      fill: #174EA6;\n",
              "    }\n",
              "\n",
              "    [theme=dark] .colab-df-convert {\n",
              "      background-color: #3B4455;\n",
              "      fill: #D2E3FC;\n",
              "    }\n",
              "\n",
              "    [theme=dark] .colab-df-convert:hover {\n",
              "      background-color: #434B5C;\n",
              "      box-shadow: 0px 1px 3px 1px rgba(0, 0, 0, 0.15);\n",
              "      filter: drop-shadow(0px 1px 2px rgba(0, 0, 0, 0.3));\n",
              "      fill: #FFFFFF;\n",
              "    }\n",
              "  </style>\n",
              "\n",
              "      <script>\n",
              "        const buttonEl =\n",
              "          document.querySelector('#df-09cf2c4d-3f1f-472b-a720-22a4893ad0a7 button.colab-df-convert');\n",
              "        buttonEl.style.display =\n",
              "          google.colab.kernel.accessAllowed ? 'block' : 'none';\n",
              "\n",
              "        async function convertToInteractive(key) {\n",
              "          const element = document.querySelector('#df-09cf2c4d-3f1f-472b-a720-22a4893ad0a7');\n",
              "          const dataTable =\n",
              "            await google.colab.kernel.invokeFunction('convertToInteractive',\n",
              "                                                     [key], {});\n",
              "          if (!dataTable) return;\n",
              "\n",
              "          const docLinkHtml = 'Like what you see? Visit the ' +\n",
              "            '<a target=\"_blank\" href=https://colab.research.google.com/notebooks/data_table.ipynb>data table notebook</a>'\n",
              "            + ' to learn more about interactive tables.';\n",
              "          element.innerHTML = '';\n",
              "          dataTable['output_type'] = 'display_data';\n",
              "          await google.colab.output.renderOutput(dataTable, element);\n",
              "          const docLink = document.createElement('div');\n",
              "          docLink.innerHTML = docLinkHtml;\n",
              "          element.appendChild(docLink);\n",
              "        }\n",
              "      </script>\n",
              "    </div>\n",
              "  </div>\n",
              "  "
            ]
          },
          "metadata": {},
          "execution_count": 75
        }
      ]
    },
    {
      "cell_type": "code",
      "source": [
        "df = df[df[\"word\"].str.strip() != \"\"]"
      ],
      "metadata": {
        "id": "5qpw4n9Lshfb"
      },
      "execution_count": null,
      "outputs": []
    },
    {
      "cell_type": "code",
      "source": [
        "df = df.dropna().reset_index(drop=True)"
      ],
      "metadata": {
        "id": "EJ9GQpm1tVba"
      },
      "execution_count": null,
      "outputs": []
    },
    {
      "cell_type": "code",
      "source": [
        "df"
      ],
      "metadata": {
        "colab": {
          "base_uri": "https://localhost:8080/"
        },
        "id": "WOKlfQfjsreR",
        "outputId": "6c243f0b-6cf6-4de7-d1b8-5221805d2bed"
      },
      "execution_count": null,
      "outputs": [
        {
          "output_type": "execute_result",
          "data": {
            "text/plain": [
              "                        word      tag\n",
              "0                    JAKARTA  B-PLACE\n",
              "1                          –        O\n",
              "2                      Tanah        O\n",
              "3                        Air        O\n",
              "4                       kini        O\n",
              "...                      ...      ...\n",
              "25427                watnita        O\n",
              "25428                     se        O\n",
              "25429                setnita        O\n",
              "25430  11apartemen-apartemen        O\n",
              "25431            perbatatian        O\n",
              "\n",
              "[25432 rows x 2 columns]"
            ],
            "text/html": [
              "\n",
              "  <div id=\"df-6d15b7da-a51c-47ab-9a3b-2f9402238fcf\">\n",
              "    <div class=\"colab-df-container\">\n",
              "      <div>\n",
              "<style scoped>\n",
              "    .dataframe tbody tr th:only-of-type {\n",
              "        vertical-align: middle;\n",
              "    }\n",
              "\n",
              "    .dataframe tbody tr th {\n",
              "        vertical-align: top;\n",
              "    }\n",
              "\n",
              "    .dataframe thead th {\n",
              "        text-align: right;\n",
              "    }\n",
              "</style>\n",
              "<table border=\"1\" class=\"dataframe\">\n",
              "  <thead>\n",
              "    <tr style=\"text-align: right;\">\n",
              "      <th></th>\n",
              "      <th>word</th>\n",
              "      <th>tag</th>\n",
              "    </tr>\n",
              "  </thead>\n",
              "  <tbody>\n",
              "    <tr>\n",
              "      <th>0</th>\n",
              "      <td>JAKARTA</td>\n",
              "      <td>B-PLACE</td>\n",
              "    </tr>\n",
              "    <tr>\n",
              "      <th>1</th>\n",
              "      <td>–</td>\n",
              "      <td>O</td>\n",
              "    </tr>\n",
              "    <tr>\n",
              "      <th>2</th>\n",
              "      <td>Tanah</td>\n",
              "      <td>O</td>\n",
              "    </tr>\n",
              "    <tr>\n",
              "      <th>3</th>\n",
              "      <td>Air</td>\n",
              "      <td>O</td>\n",
              "    </tr>\n",
              "    <tr>\n",
              "      <th>4</th>\n",
              "      <td>kini</td>\n",
              "      <td>O</td>\n",
              "    </tr>\n",
              "    <tr>\n",
              "      <th>...</th>\n",
              "      <td>...</td>\n",
              "      <td>...</td>\n",
              "    </tr>\n",
              "    <tr>\n",
              "      <th>25427</th>\n",
              "      <td>watnita</td>\n",
              "      <td>O</td>\n",
              "    </tr>\n",
              "    <tr>\n",
              "      <th>25428</th>\n",
              "      <td>se</td>\n",
              "      <td>O</td>\n",
              "    </tr>\n",
              "    <tr>\n",
              "      <th>25429</th>\n",
              "      <td>setnita</td>\n",
              "      <td>O</td>\n",
              "    </tr>\n",
              "    <tr>\n",
              "      <th>25430</th>\n",
              "      <td>11apartemen-apartemen</td>\n",
              "      <td>O</td>\n",
              "    </tr>\n",
              "    <tr>\n",
              "      <th>25431</th>\n",
              "      <td>perbatatian</td>\n",
              "      <td>O</td>\n",
              "    </tr>\n",
              "  </tbody>\n",
              "</table>\n",
              "<p>25432 rows × 2 columns</p>\n",
              "</div>\n",
              "      <button class=\"colab-df-convert\" onclick=\"convertToInteractive('df-6d15b7da-a51c-47ab-9a3b-2f9402238fcf')\"\n",
              "              title=\"Convert this dataframe to an interactive table.\"\n",
              "              style=\"display:none;\">\n",
              "        \n",
              "  <svg xmlns=\"http://www.w3.org/2000/svg\" height=\"24px\"viewBox=\"0 0 24 24\"\n",
              "       width=\"24px\">\n",
              "    <path d=\"M0 0h24v24H0V0z\" fill=\"none\"/>\n",
              "    <path d=\"M18.56 5.44l.94 2.06.94-2.06 2.06-.94-2.06-.94-.94-2.06-.94 2.06-2.06.94zm-11 1L8.5 8.5l.94-2.06 2.06-.94-2.06-.94L8.5 2.5l-.94 2.06-2.06.94zm10 10l.94 2.06.94-2.06 2.06-.94-2.06-.94-.94-2.06-.94 2.06-2.06.94z\"/><path d=\"M17.41 7.96l-1.37-1.37c-.4-.4-.92-.59-1.43-.59-.52 0-1.04.2-1.43.59L10.3 9.45l-7.72 7.72c-.78.78-.78 2.05 0 2.83L4 21.41c.39.39.9.59 1.41.59.51 0 1.02-.2 1.41-.59l7.78-7.78 2.81-2.81c.8-.78.8-2.07 0-2.86zM5.41 20L4 18.59l7.72-7.72 1.47 1.35L5.41 20z\"/>\n",
              "  </svg>\n",
              "      </button>\n",
              "      \n",
              "  <style>\n",
              "    .colab-df-container {\n",
              "      display:flex;\n",
              "      flex-wrap:wrap;\n",
              "      gap: 12px;\n",
              "    }\n",
              "\n",
              "    .colab-df-convert {\n",
              "      background-color: #E8F0FE;\n",
              "      border: none;\n",
              "      border-radius: 50%;\n",
              "      cursor: pointer;\n",
              "      display: none;\n",
              "      fill: #1967D2;\n",
              "      height: 32px;\n",
              "      padding: 0 0 0 0;\n",
              "      width: 32px;\n",
              "    }\n",
              "\n",
              "    .colab-df-convert:hover {\n",
              "      background-color: #E2EBFA;\n",
              "      box-shadow: 0px 1px 2px rgba(60, 64, 67, 0.3), 0px 1px 3px 1px rgba(60, 64, 67, 0.15);\n",
              "      fill: #174EA6;\n",
              "    }\n",
              "\n",
              "    [theme=dark] .colab-df-convert {\n",
              "      background-color: #3B4455;\n",
              "      fill: #D2E3FC;\n",
              "    }\n",
              "\n",
              "    [theme=dark] .colab-df-convert:hover {\n",
              "      background-color: #434B5C;\n",
              "      box-shadow: 0px 1px 3px 1px rgba(0, 0, 0, 0.15);\n",
              "      filter: drop-shadow(0px 1px 2px rgba(0, 0, 0, 0.3));\n",
              "      fill: #FFFFFF;\n",
              "    }\n",
              "  </style>\n",
              "\n",
              "      <script>\n",
              "        const buttonEl =\n",
              "          document.querySelector('#df-6d15b7da-a51c-47ab-9a3b-2f9402238fcf button.colab-df-convert');\n",
              "        buttonEl.style.display =\n",
              "          google.colab.kernel.accessAllowed ? 'block' : 'none';\n",
              "\n",
              "        async function convertToInteractive(key) {\n",
              "          const element = document.querySelector('#df-6d15b7da-a51c-47ab-9a3b-2f9402238fcf');\n",
              "          const dataTable =\n",
              "            await google.colab.kernel.invokeFunction('convertToInteractive',\n",
              "                                                     [key], {});\n",
              "          if (!dataTable) return;\n",
              "\n",
              "          const docLinkHtml = 'Like what you see? Visit the ' +\n",
              "            '<a target=\"_blank\" href=https://colab.research.google.com/notebooks/data_table.ipynb>data table notebook</a>'\n",
              "            + ' to learn more about interactive tables.';\n",
              "          element.innerHTML = '';\n",
              "          dataTable['output_type'] = 'display_data';\n",
              "          await google.colab.output.renderOutput(dataTable, element);\n",
              "          const docLink = document.createElement('div');\n",
              "          docLink.innerHTML = docLinkHtml;\n",
              "          element.appendChild(docLink);\n",
              "        }\n",
              "      </script>\n",
              "    </div>\n",
              "  </div>\n",
              "  "
            ]
          },
          "metadata": {},
          "execution_count": 83
        }
      ]
    },
    {
      "cell_type": "code",
      "source": [
        "df.to_csv(\"/content/drive/MyDrive/nolimit/NER/data/tambahan.txt\", sep=\"\\t\", index=False, header=False)"
      ],
      "metadata": {
        "id": "rFRgkVU0dCfb"
      },
      "execution_count": null,
      "outputs": []
    },
    {
      "cell_type": "markdown",
      "source": [
        "## load dataset fix"
      ],
      "metadata": {
        "id": "Vx9BFih5v6ZK"
      }
    },
    {
      "cell_type": "code",
      "execution_count": null,
      "metadata": {
        "id": "qWAjfKatu_uM"
      },
      "outputs": [],
      "source": [
        "# load data\n",
        "\n",
        "train_dataset_path = '/content/drive/MyDrive/nolimit/NER/data/train_preprocess_new.txt'\n",
        "valid_dataset_path = '/content/SEA_NLP_Workshop/indonlu/dataset/nergrit_ner-grit/valid_preprocess.txt'\n",
        "test_dataset_path = '/content/SEA_NLP_Workshop/indonlu/dataset/nergrit_ner-grit/test_preprocess_masked_label.txt'"
      ]
    },
    {
      "cell_type": "code",
      "execution_count": null,
      "metadata": {
        "id": "5PiWcrYAv7O7"
      },
      "outputs": [],
      "source": [
        "train_dataset = NerGritDataset(train_dataset_path, tokenizer, lowercase=True)\n",
        "valid_dataset = NerGritDataset(valid_dataset_path, tokenizer, lowercase=True)\n",
        "test_dataset = NerGritDataset(test_dataset_path, tokenizer, lowercase=True)\n",
        "\n",
        "# train_loader = NerDataLoader(dataset=train_dataset, max_seq_len=512, batch_size=64, num_workers=2, shuffle=True)\n",
        "# valid_loader = NerDataLoader(dataset=valid_dataset, max_seq_len=512, batch_size=64, num_workers=2, shuffle=False)\n",
        "# test_loader = NerDataLoader(dataset=test_dataset, max_seq_len=512, batch_size=64, num_workers=2, shuffle=False)\n",
        "\n",
        "train_loader = NerDataLoader(dataset=train_dataset, max_seq_len=512, batch_size=64, shuffle=True)\n",
        "valid_loader = NerDataLoader(dataset=valid_dataset, max_seq_len=512, batch_size=64, shuffle=False)\n",
        "test_loader = NerDataLoader(dataset=test_dataset, max_seq_len=512, batch_size=64, shuffle=False)"
      ]
    },
    {
      "cell_type": "code",
      "execution_count": null,
      "metadata": {
        "colab": {
          "base_uri": "https://localhost:8080/"
        },
        "id": "LE-Y6Kg9mzfe",
        "outputId": "0a36e38c-19a4-445e-f8b9-8a71b06bb429"
      },
      "outputs": [
        {
          "output_type": "stream",
          "name": "stdout",
          "text": [
            "(array([    2,  6369, 13224,     7, 26203, 30464, 30465,   407,   596,\n",
            "       14472,     7, 30468, 26099, 30468, 28534,    37, 30468,    41,\n",
            "       16754,  8023,  2002,  2158,  1751,  2747, 30470,     3]), array([-1,  0,  1,  1,  2,  3,  4,  5,  6,  7,  7,  8,  9, 10, 11, 11, 12,\n",
            "       13, 14, 15, 16, 17, 18, 19, 20, -1]), array([6, 0, 0, 5, 5, 5, 5, 5, 5, 5, 5, 5, 5, 5, 5, 5, 5, 5, 3, 4, 5]), ['John', 'Towner', 'Williams', '(', ')', 'merupakan', 'seorang', 'komposer', ',', 'konduktor', ',', 'pianis', ',', 'dan', 'produser', 'rekaman', 'musik', 'asal', 'Amerika', 'Serikat', '.'])\n"
          ]
        }
      ],
      "source": [
        "print(train_dataset[1000])"
      ]
    },
    {
      "cell_type": "code",
      "execution_count": null,
      "metadata": {
        "colab": {
          "base_uri": "https://localhost:8080/"
        },
        "id": "SRUEqEH8v8bc",
        "outputId": "b767cbc1-1297-45d7-a6bf-9503ac833027"
      },
      "outputs": [
        {
          "output_type": "stream",
          "name": "stdout",
          "text": [
            "{'I-PERSON': 0, 'B-ORGANISATION': 1, 'I-ORGANISATION': 2, 'B-PLACE': 3, 'I-PLACE': 4, 'O': 5, 'B-PERSON': 6}\n",
            "{0: 'I-PERSON', 1: 'B-ORGANISATION', 2: 'I-ORGANISATION', 3: 'B-PLACE', 4: 'I-PLACE', 5: 'O', 6: 'B-PERSON'}\n"
          ]
        }
      ],
      "source": [
        "w2i, i2w = NerGritDataset.LABEL2INDEX, NerGritDataset.INDEX2LABEL\n",
        "print(w2i)\n",
        "print(i2w)"
      ]
    },
    {
      "cell_type": "code",
      "execution_count": null,
      "metadata": {
        "id": "mMAFfqyLv-cS"
      },
      "outputs": [],
      "source": [
        "def word_subword_tokenize(sentence, tokenizer):\n",
        "    # Add CLS token\n",
        "    subwords = [tokenizer.cls_token_id]\n",
        "    subword_to_word_indices = [-1] # For CLS\n",
        "\n",
        "    # Add subwords\n",
        "    for word_idx, word in enumerate(sentence):\n",
        "        subword_list = tokenizer.encode(word, add_special_tokens=False)\n",
        "        subword_to_word_indices += [word_idx for i in range(len(subword_list))]\n",
        "        subwords += subword_list\n",
        "\n",
        "    # Add last SEP token\n",
        "    subwords += [tokenizer.sep_token_id]\n",
        "    subword_to_word_indices += [-1]\n",
        "\n",
        "    return subwords, subword_to_word_indices"
      ]
    },
    {
      "cell_type": "markdown",
      "metadata": {
        "id": "4Y1bhe7kukdl"
      },
      "source": [
        "## model finetunning"
      ]
    },
    {
      "cell_type": "code",
      "execution_count": null,
      "metadata": {
        "id": "Ux-Lnwpjs1Iu"
      },
      "outputs": [],
      "source": [
        "optimizer = optim.Adam(model.parameters(), lr=2e-5)\n",
        "model = model.cpu()"
      ]
    },
    {
      "cell_type": "code",
      "execution_count": null,
      "metadata": {
        "colab": {
          "base_uri": "https://localhost:8080/"
        },
        "id": "FfEUgc1xw82F",
        "outputId": "8e4e6e7b-19ca-4667-ea04-cd12f7153bed"
      },
      "outputs": [
        {
          "output_type": "stream",
          "name": "stderr",
          "text": [
            "(Epoch 1) TRAIN LOSS:1.9335 LR:0.00002000:  15%|█▍        | 4/27 [03:16<18:49, 49.09s/it]\n"
          ]
        },
        {
          "output_type": "error",
          "ename": "KeyboardInterrupt",
          "evalue": "ignored",
          "traceback": [
            "\u001b[0;31m---------------------------------------------------------------------------\u001b[0m",
            "\u001b[0;31mKeyboardInterrupt\u001b[0m                         Traceback (most recent call last)",
            "\u001b[0;32m<ipython-input-26-a071e5175f3a>\u001b[0m in \u001b[0;36m<module>\u001b[0;34m\u001b[0m\n\u001b[1;32m     15\u001b[0m         \u001b[0;31m# Update model\u001b[0m\u001b[0;34m\u001b[0m\u001b[0;34m\u001b[0m\u001b[0;34m\u001b[0m\u001b[0m\n\u001b[1;32m     16\u001b[0m         \u001b[0moptimizer\u001b[0m\u001b[0;34m.\u001b[0m\u001b[0mzero_grad\u001b[0m\u001b[0;34m(\u001b[0m\u001b[0;34m)\u001b[0m\u001b[0;34m\u001b[0m\u001b[0;34m\u001b[0m\u001b[0m\n\u001b[0;32m---> 17\u001b[0;31m         \u001b[0mloss\u001b[0m\u001b[0;34m.\u001b[0m\u001b[0mbackward\u001b[0m\u001b[0;34m(\u001b[0m\u001b[0;34m)\u001b[0m\u001b[0;34m\u001b[0m\u001b[0;34m\u001b[0m\u001b[0m\n\u001b[0m\u001b[1;32m     18\u001b[0m         \u001b[0moptimizer\u001b[0m\u001b[0;34m.\u001b[0m\u001b[0mstep\u001b[0m\u001b[0;34m(\u001b[0m\u001b[0;34m)\u001b[0m\u001b[0;34m\u001b[0m\u001b[0;34m\u001b[0m\u001b[0m\n\u001b[1;32m     19\u001b[0m \u001b[0;34m\u001b[0m\u001b[0m\n",
            "\u001b[0;32m/usr/local/lib/python3.8/dist-packages/torch/_tensor.py\u001b[0m in \u001b[0;36mbackward\u001b[0;34m(self, gradient, retain_graph, create_graph, inputs)\u001b[0m\n\u001b[1;32m    486\u001b[0m                 \u001b[0minputs\u001b[0m\u001b[0;34m=\u001b[0m\u001b[0minputs\u001b[0m\u001b[0;34m,\u001b[0m\u001b[0;34m\u001b[0m\u001b[0;34m\u001b[0m\u001b[0m\n\u001b[1;32m    487\u001b[0m             )\n\u001b[0;32m--> 488\u001b[0;31m         torch.autograd.backward(\n\u001b[0m\u001b[1;32m    489\u001b[0m             \u001b[0mself\u001b[0m\u001b[0;34m,\u001b[0m \u001b[0mgradient\u001b[0m\u001b[0;34m,\u001b[0m \u001b[0mretain_graph\u001b[0m\u001b[0;34m,\u001b[0m \u001b[0mcreate_graph\u001b[0m\u001b[0;34m,\u001b[0m \u001b[0minputs\u001b[0m\u001b[0;34m=\u001b[0m\u001b[0minputs\u001b[0m\u001b[0;34m\u001b[0m\u001b[0;34m\u001b[0m\u001b[0m\n\u001b[1;32m    490\u001b[0m         )\n",
            "\u001b[0;32m/usr/local/lib/python3.8/dist-packages/torch/autograd/__init__.py\u001b[0m in \u001b[0;36mbackward\u001b[0;34m(tensors, grad_tensors, retain_graph, create_graph, grad_variables, inputs)\u001b[0m\n\u001b[1;32m    195\u001b[0m     \u001b[0;31m# some Python versions print out the first line of a multi-line function\u001b[0m\u001b[0;34m\u001b[0m\u001b[0;34m\u001b[0m\u001b[0;34m\u001b[0m\u001b[0m\n\u001b[1;32m    196\u001b[0m     \u001b[0;31m# calls in the traceback and some print out the last line\u001b[0m\u001b[0;34m\u001b[0m\u001b[0;34m\u001b[0m\u001b[0;34m\u001b[0m\u001b[0m\n\u001b[0;32m--> 197\u001b[0;31m     Variable._execution_engine.run_backward(  # Calls into the C++ engine to run the backward pass\n\u001b[0m\u001b[1;32m    198\u001b[0m         \u001b[0mtensors\u001b[0m\u001b[0;34m,\u001b[0m \u001b[0mgrad_tensors_\u001b[0m\u001b[0;34m,\u001b[0m \u001b[0mretain_graph\u001b[0m\u001b[0;34m,\u001b[0m \u001b[0mcreate_graph\u001b[0m\u001b[0;34m,\u001b[0m \u001b[0minputs\u001b[0m\u001b[0;34m,\u001b[0m\u001b[0;34m\u001b[0m\u001b[0;34m\u001b[0m\u001b[0m\n\u001b[1;32m    199\u001b[0m         allow_unreachable=True, accumulate_grad=True)  # Calls into the C++ engine to run the backward pass\n",
            "\u001b[0;31mKeyboardInterrupt\u001b[0m: "
          ]
        }
      ],
      "source": [
        "# Train\n",
        "n_epochs = 1\n",
        "for epoch in range(n_epochs):\n",
        "    model.train()\n",
        "    torch.set_grad_enabled(True)\n",
        "\n",
        "    total_train_loss = 0\n",
        "    list_hyp, list_label = [], []\n",
        "\n",
        "    train_pbar = tqdm(train_loader, leave=True, total=len(train_loader))\n",
        "    for i, batch_data in enumerate(train_pbar):\n",
        "        # Forward model\n",
        "        loss, batch_hyp, batch_label = forward_word_classification(model, batch_data[:-1], i2w=i2w, device='cpu')\n",
        "\n",
        "        # Update model\n",
        "        optimizer.zero_grad()\n",
        "        loss.backward()\n",
        "        optimizer.step()\n",
        "\n",
        "        tr_loss = loss.item()\n",
        "        total_train_loss = total_train_loss + tr_loss\n",
        "\n",
        "        # Calculate metrics\n",
        "        list_hyp += batch_hyp\n",
        "        list_label += batch_label\n",
        "\n",
        "        train_pbar.set_description(\"(Epoch {}) TRAIN LOSS:{:.4f} LR:{:.8f}\".format((epoch+1),\n",
        "            total_train_loss/(i+1), get_lr(optimizer)))\n",
        "\n",
        "    # Calculate train metric\n",
        "    metrics = ner_metrics_fn(list_hyp, list_label)\n",
        "    print(\"(Epoch {}) TRAIN LOSS:{:.4f} {} LR:{:.8f}\".format((epoch+1),\n",
        "        total_train_loss/(i+1), metrics_to_string(metrics), get_lr(optimizer)))\n",
        "\n",
        "    # Evaluate on validation\n",
        "    model.eval()\n",
        "    torch.set_grad_enabled(False)\n",
        "\n",
        "    total_loss, total_correct, total_labels = 0, 0, 0\n",
        "    list_hyp, list_label = [], []\n",
        "\n",
        "    pbar = tqdm(valid_loader, leave=True, total=len(valid_loader))\n",
        "    for i, batch_data in enumerate(pbar):\n",
        "        batch_seq = batch_data[-1]\n",
        "        loss, batch_hyp, batch_label = forward_word_classification(model, batch_data[:-1], i2w=i2w, device='cpu')\n",
        "\n",
        "        # Calculate total loss\n",
        "        valid_loss = loss.item()\n",
        "        total_loss = total_loss + valid_loss\n",
        "\n",
        "        # Calculate evaluation metrics\n",
        "        list_hyp += batch_hyp\n",
        "        list_label += batch_label\n",
        "        metrics = ner_metrics_fn(list_hyp, list_label)\n",
        "\n",
        "        pbar.set_description(\"VALID LOSS:{:.4f} {}\".format(total_loss/(i+1), metrics_to_string(metrics)))\n",
        "\n",
        "    metrics = ner_metrics_fn(list_hyp, list_label)\n",
        "    print(\"(Epoch {}) VALID LOSS:{:.4f} {}\".format((epoch+1),\n",
        "        total_loss/(i+1), metrics_to_string(metrics)))"
      ]
    },
    {
      "cell_type": "code",
      "execution_count": null,
      "metadata": {
        "id": "T7JNOphqy7Bh"
      },
      "outputs": [],
      "source": [
        "# save the model to disk\n",
        "\n",
        "import pickle\n",
        "\n",
        "filename = '/content/drive/MyDrive/nolimit/NER/model/model_indobert_combinedata_1ep.pkl'\n",
        "pickle.dump(model, open(filename, 'wb'))"
      ]
    },
    {
      "cell_type": "markdown",
      "metadata": {
        "id": "Ollrmj61suW2"
      },
      "source": [
        "## load model"
      ]
    },
    {
      "cell_type": "code",
      "source": [
        "import nltk\n",
        "import re\n",
        "import string\n",
        "nltk.download('punkt')\n",
        "nltk.download('stopwords')\n",
        "\n",
        "from nltk.util import ngrams\n",
        "\n",
        "from nltk.corpus import stopwords\n",
        "sw = stopwords.words(\"indonesian\")\n",
        "\n",
        "def text_cleaning(text, remove_stop_words):\n",
        "    # Clean the text\n",
        "\n",
        "    text = text.lower() #lowercase atau case folding\n",
        "    text = re.sub('@[^\\s]+', ' ', text) #remove username\n",
        "    text = re.sub('\\[.*?\\]', ' ', text) # remove square brackets\n",
        "    text = re.sub('((www\\.[^\\s]+)|(https?://[^\\s]+))', ' ', text) # remove URLs\n",
        "    text = re.sub('[%s]' % re.escape(string.punctuation), ' ', text) # remove punctuation\n",
        "    # text = re.sub('\\w*\\d\\w*', '', text)\n",
        "    text = re.sub('[‘’“”…]', ' ', text)\n",
        "    text = re.sub('\\n', ' ', text)\n",
        "    text = re.sub(\"[!@#$%^&*()[]{};:,./<>?\\|`~-=_+–]\", ' ', text)\n",
        "    text = re.sub(\"–\", ' ', text)\n",
        "\n",
        "    # Optionally, remove stop words\n",
        "    if remove_stop_words:\n",
        "        # load stopwords\n",
        "        text = text.split()\n",
        "        text = [w for w in text if not w in sw] #6\n",
        "        text = \" \".join(text)\n",
        "        text = text.lower()\n",
        "\n",
        "    return text"
      ],
      "metadata": {
        "colab": {
          "base_uri": "https://localhost:8080/"
        },
        "id": "QYI7ppCfpwZ6",
        "outputId": "0ad57124-443b-4a49-effa-036e24c64ef9"
      },
      "execution_count": null,
      "outputs": [
        {
          "output_type": "stream",
          "name": "stderr",
          "text": [
            "[nltk_data] Downloading package punkt to /root/nltk_data...\n",
            "[nltk_data]   Package punkt is already up-to-date!\n",
            "[nltk_data] Downloading package stopwords to /root/nltk_data...\n",
            "[nltk_data]   Unzipping corpora/stopwords.zip.\n"
          ]
        }
      ]
    },
    {
      "cell_type": "code",
      "execution_count": null,
      "metadata": {
        "colab": {
          "base_uri": "https://localhost:8080/"
        },
        "id": "jnStvpeU45b0",
        "outputId": "0f10ef3e-2c58-4106-f6ed-613e9f7ba01d"
      },
      "outputs": [
        {
          "output_type": "stream",
          "name": "stderr",
          "text": [
            "[nltk_data] Downloading package punkt to /root/nltk_data...\n",
            "[nltk_data]   Package punkt is already up-to-date!\n"
          ]
        },
        {
          "output_type": "execute_result",
          "data": {
            "text/plain": [
              "True"
            ]
          },
          "metadata": {},
          "execution_count": 20
        }
      ],
      "source": [
        "import random\n",
        "import numpy as np\n",
        "import pandas as pd\n",
        "import torch\n",
        "from torch import optim\n",
        "from tqdm import tqdm\n",
        "\n",
        "from transformers import BertConfig, BertTokenizer\n",
        "from nltk.tokenize import word_tokenize\n",
        "\n",
        "import nltk\n",
        "nltk.download('punkt')"
      ]
    },
    {
      "cell_type": "code",
      "execution_count": null,
      "metadata": {
        "id": "d0x9uIwT0zgz"
      },
      "outputs": [],
      "source": [
        "import pickle\n",
        "\n",
        "model = pickle.load(open('/content/drive/MyDrive/nolimit/NER/model/model_indobert_new_DO_4_combinedata.pkl', 'rb'))"
      ]
    },
    {
      "cell_type": "code",
      "execution_count": null,
      "metadata": {
        "id": "5dI_2gGWdHAR",
        "colab": {
          "base_uri": "https://localhost:8080/"
        },
        "outputId": "f55abfef-11ba-42ba-b56d-fbb1f6acbcff"
      },
      "outputs": [
        {
          "output_type": "execute_result",
          "data": {
            "text/plain": [
              "BertForWordClassification(\n",
              "  (bert): BertModel(\n",
              "    (embeddings): BertEmbeddings(\n",
              "      (word_embeddings): Embedding(50000, 768, padding_idx=0)\n",
              "      (position_embeddings): Embedding(512, 768)\n",
              "      (token_type_embeddings): Embedding(2, 768)\n",
              "      (LayerNorm): LayerNorm((768,), eps=1e-12, elementwise_affine=True)\n",
              "      (dropout): Dropout(p=0.1, inplace=False)\n",
              "    )\n",
              "    (encoder): BertEncoder(\n",
              "      (layer): ModuleList(\n",
              "        (0): BertLayer(\n",
              "          (attention): BertAttention(\n",
              "            (self): BertSelfAttention(\n",
              "              (query): Linear(in_features=768, out_features=768, bias=True)\n",
              "              (key): Linear(in_features=768, out_features=768, bias=True)\n",
              "              (value): Linear(in_features=768, out_features=768, bias=True)\n",
              "              (dropout): Dropout(p=0.1, inplace=False)\n",
              "            )\n",
              "            (output): BertSelfOutput(\n",
              "              (dense): Linear(in_features=768, out_features=768, bias=True)\n",
              "              (LayerNorm): LayerNorm((768,), eps=1e-12, elementwise_affine=True)\n",
              "              (dropout): Dropout(p=0.1, inplace=False)\n",
              "            )\n",
              "          )\n",
              "          (intermediate): BertIntermediate(\n",
              "            (dense): Linear(in_features=768, out_features=3072, bias=True)\n",
              "          )\n",
              "          (output): BertOutput(\n",
              "            (dense): Linear(in_features=3072, out_features=768, bias=True)\n",
              "            (LayerNorm): LayerNorm((768,), eps=1e-12, elementwise_affine=True)\n",
              "            (dropout): Dropout(p=0.1, inplace=False)\n",
              "          )\n",
              "        )\n",
              "        (1): BertLayer(\n",
              "          (attention): BertAttention(\n",
              "            (self): BertSelfAttention(\n",
              "              (query): Linear(in_features=768, out_features=768, bias=True)\n",
              "              (key): Linear(in_features=768, out_features=768, bias=True)\n",
              "              (value): Linear(in_features=768, out_features=768, bias=True)\n",
              "              (dropout): Dropout(p=0.1, inplace=False)\n",
              "            )\n",
              "            (output): BertSelfOutput(\n",
              "              (dense): Linear(in_features=768, out_features=768, bias=True)\n",
              "              (LayerNorm): LayerNorm((768,), eps=1e-12, elementwise_affine=True)\n",
              "              (dropout): Dropout(p=0.1, inplace=False)\n",
              "            )\n",
              "          )\n",
              "          (intermediate): BertIntermediate(\n",
              "            (dense): Linear(in_features=768, out_features=3072, bias=True)\n",
              "          )\n",
              "          (output): BertOutput(\n",
              "            (dense): Linear(in_features=3072, out_features=768, bias=True)\n",
              "            (LayerNorm): LayerNorm((768,), eps=1e-12, elementwise_affine=True)\n",
              "            (dropout): Dropout(p=0.1, inplace=False)\n",
              "          )\n",
              "        )\n",
              "        (2): BertLayer(\n",
              "          (attention): BertAttention(\n",
              "            (self): BertSelfAttention(\n",
              "              (query): Linear(in_features=768, out_features=768, bias=True)\n",
              "              (key): Linear(in_features=768, out_features=768, bias=True)\n",
              "              (value): Linear(in_features=768, out_features=768, bias=True)\n",
              "              (dropout): Dropout(p=0.1, inplace=False)\n",
              "            )\n",
              "            (output): BertSelfOutput(\n",
              "              (dense): Linear(in_features=768, out_features=768, bias=True)\n",
              "              (LayerNorm): LayerNorm((768,), eps=1e-12, elementwise_affine=True)\n",
              "              (dropout): Dropout(p=0.1, inplace=False)\n",
              "            )\n",
              "          )\n",
              "          (intermediate): BertIntermediate(\n",
              "            (dense): Linear(in_features=768, out_features=3072, bias=True)\n",
              "          )\n",
              "          (output): BertOutput(\n",
              "            (dense): Linear(in_features=3072, out_features=768, bias=True)\n",
              "            (LayerNorm): LayerNorm((768,), eps=1e-12, elementwise_affine=True)\n",
              "            (dropout): Dropout(p=0.1, inplace=False)\n",
              "          )\n",
              "        )\n",
              "        (3): BertLayer(\n",
              "          (attention): BertAttention(\n",
              "            (self): BertSelfAttention(\n",
              "              (query): Linear(in_features=768, out_features=768, bias=True)\n",
              "              (key): Linear(in_features=768, out_features=768, bias=True)\n",
              "              (value): Linear(in_features=768, out_features=768, bias=True)\n",
              "              (dropout): Dropout(p=0.1, inplace=False)\n",
              "            )\n",
              "            (output): BertSelfOutput(\n",
              "              (dense): Linear(in_features=768, out_features=768, bias=True)\n",
              "              (LayerNorm): LayerNorm((768,), eps=1e-12, elementwise_affine=True)\n",
              "              (dropout): Dropout(p=0.1, inplace=False)\n",
              "            )\n",
              "          )\n",
              "          (intermediate): BertIntermediate(\n",
              "            (dense): Linear(in_features=768, out_features=3072, bias=True)\n",
              "          )\n",
              "          (output): BertOutput(\n",
              "            (dense): Linear(in_features=3072, out_features=768, bias=True)\n",
              "            (LayerNorm): LayerNorm((768,), eps=1e-12, elementwise_affine=True)\n",
              "            (dropout): Dropout(p=0.1, inplace=False)\n",
              "          )\n",
              "        )\n",
              "        (4): BertLayer(\n",
              "          (attention): BertAttention(\n",
              "            (self): BertSelfAttention(\n",
              "              (query): Linear(in_features=768, out_features=768, bias=True)\n",
              "              (key): Linear(in_features=768, out_features=768, bias=True)\n",
              "              (value): Linear(in_features=768, out_features=768, bias=True)\n",
              "              (dropout): Dropout(p=0.1, inplace=False)\n",
              "            )\n",
              "            (output): BertSelfOutput(\n",
              "              (dense): Linear(in_features=768, out_features=768, bias=True)\n",
              "              (LayerNorm): LayerNorm((768,), eps=1e-12, elementwise_affine=True)\n",
              "              (dropout): Dropout(p=0.1, inplace=False)\n",
              "            )\n",
              "          )\n",
              "          (intermediate): BertIntermediate(\n",
              "            (dense): Linear(in_features=768, out_features=3072, bias=True)\n",
              "          )\n",
              "          (output): BertOutput(\n",
              "            (dense): Linear(in_features=3072, out_features=768, bias=True)\n",
              "            (LayerNorm): LayerNorm((768,), eps=1e-12, elementwise_affine=True)\n",
              "            (dropout): Dropout(p=0.1, inplace=False)\n",
              "          )\n",
              "        )\n",
              "        (5): BertLayer(\n",
              "          (attention): BertAttention(\n",
              "            (self): BertSelfAttention(\n",
              "              (query): Linear(in_features=768, out_features=768, bias=True)\n",
              "              (key): Linear(in_features=768, out_features=768, bias=True)\n",
              "              (value): Linear(in_features=768, out_features=768, bias=True)\n",
              "              (dropout): Dropout(p=0.1, inplace=False)\n",
              "            )\n",
              "            (output): BertSelfOutput(\n",
              "              (dense): Linear(in_features=768, out_features=768, bias=True)\n",
              "              (LayerNorm): LayerNorm((768,), eps=1e-12, elementwise_affine=True)\n",
              "              (dropout): Dropout(p=0.1, inplace=False)\n",
              "            )\n",
              "          )\n",
              "          (intermediate): BertIntermediate(\n",
              "            (dense): Linear(in_features=768, out_features=3072, bias=True)\n",
              "          )\n",
              "          (output): BertOutput(\n",
              "            (dense): Linear(in_features=3072, out_features=768, bias=True)\n",
              "            (LayerNorm): LayerNorm((768,), eps=1e-12, elementwise_affine=True)\n",
              "            (dropout): Dropout(p=0.1, inplace=False)\n",
              "          )\n",
              "        )\n",
              "        (6): BertLayer(\n",
              "          (attention): BertAttention(\n",
              "            (self): BertSelfAttention(\n",
              "              (query): Linear(in_features=768, out_features=768, bias=True)\n",
              "              (key): Linear(in_features=768, out_features=768, bias=True)\n",
              "              (value): Linear(in_features=768, out_features=768, bias=True)\n",
              "              (dropout): Dropout(p=0.1, inplace=False)\n",
              "            )\n",
              "            (output): BertSelfOutput(\n",
              "              (dense): Linear(in_features=768, out_features=768, bias=True)\n",
              "              (LayerNorm): LayerNorm((768,), eps=1e-12, elementwise_affine=True)\n",
              "              (dropout): Dropout(p=0.1, inplace=False)\n",
              "            )\n",
              "          )\n",
              "          (intermediate): BertIntermediate(\n",
              "            (dense): Linear(in_features=768, out_features=3072, bias=True)\n",
              "          )\n",
              "          (output): BertOutput(\n",
              "            (dense): Linear(in_features=3072, out_features=768, bias=True)\n",
              "            (LayerNorm): LayerNorm((768,), eps=1e-12, elementwise_affine=True)\n",
              "            (dropout): Dropout(p=0.1, inplace=False)\n",
              "          )\n",
              "        )\n",
              "        (7): BertLayer(\n",
              "          (attention): BertAttention(\n",
              "            (self): BertSelfAttention(\n",
              "              (query): Linear(in_features=768, out_features=768, bias=True)\n",
              "              (key): Linear(in_features=768, out_features=768, bias=True)\n",
              "              (value): Linear(in_features=768, out_features=768, bias=True)\n",
              "              (dropout): Dropout(p=0.1, inplace=False)\n",
              "            )\n",
              "            (output): BertSelfOutput(\n",
              "              (dense): Linear(in_features=768, out_features=768, bias=True)\n",
              "              (LayerNorm): LayerNorm((768,), eps=1e-12, elementwise_affine=True)\n",
              "              (dropout): Dropout(p=0.1, inplace=False)\n",
              "            )\n",
              "          )\n",
              "          (intermediate): BertIntermediate(\n",
              "            (dense): Linear(in_features=768, out_features=3072, bias=True)\n",
              "          )\n",
              "          (output): BertOutput(\n",
              "            (dense): Linear(in_features=3072, out_features=768, bias=True)\n",
              "            (LayerNorm): LayerNorm((768,), eps=1e-12, elementwise_affine=True)\n",
              "            (dropout): Dropout(p=0.1, inplace=False)\n",
              "          )\n",
              "        )\n",
              "        (8): BertLayer(\n",
              "          (attention): BertAttention(\n",
              "            (self): BertSelfAttention(\n",
              "              (query): Linear(in_features=768, out_features=768, bias=True)\n",
              "              (key): Linear(in_features=768, out_features=768, bias=True)\n",
              "              (value): Linear(in_features=768, out_features=768, bias=True)\n",
              "              (dropout): Dropout(p=0.1, inplace=False)\n",
              "            )\n",
              "            (output): BertSelfOutput(\n",
              "              (dense): Linear(in_features=768, out_features=768, bias=True)\n",
              "              (LayerNorm): LayerNorm((768,), eps=1e-12, elementwise_affine=True)\n",
              "              (dropout): Dropout(p=0.1, inplace=False)\n",
              "            )\n",
              "          )\n",
              "          (intermediate): BertIntermediate(\n",
              "            (dense): Linear(in_features=768, out_features=3072, bias=True)\n",
              "          )\n",
              "          (output): BertOutput(\n",
              "            (dense): Linear(in_features=3072, out_features=768, bias=True)\n",
              "            (LayerNorm): LayerNorm((768,), eps=1e-12, elementwise_affine=True)\n",
              "            (dropout): Dropout(p=0.1, inplace=False)\n",
              "          )\n",
              "        )\n",
              "        (9): BertLayer(\n",
              "          (attention): BertAttention(\n",
              "            (self): BertSelfAttention(\n",
              "              (query): Linear(in_features=768, out_features=768, bias=True)\n",
              "              (key): Linear(in_features=768, out_features=768, bias=True)\n",
              "              (value): Linear(in_features=768, out_features=768, bias=True)\n",
              "              (dropout): Dropout(p=0.1, inplace=False)\n",
              "            )\n",
              "            (output): BertSelfOutput(\n",
              "              (dense): Linear(in_features=768, out_features=768, bias=True)\n",
              "              (LayerNorm): LayerNorm((768,), eps=1e-12, elementwise_affine=True)\n",
              "              (dropout): Dropout(p=0.1, inplace=False)\n",
              "            )\n",
              "          )\n",
              "          (intermediate): BertIntermediate(\n",
              "            (dense): Linear(in_features=768, out_features=3072, bias=True)\n",
              "          )\n",
              "          (output): BertOutput(\n",
              "            (dense): Linear(in_features=3072, out_features=768, bias=True)\n",
              "            (LayerNorm): LayerNorm((768,), eps=1e-12, elementwise_affine=True)\n",
              "            (dropout): Dropout(p=0.1, inplace=False)\n",
              "          )\n",
              "        )\n",
              "      )\n",
              "    )\n",
              "    (pooler): BertPooler(\n",
              "      (dense): Linear(in_features=768, out_features=768, bias=True)\n",
              "      (activation): Tanh()\n",
              "    )\n",
              "  )\n",
              "  (dropout): Dropout(p=0.1, inplace=False)\n",
              "  (classifier): Linear(in_features=768, out_features=7, bias=True)\n",
              ")"
            ]
          },
          "metadata": {},
          "execution_count": 22
        }
      ],
      "source": [
        "model"
      ]
    },
    {
      "cell_type": "code",
      "execution_count": null,
      "metadata": {
        "id": "kcg8FKRStYDk"
      },
      "outputs": [],
      "source": [
        "def word_subword_tokenize(sentence, tokenizer):\n",
        "    # Add CLS token\n",
        "    subwords = [tokenizer.cls_token_id]\n",
        "    subword_to_word_indices = [-1] # For CLS\n",
        "\n",
        "    # Add subwords\n",
        "    for word_idx, word in enumerate(sentence):\n",
        "        subword_list = tokenizer.encode(word, add_special_tokens=False)\n",
        "        subword_to_word_indices += [word_idx for i in range(len(subword_list))]\n",
        "        subwords += subword_list\n",
        "\n",
        "    # Add last SEP token\n",
        "    subwords += [tokenizer.sep_token_id]\n",
        "    subword_to_word_indices += [-1]\n",
        "\n",
        "    return subwords, subword_to_word_indices"
      ]
    },
    {
      "cell_type": "code",
      "execution_count": null,
      "metadata": {
        "colab": {
          "base_uri": "https://localhost:8080/"
        },
        "id": "PEEo034158mB",
        "outputId": "76078752-1d15-4dad-8a77-1564703c3115"
      },
      "outputs": [
        {
          "output_type": "execute_result",
          "data": {
            "text/plain": [
              "      words     label\n",
              "0  muhammad  B-PERSON\n",
              "1     fahmi  I-PERSON\n",
              "2     pergi         O\n",
              "3        ke         O\n",
              "4      mall   B-PLACE\n",
              "5     taman   I-PLACE\n",
              "6   anggrek   I-PLACE\n",
              "7   membeli         O\n",
              "8       kue         O\n",
              "9    bantal         O"
            ],
            "text/html": [
              "\n",
              "  <div id=\"df-4d001230-ca1d-4b9e-be2c-fe1c1a91ab47\">\n",
              "    <div class=\"colab-df-container\">\n",
              "      <div>\n",
              "<style scoped>\n",
              "    .dataframe tbody tr th:only-of-type {\n",
              "        vertical-align: middle;\n",
              "    }\n",
              "\n",
              "    .dataframe tbody tr th {\n",
              "        vertical-align: top;\n",
              "    }\n",
              "\n",
              "    .dataframe thead th {\n",
              "        text-align: right;\n",
              "    }\n",
              "</style>\n",
              "<table border=\"1\" class=\"dataframe\">\n",
              "  <thead>\n",
              "    <tr style=\"text-align: right;\">\n",
              "      <th></th>\n",
              "      <th>words</th>\n",
              "      <th>label</th>\n",
              "    </tr>\n",
              "  </thead>\n",
              "  <tbody>\n",
              "    <tr>\n",
              "      <th>0</th>\n",
              "      <td>muhammad</td>\n",
              "      <td>B-PERSON</td>\n",
              "    </tr>\n",
              "    <tr>\n",
              "      <th>1</th>\n",
              "      <td>fahmi</td>\n",
              "      <td>I-PERSON</td>\n",
              "    </tr>\n",
              "    <tr>\n",
              "      <th>2</th>\n",
              "      <td>pergi</td>\n",
              "      <td>O</td>\n",
              "    </tr>\n",
              "    <tr>\n",
              "      <th>3</th>\n",
              "      <td>ke</td>\n",
              "      <td>O</td>\n",
              "    </tr>\n",
              "    <tr>\n",
              "      <th>4</th>\n",
              "      <td>mall</td>\n",
              "      <td>B-PLACE</td>\n",
              "    </tr>\n",
              "    <tr>\n",
              "      <th>5</th>\n",
              "      <td>taman</td>\n",
              "      <td>I-PLACE</td>\n",
              "    </tr>\n",
              "    <tr>\n",
              "      <th>6</th>\n",
              "      <td>anggrek</td>\n",
              "      <td>I-PLACE</td>\n",
              "    </tr>\n",
              "    <tr>\n",
              "      <th>7</th>\n",
              "      <td>membeli</td>\n",
              "      <td>O</td>\n",
              "    </tr>\n",
              "    <tr>\n",
              "      <th>8</th>\n",
              "      <td>kue</td>\n",
              "      <td>O</td>\n",
              "    </tr>\n",
              "    <tr>\n",
              "      <th>9</th>\n",
              "      <td>bantal</td>\n",
              "      <td>O</td>\n",
              "    </tr>\n",
              "  </tbody>\n",
              "</table>\n",
              "</div>\n",
              "      <button class=\"colab-df-convert\" onclick=\"convertToInteractive('df-4d001230-ca1d-4b9e-be2c-fe1c1a91ab47')\"\n",
              "              title=\"Convert this dataframe to an interactive table.\"\n",
              "              style=\"display:none;\">\n",
              "        \n",
              "  <svg xmlns=\"http://www.w3.org/2000/svg\" height=\"24px\"viewBox=\"0 0 24 24\"\n",
              "       width=\"24px\">\n",
              "    <path d=\"M0 0h24v24H0V0z\" fill=\"none\"/>\n",
              "    <path d=\"M18.56 5.44l.94 2.06.94-2.06 2.06-.94-2.06-.94-.94-2.06-.94 2.06-2.06.94zm-11 1L8.5 8.5l.94-2.06 2.06-.94-2.06-.94L8.5 2.5l-.94 2.06-2.06.94zm10 10l.94 2.06.94-2.06 2.06-.94-2.06-.94-.94-2.06-.94 2.06-2.06.94z\"/><path d=\"M17.41 7.96l-1.37-1.37c-.4-.4-.92-.59-1.43-.59-.52 0-1.04.2-1.43.59L10.3 9.45l-7.72 7.72c-.78.78-.78 2.05 0 2.83L4 21.41c.39.39.9.59 1.41.59.51 0 1.02-.2 1.41-.59l7.78-7.78 2.81-2.81c.8-.78.8-2.07 0-2.86zM5.41 20L4 18.59l7.72-7.72 1.47 1.35L5.41 20z\"/>\n",
              "  </svg>\n",
              "      </button>\n",
              "      \n",
              "  <style>\n",
              "    .colab-df-container {\n",
              "      display:flex;\n",
              "      flex-wrap:wrap;\n",
              "      gap: 12px;\n",
              "    }\n",
              "\n",
              "    .colab-df-convert {\n",
              "      background-color: #E8F0FE;\n",
              "      border: none;\n",
              "      border-radius: 50%;\n",
              "      cursor: pointer;\n",
              "      display: none;\n",
              "      fill: #1967D2;\n",
              "      height: 32px;\n",
              "      padding: 0 0 0 0;\n",
              "      width: 32px;\n",
              "    }\n",
              "\n",
              "    .colab-df-convert:hover {\n",
              "      background-color: #E2EBFA;\n",
              "      box-shadow: 0px 1px 2px rgba(60, 64, 67, 0.3), 0px 1px 3px 1px rgba(60, 64, 67, 0.15);\n",
              "      fill: #174EA6;\n",
              "    }\n",
              "\n",
              "    [theme=dark] .colab-df-convert {\n",
              "      background-color: #3B4455;\n",
              "      fill: #D2E3FC;\n",
              "    }\n",
              "\n",
              "    [theme=dark] .colab-df-convert:hover {\n",
              "      background-color: #434B5C;\n",
              "      box-shadow: 0px 1px 3px 1px rgba(0, 0, 0, 0.15);\n",
              "      filter: drop-shadow(0px 1px 2px rgba(0, 0, 0, 0.3));\n",
              "      fill: #FFFFFF;\n",
              "    }\n",
              "  </style>\n",
              "\n",
              "      <script>\n",
              "        const buttonEl =\n",
              "          document.querySelector('#df-4d001230-ca1d-4b9e-be2c-fe1c1a91ab47 button.colab-df-convert');\n",
              "        buttonEl.style.display =\n",
              "          google.colab.kernel.accessAllowed ? 'block' : 'none';\n",
              "\n",
              "        async function convertToInteractive(key) {\n",
              "          const element = document.querySelector('#df-4d001230-ca1d-4b9e-be2c-fe1c1a91ab47');\n",
              "          const dataTable =\n",
              "            await google.colab.kernel.invokeFunction('convertToInteractive',\n",
              "                                                     [key], {});\n",
              "          if (!dataTable) return;\n",
              "\n",
              "          const docLinkHtml = 'Like what you see? Visit the ' +\n",
              "            '<a target=\"_blank\" href=https://colab.research.google.com/notebooks/data_table.ipynb>data table notebook</a>'\n",
              "            + ' to learn more about interactive tables.';\n",
              "          element.innerHTML = '';\n",
              "          dataTable['output_type'] = 'display_data';\n",
              "          await google.colab.output.renderOutput(dataTable, element);\n",
              "          const docLink = document.createElement('div');\n",
              "          docLink.innerHTML = docLinkHtml;\n",
              "          element.appendChild(docLink);\n",
              "        }\n",
              "      </script>\n",
              "    </div>\n",
              "  </div>\n",
              "  "
            ]
          },
          "metadata": {},
          "execution_count": 24
        }
      ],
      "source": [
        "text = word_tokenize('muhammad fahmi pergi ke mall taman anggrek membeli kue bantal')\n",
        "subwords, subword_to_word_indices = word_subword_tokenize(text, tokenizer)\n",
        "\n",
        "subwords = torch.LongTensor(subwords).view(1, -1).to(model.device)\n",
        "subword_to_word_indices = torch.LongTensor(subword_to_word_indices).view(1, -1).to(model.device)\n",
        "logits = model(subwords, subword_to_word_indices)[0]\n",
        "\n",
        "preds = torch.topk(logits, k=1, dim=-1)[1].squeeze().cpu().numpy()\n",
        "labels = [i2w[preds[i]] for i in range(len(preds))]\n",
        "\n",
        "pd.DataFrame({'words': text, 'label': labels})"
      ]
    },
    {
      "cell_type": "code",
      "execution_count": null,
      "metadata": {
        "colab": {
          "base_uri": "https://localhost:8080/"
        },
        "id": "vhojvgcC7EAj",
        "outputId": "5b29add7-7a0a-43ba-a720-c0d4e751bcae"
      },
      "outputs": [
        {
          "output_type": "execute_result",
          "data": {
            "text/plain": [
              "       words     label\n",
              "0       Joko  B-PERSON\n",
              "1     Widodo  I-PERSON\n",
              "2     adalah         O\n",
              "3   presiden         O\n",
              "4    ketujuh         O\n",
              "5   Republik   B-PLACE\n",
              "6  Indonesia   B-PLACE"
            ],
            "text/html": [
              "\n",
              "  <div id=\"df-d824efaf-8d43-410b-9d55-12bda559d00a\">\n",
              "    <div class=\"colab-df-container\">\n",
              "      <div>\n",
              "<style scoped>\n",
              "    .dataframe tbody tr th:only-of-type {\n",
              "        vertical-align: middle;\n",
              "    }\n",
              "\n",
              "    .dataframe tbody tr th {\n",
              "        vertical-align: top;\n",
              "    }\n",
              "\n",
              "    .dataframe thead th {\n",
              "        text-align: right;\n",
              "    }\n",
              "</style>\n",
              "<table border=\"1\" class=\"dataframe\">\n",
              "  <thead>\n",
              "    <tr style=\"text-align: right;\">\n",
              "      <th></th>\n",
              "      <th>words</th>\n",
              "      <th>label</th>\n",
              "    </tr>\n",
              "  </thead>\n",
              "  <tbody>\n",
              "    <tr>\n",
              "      <th>0</th>\n",
              "      <td>Joko</td>\n",
              "      <td>B-PERSON</td>\n",
              "    </tr>\n",
              "    <tr>\n",
              "      <th>1</th>\n",
              "      <td>Widodo</td>\n",
              "      <td>I-PERSON</td>\n",
              "    </tr>\n",
              "    <tr>\n",
              "      <th>2</th>\n",
              "      <td>adalah</td>\n",
              "      <td>O</td>\n",
              "    </tr>\n",
              "    <tr>\n",
              "      <th>3</th>\n",
              "      <td>presiden</td>\n",
              "      <td>O</td>\n",
              "    </tr>\n",
              "    <tr>\n",
              "      <th>4</th>\n",
              "      <td>ketujuh</td>\n",
              "      <td>O</td>\n",
              "    </tr>\n",
              "    <tr>\n",
              "      <th>5</th>\n",
              "      <td>Republik</td>\n",
              "      <td>B-PLACE</td>\n",
              "    </tr>\n",
              "    <tr>\n",
              "      <th>6</th>\n",
              "      <td>Indonesia</td>\n",
              "      <td>B-PLACE</td>\n",
              "    </tr>\n",
              "  </tbody>\n",
              "</table>\n",
              "</div>\n",
              "      <button class=\"colab-df-convert\" onclick=\"convertToInteractive('df-d824efaf-8d43-410b-9d55-12bda559d00a')\"\n",
              "              title=\"Convert this dataframe to an interactive table.\"\n",
              "              style=\"display:none;\">\n",
              "        \n",
              "  <svg xmlns=\"http://www.w3.org/2000/svg\" height=\"24px\"viewBox=\"0 0 24 24\"\n",
              "       width=\"24px\">\n",
              "    <path d=\"M0 0h24v24H0V0z\" fill=\"none\"/>\n",
              "    <path d=\"M18.56 5.44l.94 2.06.94-2.06 2.06-.94-2.06-.94-.94-2.06-.94 2.06-2.06.94zm-11 1L8.5 8.5l.94-2.06 2.06-.94-2.06-.94L8.5 2.5l-.94 2.06-2.06.94zm10 10l.94 2.06.94-2.06 2.06-.94-2.06-.94-.94-2.06-.94 2.06-2.06.94z\"/><path d=\"M17.41 7.96l-1.37-1.37c-.4-.4-.92-.59-1.43-.59-.52 0-1.04.2-1.43.59L10.3 9.45l-7.72 7.72c-.78.78-.78 2.05 0 2.83L4 21.41c.39.39.9.59 1.41.59.51 0 1.02-.2 1.41-.59l7.78-7.78 2.81-2.81c.8-.78.8-2.07 0-2.86zM5.41 20L4 18.59l7.72-7.72 1.47 1.35L5.41 20z\"/>\n",
              "  </svg>\n",
              "      </button>\n",
              "      \n",
              "  <style>\n",
              "    .colab-df-container {\n",
              "      display:flex;\n",
              "      flex-wrap:wrap;\n",
              "      gap: 12px;\n",
              "    }\n",
              "\n",
              "    .colab-df-convert {\n",
              "      background-color: #E8F0FE;\n",
              "      border: none;\n",
              "      border-radius: 50%;\n",
              "      cursor: pointer;\n",
              "      display: none;\n",
              "      fill: #1967D2;\n",
              "      height: 32px;\n",
              "      padding: 0 0 0 0;\n",
              "      width: 32px;\n",
              "    }\n",
              "\n",
              "    .colab-df-convert:hover {\n",
              "      background-color: #E2EBFA;\n",
              "      box-shadow: 0px 1px 2px rgba(60, 64, 67, 0.3), 0px 1px 3px 1px rgba(60, 64, 67, 0.15);\n",
              "      fill: #174EA6;\n",
              "    }\n",
              "\n",
              "    [theme=dark] .colab-df-convert {\n",
              "      background-color: #3B4455;\n",
              "      fill: #D2E3FC;\n",
              "    }\n",
              "\n",
              "    [theme=dark] .colab-df-convert:hover {\n",
              "      background-color: #434B5C;\n",
              "      box-shadow: 0px 1px 3px 1px rgba(0, 0, 0, 0.15);\n",
              "      filter: drop-shadow(0px 1px 2px rgba(0, 0, 0, 0.3));\n",
              "      fill: #FFFFFF;\n",
              "    }\n",
              "  </style>\n",
              "\n",
              "      <script>\n",
              "        const buttonEl =\n",
              "          document.querySelector('#df-d824efaf-8d43-410b-9d55-12bda559d00a button.colab-df-convert');\n",
              "        buttonEl.style.display =\n",
              "          google.colab.kernel.accessAllowed ? 'block' : 'none';\n",
              "\n",
              "        async function convertToInteractive(key) {\n",
              "          const element = document.querySelector('#df-d824efaf-8d43-410b-9d55-12bda559d00a');\n",
              "          const dataTable =\n",
              "            await google.colab.kernel.invokeFunction('convertToInteractive',\n",
              "                                                     [key], {});\n",
              "          if (!dataTable) return;\n",
              "\n",
              "          const docLinkHtml = 'Like what you see? Visit the ' +\n",
              "            '<a target=\"_blank\" href=https://colab.research.google.com/notebooks/data_table.ipynb>data table notebook</a>'\n",
              "            + ' to learn more about interactive tables.';\n",
              "          element.innerHTML = '';\n",
              "          dataTable['output_type'] = 'display_data';\n",
              "          await google.colab.output.renderOutput(dataTable, element);\n",
              "          const docLink = document.createElement('div');\n",
              "          docLink.innerHTML = docLinkHtml;\n",
              "          element.appendChild(docLink);\n",
              "        }\n",
              "      </script>\n",
              "    </div>\n",
              "  </div>\n",
              "  "
            ]
          },
          "metadata": {},
          "execution_count": 25
        }
      ],
      "source": [
        "text = word_tokenize('Joko Widodo adalah presiden ketujuh Republik Indonesia')\n",
        "subwords, subword_to_word_indices = word_subword_tokenize(text, tokenizer)\n",
        "\n",
        "subwords = torch.LongTensor(subwords).view(1, -1).to(model.device)\n",
        "subword_to_word_indices = torch.LongTensor(subword_to_word_indices).view(1, -1).to(model.device)\n",
        "logits = model(subwords, subword_to_word_indices)[0]\n",
        "\n",
        "preds = torch.topk(logits, k=1, dim=-1)[1].squeeze().cpu().numpy()\n",
        "labels = [i2w[preds[i]] for i in range(len(preds))]\n",
        "\n",
        "pd.DataFrame({'words': text, 'label': labels})"
      ]
    },
    {
      "cell_type": "code",
      "execution_count": null,
      "metadata": {
        "id": "tqnyxPMFtgb6"
      },
      "outputs": [],
      "source": [
        "# Evaluate on test\n",
        "# model.eval()\n",
        "# torch.set_grad_enabled(False)\n",
        "\n",
        "# total_loss, total_correct, total_labels = 0, 0, 0\n",
        "# list_hyp, list_label = [], []\n",
        "\n",
        "# pbar = tqdm(test_loader, leave=True, total=len(test_loader))\n",
        "# for i, batch_data in enumerate(pbar):\n",
        "#     _, batch_hyp, _ = forward_word_classification(model, batch_data[:-1], i2w=i2w, device='cpu')\n",
        "#     list_hyp += batch_hyp\n",
        "\n",
        "# # Save prediction\n",
        "# df = pd.DataFrame({'label':list_hyp}).reset_index()\n",
        "# df.to_csv('pred.txt', index=False)\n",
        "\n",
        "# print(df)"
      ]
    },
    {
      "cell_type": "code",
      "execution_count": null,
      "metadata": {
        "colab": {
          "base_uri": "https://localhost:8080/"
        },
        "id": "14hMGdaNtvex",
        "outputId": "d075560a-60d2-4d0c-95d5-f7d7a70a2618"
      },
      "outputs": [
        {
          "output_type": "execute_result",
          "data": {
            "text/plain": [
              "       words     label\n",
              "0       Bung  B-PERSON\n",
              "1       Tomo  I-PERSON\n",
              "2     adalah         O\n",
              "3   pahlawan         O\n",
              "4   nasional         O\n",
              "5   Republik         O\n",
              "6  Indonesia   B-PLACE"
            ],
            "text/html": [
              "\n",
              "  <div id=\"df-3805d5d9-94b5-4939-a55d-14904e4eb0eb\">\n",
              "    <div class=\"colab-df-container\">\n",
              "      <div>\n",
              "<style scoped>\n",
              "    .dataframe tbody tr th:only-of-type {\n",
              "        vertical-align: middle;\n",
              "    }\n",
              "\n",
              "    .dataframe tbody tr th {\n",
              "        vertical-align: top;\n",
              "    }\n",
              "\n",
              "    .dataframe thead th {\n",
              "        text-align: right;\n",
              "    }\n",
              "</style>\n",
              "<table border=\"1\" class=\"dataframe\">\n",
              "  <thead>\n",
              "    <tr style=\"text-align: right;\">\n",
              "      <th></th>\n",
              "      <th>words</th>\n",
              "      <th>label</th>\n",
              "    </tr>\n",
              "  </thead>\n",
              "  <tbody>\n",
              "    <tr>\n",
              "      <th>0</th>\n",
              "      <td>Bung</td>\n",
              "      <td>B-PERSON</td>\n",
              "    </tr>\n",
              "    <tr>\n",
              "      <th>1</th>\n",
              "      <td>Tomo</td>\n",
              "      <td>I-PERSON</td>\n",
              "    </tr>\n",
              "    <tr>\n",
              "      <th>2</th>\n",
              "      <td>adalah</td>\n",
              "      <td>O</td>\n",
              "    </tr>\n",
              "    <tr>\n",
              "      <th>3</th>\n",
              "      <td>pahlawan</td>\n",
              "      <td>O</td>\n",
              "    </tr>\n",
              "    <tr>\n",
              "      <th>4</th>\n",
              "      <td>nasional</td>\n",
              "      <td>O</td>\n",
              "    </tr>\n",
              "    <tr>\n",
              "      <th>5</th>\n",
              "      <td>Republik</td>\n",
              "      <td>O</td>\n",
              "    </tr>\n",
              "    <tr>\n",
              "      <th>6</th>\n",
              "      <td>Indonesia</td>\n",
              "      <td>B-PLACE</td>\n",
              "    </tr>\n",
              "  </tbody>\n",
              "</table>\n",
              "</div>\n",
              "      <button class=\"colab-df-convert\" onclick=\"convertToInteractive('df-3805d5d9-94b5-4939-a55d-14904e4eb0eb')\"\n",
              "              title=\"Convert this dataframe to an interactive table.\"\n",
              "              style=\"display:none;\">\n",
              "        \n",
              "  <svg xmlns=\"http://www.w3.org/2000/svg\" height=\"24px\"viewBox=\"0 0 24 24\"\n",
              "       width=\"24px\">\n",
              "    <path d=\"M0 0h24v24H0V0z\" fill=\"none\"/>\n",
              "    <path d=\"M18.56 5.44l.94 2.06.94-2.06 2.06-.94-2.06-.94-.94-2.06-.94 2.06-2.06.94zm-11 1L8.5 8.5l.94-2.06 2.06-.94-2.06-.94L8.5 2.5l-.94 2.06-2.06.94zm10 10l.94 2.06.94-2.06 2.06-.94-2.06-.94-.94-2.06-.94 2.06-2.06.94z\"/><path d=\"M17.41 7.96l-1.37-1.37c-.4-.4-.92-.59-1.43-.59-.52 0-1.04.2-1.43.59L10.3 9.45l-7.72 7.72c-.78.78-.78 2.05 0 2.83L4 21.41c.39.39.9.59 1.41.59.51 0 1.02-.2 1.41-.59l7.78-7.78 2.81-2.81c.8-.78.8-2.07 0-2.86zM5.41 20L4 18.59l7.72-7.72 1.47 1.35L5.41 20z\"/>\n",
              "  </svg>\n",
              "      </button>\n",
              "      \n",
              "  <style>\n",
              "    .colab-df-container {\n",
              "      display:flex;\n",
              "      flex-wrap:wrap;\n",
              "      gap: 12px;\n",
              "    }\n",
              "\n",
              "    .colab-df-convert {\n",
              "      background-color: #E8F0FE;\n",
              "      border: none;\n",
              "      border-radius: 50%;\n",
              "      cursor: pointer;\n",
              "      display: none;\n",
              "      fill: #1967D2;\n",
              "      height: 32px;\n",
              "      padding: 0 0 0 0;\n",
              "      width: 32px;\n",
              "    }\n",
              "\n",
              "    .colab-df-convert:hover {\n",
              "      background-color: #E2EBFA;\n",
              "      box-shadow: 0px 1px 2px rgba(60, 64, 67, 0.3), 0px 1px 3px 1px rgba(60, 64, 67, 0.15);\n",
              "      fill: #174EA6;\n",
              "    }\n",
              "\n",
              "    [theme=dark] .colab-df-convert {\n",
              "      background-color: #3B4455;\n",
              "      fill: #D2E3FC;\n",
              "    }\n",
              "\n",
              "    [theme=dark] .colab-df-convert:hover {\n",
              "      background-color: #434B5C;\n",
              "      box-shadow: 0px 1px 3px 1px rgba(0, 0, 0, 0.15);\n",
              "      filter: drop-shadow(0px 1px 2px rgba(0, 0, 0, 0.3));\n",
              "      fill: #FFFFFF;\n",
              "    }\n",
              "  </style>\n",
              "\n",
              "      <script>\n",
              "        const buttonEl =\n",
              "          document.querySelector('#df-3805d5d9-94b5-4939-a55d-14904e4eb0eb button.colab-df-convert');\n",
              "        buttonEl.style.display =\n",
              "          google.colab.kernel.accessAllowed ? 'block' : 'none';\n",
              "\n",
              "        async function convertToInteractive(key) {\n",
              "          const element = document.querySelector('#df-3805d5d9-94b5-4939-a55d-14904e4eb0eb');\n",
              "          const dataTable =\n",
              "            await google.colab.kernel.invokeFunction('convertToInteractive',\n",
              "                                                     [key], {});\n",
              "          if (!dataTable) return;\n",
              "\n",
              "          const docLinkHtml = 'Like what you see? Visit the ' +\n",
              "            '<a target=\"_blank\" href=https://colab.research.google.com/notebooks/data_table.ipynb>data table notebook</a>'\n",
              "            + ' to learn more about interactive tables.';\n",
              "          element.innerHTML = '';\n",
              "          dataTable['output_type'] = 'display_data';\n",
              "          await google.colab.output.renderOutput(dataTable, element);\n",
              "          const docLink = document.createElement('div');\n",
              "          docLink.innerHTML = docLinkHtml;\n",
              "          element.appendChild(docLink);\n",
              "        }\n",
              "      </script>\n",
              "    </div>\n",
              "  </div>\n",
              "  "
            ]
          },
          "metadata": {},
          "execution_count": 27
        }
      ],
      "source": [
        "text = word_tokenize('Bung Tomo adalah pahlawan nasional Republik Indonesia')\n",
        "subwords, subword_to_word_indices = word_subword_tokenize(text, tokenizer)\n",
        "\n",
        "subwords = torch.LongTensor(subwords).view(1, -1).to(model.device)\n",
        "subword_to_word_indices = torch.LongTensor(subword_to_word_indices).view(1, -1).to(model.device)\n",
        "logits = model(subwords, subword_to_word_indices)[0]\n",
        "\n",
        "preds = torch.topk(logits, k=1, dim=-1)[1].squeeze().cpu().numpy()\n",
        "labels = [i2w[preds[i]] for i in range(len(preds))]\n",
        "\n",
        "pd.DataFrame({'words': text, 'label': labels})"
      ]
    },
    {
      "cell_type": "code",
      "execution_count": null,
      "metadata": {
        "colab": {
          "base_uri": "https://localhost:8080/"
        },
        "id": "3HjWxByGtzTT",
        "outputId": "7a857a67-5777-46ec-b704-69242e93b884"
      },
      "outputs": [
        {
          "output_type": "execute_result",
          "data": {
            "text/plain": [
              "       words     label\n",
              "0       Nama         O\n",
              "1       saya         O\n",
              "2       Budi  B-PERSON\n",
              "3          .         O\n",
              "4       Saya         O\n",
              "5      lahir         O\n",
              "6         di         O\n",
              "7      tahun         O\n",
              "8       1981         O\n",
              "9          .         O\n",
              "10  Sekarang         O\n",
              "11      saya         O\n",
              "12   tinggal         O\n",
              "13        di         O\n",
              "14      Ubud   B-PLACE\n",
              "15         ,         O\n",
              "16      Bali   B-PLACE\n",
              "17         .         O"
            ],
            "text/html": [
              "\n",
              "  <div id=\"df-109fde05-4ee9-46df-b235-830f02fbbd89\">\n",
              "    <div class=\"colab-df-container\">\n",
              "      <div>\n",
              "<style scoped>\n",
              "    .dataframe tbody tr th:only-of-type {\n",
              "        vertical-align: middle;\n",
              "    }\n",
              "\n",
              "    .dataframe tbody tr th {\n",
              "        vertical-align: top;\n",
              "    }\n",
              "\n",
              "    .dataframe thead th {\n",
              "        text-align: right;\n",
              "    }\n",
              "</style>\n",
              "<table border=\"1\" class=\"dataframe\">\n",
              "  <thead>\n",
              "    <tr style=\"text-align: right;\">\n",
              "      <th></th>\n",
              "      <th>words</th>\n",
              "      <th>label</th>\n",
              "    </tr>\n",
              "  </thead>\n",
              "  <tbody>\n",
              "    <tr>\n",
              "      <th>0</th>\n",
              "      <td>Nama</td>\n",
              "      <td>O</td>\n",
              "    </tr>\n",
              "    <tr>\n",
              "      <th>1</th>\n",
              "      <td>saya</td>\n",
              "      <td>O</td>\n",
              "    </tr>\n",
              "    <tr>\n",
              "      <th>2</th>\n",
              "      <td>Budi</td>\n",
              "      <td>B-PERSON</td>\n",
              "    </tr>\n",
              "    <tr>\n",
              "      <th>3</th>\n",
              "      <td>.</td>\n",
              "      <td>O</td>\n",
              "    </tr>\n",
              "    <tr>\n",
              "      <th>4</th>\n",
              "      <td>Saya</td>\n",
              "      <td>O</td>\n",
              "    </tr>\n",
              "    <tr>\n",
              "      <th>5</th>\n",
              "      <td>lahir</td>\n",
              "      <td>O</td>\n",
              "    </tr>\n",
              "    <tr>\n",
              "      <th>6</th>\n",
              "      <td>di</td>\n",
              "      <td>O</td>\n",
              "    </tr>\n",
              "    <tr>\n",
              "      <th>7</th>\n",
              "      <td>tahun</td>\n",
              "      <td>O</td>\n",
              "    </tr>\n",
              "    <tr>\n",
              "      <th>8</th>\n",
              "      <td>1981</td>\n",
              "      <td>O</td>\n",
              "    </tr>\n",
              "    <tr>\n",
              "      <th>9</th>\n",
              "      <td>.</td>\n",
              "      <td>O</td>\n",
              "    </tr>\n",
              "    <tr>\n",
              "      <th>10</th>\n",
              "      <td>Sekarang</td>\n",
              "      <td>O</td>\n",
              "    </tr>\n",
              "    <tr>\n",
              "      <th>11</th>\n",
              "      <td>saya</td>\n",
              "      <td>O</td>\n",
              "    </tr>\n",
              "    <tr>\n",
              "      <th>12</th>\n",
              "      <td>tinggal</td>\n",
              "      <td>O</td>\n",
              "    </tr>\n",
              "    <tr>\n",
              "      <th>13</th>\n",
              "      <td>di</td>\n",
              "      <td>O</td>\n",
              "    </tr>\n",
              "    <tr>\n",
              "      <th>14</th>\n",
              "      <td>Ubud</td>\n",
              "      <td>B-PLACE</td>\n",
              "    </tr>\n",
              "    <tr>\n",
              "      <th>15</th>\n",
              "      <td>,</td>\n",
              "      <td>O</td>\n",
              "    </tr>\n",
              "    <tr>\n",
              "      <th>16</th>\n",
              "      <td>Bali</td>\n",
              "      <td>B-PLACE</td>\n",
              "    </tr>\n",
              "    <tr>\n",
              "      <th>17</th>\n",
              "      <td>.</td>\n",
              "      <td>O</td>\n",
              "    </tr>\n",
              "  </tbody>\n",
              "</table>\n",
              "</div>\n",
              "      <button class=\"colab-df-convert\" onclick=\"convertToInteractive('df-109fde05-4ee9-46df-b235-830f02fbbd89')\"\n",
              "              title=\"Convert this dataframe to an interactive table.\"\n",
              "              style=\"display:none;\">\n",
              "        \n",
              "  <svg xmlns=\"http://www.w3.org/2000/svg\" height=\"24px\"viewBox=\"0 0 24 24\"\n",
              "       width=\"24px\">\n",
              "    <path d=\"M0 0h24v24H0V0z\" fill=\"none\"/>\n",
              "    <path d=\"M18.56 5.44l.94 2.06.94-2.06 2.06-.94-2.06-.94-.94-2.06-.94 2.06-2.06.94zm-11 1L8.5 8.5l.94-2.06 2.06-.94-2.06-.94L8.5 2.5l-.94 2.06-2.06.94zm10 10l.94 2.06.94-2.06 2.06-.94-2.06-.94-.94-2.06-.94 2.06-2.06.94z\"/><path d=\"M17.41 7.96l-1.37-1.37c-.4-.4-.92-.59-1.43-.59-.52 0-1.04.2-1.43.59L10.3 9.45l-7.72 7.72c-.78.78-.78 2.05 0 2.83L4 21.41c.39.39.9.59 1.41.59.51 0 1.02-.2 1.41-.59l7.78-7.78 2.81-2.81c.8-.78.8-2.07 0-2.86zM5.41 20L4 18.59l7.72-7.72 1.47 1.35L5.41 20z\"/>\n",
              "  </svg>\n",
              "      </button>\n",
              "      \n",
              "  <style>\n",
              "    .colab-df-container {\n",
              "      display:flex;\n",
              "      flex-wrap:wrap;\n",
              "      gap: 12px;\n",
              "    }\n",
              "\n",
              "    .colab-df-convert {\n",
              "      background-color: #E8F0FE;\n",
              "      border: none;\n",
              "      border-radius: 50%;\n",
              "      cursor: pointer;\n",
              "      display: none;\n",
              "      fill: #1967D2;\n",
              "      height: 32px;\n",
              "      padding: 0 0 0 0;\n",
              "      width: 32px;\n",
              "    }\n",
              "\n",
              "    .colab-df-convert:hover {\n",
              "      background-color: #E2EBFA;\n",
              "      box-shadow: 0px 1px 2px rgba(60, 64, 67, 0.3), 0px 1px 3px 1px rgba(60, 64, 67, 0.15);\n",
              "      fill: #174EA6;\n",
              "    }\n",
              "\n",
              "    [theme=dark] .colab-df-convert {\n",
              "      background-color: #3B4455;\n",
              "      fill: #D2E3FC;\n",
              "    }\n",
              "\n",
              "    [theme=dark] .colab-df-convert:hover {\n",
              "      background-color: #434B5C;\n",
              "      box-shadow: 0px 1px 3px 1px rgba(0, 0, 0, 0.15);\n",
              "      filter: drop-shadow(0px 1px 2px rgba(0, 0, 0, 0.3));\n",
              "      fill: #FFFFFF;\n",
              "    }\n",
              "  </style>\n",
              "\n",
              "      <script>\n",
              "        const buttonEl =\n",
              "          document.querySelector('#df-109fde05-4ee9-46df-b235-830f02fbbd89 button.colab-df-convert');\n",
              "        buttonEl.style.display =\n",
              "          google.colab.kernel.accessAllowed ? 'block' : 'none';\n",
              "\n",
              "        async function convertToInteractive(key) {\n",
              "          const element = document.querySelector('#df-109fde05-4ee9-46df-b235-830f02fbbd89');\n",
              "          const dataTable =\n",
              "            await google.colab.kernel.invokeFunction('convertToInteractive',\n",
              "                                                     [key], {});\n",
              "          if (!dataTable) return;\n",
              "\n",
              "          const docLinkHtml = 'Like what you see? Visit the ' +\n",
              "            '<a target=\"_blank\" href=https://colab.research.google.com/notebooks/data_table.ipynb>data table notebook</a>'\n",
              "            + ' to learn more about interactive tables.';\n",
              "          element.innerHTML = '';\n",
              "          dataTable['output_type'] = 'display_data';\n",
              "          await google.colab.output.renderOutput(dataTable, element);\n",
              "          const docLink = document.createElement('div');\n",
              "          docLink.innerHTML = docLinkHtml;\n",
              "          element.appendChild(docLink);\n",
              "        }\n",
              "      </script>\n",
              "    </div>\n",
              "  </div>\n",
              "  "
            ]
          },
          "metadata": {},
          "execution_count": 28
        }
      ],
      "source": [
        "text = word_tokenize('Nama saya Budi. Saya lahir di tahun 1981. Sekarang saya tinggal di Ubud, Bali.')\n",
        "#My name is Budi. I was born in 1981. I am currently living in Ubud, Bali.\n",
        "subwords, subword_to_word_indices = word_subword_tokenize(text, tokenizer)\n",
        "\n",
        "subwords = torch.LongTensor(subwords).view(1, -1).to(model.device)\n",
        "subword_to_word_indices = torch.LongTensor(subword_to_word_indices).view(1, -1).to(model.device)\n",
        "logits = model(subwords, subword_to_word_indices)[0]\n",
        "\n",
        "preds = torch.topk(logits, k=1, dim=-1)[1].squeeze().cpu().numpy()\n",
        "labels = [i2w[preds[i]] for i in range(len(preds))]\n",
        "\n",
        "pd.DataFrame({'words': text, 'label': labels})\n"
      ]
    },
    {
      "cell_type": "code",
      "execution_count": null,
      "metadata": {
        "colab": {
          "base_uri": "https://localhost:8080/"
        },
        "id": "nie4E53xt2FT",
        "outputId": "b364a120-af80-4e50-d45f-a2227bfb5227"
      },
      "outputs": [
        {
          "output_type": "execute_result",
          "data": {
            "text/plain": [
              "  words           label\n",
              "0  bank  B-ORGANISATION\n",
              "1   bca  I-ORGANISATION"
            ],
            "text/html": [
              "\n",
              "  <div id=\"df-b19f3482-6388-4ca5-b278-e82b3e4d2609\">\n",
              "    <div class=\"colab-df-container\">\n",
              "      <div>\n",
              "<style scoped>\n",
              "    .dataframe tbody tr th:only-of-type {\n",
              "        vertical-align: middle;\n",
              "    }\n",
              "\n",
              "    .dataframe tbody tr th {\n",
              "        vertical-align: top;\n",
              "    }\n",
              "\n",
              "    .dataframe thead th {\n",
              "        text-align: right;\n",
              "    }\n",
              "</style>\n",
              "<table border=\"1\" class=\"dataframe\">\n",
              "  <thead>\n",
              "    <tr style=\"text-align: right;\">\n",
              "      <th></th>\n",
              "      <th>words</th>\n",
              "      <th>label</th>\n",
              "    </tr>\n",
              "  </thead>\n",
              "  <tbody>\n",
              "    <tr>\n",
              "      <th>0</th>\n",
              "      <td>bank</td>\n",
              "      <td>B-ORGANISATION</td>\n",
              "    </tr>\n",
              "    <tr>\n",
              "      <th>1</th>\n",
              "      <td>bca</td>\n",
              "      <td>I-ORGANISATION</td>\n",
              "    </tr>\n",
              "  </tbody>\n",
              "</table>\n",
              "</div>\n",
              "      <button class=\"colab-df-convert\" onclick=\"convertToInteractive('df-b19f3482-6388-4ca5-b278-e82b3e4d2609')\"\n",
              "              title=\"Convert this dataframe to an interactive table.\"\n",
              "              style=\"display:none;\">\n",
              "        \n",
              "  <svg xmlns=\"http://www.w3.org/2000/svg\" height=\"24px\"viewBox=\"0 0 24 24\"\n",
              "       width=\"24px\">\n",
              "    <path d=\"M0 0h24v24H0V0z\" fill=\"none\"/>\n",
              "    <path d=\"M18.56 5.44l.94 2.06.94-2.06 2.06-.94-2.06-.94-.94-2.06-.94 2.06-2.06.94zm-11 1L8.5 8.5l.94-2.06 2.06-.94-2.06-.94L8.5 2.5l-.94 2.06-2.06.94zm10 10l.94 2.06.94-2.06 2.06-.94-2.06-.94-.94-2.06-.94 2.06-2.06.94z\"/><path d=\"M17.41 7.96l-1.37-1.37c-.4-.4-.92-.59-1.43-.59-.52 0-1.04.2-1.43.59L10.3 9.45l-7.72 7.72c-.78.78-.78 2.05 0 2.83L4 21.41c.39.39.9.59 1.41.59.51 0 1.02-.2 1.41-.59l7.78-7.78 2.81-2.81c.8-.78.8-2.07 0-2.86zM5.41 20L4 18.59l7.72-7.72 1.47 1.35L5.41 20z\"/>\n",
              "  </svg>\n",
              "      </button>\n",
              "      \n",
              "  <style>\n",
              "    .colab-df-container {\n",
              "      display:flex;\n",
              "      flex-wrap:wrap;\n",
              "      gap: 12px;\n",
              "    }\n",
              "\n",
              "    .colab-df-convert {\n",
              "      background-color: #E8F0FE;\n",
              "      border: none;\n",
              "      border-radius: 50%;\n",
              "      cursor: pointer;\n",
              "      display: none;\n",
              "      fill: #1967D2;\n",
              "      height: 32px;\n",
              "      padding: 0 0 0 0;\n",
              "      width: 32px;\n",
              "    }\n",
              "\n",
              "    .colab-df-convert:hover {\n",
              "      background-color: #E2EBFA;\n",
              "      box-shadow: 0px 1px 2px rgba(60, 64, 67, 0.3), 0px 1px 3px 1px rgba(60, 64, 67, 0.15);\n",
              "      fill: #174EA6;\n",
              "    }\n",
              "\n",
              "    [theme=dark] .colab-df-convert {\n",
              "      background-color: #3B4455;\n",
              "      fill: #D2E3FC;\n",
              "    }\n",
              "\n",
              "    [theme=dark] .colab-df-convert:hover {\n",
              "      background-color: #434B5C;\n",
              "      box-shadow: 0px 1px 3px 1px rgba(0, 0, 0, 0.15);\n",
              "      filter: drop-shadow(0px 1px 2px rgba(0, 0, 0, 0.3));\n",
              "      fill: #FFFFFF;\n",
              "    }\n",
              "  </style>\n",
              "\n",
              "      <script>\n",
              "        const buttonEl =\n",
              "          document.querySelector('#df-b19f3482-6388-4ca5-b278-e82b3e4d2609 button.colab-df-convert');\n",
              "        buttonEl.style.display =\n",
              "          google.colab.kernel.accessAllowed ? 'block' : 'none';\n",
              "\n",
              "        async function convertToInteractive(key) {\n",
              "          const element = document.querySelector('#df-b19f3482-6388-4ca5-b278-e82b3e4d2609');\n",
              "          const dataTable =\n",
              "            await google.colab.kernel.invokeFunction('convertToInteractive',\n",
              "                                                     [key], {});\n",
              "          if (!dataTable) return;\n",
              "\n",
              "          const docLinkHtml = 'Like what you see? Visit the ' +\n",
              "            '<a target=\"_blank\" href=https://colab.research.google.com/notebooks/data_table.ipynb>data table notebook</a>'\n",
              "            + ' to learn more about interactive tables.';\n",
              "          element.innerHTML = '';\n",
              "          dataTable['output_type'] = 'display_data';\n",
              "          await google.colab.output.renderOutput(dataTable, element);\n",
              "          const docLink = document.createElement('div');\n",
              "          docLink.innerHTML = docLinkHtml;\n",
              "          element.appendChild(docLink);\n",
              "        }\n",
              "      </script>\n",
              "    </div>\n",
              "  </div>\n",
              "  "
            ]
          },
          "metadata": {},
          "execution_count": 29
        }
      ],
      "source": [
        "text = word_tokenize('bank bca')\n",
        "#Budi has arrived in front of the BCA Tower.\n",
        "subwords, subword_to_word_indices = word_subword_tokenize(text, tokenizer)\n",
        "\n",
        "subwords = torch.LongTensor(subwords).view(1, -1).to(model.device)\n",
        "subword_to_word_indices = torch.LongTensor(subword_to_word_indices).view(1, -1).to(model.device)\n",
        "logits = model(subwords, subword_to_word_indices)[0]\n",
        "\n",
        "preds = torch.topk(logits, k=1, dim=-1)[1].squeeze().cpu().numpy()\n",
        "labels = [i2w[preds[i]] for i in range(len(preds))]\n",
        "\n",
        "pd.DataFrame({'words': text, 'label': labels})\n"
      ]
    },
    {
      "cell_type": "code",
      "execution_count": null,
      "metadata": {
        "colab": {
          "base_uri": "https://localhost:8080/"
        },
        "id": "XQTm0b-t0OY5",
        "outputId": "00c77ea9-ae54-4f6a-b807-5896f2d8f1b9"
      },
      "outputs": [
        {
          "output_type": "execute_result",
          "data": {
            "text/plain": [
              "    words    label\n",
              "0    Saya        O\n",
              "1   sudah        O\n",
              "2  sampai        O\n",
              "3      di        O\n",
              "4   depan        O\n",
              "5  menara  B-PLACE\n",
              "6     bca  I-PLACE"
            ],
            "text/html": [
              "\n",
              "  <div id=\"df-77f60048-db87-4887-a52e-ed3a97c9ef99\">\n",
              "    <div class=\"colab-df-container\">\n",
              "      <div>\n",
              "<style scoped>\n",
              "    .dataframe tbody tr th:only-of-type {\n",
              "        vertical-align: middle;\n",
              "    }\n",
              "\n",
              "    .dataframe tbody tr th {\n",
              "        vertical-align: top;\n",
              "    }\n",
              "\n",
              "    .dataframe thead th {\n",
              "        text-align: right;\n",
              "    }\n",
              "</style>\n",
              "<table border=\"1\" class=\"dataframe\">\n",
              "  <thead>\n",
              "    <tr style=\"text-align: right;\">\n",
              "      <th></th>\n",
              "      <th>words</th>\n",
              "      <th>label</th>\n",
              "    </tr>\n",
              "  </thead>\n",
              "  <tbody>\n",
              "    <tr>\n",
              "      <th>0</th>\n",
              "      <td>Saya</td>\n",
              "      <td>O</td>\n",
              "    </tr>\n",
              "    <tr>\n",
              "      <th>1</th>\n",
              "      <td>sudah</td>\n",
              "      <td>O</td>\n",
              "    </tr>\n",
              "    <tr>\n",
              "      <th>2</th>\n",
              "      <td>sampai</td>\n",
              "      <td>O</td>\n",
              "    </tr>\n",
              "    <tr>\n",
              "      <th>3</th>\n",
              "      <td>di</td>\n",
              "      <td>O</td>\n",
              "    </tr>\n",
              "    <tr>\n",
              "      <th>4</th>\n",
              "      <td>depan</td>\n",
              "      <td>O</td>\n",
              "    </tr>\n",
              "    <tr>\n",
              "      <th>5</th>\n",
              "      <td>menara</td>\n",
              "      <td>B-PLACE</td>\n",
              "    </tr>\n",
              "    <tr>\n",
              "      <th>6</th>\n",
              "      <td>bca</td>\n",
              "      <td>I-PLACE</td>\n",
              "    </tr>\n",
              "  </tbody>\n",
              "</table>\n",
              "</div>\n",
              "      <button class=\"colab-df-convert\" onclick=\"convertToInteractive('df-77f60048-db87-4887-a52e-ed3a97c9ef99')\"\n",
              "              title=\"Convert this dataframe to an interactive table.\"\n",
              "              style=\"display:none;\">\n",
              "        \n",
              "  <svg xmlns=\"http://www.w3.org/2000/svg\" height=\"24px\"viewBox=\"0 0 24 24\"\n",
              "       width=\"24px\">\n",
              "    <path d=\"M0 0h24v24H0V0z\" fill=\"none\"/>\n",
              "    <path d=\"M18.56 5.44l.94 2.06.94-2.06 2.06-.94-2.06-.94-.94-2.06-.94 2.06-2.06.94zm-11 1L8.5 8.5l.94-2.06 2.06-.94-2.06-.94L8.5 2.5l-.94 2.06-2.06.94zm10 10l.94 2.06.94-2.06 2.06-.94-2.06-.94-.94-2.06-.94 2.06-2.06.94z\"/><path d=\"M17.41 7.96l-1.37-1.37c-.4-.4-.92-.59-1.43-.59-.52 0-1.04.2-1.43.59L10.3 9.45l-7.72 7.72c-.78.78-.78 2.05 0 2.83L4 21.41c.39.39.9.59 1.41.59.51 0 1.02-.2 1.41-.59l7.78-7.78 2.81-2.81c.8-.78.8-2.07 0-2.86zM5.41 20L4 18.59l7.72-7.72 1.47 1.35L5.41 20z\"/>\n",
              "  </svg>\n",
              "      </button>\n",
              "      \n",
              "  <style>\n",
              "    .colab-df-container {\n",
              "      display:flex;\n",
              "      flex-wrap:wrap;\n",
              "      gap: 12px;\n",
              "    }\n",
              "\n",
              "    .colab-df-convert {\n",
              "      background-color: #E8F0FE;\n",
              "      border: none;\n",
              "      border-radius: 50%;\n",
              "      cursor: pointer;\n",
              "      display: none;\n",
              "      fill: #1967D2;\n",
              "      height: 32px;\n",
              "      padding: 0 0 0 0;\n",
              "      width: 32px;\n",
              "    }\n",
              "\n",
              "    .colab-df-convert:hover {\n",
              "      background-color: #E2EBFA;\n",
              "      box-shadow: 0px 1px 2px rgba(60, 64, 67, 0.3), 0px 1px 3px 1px rgba(60, 64, 67, 0.15);\n",
              "      fill: #174EA6;\n",
              "    }\n",
              "\n",
              "    [theme=dark] .colab-df-convert {\n",
              "      background-color: #3B4455;\n",
              "      fill: #D2E3FC;\n",
              "    }\n",
              "\n",
              "    [theme=dark] .colab-df-convert:hover {\n",
              "      background-color: #434B5C;\n",
              "      box-shadow: 0px 1px 3px 1px rgba(0, 0, 0, 0.15);\n",
              "      filter: drop-shadow(0px 1px 2px rgba(0, 0, 0, 0.3));\n",
              "      fill: #FFFFFF;\n",
              "    }\n",
              "  </style>\n",
              "\n",
              "      <script>\n",
              "        const buttonEl =\n",
              "          document.querySelector('#df-77f60048-db87-4887-a52e-ed3a97c9ef99 button.colab-df-convert');\n",
              "        buttonEl.style.display =\n",
              "          google.colab.kernel.accessAllowed ? 'block' : 'none';\n",
              "\n",
              "        async function convertToInteractive(key) {\n",
              "          const element = document.querySelector('#df-77f60048-db87-4887-a52e-ed3a97c9ef99');\n",
              "          const dataTable =\n",
              "            await google.colab.kernel.invokeFunction('convertToInteractive',\n",
              "                                                     [key], {});\n",
              "          if (!dataTable) return;\n",
              "\n",
              "          const docLinkHtml = 'Like what you see? Visit the ' +\n",
              "            '<a target=\"_blank\" href=https://colab.research.google.com/notebooks/data_table.ipynb>data table notebook</a>'\n",
              "            + ' to learn more about interactive tables.';\n",
              "          element.innerHTML = '';\n",
              "          dataTable['output_type'] = 'display_data';\n",
              "          await google.colab.output.renderOutput(dataTable, element);\n",
              "          const docLink = document.createElement('div');\n",
              "          docLink.innerHTML = docLinkHtml;\n",
              "          element.appendChild(docLink);\n",
              "        }\n",
              "      </script>\n",
              "    </div>\n",
              "  </div>\n",
              "  "
            ]
          },
          "metadata": {},
          "execution_count": 30
        }
      ],
      "source": [
        "text = word_tokenize('Saya sudah sampai di depan menara bca')\n",
        "subwords, subword_to_word_indices = word_subword_tokenize(text, tokenizer)\n",
        "\n",
        "subwords = torch.LongTensor(subwords).view(1, -1).to(model.device)\n",
        "subword_to_word_indices = torch.LongTensor(subword_to_word_indices).view(1, -1).to(model.device)\n",
        "logits = model(subwords, subword_to_word_indices)[0]\n",
        "\n",
        "preds = torch.topk(logits, k=1, dim=-1)[1].squeeze().cpu().numpy()\n",
        "labels = [i2w[preds[i]] for i in range(len(preds))]\n",
        "\n",
        "pd.DataFrame({'words': text, 'label': labels})"
      ]
    },
    {
      "cell_type": "markdown",
      "metadata": {
        "id": "gZtChrJI8YSW"
      },
      "source": [
        "## Predict combine Label B & I dan generate statement"
      ]
    },
    {
      "cell_type": "markdown",
      "metadata": {
        "id": "W3UcgFlXnIMP"
      },
      "source": [
        "prepros spasi"
      ]
    },
    {
      "cell_type": "markdown",
      "metadata": {
        "id": "UiVTEQzjqyEu"
      },
      "source": [
        "SNA ONM, NER & Statement => awal Q2"
      ]
    },
    {
      "cell_type": "code",
      "execution_count": null,
      "metadata": {
        "id": "Xi5P_zFxnQcv"
      },
      "outputs": [],
      "source": [
        "# text_mentah = \"\"\" Sampai 31 Oktober 2022 jumlah kasus (gagal ginjal akut) ada 304,\n",
        "# dirawat sebanyak 46 kasus, meninggal 159 kasus atau 52 persen,\n",
        "# dan yang sembuh 99 orang, kata Juru Bicara Kemenkes Mohammad Syahril\n",
        "# dalam konferensi pers daring di Jakarta, Selasa (1/11/2022) \"\"\"\n",
        "\n",
        "# text_mentah = 'KOMPAS.com – Pelatih Belanda, Louis van Gaal, mempunyai cara unik untuk mempersiakan diri melawan penyerang lincah, Argentina, Lionel Messi, di 8 besar Piala Dunia 2022. Belanda akan melakoni pertandingan melawan Argentina dalam babak perempat final Piala Dunia 2022. Pertandingan Belanda vs Argentina dalam jadwal Piala Dunia 2022 berlangsung di Stadion Lusail, Doha, Qatar, pada Sabtu (10/12/2022). Belanda bakal mewaspadai pergerakan Lionel Messi saat menghadapi Argentina pada 8 besar Piala Dunia 2022. Louis van Gaal sudah mempunyai cara khusus agar pemain-pemain Belanda terbiasa untuk berhadapan dengan Lionel Messi di lapangan. Baca juga: Prediksi Skor dan Line Up Belanda Vs Argentina di 8 Besar Piala Dunia 2022 Mantan pelatih Manchester United itu menyuruh Noa Lang untuk meniru gaya bermain Messi dalam sesi latihan Belanda. Noa Lang sejauh ini belum pernah tampil bersama Belanda. Ia hanya menjadi penghangat bangku cadangan selama empat laga Piala Dunia 2022. “Dia (Noa Lang) juga berpikir bahwa masuk akal bagi dia untuk menirukan Lionel Messi. Itu hebat,” kata Louis van Gaal seraya tertawa dalam sesi konferensi pers jelang duel Belanda vs Argentina, dikutip dari Voetbal International. Secara profil, Noa Lang yang berpostur 176 cm, barangkali menjadi pemain Belanda yang paling menyerupai Messi (170 cm). Pemain Club Brugge itu juga menonjol dalam aspek dribel. Di lain sisi, dua pemain Belanda, Frenkie de Jong dan Nathan Ake, sempat mengungkapkan kesulitan tim mencari cara menghentikan Messi.'\n",
        "\n",
        "# text_mentah = 'muhammad fahmi pamungkas dan adam santoso pergi ke mall taman anggrek membeli kue bantal di toko teman mereka yang bernama rizki yang punya palang merah indonesia'\n",
        "\n",
        "# text_mentah = \"\"\" JAKARTA, KOMPAS.com - Ketua DPP PDI Perjuangan Puan Maharani menjelaskan maksud dari pidato Megawati Soekarnoputri di acara Hari Ulang Tahun (HUT) ke-50 PDI-P yang menyinggung nasib Presiden Joko Widodo jika tak ada partai banteng. Menurut Puan, Megawati bicara demikian karena dia melihat potensi besar di diri Jokowi. Mega tengah mengibaratkan PDI-P sebagai wadah bagi para kader, termasuk Jokowi, untuk berjuang. \"Jadi ini sebagai wadah. Jadi maksudnya, ayo dong kita sama-sama maju, ayo dong sama-sama kita memberikan bakti kita, atau apa yang bisa kita lakukan untuk bisa membangun bangsa dan negara. Kan diperlukan, it takes two to tango untuk bisa melaksanakan hal itu,\" kata Puan dalam acara Rosi Kompas TV, dikutip Jumat (13/1/2023).Puan mengatakan, sebagai ketua umum PDI-P, Megawati selalu menempatkan diri sebagai ibu bagi kader-kader partai banteng. Dia pun menilai, pernyataan Mega itu wajar diucapkan seorang ketua umum partai. \"Kenapa di acara PDI Perjuangan bicara seperti itu, karena ini acara internal, dianggap semua (kader) itu anak-anaknya,\" ujarnya. Puan mengatakan, Megawati tak bermaksud merendahkan Jokowi dengan mengatakan nasib Jokowi mungkin berbeda jika PDI-P tak ada. Sebaliknya, Ketua DPR RI itu bilang, ibundanya sangat menyayangi dan menghormati Jokowi. \"Kalau tahu, Ibu Mega itu sayang banget sama Pak Jokowi. Dan tentu saja hormat sekali sama Pak Jokowi sebagai presiden,\" kata Puan. Puan lantas menyinggung pidato Megawati beberapa waktu lalu yang menyebut bahwa dia menangis karena Jokowi terus menerus dirundung. Mega bahkan mengaku siap pasang badan, tak apa dia dirundung asalkan bukan bukan Jokowi yang kena bully. Menurut Puan, sikap Megawati itu menunjukkan betapa dia sangat menyayangi dan menghormati Jokowi sebagai adiknya. Bahwa Megawati ingin Jokowi sukses menjalankan tugas-tugasnya sebagai kepala negara. \"Saya baru pertama kali ini mendengar Bu Mega membela seseorang sampai seperti itu,\" ucap Puan. \"Bahkan (Megawati) sampai (mengatakan), nggak papa saya di-bully karena saya mau membela Pak Jokowi. Itu kalau bukan sayang dan hormat apa,\" tuturnya. Sebelumnya, nama Presiden Jokowi berulang kali disinggung oleh Megawati dalam pidatonya di acara Hari Ulang Tahun (HUT) ke-50 PDI-P yang digelar di Jakarta International Expo, Kemayoran, Jakarta Pusat, Selasa (10/1/2023).\"\"\"\n",
        "\n",
        "text_mentah = \"\"\"JAKARTA, KOMPAS.com - Ketua DPP PDI Perjuangan Puan Maharani menjelaskan maksud dari pidato Megawati Soekarnoputri di acara Hari Ulang Tahun (HUT) ke-50 PDI-P yang menyinggung nasib Presiden Joko Widodo jika tak ada partai banteng. Menurut Puan, Megawati bicara demikian karena dia melihat potensi besar di diri Jokowi. Mega tengah mengibaratkan PDI-P sebagai wadah bagi para kader, termasuk Jokowi, untuk berjuang. \"Jadi ini sebagai wadah. Jadi maksudnya, ayo dong kita sama-sama maju, ayo dong sama-sama kita memberikan bakti kita, atau apa yang bisa kita lakukan untuk bisa membangun bangsa dan negara. Kan diperlukan, it takes two to tango untuk bisa melaksanakan hal itu,\" kata Puan dalam acara Rosi Kompas TV, dikutip Jumat (13/1/2023). Puan mengatakan, sebagai ketua umum PDI-P, Megawati selalu menempatkan diri sebagai ibu bagi kader-kader partai banteng. Dia pun menilai, pernyataan Mega itu wajar diucapkan seorang ketua umum partai. \"Kenapa di acara PDI Perjuangan bicara seperti itu, karena ini acara internal, dianggap semua (kader) itu anak-anaknya,\" ujarnya. Puan mengatakan, Megawati tak bermaksud merendahkan Jokowi dengan mengatakan nasib Jokowi mungkin berbeda jika PDI-P tak ada. Sebaliknya, Ketua DPR RI itu bilang, ibundanya sangat menyayangi dan menghormati Jokowi. \"Kalau tahu, Ibu Mega itu sayang banget sama Pak Jokowi. Dan tentu saja hormat sekali sama Pak Jokowi sebagai presiden,\" kata Puan. Puan lantas menyinggung pidato Megawati beberapa waktu lalu yang menyebut bahwa dia menangis karena Jokowi terus menerus dirundung. Mega bahkan mengaku siap pasang badan, tak apa dia dirundung asalkan bukan bukan Jokowi yang kena bully. Menurut Puan, sikap Megawati itu menunjukkan betapa dia sangat menyayangi dan menghormati Jokowi sebagai adiknya. Bahwa Megawati ingin Jokowi sukses menjalankan tugas-tugasnya sebagai kepala negara. \"Saya baru pertama kali ini mendengar Bu Mega membela seseorang sampai seperti itu,\" ucap Puan. \"Bahkan (Megawati) sampai (mengatakan), nggak papa saya di-bully karena saya mau membela Pak Jokowi. Itu kalau bukan sayang dan hormat apa,\" tuturnya. Lagi pula, lanjut Puan, dalam pidatonya Megawati juga sempat memuji Jokowi dengan menyebut bahwa mantan Gubernur DKI Jakarta itu pintar sehingga PDI-P bersedia mengusungnya jadi pemimpin. Oleh karenanya, Puan menegaskan bahwa Megawati tak bermaksud buruk, apalagi menghina Jokowi lewat pidatonya. \"Jadi bukan ada yang rasa yang mau merendahkan atau sepertinya nggak hormat, itu justru kebalikan,\" tutur mantan Menteri Koordinator Bidang Pembangunan Manusia dan Kebudayaan (Menko PMK) itu. Sebelumnya, nama Presiden Jokowi berulang kali disinggung oleh Megawati dalam pidatonya di acara Hari Ulang Tahun (HUT) ke-50 PDI-P yang digelar di Jakarta International Expo, Kemayoran, Jakarta Pusat, Selasa (10/1/2023). Di hadapan ribuan kader yang hadir, Megawati berkelakar, nasib Jokowi tidak akan sama seperti sekarang jika tak ada PDI-P. \"Pak Jokowi itu kayak begitu lho, mentang-mentang. Lah iya, padahal Pak Jokowi kalau enggak ada PDI Perjuangan juga, aduh, kasihan dah,\" kata Megawati sambil tertawa. Seloroh Megawati tersebut disambut tawa para tamu undangan, termasuk Jokowi yang duduk di barisan kursi tamu terdepan. Presiden kelima RI itu bilang, seandainya PDI-P tak memberikan dukungan, maka Jokowi tidak akan jadi presiden seperti sekarang. \"Lho legal formal lho, beliau jadi presiden itu enggak ada kan ini, legal formal diikuti terus sama saya,\" ujarnya. Pernyataan Megawati itu pun memunculkan kritik dari sejumlah kalangan. Putri Soekarno itu bahkan dianggap merendahkan presiden. \"\"\""
      ]
    },
    {
      "cell_type": "code",
      "execution_count": null,
      "metadata": {
        "id": "kfhnbX-3D-vd"
      },
      "outputs": [],
      "source": [
        "df = pd.read_csv('/content/Politik_Indonesia_OnlineMedia_08-Jan-2023_15-Jan-2023_5PZf95F59l.csv', on_bad_lines='skip',\n",
        "                 sep=';')"
      ]
    },
    {
      "cell_type": "code",
      "execution_count": null,
      "metadata": {
        "id": "0qsM-qO6M5Qq"
      },
      "outputs": [],
      "source": [
        "df.head()[['body']]"
      ]
    },
    {
      "cell_type": "code",
      "execution_count": null,
      "metadata": {
        "id": "ON6y_r7LEE9o"
      },
      "outputs": [],
      "source": [
        "df.columns"
      ]
    },
    {
      "cell_type": "code",
      "execution_count": null,
      "metadata": {
        "id": "9po54DHWFI5f"
      },
      "outputs": [],
      "source": [
        "df['body'][4]"
      ]
    },
    {
      "cell_type": "code",
      "execution_count": null,
      "metadata": {
        "id": "Ez9MB-twkAHj"
      },
      "outputs": [],
      "source": [
        "text_mentah = df['body'][4]"
      ]
    },
    {
      "cell_type": "code",
      "execution_count": null,
      "metadata": {
        "id": "kRdYO3KPe7Fs"
      },
      "outputs": [],
      "source": [
        "for i in range(len(hasil)):\n",
        "\n",
        "  # --------------- PERSON -----------------------------\n",
        "  try:\n",
        "    if hasil['label'][i]=='B-PERSON' and hasil['label'][i+1]!='I-PERSON':\n",
        "      print(hasil['words'][i], '=> PERSON')\n",
        "      output[hasil['words'][i]] = 'PERSON'\n",
        "      # if hasil['words'][i]==hasil['words'][i]:\n",
        "      #   pass\n",
        "    else:\n",
        "      pass\n",
        "\n",
        "  except:\n",
        "    if hasil['label'][i]=='B-PERSON' and ((i+1)==len(hasil)):\n",
        "      print(hasil['words'][i], '=> PERSON')\n",
        "      output[hasil['words'][i]] = 'PERSON'\n",
        "    else:\n",
        "      pass\n",
        "\n",
        "  # try:\n",
        "  #   if hasil['label'][i]=='B-PERSON' and hasil['label'][i+1]=='I-PERSON' and hasil['label'][i+2]=='I-PERSON':\n",
        "  #     print(hasil['words'][i],hasil['words'][i+1],hasil['words'][i+2], '=> PERSON')\n",
        "  #     output[hasil['words'][i],hasil['words'][i+1],hasil['words'][i+2]] = 'PERSON'\n",
        "  #   elif hasil['label'][i]=='B-PERSON' and hasil['label'][i+1]=='I-PERSON':\n",
        "  #     print(hasil['words'][i],hasil['words'][i+1], '=> PERSON')\n",
        "  #     output[hasil['words'][i],hasil['words'][i+1]] = 'PERSON'\n",
        "  #   else:\n",
        "  #     pass\n",
        "\n",
        "  # except:\n",
        "  #   pass"
      ]
    },
    {
      "cell_type": "markdown",
      "metadata": {
        "id": "BJ7UAG9kKxTg"
      },
      "source": [
        "## **dibawah gunakan untuk predict ner**"
      ]
    },
    {
      "cell_type": "code",
      "source": [
        "model = pickle.load(open('/content/drive/MyDrive/nolimit/NER/model/model_indobert_new_DO_5_combinedata.pkl', 'rb'))"
      ],
      "metadata": {
        "id": "k5PSTUHzJZYI"
      },
      "execution_count": null,
      "outputs": []
    },
    {
      "cell_type": "code",
      "source": [
        "text_mentah = \"\"\"JAKARTA, KOMPAS.com - Ketua DPP PDI Perjuangan Puan Maharani menjelaskan maksud dari pidato Megawati Soekarnoputri di acara Hari Ulang Tahun (HUT) ke-50 PDI-P yang menyinggung nasib Presiden Joko Widodo jika tak ada partai banteng.\n",
        "\n",
        "Menurut Puan, Megawati bicara demikian karena dia melihat potensi besar di diri Jokowi. Mega tengah mengibaratkan PDI-P sebagai wadah bagi para kader, termasuk Jokowi, untuk berjuang.\n",
        "\n",
        "\"Jadi ini sebagai wadah. Jadi maksudnya, ayo dong kita sama-sama maju, ayo dong sama-sama kita memberikan bakti kita, atau apa yang bisa kita lakukan untuk bisa membangun bangsa dan negara. Kan diperlukan, it takes two to tango untuk bisa melaksanakan hal itu,\" kata Puan dalam acara Rosi Kompas TV, dikutip Jumat (13/1/2023).\n",
        "\n",
        "Puan mengatakan, sebagai ketua umum PDI-P, Megawati selalu menempatkan diri sebagai ibu bagi kader-kader partai banteng. Dia pun menilai, pernyataan Mega itu wajar diucapkan seorang ketua umum partai.\n",
        "\n",
        "\"Kenapa di acara PDI Perjuangan bicara seperti itu, karena ini acara internal, dianggap semua (kader) itu anak-anaknya,\" ujarnya.\n",
        "\n",
        "Puan mengatakan, Megawati tak bermaksud merendahkan Jokowi dengan mengatakan nasib Jokowi mungkin berbeda jika PDI-P tak ada.\n",
        "\n",
        "Sebaliknya, Ketua DPR RI itu bilang, ibundanya sangat menyayangi dan menghormati Jokowi.\n",
        "\n",
        "\"Kalau tahu, Ibu Mega itu sayang banget sama Pak Jokowi. Dan tentu saja hormat sekali sama Pak Jokowi sebagai presiden,\" kata Puan.\n",
        "\n",
        "Puan lantas menyinggung pidato Megawati beberapa waktu lalu yang menyebut bahwa dia menangis karena Jokowi terus menerus dirundung.\n",
        "\n",
        "Mega bahkan mengaku siap pasang badan, tak apa dia dirundung asalkan bukan bukan Jokowi yang kena bully.\n",
        "\n",
        "Menurut Puan, sikap Megawati itu menunjukkan betapa dia sangat menyayangi dan menghormati Jokowi sebagai adiknya. Bahwa Megawati ingin Jokowi sukses menjalankan tugas-tugasnya sebagai kepala negara.\n",
        "\n",
        "\"Saya baru pertama kali ini mendengar Bu Mega membela seseorang sampai seperti itu,\" ucap Puan.\n",
        "\n",
        "\"Bahkan (Megawati) sampai (mengatakan), nggak papa saya di- bully karena saya mau membela Pak Jokowi. Itu kalau bukan sayang dan hormat apa,\" tuturnya.\n",
        "\n",
        "Lagi pula, lanjut Puan, dalam pidatonya Megawati juga sempat memuji Jokowi dengan menyebut bahwa mantan Gubernur DKI Jakarta itu pintar sehingga PDI-P bersedia mengusungnya jadi pemimpin.\n",
        "\n",
        "Oleh karenanya, Puan menegaskan bahwa Megawati tak bermaksud buruk, apalagi menghina Jokowi lewat pidatonya.\n",
        "\n",
        "\"Jadi bukan ada yang rasa yang mau merendahkan atau sepertinya nggak hormat, itu justru kebalikan,\" tutur mantan Menteri Koordinator Bidang Pembangunan Manusia dan Kebudayaan (Menko PMK) itu.\n",
        "\n",
        "Sebelumnya, nama Presiden Jokowi berulang kali disinggung oleh Megawati dalam pidatonya di acara Hari Ulang Tahun (HUT) ke-50 PDI-P yang digelar di Jakarta International Expo, Kemayoran, Jakarta Pusat, Selasa (10/1/2023).\n",
        "\n",
        "Di hadapan ribuan kader yang hadir, Megawati berkelakar, nasib Jokowi tidak akan sama seperti sekarang jika tak ada PDI-P.\n",
        "\n",
        "\"Pak Jokowi itu kayak begitu lho, mentang-mentang. Lah iya, padahal Pak Jokowi kalau enggak ada PDI Perjuangan juga, aduh, kasihan dah,\" kata Megawati sambil tertawa.\n",
        "\n",
        "Seloroh Megawati tersebut disambut tawa para tamu undangan, termasuk Jokowi yang duduk di barisan kursi tamu terdepan.\n",
        "\n",
        "Presiden kelima RI itu bilang, seandainya PDI-P tak memberikan dukungan, maka Jokowi tidak akan jadi presiden seperti sekarang.\n",
        "\n",
        "\"Lho legal formal lho, beliau jadi presiden itu enggak ada kan ini, legal formal diikuti terus sama saya,\" ujarnya.\n",
        "\n",
        "Pernyataan Megawati itu pun memunculkan kritik dari sejumlah kalangan. Putri Soekarno itu bahkan dianggap merendahkan presiden.\"\"\""
      ],
      "metadata": {
        "id": "TRA8rb6_VQ6f"
      },
      "execution_count": null,
      "outputs": []
    },
    {
      "cell_type": "markdown",
      "source": [
        "#### 1"
      ],
      "metadata": {
        "id": "SihgPVJMNHBz"
      }
    },
    {
      "cell_type": "code",
      "source": [
        "# 1\n",
        "\n",
        "# text_mentah = \"\"\"\n",
        "# Jakarta: Menteri Keuangan (Menkeu) Sri Mulyani Indrawati dikabarkan tengah digadang menduduki kursi empuk Gubernur Bank Indonesia (BI). Bendahara Negara itu bersama Gubernur BI Perry Warjiyo, Ketua Dewan Komisioner Lembaga Penjamin Simpanan (LPS) Purbaya Yudhi Sadewa, dan Deputi Gubernur Senior BI Destry Damayanti disebut-sebut masuk ke dalam bursa calon Gubernur BI selanjutnya.\n",
        "\n",
        "# Masa jabatan Perry Warjiyo sebagai Gubernur BI pada tahun ini akan habis pada Mei 2023. Dengan begitu, Presiden Joko Widodo akan mengajukan nama calon baru Gubernur BI kepada Dewan Perwakilan Rakyat (DPR) untuk dilakukan uji kepatutan dan kelayakan.\n",
        "\n",
        "# Lalu, berapakah sebenarnya gaji Gubernur Bank Indonesia sampai-sampai Sri Mulyani kepincut buat duduk jadi orang nomor satu di lembaga negara yang independen tersebut?\n",
        "\n",
        "# Bagaimana tanggapan anda mengenai artikel ini?\n",
        "\n",
        "# Gaji Gubernur Bank Indonesia\n",
        "\n",
        "# Tidak ada satu data resmi dan pasti mengenai gaji Gubernur Bank Indonesia. Namun, berdasarkan hasil penelusuran yang dirangkum Medcom.id dari berbagai sumber, besaran gaji Gubernur Bank Indonesia mencapai lebih dari Rp100 juta per bulan.\n",
        "\n",
        "# Beberapa sumber bahkan menyebutkan besaran gaji Gubernur Bank Indonesia berada di kisaran Rp170 juta hingga Rp200 juta per bulannya.\n",
        "\n",
        "# Fantastis memang, namun jumlah tersebut sebanding dengan beratnya tugas yang diemban Gubernur Bank Indonesia. Diantaranya menetapkan dan melaksanakan kebijakan moneter secara berkelanjutan, konsisten, dan transparan.\n",
        "\n",
        "# Selanjutnya, mengatur dan menjaga kelancaran sistem pembayaran. Serta, menetapkan dan melaksanakan kebijakan makroprudensial.\n",
        "\n",
        "# Gaji menteri\n",
        "\n",
        "# Sementara itu, gaji menteri diatur dalam Peraturan Pemerintah Republik Indonesia Nomor 75 Tahun 2000. Dalam beleid itu disebutkan bahwa gaji seorang menteri di Indonesia sebesar Rp5,04 juta per bulan.\n",
        "\n",
        "# Eits, tunggu dulu. Jumlah uang yang diterima seorang menteri dalam sebulannya bukan cuma gaji tok. Ada juga tunjangan jabatan menteri sebesar Rp13,608 juta per bulan. Artinya, seorang menteri dalam sebulannya mendapatkan total sebanyak Rp18,648 juta.\n",
        "\n",
        "# Selain tunjangan kinerja, menteri negara juga mendapatkan fasilitas dan tunjangan lain untuk jabatan tertinggi pejabat negara. Dalam Peraturan Menteri Keuangan (PMK) Nomor 176/PMK.02/2015, menteri juga mendapatkan kendaraan dinas, rumah jabatan, dan jaminan kesehatan.\n",
        "\n",
        "# Gimana sobat Medcom? Bikin ngiler ya gaji seorang menteri dan Gubernur Bank Indonesia.\n",
        "# \"\"\""
      ],
      "metadata": {
        "id": "0f5AXFyv4awE"
      },
      "execution_count": null,
      "outputs": []
    },
    {
      "cell_type": "code",
      "source": [
        "text_mentah"
      ],
      "metadata": {
        "colab": {
          "base_uri": "https://localhost:8080/"
        },
        "id": "K0-4TBJ0Ov8Z",
        "outputId": "04637721-77f0-4f00-eec8-ece8d3dbd6d9"
      },
      "execution_count": null,
      "outputs": [
        {
          "output_type": "execute_result",
          "data": {
            "text/plain": [
              "'JAKARTA, KOMPAS.com - Ketua DPP PDI Perjuangan Puan Maharani menjelaskan maksud dari pidato Megawati Soekarnoputri di acara Hari Ulang Tahun (HUT) ke-50 PDI-P yang menyinggung nasib Presiden Joko Widodo jika tak ada partai banteng.\\n\\nMenurut Puan, Megawati bicara demikian karena dia melihat potensi besar di diri Jokowi. Mega tengah mengibaratkan PDI-P sebagai wadah bagi para kader, termasuk Jokowi, untuk berjuang.\\n\\n\"Jadi ini sebagai wadah. Jadi maksudnya, ayo dong kita sama-sama maju, ayo dong sama-sama kita memberikan bakti kita, atau apa yang bisa kita lakukan untuk bisa membangun bangsa dan negara. Kan diperlukan, it takes two to tango untuk bisa melaksanakan hal itu,\" kata Puan dalam acara Rosi Kompas TV, dikutip Jumat (13/1/2023).\\n\\nPuan mengatakan, sebagai ketua umum PDI-P, Megawati selalu menempatkan diri sebagai ibu bagi kader-kader partai banteng. Dia pun menilai, pernyataan Mega itu wajar diucapkan seorang ketua umum partai.\\n\\n\"Kenapa di acara PDI Perjuangan bicara seperti itu, karena ini acara internal, dianggap semua (kader) itu anak-anaknya,\" ujarnya.\\n\\nPuan mengatakan, Megawati tak bermaksud merendahkan Jokowi dengan mengatakan nasib Jokowi mungkin berbeda jika PDI-P tak ada.\\n\\nSebaliknya, Ketua DPR RI itu bilang, ibundanya sangat menyayangi dan menghormati Jokowi.\\n\\n\"Kalau tahu, Ibu Mega itu sayang banget sama Pak Jokowi. Dan tentu saja hormat sekali sama Pak Jokowi sebagai presiden,\" kata Puan.\\n\\nPuan lantas menyinggung pidato Megawati beberapa waktu lalu yang menyebut bahwa dia menangis karena Jokowi terus menerus dirundung.\\n\\nMega bahkan mengaku siap pasang badan, tak apa dia dirundung asalkan bukan bukan Jokowi yang kena bully.\\n\\nMenurut Puan, sikap Megawati itu menunjukkan betapa dia sangat menyayangi dan menghormati Jokowi sebagai adiknya. Bahwa Megawati ingin Jokowi sukses menjalankan tugas-tugasnya sebagai kepala negara.\\n\\n\"Saya baru pertama kali ini mendengar Bu Mega membela seseorang sampai seperti itu,\" ucap Puan.\\n\\n\"Bahkan (Megawati) sampai (mengatakan), nggak papa saya di- bully karena saya mau membela Pak Jokowi. Itu kalau bukan sayang dan hormat apa,\" tuturnya.\\n\\nLagi pula, lanjut Puan, dalam pidatonya Megawati juga sempat memuji Jokowi dengan menyebut bahwa mantan Gubernur DKI Jakarta itu pintar sehingga PDI-P bersedia mengusungnya jadi pemimpin.\\n\\nOleh karenanya, Puan menegaskan bahwa Megawati tak bermaksud buruk, apalagi menghina Jokowi lewat pidatonya.\\n\\n\"Jadi bukan ada yang rasa yang mau merendahkan atau sepertinya nggak hormat, itu justru kebalikan,\" tutur mantan Menteri Koordinator Bidang Pembangunan Manusia dan Kebudayaan (Menko PMK) itu.\\n\\nSebelumnya, nama Presiden Jokowi berulang kali disinggung oleh Megawati dalam pidatonya di acara Hari Ulang Tahun (HUT) ke-50 PDI-P yang digelar di Jakarta International Expo, Kemayoran, Jakarta Pusat, Selasa (10/1/2023).\\n\\nDi hadapan ribuan kader yang hadir, Megawati berkelakar, nasib Jokowi tidak akan sama seperti sekarang jika tak ada PDI-P.\\n\\n\"Pak Jokowi itu kayak begitu lho, mentang-mentang. Lah iya, padahal Pak Jokowi kalau enggak ada PDI Perjuangan juga, aduh, kasihan dah,\" kata Megawati sambil tertawa.\\n\\nSeloroh Megawati tersebut disambut tawa para tamu undangan, termasuk Jokowi yang duduk di barisan kursi tamu terdepan.\\n\\nPresiden kelima RI itu bilang, seandainya PDI-P tak memberikan dukungan, maka Jokowi tidak akan jadi presiden seperti sekarang.\\n\\n\"Lho legal formal lho, beliau jadi presiden itu enggak ada kan ini, legal formal diikuti terus sama saya,\" ujarnya.\\n\\nPernyataan Megawati itu pun memunculkan kritik dari sejumlah kalangan. Putri Soekarno itu bahkan dianggap merendahkan presiden.'"
            ],
            "application/vnd.google.colaboratory.intrinsic+json": {
              "type": "string"
            }
          },
          "metadata": {},
          "execution_count": 36
        }
      ]
    },
    {
      "cell_type": "markdown",
      "source": [
        "#### 2"
      ],
      "metadata": {
        "id": "J5QJRm8lNKlp"
      }
    },
    {
      "cell_type": "code",
      "source": [
        "# 2\n",
        "\n",
        "# text_mentah = \"\"\"JAKARTA, KOMPAS.com - Ketua DPP PDI Perjuangan Puan Maharani menjelaskan maksud dari pidato Megawati Soekarnoputri di acara Hari Ulang Tahun (HUT) ke-50 PDI-P yang menyinggung nasib Presiden Joko Widodo jika tak ada partai banteng.\n",
        "\n",
        "# Menurut Puan, Megawati bicara demikian karena dia melihat potensi besar di diri Jokowi. Mega tengah mengibaratkan PDI-P sebagai wadah bagi para kader, termasuk Jokowi, untuk berjuang.\n",
        "\n",
        "# \"Jadi ini sebagai wadah. Jadi maksudnya, ayo dong kita sama-sama maju, ayo dong sama-sama kita memberikan bakti kita, atau apa yang bisa kita lakukan untuk bisa membangun bangsa dan negara. Kan diperlukan, it takes two to tango untuk bisa melaksanakan hal itu,\" kata Puan dalam acara Rosi Kompas TV, dikutip Jumat (13/1/2023).\n",
        "\n",
        "# Puan mengatakan, sebagai ketua umum PDI-P, Megawati selalu menempatkan diri sebagai ibu bagi kader-kader partai banteng. Dia pun menilai, pernyataan Mega itu wajar diucapkan seorang ketua umum partai.\n",
        "\n",
        "# \"Kenapa di acara PDI Perjuangan bicara seperti itu, karena ini acara internal, dianggap semua (kader) itu anak-anaknya,\" ujarnya.\n",
        "\n",
        "# Puan mengatakan, Megawati tak bermaksud merendahkan Jokowi dengan mengatakan nasib Jokowi mungkin berbeda jika PDI-P tak ada.\n",
        "\n",
        "# Sebaliknya, Ketua DPR RI itu bilang, ibundanya sangat menyayangi dan menghormati Jokowi.\n",
        "\n",
        "# \"Kalau tahu, Ibu Mega itu sayang banget sama Pak Jokowi. Dan tentu saja hormat sekali sama Pak Jokowi sebagai presiden,\" kata Puan.\n",
        "\n",
        "# Puan lantas menyinggung pidato Megawati beberapa waktu lalu yang menyebut bahwa dia menangis karena Jokowi terus menerus dirundung.\n",
        "\n",
        "# Mega bahkan mengaku siap pasang badan, tak apa dia dirundung asalkan bukan bukan Jokowi yang kena bully.\n",
        "\n",
        "# Menurut Puan, sikap Megawati itu menunjukkan betapa dia sangat menyayangi dan menghormati Jokowi sebagai adiknya. Bahwa Megawati ingin Jokowi sukses menjalankan tugas-tugasnya sebagai kepala negara.\n",
        "\n",
        "# \"Saya baru pertama kali ini mendengar Bu Mega membela seseorang sampai seperti itu,\" ucap Puan.\n",
        "\n",
        "# \"Bahkan (Megawati) sampai (mengatakan), nggak papa saya di- bully karena saya mau membela Pak Jokowi. Itu kalau bukan sayang dan hormat apa,\" tuturnya.\n",
        "\n",
        "# Lagi pula, lanjut Puan, dalam pidatonya Megawati juga sempat memuji Jokowi dengan menyebut bahwa mantan Gubernur DKI Jakarta itu pintar sehingga PDI-P bersedia mengusungnya jadi pemimpin.\n",
        "\n",
        "# Oleh karenanya, Puan menegaskan bahwa Megawati tak bermaksud buruk, apalagi menghina Jokowi lewat pidatonya.\n",
        "\n",
        "# \"Jadi bukan ada yang rasa yang mau merendahkan atau sepertinya nggak hormat, itu justru kebalikan,\" tutur mantan Menteri Koordinator Bidang Pembangunan Manusia dan Kebudayaan (Menko PMK) itu.\n",
        "\n",
        "# Sebelumnya, nama Presiden Jokowi berulang kali disinggung oleh Megawati dalam pidatonya di acara Hari Ulang Tahun (HUT) ke-50 PDI-P yang digelar di Jakarta International Expo, Kemayoran, Jakarta Pusat, Selasa (10/1/2023).\n",
        "\n",
        "# Di hadapan ribuan kader yang hadir, Megawati berkelakar, nasib Jokowi tidak akan sama seperti sekarang jika tak ada PDI-P.\n",
        "\n",
        "# \"Pak Jokowi itu kayak begitu lho, mentang-mentang. Lah iya, padahal Pak Jokowi kalau enggak ada PDI Perjuangan juga, aduh, kasihan dah,\" kata Megawati sambil tertawa.\n",
        "\n",
        "# Seloroh Megawati tersebut disambut tawa para tamu undangan, termasuk Jokowi yang duduk di barisan kursi tamu terdepan.\n",
        "\n",
        "# Presiden kelima RI itu bilang, seandainya PDI-P tak memberikan dukungan, maka Jokowi tidak akan jadi presiden seperti sekarang.\n",
        "\n",
        "# \"Lho legal formal lho, beliau jadi presiden itu enggak ada kan ini, legal formal diikuti terus sama saya,\" ujarnya.\n",
        "\n",
        "# Pernyataan Megawati itu pun memunculkan kritik dari sejumlah kalangan. Putri Soekarno itu bahkan dianggap merendahkan presiden.\"\"\""
      ],
      "metadata": {
        "id": "VGguTZtq3swo"
      },
      "execution_count": null,
      "outputs": []
    },
    {
      "cell_type": "markdown",
      "source": [
        "#### 3"
      ],
      "metadata": {
        "id": "d4UK4ydLNMlv"
      }
    },
    {
      "cell_type": "code",
      "source": [
        "# 32\n",
        "\n",
        "# text_mentah = \"\"\"REPUBLIKA.CO.ID, JAKARTA -- Presiden Joko Widodo (Jokowi) menyebut akan kembali menghentikan ekspor bahan mineral pada tahun ini. Setelah nikel dan bauksit, Jokowi akan menghentikan ekspor tembaga pada tahun ini.\n",
        "\n",
        "# \"Saya sudah sampaikan lagi bauksit di Desember kemarin bauksit stop bulan Juni. Nanti sekali lagi mau saya umumkan lagi tembaga stop tahun ini. Stop,\" kata Jokowi di Mandiri Investment Forum, Jakarta, Rabu (1/2/2023).\n",
        "\n",
        "# Jokowi menjelaskan, keputusannya untuk menghentikan ekspor tembaga tersebut mempertimbangkan pembangunan smelter milik PT Freeport Indonesia di NTB yang sudah lebih dari 51 persen jadi. Ia pun kembali menegaskan, mayoritas saham PT Freeport saat ini sudah menjadi milik Indonesia.\n",
        "\n",
        "# \"Karena saya cek kemarin smelternya Freeport dan smelter yang ada di NTB sudah lebih dari 50 persen jadi. Freeport itu sudah lebih 51 persen jadi. Jadi berani kita stop, dan supaya ingat Freeport itu sudah mayoritas milik kita. Jadi jangan terbayang-bayang lagi Freeport itu masih miliknya Amerika. Sudah mayoritas kita miliki,\" jelas Jokowi.\n",
        "\n",
        "# Menurutnya, larangan ekspor bahan mineral mentah ini bisa memberikan nilai tambah kepada negara. Ia mencontohkan larangan bauksit. Selama ini, ekspor bahan mentah bauksit Indonesia masuk dalam tiga besar dunia. Namun ekspor hasil produksi barang hilirisasi justru masih sedikit.\n",
        "\n",
        "# \"Tapi ekspor alumunium kita nomor 33. Mentahnya nomor tiga kok. Barang setengah jadi barang jadinya di 33. Apalagi ekspor panel surya kita nomor 31. Padahal bahannya ada di sini dan kalau dikerjakan panel surya itu nilai tambahnya sampai 194 kali,\" ujarnya.\n",
        "\n",
        "# Jokowi mengatakan, selama ini Indonesia terlalu nyaman untuk mengekspor bahan mentah mineral. Ia pun meminta agar Indonesia bisa mencontoh Cina.\n",
        "\n",
        "# \"RRT China ekspornya nomor 18. Tapi ekspor panel suryanya nomor 1 di dunia. Terus barangnya ini dari mana? Barang mentahnya dari mana? 80 persen lebih dari kita,\" kata dia.\n",
        "\n",
        "# Untuk meningkatkan nilai tambah dari hilirisasi, Jokowi menekankan agar upaya ini konsisten terus dilakukan. Meskipun menghadapi gugatan, ia menegaskan agar para menterinya tak mundur melanjutkan proses hilirisasi yang sudah dibangun.\n",
        "\n",
        "# \"Ya ini semuanya harus konsisten dan harus dikawal. Kalau tidak kita mundur lagi ke belakang. Karena ini memang konsistensi dan... karena kalau engga kita balik lagi ke ekspor bahan mentah dan ga dapet nilai tambah sampai kapanpun,\" jelasnya.\n",
        "\n",
        "# Selain memberikan nilai tambah, hilirasi minerba dan migas juga bisa membuka lapangan kerja baru di Indonesia. Upaya ini dinilainya akan memberikan lompatan bagi Indonesia untuk menjadi negara maju.\n",
        "\n",
        "# \"Proyeksi dampak hilirisasi minerba dan migas itu akan menambah PDB kita sebesar 699 dolar AS dan lapangan kerja yang akan terbuka di angka 8,8 juta. Ini sebuah dampak yang sangat besar sekali. Membuka lapangan kerja yang sebesar-besarnya,\" jelasnya.\"\"\""
      ],
      "metadata": {
        "id": "0nsfv9CH-bBf"
      },
      "execution_count": null,
      "outputs": []
    },
    {
      "cell_type": "markdown",
      "source": [
        "#### 4"
      ],
      "metadata": {
        "id": "zq5lBjNTNNTy"
      }
    },
    {
      "cell_type": "code",
      "source": [
        "# # 4\n",
        "\n",
        "# text_mentah = \"\"\"\n",
        "# Jakarta, CNN Indonesia --\n",
        "\n",
        "# Badai pemutusan hubungan kerja (PHK) di e-commerce masih berlanjut imbas ekonomi lesu. Tak hanya PHK, e-commerce JD.ID bahkan harus gulung tikar di awal tahun ini.\n",
        "\n",
        "# JD.ID merupakan perusahaan patungan e-commerce China JD.com dan Provident Capital. Marketplace ini resmi menutup layanan belanja online mereka per 31 Maret 2023, dan melayani pesanan terakhir pada 15 Februari 2023.\n",
        "\n",
        "# Sebelum mengumumkan akan menutup layanannya, JD.ID menutup cabang logistiknya JDL Express Indonesia per 22 Januari 2023. Perusahaan juga melakukan PHK secara bertahap.\n",
        "\n",
        "# Pada Desember 2022, JD.ID melakukan PHK kepada 30 persen atau 200 karyawannya. Langkah PHK ini bukan yang pertama. Perusahaan juga mengambil langkah serupa pada Mei di tahun yang sama.\n",
        "\n",
        "# Selain JD.ID, PT Shopee Indonesia juga memangkas jumlah karyawannya pada September tahun lalu.\n",
        "\n",
        "# Head of Public Affairs Shopee Indonesia Radynal Nataprawira menjelaskan PHK merupakan langkah terakhir yang harus ditempuh perusahaannya sebagai efisiensi, setelah sebelumnya melakukan penyesuaian melalui beberapa perubahan kebijakan bisnis.\n",
        "\n",
        "# Senada, PHK juga dilakukan PT Goto Gojek Tokopedia Tbk atau GoTo terhadap 12 persen dari total karyawannya atau sebanyak 1.300 orang.\n",
        "\n",
        "# PHK dilakukan agar perusahaan lebih agile atau lincah dan bisa menjaga tingkat pertumbuhan, sehingga terus memberikan dampak positif bagi jutaan konsumen, mitra pengemudi, dan pedagang.\n",
        "\n",
        "# Menanggapi gempuran PHK yang terus terjadi di perusahaan e-commerce, Peneliti Center of Economic and Law Studies (Celios) Muhammad Andri Perdana mengatakan pendanaan yang seret menjadi alasan kuat mengapa para e-commerce goyah.\n",
        "\n",
        "# Andri menegaskan investor sudah semakin selektif dan kini beralih ke instrumen investasi yang lebih aman ketimbang harus menyuntikkan dana ke e-commerce. Dengan alasan itu, Andri melihat promo e-commerce saat ini sangat terbatas.\n",
        "\n",
        "# \"Di saat pertumbuhan e-commerce meredup, sedangkan return obligasi negara, seperti US Treasury meningkat padahal tingkat resikonya jauh lebih rendah, maka sekarang e-commerce kesulitan mendapatkan dana segar dari investor. Mau mendapatkan pendanaan dari bank pun juga mahal karena suku bunga ikut meningkat,\" jelasnya kepada CNNIndonesia.com, Rabu (1/2).\n",
        "\n",
        "# Selain masalah pendanaan, minimnya promo dan persaingan antar e-commerce juga menjadi penyebab runtuhnya satu per satu bisnis belanja online tersebut.\n",
        "\n",
        "# Andri menilai meningkatnya mobilitas masyarakat setelah pencabutan pemberlakuan pembatasan kegiatan masyarakat (PPKM) di seluruh wilayah Indonesia pada akhir Desember 2022.\n",
        "\n",
        "# Menurutnya, banyak konsumen yang akhirnya kembali berbelanja di toko konvensional ketimbang check out di e-commerce. Apalagi, semenjak suntikan dana terhadap e-commerce seret, para marketplace tersebut kini minim promo.\n",
        "\n",
        "# Ia menilai daya beli masyarakat juga belum pulih sepenuhnya karena inflasi tidak dibarengi kenaikan pendapatan rumah tangga.\n",
        "\n",
        "# Kondisi ini pada akhirnya membuat masyarakat lebih memilih pilihan yang lebih ekonomis dengan belanja di toko konvensional, meninggalkan e-commerce. Terlebih, Andri menilai sekarang e-commerce semakin dituntut untuk mengurangi kerugian.\n",
        "\n",
        "# \"Sehingga sekarang banyak e-commerce menambah biaya admin dan potongan penjualan kepada penjual. Biaya ini biasanya oleh penjual akan dibebankan ke pembeli yang membuat harga-harga di e-commerce semakin tidak ekonomis bagi pembeli,\" jelasnya.\n",
        "\n",
        "# Terkait persaingan e-commerce yang semakin ketat. Ia menilai hadirnya social commerce seperti TikTok Shop yang viral belakangan ini dengan istilah \"keranjang kuning\", juga menjadi pesaing marketplace.\n",
        "\n",
        "# Ia menjelaskan pasar e-commerce Indonesia banyak beririsan dengan platform media sosial. Namun, platform media sosial seperti Facebook hingga TikTok terus berinovasi menghadirkan layanan belanja online milik mereka masing-masing.\n",
        "\n",
        "# Oleh karena itu, Andri menyarankan e-commerce mengambil langkah tepat dalam menjaga pasar. Tujuannya agar para pengguna tetap menggunakan platform belanja online mereka.\n",
        "\n",
        "# \"Seperti memberikan insentif bagi penyebar link produk di sosial media atau bahkan memperkuat positioning mereka pada segmen-segmen yang menjadi target sehingga pengguna sosial media tetap mengandalkan e-commerce tersebut untuk membeli barang,\" tandasnya.\n",
        "\n",
        "# Di lain sisi, Direktur Indonesia Development and Islamic Studies (IDEAS) Yusuf Wibisono menyoroti secara khusus soal badai PHK di industri startup, termasuk e-commerce. Ia memproyeksi PHK di industri digital masih berpeluang besar berlanjut di tahun ini.\n",
        "\n",
        "# Bagi perusahaan mapan, Yusuf menilai kemunduran usaha mereka banyak disebabkan aksi over ekspansi di masa pandemi. Memang permintaan terhadap produk dan jasa digital melonjak drastis pada saat itu, sehingga banyak perusahaan digital merekrut tenaga kerja secara besar-besaran.\n",
        "\n",
        "# Sayang, seiring dengan penghapusan berbagai pembatasan sosial selepas pandemi membuat permintaan terhadap produk dan jasa digital menurun. Pada akhirnya PHK e-commerce tidak bisa dihindari.\n",
        "\n",
        "# Sementara itu, Yusuf merinci tiga faktor PHK di startup digital yang banyak mengandalkan pembiayaan non-bank. Pertama, model bisnis yang tidak solid. Kedua, persaingan yang semakin keras. Ketiga, dukungan pendanaan yang melemah seiring pengetatan moneter dunia dan berakhirnya era suku bunga rendah.\n",
        "\n",
        "# Ia juga menyinggung soal fenomena 'bakar uang' di dunia startup. Menurutnya, strategi tersebut jika tidak kunjung menghasilkan revenue dan profit memadai hanya akan berujung terhentinya kucuran dana dari investor.\n",
        "\n",
        "# \"Akibatnya startup banyak yang mulai berhenti melakukan strategi 'bakar uang' untuk akuisisi konsumen, melakukan efisiensi seperti PHK karyawan, bahkan tidak sedikit yang mengalami kebangkrutan,\" jelasnya.\n",
        "\n",
        "# Yusuf menegaskan bahwa persaingan memperebutkan pasar semakin keras dan akuisisi konsumen tidak lagi bisa hanya mengandalkan promo dan diskon. Sementara penyedia dana tidak lagi memiliki keleluasaan seiring kenaikan suku bunga dan likuiditas yang semakin ketat.\n",
        "# \"\"\""
      ],
      "metadata": {
        "id": "ocq6eSArKtoQ"
      },
      "execution_count": null,
      "outputs": []
    },
    {
      "cell_type": "markdown",
      "source": [
        "#### 5"
      ],
      "metadata": {
        "id": "sT0riWZSNOMv"
      }
    },
    {
      "cell_type": "code",
      "source": [
        "# # 5\n",
        "\n",
        "# text_mentah = \"\"\"\n",
        "# Medan, CNN Indonesia --\n",
        "\n",
        "# Gubernur Jawa Barat yang juga politikus Golkar Ridwan Kamil membagikan sepeda kepada warga saat berkunjung ke Medan, Sumatera Utara, Rabu (1/2).\n",
        "\n",
        "# Momen itu terjadi saat sosialisasi kredit bjb Mesra (Masyarakat Ekonomi Sejahtera) Pemprov Jawa Barat. Sosialisasi dilakukan di Lapangan Benteng Medan.\n",
        "\n",
        "# Momen bagi-bagi sepeda diawali dengan pertanyaan yang dilontarkan Kang Emil.\n",
        "\n",
        "# \"Sebutkan nama lima kota di Jawa Barat,\" kata Kang Emil.\n",
        "\n",
        "# Beberapa warga langsung berebut mengangkat tangan untuk menjawab. Mereka yang dipilih lalu maju ke depan dan menjawab pertanyaan dari Kang Emil.\n",
        "\n",
        "# Mereka yang menjawab dengan benar diberikan sepeda oleh Kang Emil. Mirip cara Presiden Jokowi di berbagai momen saat bertemu warga.\n",
        "\n",
        "# \"Jadi sabar, pasti dapat, tapi porsi untuk ibu ibu lebih banyak,\" ungkapnya disambut tepuk tangan meriah.\n",
        "\n",
        "# Dalam kesempatan itu, Kang Emil sempat berinteraksi dengan warga Medan. Pidatonya pun diselingi dengan guyonan sehingga memancing gelak tawa.\n",
        "\n",
        "# Dia mengatakan kini pedagang kecil tak lagi terjerat rentenir jika mengajukan kredit bjb Mesra. Kondisi tersebut juga membuat kepala daerah senang karena warganya terbantu.\n",
        "\n",
        "# \"Kalau rakyat senang pemimpin juga senang, jadi memang satu hati dengan rakyat,\" ucapnya.\n",
        "\n",
        "# Ridwan Kamil menyatakan kredit bjb Mesra merupakan program bersama antara Pemerintah Provinsi Jawa Barat bersama bjb.\n",
        "\n",
        "# Tujuannya membantu masyarakat agar terhindar pinjol (pinjaman online) dan terhindar dari jeratan rentenir.\n",
        "\n",
        "# Menurutnya. banyak ibu rumah tangga di Jawa Barat yang sudah terbebas dari rentenir dengan memanfaatkan Kredit bjb Mesra. Kredit ini merupakan kredit tanpa agunan dengan nilai kredit Rp 500 ribu sampai Rp 5 juta.\n",
        "# \"\"\""
      ],
      "metadata": {
        "id": "aUKq2EznLO5h"
      },
      "execution_count": null,
      "outputs": []
    },
    {
      "cell_type": "markdown",
      "source": [
        "#### 6"
      ],
      "metadata": {
        "id": "BUakw9ZdNPeJ"
      }
    },
    {
      "cell_type": "code",
      "source": [
        "# # 6\n",
        "\n",
        "# text_mentah = \"\"\"\n",
        "# Jakarta, CNN Indonesia --\n",
        "\n",
        "# Anggota Komisi VII DPR RI dari Fraksi PKS Mulyanto meminta agar Presiden Joko Widodo mencopot dan mengganti Kepala Badan Riset dan Inovasi Nasional (BRIN) Laksana Tri Handoko. Ia menilai Laksana gagal dalam mengkonsolidasikan baik lembaga, SDM, maupun anggaran BRIN.\n",
        "\n",
        "# Mulyanto berpendapat selama kepemimpinan Laksana, muncul berbagai kejadian kurang baik terkait BRIN. Desakan Mulyanto sejalan dengan Komisi VII DPR yang mendesak pemerintah untuk segera mengganti Laksana. Hal itu merupakan kesimpulan rapat dengar pendapat dengan Kepala BRIN pada Senin (30/1) lalu.\n",
        "\n",
        "# \"Saya menganggap pimpinan BRIN yang ada sekarang ini tidak dapat mengkonsolidasikan lembaga-lembaga di bawah kewenangannya. Karena itu saya mengusulkan agar pimpinan BRIN sekarang diganti saja,\" kata Mulyanto dikutip dari situs resmi PKS, Rabu (1/2).\n",
        "\n",
        "# Mulyanto selanjutnya menyebut kapasitas impelementasi program dalam tubuh BRIN sangat lemah dan tidak implementatif, sehingga muncul beberapa kasus terkait BRIN. Ia kemudian menyinggung salah satu kejadian yang sempat menghebohkan masyarakat yang menurutnya disebabkan tidak rapinya koordinasi di BRIN.\n",
        "\n",
        "# Salah satu peneliti BRIN akhir tahun lalu sempat memprediksi akan ada potensi banjir besar yang akan melanda di wilayah Jabodetabek khususnya Tangerang, Banten akibat curah hujan ekstrem dan badai dahsyat pada 28 Desember 2022.\n",
        "\n",
        "# Wilayah Banten yang diperkirakan akan terdampak di antaranya Cilegon, Serang, Pandeglang, Rangkasbitung, dan Tangerang. Prakiraan BRIN tersebut berdasarkan analisis data Satellite Early Warning System (Sadewa)\n",
        "\n",
        "# Mulyanto lantas menyoroti prediksi itu sempat menimbulkan kehebohan masyarakat Banten. Menurutnya, ketika muncul indikasi awal akan terjadi badai besar, salah satu peneliti BRIN itu seharusnya melakukan koordinasi dan validasi data langsung sebelum menyampaikan pernyataan sehingga tidak membuat warga panik.\n",
        "\n",
        "# \"Apa kewenangannya? walaupun saya tahu BRIN melakukan study early warning system dengan bantuan Jerman. Data-data itu kuat. Tapi yang berhak menyampaikan ke publik itu BMKG,\" ujar Mulyanto.\n",
        "\n",
        "# \"Sekarang kita dikejutkan lagi, seorang periset memberikan segepok data APBN yang bersifat rahasia, detil, kepada wartawan. Itu apakah terkendali atau tidak dokumen seperti itu,\" imbuhnya.\n",
        "\n",
        "# Lebih lanut, Mulyanto mengaku tak heran apabila Badan Pemeriksa Keuangan (BPK) menemukan persoalan anggaran infrastruktur 2022 di BRIN, pun dengan yang Ombudsman menemukan berbagai persoalan terkait SDM.\n",
        "\n",
        "# \"Jadi cita-cita ingin mengkonsolidasikan, mengintegrasikan lembaga riset tidak terjadi. Yang bisa dilakukan kepala BRIN saat ini hanya menggabungkan status kelembagaan saja. Di dalamnya konsolidasi anggaran, program, tidak jalan,\" tegas Mulyanto.\n",
        "\n",
        "# \"Anggaran BRIN yang kita harapkan menjadi Rp24 triliun, adanya kurang lebih hanya Rp6 sampai Rp7 triliun. Padahal semua lembaga sudah melebur,\" imbuhnya.\n",
        "\n",
        "# Komisi VII DPR sebelumnya mendesak pemerintah untuk segera mengganti Kepala BRIN Laksana Tri Handoko. Desakan itu merupakan kesimpulan rapat dengar pendapat dengan Kepala BRIN yang dipimpin Ketua Komisi VII DPR Sugeng Suparwoto dari Fraksi Partai NasDem pada Senin (30/1).\n",
        "\n",
        "# Komisi VII DPR Juga merekomendasikan agar dilakukan audit khusus terhadap penggunaan anggaran BRIN tahun 2022 oleh BPK. Sementara itu, Laksana Tri Handoko enggan menanggapi desakan mundur dari Komisi VII DPR.\n",
        "\n",
        "# \"Saya enggak ada tanggapan kalau mengenai itu, entar aja,\" ujar Handoko di kantor BRIN Thamrin, Jakarta Pusat, Senin (31/1).\n",
        "\n",
        "# Keterangan tersebut diberikan Handoko usai dirinya merampungkan rapat di kantornya pada pukul 18.50 WIB. Handoko saat itu juga tidak menjelaskan rapat apa yang tengah dibahas olehnya.\n",
        "# \"\"\""
      ],
      "metadata": {
        "id": "CQl3zArmLVoG"
      },
      "execution_count": null,
      "outputs": []
    },
    {
      "cell_type": "markdown",
      "source": [
        "#### 7"
      ],
      "metadata": {
        "id": "5BTm_6s2NQQB"
      }
    },
    {
      "cell_type": "code",
      "source": [
        "# # 7\n",
        "\n",
        "# text_mentah = \"\"\"\n",
        "# Harianjogja.com, JOGJA —Sebanyak 85 orang karyawan Trans Jogja yang bertugas diselter terkena pemutusan hubungan kerja (PHK) sejak awal 2023. Mereka mengadu ke DPRD DIY dengan harapan dapat dipekerjakan kembali, Rabu (1/2/2023).\n",
        "\n",
        "# Koordinator Paguyuban Karyawan Selter Trans Jogja Yandi Rustanto menjelaskan sebanyak 85 pekerja Trans Jogja diberhentikan secara sepihak tanpa ada pemberitahuan dan surat resmi. PHK itu diberlakukan sejak 1 Januari 2023 lalu dengan secara tiba-tiba tidak diberikan jadwal oleh pihak Trans Jogja. Mereka adalah pekerja outsourcing yang sebagian besar telah bekerja antara 10 sampai 15 tahun dengan usia layak kerja.\n",
        "\n",
        "# : PHK Buruh, Perusahaan Operator Bus Trans Jogja Digugat\n",
        "\n",
        "# “Kami tahunya kalau di-PHK itu di jadwal kerja tidak keluar kalau biasanya kan ada jadwal siapa saja yang jaga, ini tidak muncul nama dan tanpa pemberitahuan sebelumnya. Menurut kami tanpa tranparansi,” katanya kepada wartawan saat beraudiensi di DPRD DIY, Rabu (1/2/2023).\n",
        "\n",
        "# Kelompoknya sudah memberikan surat kepada Gubernur DIY dengan tembusan ke DPRD DIY atas PHK sepihak yang dilakukan Trans Jogja. Ia berharap melalui komunikasi dengan DPRD DIY puluhan orang yang rata-rata bertugas sebagai penjaga selter itu bisa dipekerjakana kembali. Mengingat mereka adalah tulang punggung untuk mencukupi kebutuhan keluarga.\n",
        "\n",
        "# “Biasanya setiap akhir tahun diperpanjang tetapi kalau tidak diperpanjang itu diberitahu misalnya karena performa kerjanya tidak bagus atau dari usia sudah tidak memenuhi. Ini tidak ada pemberitahuan sama sekali, tidak dikaruhke sama sekali,” katanya.\n",
        "\n",
        "# Ketua Komisi C DPRD DIY Gimmy Rusdin Sinaga yang menerima para mantan karyawan Trans Jogja akan mengupayakan mediasi dengan pihak PT Anindya Mitra International selaku pengelola Trans Jogja. “Karena keputusan sepenuhnya berada di Pemda DIY dan PT AMI tentu kami akan mencoba untuk mengkomunikasikan sesuai keinginan mereka, agar kalau bisa dipekerjakan kembali,” ujarnya.\n",
        "\n",
        "# Direktur PT AMI Dyah Puspitasari saat dimintai konfirmasi menegaskan pemberitahuan tentang pemberhentian petugas selter itu telah dilakukan jauh hari sebelumnya. Langkah itu ditempuh bersama Dinas Perhubungan DIY karena keterbatasan anggaran operasional untuk petugas selter. Menurutnya pengurangan karyawan itu dilakukan telah sesuai prosedur sesuai ketentuan berlaku termasuk batas usia 40 tahun.\n",
        "\n",
        "# “Selain itu sebenarnya kami masih memberikan kesempatan untuk bekerja kembali tetapi sebagai pramugara yang di dalam bus, bukan di selter,” katanya.\n",
        "# \"\"\""
      ],
      "metadata": {
        "id": "3XcZ_Dg6LcoI"
      },
      "execution_count": null,
      "outputs": []
    },
    {
      "cell_type": "markdown",
      "source": [
        "#### 8"
      ],
      "metadata": {
        "id": "lKTtqvlyNRC_"
      }
    },
    {
      "cell_type": "code",
      "source": [
        "# # 8\n",
        "\n",
        "# text_mentah = \"\"\"\n",
        "# RADARDEPOK.COM - Rumah Sakit Umum Alia Hospital siap memberikan vaksinasi Covid-19 dosis keempat atau booster kedua untuk masyarakat.\n",
        "\n",
        "# Lokasinya di Alia Hospital Jakarta Timur dan Alia Hospital Depok. \"Tentunya, kami mendukung program Pemerintah dalam\n",
        "# bidang kesehatan salah satunya vaksinasi Covid-19. Terkait target, tentunya kami ingin sebanyak-banyaknya sesuai dengan kuota dari Pemerintah,\" ujar Managing Director Alia\n",
        "# Hospital, Bina Ratna, Kamis (2/2).\n",
        "\n",
        "# Bina Ratna mengatakan, Alia Hospital berawal dari RSIA Bunda Aliyah Jakarta Timur yang berdiri tahun 2008. Memiliki layanan unggulan Neonatus Care Unit (NICU) dan High Risk Maternity Center (Fetomaternal).\n",
        "\n",
        "# Sehingga, menjadi salah satu rumah sakit rujukan dan menjadi satelit RSCM. Menurutnya, di tahun 2018 mendirikan RSIA Bunda Aliyah Depok sebagai rumah sakit kedua. Dikatakannya, saat didirikan memiliki jumlah tempat tidur NICU terbesar di Kota Depok.\n",
        "\n",
        "# Saat ini, seluruh rumah sakit tersebut telah berubah status menjadi Rumah Sakit Umum dengan penambahan jumlah kamar perawatan dan kelengkapan pusat unggulan yang disediakan. Yakni Kidney Center, Digestive Center, Cataract Center dan lainnya.\n",
        "\n",
        "# \"Jadi kami tidak hanya menyediakan layanan ibu dan anak, pelayanan medis untuk semuanya termasuk laki-laki. Terlebih saat ini kedua rumah sakit kami, telah mendapatkan Akreditasi dari KARS dengan tingkat Paripurna atas mutu dan layanannya,\" beber dia.\n",
        "\n",
        "# Menteri Kesehatan, Budi Gunadi Sadikin pada acara Anniversary ke-15 Alia Hospital mengapresiasi serta mengucapkan selamat kepada Alia Hospital karena telah melakukan\n",
        "# pengembangan rumah sakitnya. Terutama, soal layanan High Risk Maternity dan NICU -nya, layanan khusus bagi bayi yang lahir premature.\n",
        "\n",
        "# Menurutnya, tercatat setiap 25 ribu setiap tahun bayi meninggal dunia disebabkan kelahiran premature dan 25 % penyakit jantung bawaan. \"Pada waktu mendatang terkait pengurangan angka kematian bayi premature Kemenkes memiliki program,\" katanya.\n",
        "# \"\"\""
      ],
      "metadata": {
        "id": "Uuq5z-BuLl_p"
      },
      "execution_count": null,
      "outputs": []
    },
    {
      "cell_type": "markdown",
      "source": [
        "#### 9"
      ],
      "metadata": {
        "id": "nGNaNtBmNR-g"
      }
    },
    {
      "cell_type": "code",
      "source": [
        "# # 9\n",
        "\n",
        "# text_mentah = \"\"\"\n",
        "# ASKARA – Badan Akuntabilitas Publik Dewan Perwakilan Daerah membahas pentingnya implementasi integrasi data secara real time dalam persoalan Kepesertaan Badan Penyelenggara Jaminan Sosial/ Jaminan Kesehatan Nasional (BPJS/JKN) dengan Direktur BPJS/JKN, Kemendagri, dan Kemensos.\n",
        "\n",
        "# Pada kesempatan itu, Dirjen Dukcapil Kemendagri Prof. Dr. Zudan Arif Fakrulloh, S.H. menyampaikan upaya Kemendagri dalam mendukung masalah penganggaran dan mendorong agar pemda dapat menyelesaikannya.\n",
        "\n",
        "# “Terkait data, Kemendagri juga mendukung penyediaan data Data Terpadu Kesejahteraan Sosial (DTKS), dan BPJS kami harapkan bisa segera melakukan update secara real time,” ujar Dirjen Zudan di Gedung DPD RI Kompleks Parlemen Senayan Jakarta, Rabu (1/2).\n",
        "\n",
        "# Kemendagri, lanjutnya, mendorong pelayanan proaktif jemput bola, agar segera terlaporkan jika ada perubahan. Kami juga mengharapkan penduduk yang datanya berubah untuk aktif melakukan perubahan data kependudukan.\n",
        "\n",
        "# “Karena kami sifatnya menerima laporan dan merubah data jika ada permintaan meski sekarang kami sudah jemput bola,\" tuturnya.\n",
        "\n",
        "# Ketua BAP DPD RI Ajiep Padindang menyatakan, BAP DPD RI menemukan beberapa permasalahan dalam implementasi BPJS/JKN sekarang ini, antara lain belum sinkronnya data antara dinas sosial dengan BPJS Kesehatan, pemutakhiran data base dan BPJS yang menjadi beban terhadap APBD, serta proses pelayanan BPJS.\n",
        "\n",
        "# \"Data base kepesertaan program JKN seharusnya diintegrasikan dengan data milik kementerian sosial, kemendagri, secara real time dan valid sehingga kemanfaatannya dapat dirasakan baik oleh daerah dan masyarakat,\" ujar Ajiep Padindang bersama Wakil Ketua BAP DPD RI Bambang Sutrisno, Mirati Dewaningsih, dan Arniza Nilawati pada rapat tersebut.\n",
        "\n",
        "# Lebih lanjut Ajiep menerangkan meskipun jumlah kepesertaannya tinggi, namun BPJS Kesehatan sebagai pengelola program JKN-KIS pernah mengalami defisit pembiayaan sebesar 7,95 triliun rupiah pada tahun 2018, defisit 51 triliun rupiah pada tahun 2019, dan defisit sebesar 5,69 triliun rupiah pada tahun 2020 yang dapat mengancam keberlanjutan program.\n",
        "\n",
        "# Pada tanggal 1 Januari 2021, pemerintah telah menaikkan iuran JKN-KIS pada semua kelas tetapi upaya ini masih belum dapat mengatasi persoalan defisit dengan optimal.\n",
        "\n",
        "# \"BAP DPD RI juga mendorong adanya sinergi dan sinkronisasi data yang kuat antara DPD RI dengan Kementerian Sosial, Kementerian Dalam Negeri dan Kementerian Kesehatan dalam menangani berbagai isu terkait kepesertaan BPJS Kesehatan,\" terangnya.\n",
        "\n",
        "# Lanjutnya, selama ini sistem data base kepesertaan Program JKN juga belum mampu merespon dinamika perubahan kependudukan secara real time. Selain permasalahan data kepesertaan, hingga saat ini pemerintah belum mencapai target Universal Health Coverage (UHC) sebagai bagian dari Sustainable Development Goals (SDGs) 3.8, yaitu “Mencapai UHC, termasuk proteksi risiko keuangan, akses pada layanan kesehatan dasar yang berkualitas, serta akses pada obat dan vaksin yang aman, efektif, berkualitas dan terjangkau bagi semua orang”.\n",
        "\n",
        "# \"Hal ini disebabkan karena BPJS Kesehatan belum melakukan upaya yang optimal dalam melakukan koordinasi dengan instansi terkait, antara lain untuk memastikan agar pemberi kerja melaporkan dan mendaftarkan tenaga kerjanya menjadi peserta Program JKN,\" ucap anggota DPD RI asal Sulawesi Selatan ini.\n",
        "\n",
        "# Menanggapi itu, Direktur Kepesertaan BPJS Kesehatan David Bangun menjelaskan bahwa sampai dengan 1 Januari 2023 peserta JKN-KIS mencapai 249.660.154 jiwa. Data kepesertaan yang dikelola menggunakan NIK sebagai patokan data dan untuk memastikan tidak ada data ganda. Menurutnya data yang diterima adalah dari data kependudukan dan catatan sipil serta mekanismenya disinkronisasi secara web service dan web portal.\n",
        "\n",
        "# \"Ke depan melalui sinkronisasi data tidak ada delay informasi dan delay update data, sehingga iuran secara data real lebih valid, kami juga mengembangkan kanal layanan administrasi kepesertaan, informasi pengaduan baik secara tatap muka melalui kantor cabang, mobile CS, Mal Pelayanan Publik dan BPJS Satu. Selain itu pelayanan kami juga bisa diakses di Mobile JKN, BPJS Care Center, Pandawa dan website BPJS Kesehatan,\" jelas David Bangun.\n",
        "\n",
        "# Terkait Iuran Program JKN, David Bangun memaparkan bahwa BPJS telah melakukan sesuai Peraturan Presiden No 64 Tahun 2020 dan Instruksi Presiden No. 1 Tahun 2022 Tentang Optimalisasi Pelaksanaan Program Jaminan Kesehatan Nasional.\n",
        "# \"\"\""
      ],
      "metadata": {
        "id": "r5Q5SPbuLsDh"
      },
      "execution_count": null,
      "outputs": []
    },
    {
      "cell_type": "markdown",
      "source": [
        "#### 10"
      ],
      "metadata": {
        "id": "G8DJseeeNSue"
      }
    },
    {
      "cell_type": "code",
      "source": [
        "# # 10\n",
        "\n",
        "# text_mentah = \"\"\"\n",
        "# KONTAN.CO.ID - JAKARTA. PT Golden Energy Mines Tbk (GEMS) mengincar volume penjualan 40-41 juta ton batubara di tahun 2023. Sekretaris Perusahaan GEMS, Sudin Sudiman mengatakan, sebanyak 65%-67% dari target penjualan tersebut dialokasikan untuk pasar ekspor.\n",
        "\n",
        "# “Pangsa pasar Gems masih sama dengan tahun lalu, yang utama China, India Dan ASEAN,” tutur Sudin kepada Kontan.co.id, Rabu (1/2).\n",
        "\n",
        "# Secara konsolidasi, GEMS sudah mengantongi restu dari Kementerian Energi dan Sumber Daya Mineral (ESDM) untuk memproduksi 40,3 juta ton batubara berdasarkan Rencana Kerja dan Anggaran Belanja (RKAB). Secara terperinci, rencana produksi konsolidasi tersebut berasal dari rencana produksi Borneo Indobara (BIB) 36 juta ton, Bara Sentosa Lestari (BSL) 2 juta ton, dan PT Kuansing Inti Makmut (KIM) 2,3 juta ton.\n",
        "\n",
        "# Sebanyak 0,9 juta ton dari target penjualan 40-41 juta ton lainnya direncanakan direalisasi lewat skema perdagangan/trading. GEMS optimistis, prospek pasar ekspor batubara di tahun 2023 masih baik.\n",
        "\n",
        "# “Prospek pasar ekspor masih bagus di 2023 meskipun harga sedikit menurun di kuartal I,” tutur Sudin.\n",
        "\n",
        "# Belum ketahuan seperti apa realisasi produksi dan penjualan GEMS di tahun 2022. Sepanjang Januari-September 2022 lalu, GEMS telah membukukan penjualan 28,3 juta ton batubara. Jumlah tersebut naik 24% dibanding realisasi volume penjualan Januari-September 2021 yang berjumlah 22,9 juta ton.\n",
        "\n",
        "# Seturut kenaikan volume, GEMS membukukan pendapatan US$ 2,06 miliar di Januari-September 2022, melesat 95,18% dibanding pendapatan GEMS di periode Januari-September 2021 yang sebesar US$ 1,05 miliar.\n",
        "\n",
        "# Dari hasil pendapatan itu, GEMS mengantongi laba periode berjalan yang dapat diatribusikan kepada pemilik entitas induk alias laba bersih sebesar US$ 472,87 juta di Januari-September 2022. Jumlah tersebut naik 140,62% dibanding realisasi laba bersih Januari-September 2021 yang sebesar US$ 196,52 juta.\n",
        "# \"\"\""
      ],
      "metadata": {
        "id": "vvmeU_D0L0GK"
      },
      "execution_count": null,
      "outputs": []
    },
    {
      "cell_type": "markdown",
      "source": [
        "## Predict Class"
      ],
      "metadata": {
        "id": "nQi-0Kl3qUzo"
      }
    },
    {
      "cell_type": "code",
      "source": [
        "new_text = re.sub(r\".*- \", \"\", text_mentah)\n",
        "# print(new_text)\n",
        "\n",
        "sentences = []\n",
        "start = 0\n",
        "for match in re.finditer(r'\\n', new_text):\n",
        "    end = match.start()\n",
        "    sentences.append(new_text[start:end])\n",
        "    start = match.end()\n",
        "\n",
        "# add the last sentence\n",
        "sentences.append(new_text[start:])\n",
        "sentences.remove(sentences[-1])\n",
        "print(sentences)\n",
        "print(len(sentences))"
      ],
      "metadata": {
        "colab": {
          "base_uri": "https://localhost:8080/"
        },
        "id": "K_AnVT1hys1z",
        "outputId": "ba9b9b21-b754-415a-f7f4-d3a4d99cca8d"
      },
      "execution_count": null,
      "outputs": [
        {
          "output_type": "stream",
          "name": "stdout",
          "text": [
            "['Ketua DPP PDI Perjuangan Puan Maharani menjelaskan maksud dari pidato Megawati Soekarnoputri di acara Hari Ulang Tahun (HUT) ke-50 PDI-P yang menyinggung nasib Presiden Joko Widodo jika tak ada partai banteng.', '', 'Menurut Puan, Megawati bicara demikian karena dia melihat potensi besar di diri Jokowi. Mega tengah mengibaratkan PDI-P sebagai wadah bagi para kader, termasuk Jokowi, untuk berjuang.', '', '\"Jadi ini sebagai wadah. Jadi maksudnya, ayo dong kita sama-sama maju, ayo dong sama-sama kita memberikan bakti kita, atau apa yang bisa kita lakukan untuk bisa membangun bangsa dan negara. Kan diperlukan, it takes two to tango untuk bisa melaksanakan hal itu,\" kata Puan dalam acara Rosi Kompas TV, dikutip Jumat (13/1/2023).', '', 'Puan mengatakan, sebagai ketua umum PDI-P, Megawati selalu menempatkan diri sebagai ibu bagi kader-kader partai banteng. Dia pun menilai, pernyataan Mega itu wajar diucapkan seorang ketua umum partai.', '', '\"Kenapa di acara PDI Perjuangan bicara seperti itu, karena ini acara internal, dianggap semua (kader) itu anak-anaknya,\" ujarnya.', '', 'Puan mengatakan, Megawati tak bermaksud merendahkan Jokowi dengan mengatakan nasib Jokowi mungkin berbeda jika PDI-P tak ada.', '', 'Sebaliknya, Ketua DPR RI itu bilang, ibundanya sangat menyayangi dan menghormati Jokowi.', '', '\"Kalau tahu, Ibu Mega itu sayang banget sama Pak Jokowi. Dan tentu saja hormat sekali sama Pak Jokowi sebagai presiden,\" kata Puan.', '', 'Puan lantas menyinggung pidato Megawati beberapa waktu lalu yang menyebut bahwa dia menangis karena Jokowi terus menerus dirundung.', '', 'Mega bahkan mengaku siap pasang badan, tak apa dia dirundung asalkan bukan bukan Jokowi yang kena bully.', '', 'Menurut Puan, sikap Megawati itu menunjukkan betapa dia sangat menyayangi dan menghormati Jokowi sebagai adiknya. Bahwa Megawati ingin Jokowi sukses menjalankan tugas-tugasnya sebagai kepala negara.', '', '\"Saya baru pertama kali ini mendengar Bu Mega membela seseorang sampai seperti itu,\" ucap Puan.', '', 'bully karena saya mau membela Pak Jokowi. Itu kalau bukan sayang dan hormat apa,\" tuturnya.', '', 'Lagi pula, lanjut Puan, dalam pidatonya Megawati juga sempat memuji Jokowi dengan menyebut bahwa mantan Gubernur DKI Jakarta itu pintar sehingga PDI-P bersedia mengusungnya jadi pemimpin.', '', 'Oleh karenanya, Puan menegaskan bahwa Megawati tak bermaksud buruk, apalagi menghina Jokowi lewat pidatonya.', '', '\"Jadi bukan ada yang rasa yang mau merendahkan atau sepertinya nggak hormat, itu justru kebalikan,\" tutur mantan Menteri Koordinator Bidang Pembangunan Manusia dan Kebudayaan (Menko PMK) itu.', '', 'Sebelumnya, nama Presiden Jokowi berulang kali disinggung oleh Megawati dalam pidatonya di acara Hari Ulang Tahun (HUT) ke-50 PDI-P yang digelar di Jakarta International Expo, Kemayoran, Jakarta Pusat, Selasa (10/1/2023).', '', 'Di hadapan ribuan kader yang hadir, Megawati berkelakar, nasib Jokowi tidak akan sama seperti sekarang jika tak ada PDI-P.', '', '\"Pak Jokowi itu kayak begitu lho, mentang-mentang. Lah iya, padahal Pak Jokowi kalau enggak ada PDI Perjuangan juga, aduh, kasihan dah,\" kata Megawati sambil tertawa.', '', 'Seloroh Megawati tersebut disambut tawa para tamu undangan, termasuk Jokowi yang duduk di barisan kursi tamu terdepan.', '', 'Presiden kelima RI itu bilang, seandainya PDI-P tak memberikan dukungan, maka Jokowi tidak akan jadi presiden seperti sekarang.', '', '\"Lho legal formal lho, beliau jadi presiden itu enggak ada kan ini, legal formal diikuti terus sama saya,\" ujarnya.', '']\n",
            "44\n"
          ]
        }
      ]
    },
    {
      "cell_type": "code",
      "source": [
        "sentences"
      ],
      "metadata": {
        "colab": {
          "base_uri": "https://localhost:8080/"
        },
        "id": "eO0umo08y8lG",
        "outputId": "df8fa534-aed1-41c7-ec8a-47df750c7ed4"
      },
      "execution_count": null,
      "outputs": [
        {
          "output_type": "execute_result",
          "data": {
            "text/plain": [
              "['Ketua DPP PDI Perjuangan Puan Maharani menjelaskan maksud dari pidato Megawati Soekarnoputri di acara Hari Ulang Tahun (HUT) ke-50 PDI-P yang menyinggung nasib Presiden Joko Widodo jika tak ada partai banteng.',\n",
              " '',\n",
              " 'Menurut Puan, Megawati bicara demikian karena dia melihat potensi besar di diri Jokowi. Mega tengah mengibaratkan PDI-P sebagai wadah bagi para kader, termasuk Jokowi, untuk berjuang.',\n",
              " '',\n",
              " '\"Jadi ini sebagai wadah. Jadi maksudnya, ayo dong kita sama-sama maju, ayo dong sama-sama kita memberikan bakti kita, atau apa yang bisa kita lakukan untuk bisa membangun bangsa dan negara. Kan diperlukan, it takes two to tango untuk bisa melaksanakan hal itu,\" kata Puan dalam acara Rosi Kompas TV, dikutip Jumat (13/1/2023).',\n",
              " '',\n",
              " 'Puan mengatakan, sebagai ketua umum PDI-P, Megawati selalu menempatkan diri sebagai ibu bagi kader-kader partai banteng. Dia pun menilai, pernyataan Mega itu wajar diucapkan seorang ketua umum partai.',\n",
              " '',\n",
              " '\"Kenapa di acara PDI Perjuangan bicara seperti itu, karena ini acara internal, dianggap semua (kader) itu anak-anaknya,\" ujarnya.',\n",
              " '',\n",
              " 'Puan mengatakan, Megawati tak bermaksud merendahkan Jokowi dengan mengatakan nasib Jokowi mungkin berbeda jika PDI-P tak ada.',\n",
              " '',\n",
              " 'Sebaliknya, Ketua DPR RI itu bilang, ibundanya sangat menyayangi dan menghormati Jokowi.',\n",
              " '',\n",
              " '\"Kalau tahu, Ibu Mega itu sayang banget sama Pak Jokowi. Dan tentu saja hormat sekali sama Pak Jokowi sebagai presiden,\" kata Puan.',\n",
              " '',\n",
              " 'Puan lantas menyinggung pidato Megawati beberapa waktu lalu yang menyebut bahwa dia menangis karena Jokowi terus menerus dirundung.',\n",
              " '',\n",
              " 'Mega bahkan mengaku siap pasang badan, tak apa dia dirundung asalkan bukan bukan Jokowi yang kena bully.',\n",
              " '',\n",
              " 'Menurut Puan, sikap Megawati itu menunjukkan betapa dia sangat menyayangi dan menghormati Jokowi sebagai adiknya. Bahwa Megawati ingin Jokowi sukses menjalankan tugas-tugasnya sebagai kepala negara.',\n",
              " '',\n",
              " '\"Saya baru pertama kali ini mendengar Bu Mega membela seseorang sampai seperti itu,\" ucap Puan.',\n",
              " '',\n",
              " 'bully karena saya mau membela Pak Jokowi. Itu kalau bukan sayang dan hormat apa,\" tuturnya.',\n",
              " '',\n",
              " 'Lagi pula, lanjut Puan, dalam pidatonya Megawati juga sempat memuji Jokowi dengan menyebut bahwa mantan Gubernur DKI Jakarta itu pintar sehingga PDI-P bersedia mengusungnya jadi pemimpin.',\n",
              " '',\n",
              " 'Oleh karenanya, Puan menegaskan bahwa Megawati tak bermaksud buruk, apalagi menghina Jokowi lewat pidatonya.',\n",
              " '',\n",
              " '\"Jadi bukan ada yang rasa yang mau merendahkan atau sepertinya nggak hormat, itu justru kebalikan,\" tutur mantan Menteri Koordinator Bidang Pembangunan Manusia dan Kebudayaan (Menko PMK) itu.',\n",
              " '',\n",
              " 'Sebelumnya, nama Presiden Jokowi berulang kali disinggung oleh Megawati dalam pidatonya di acara Hari Ulang Tahun (HUT) ke-50 PDI-P yang digelar di Jakarta International Expo, Kemayoran, Jakarta Pusat, Selasa (10/1/2023).',\n",
              " '',\n",
              " 'Di hadapan ribuan kader yang hadir, Megawati berkelakar, nasib Jokowi tidak akan sama seperti sekarang jika tak ada PDI-P.',\n",
              " '',\n",
              " '\"Pak Jokowi itu kayak begitu lho, mentang-mentang. Lah iya, padahal Pak Jokowi kalau enggak ada PDI Perjuangan juga, aduh, kasihan dah,\" kata Megawati sambil tertawa.',\n",
              " '',\n",
              " 'Seloroh Megawati tersebut disambut tawa para tamu undangan, termasuk Jokowi yang duduk di barisan kursi tamu terdepan.',\n",
              " '',\n",
              " 'Presiden kelima RI itu bilang, seandainya PDI-P tak memberikan dukungan, maka Jokowi tidak akan jadi presiden seperti sekarang.',\n",
              " '',\n",
              " '\"Lho legal formal lho, beliau jadi presiden itu enggak ada kan ini, legal formal diikuti terus sama saya,\" ujarnya.',\n",
              " '']"
            ]
          },
          "metadata": {},
          "execution_count": 47
        }
      ]
    },
    {
      "cell_type": "code",
      "source": [
        "# text = text_cleaning(sentences[0], True)\n",
        "# text = word_tokenize(text)\n",
        "# subwords, subword_to_word_indices = word_subword_tokenize(text, tokenizer)\n",
        "\n",
        "# subwords = torch.LongTensor(subwords).view(1, -1).to(model.device)\n",
        "# subword_to_word_indices = torch.LongTensor(subword_to_word_indices).view(1, -1).to(model.device)\n",
        "# logits = model(subwords, subword_to_word_indices)[0]\n",
        "\n",
        "# preds = torch.topk(logits, k=1, dim=-1)[1].squeeze().cpu().numpy()\n",
        "# labels = [i2w[preds[i]] for i in range(len(preds))]\n",
        "\n",
        "# hasil1 = pd.DataFrame({'words': text, 'label': labels})\n",
        "# # hasil1"
      ],
      "metadata": {
        "id": "nW8UFbeZzOzY"
      },
      "execution_count": null,
      "outputs": []
    },
    {
      "cell_type": "code",
      "source": [
        "# per paragraf predict\n",
        "\n",
        "hasil = {\"words\":[],\n",
        "         \"label\":[]\n",
        "         }\n",
        "\n",
        "for i in sentences:\n",
        "\n",
        "  text = text_cleaning(i, True)\n",
        "  text = word_tokenize(text)\n",
        "  subwords, subword_to_word_indices = word_subword_tokenize(text, tokenizer)\n",
        "\n",
        "  subwords = torch.LongTensor(subwords).view(1, -1).to(model.device)\n",
        "  subword_to_word_indices = torch.LongTensor(subword_to_word_indices).view(1, -1).to(model.device)\n",
        "\n",
        "  try:\n",
        "    logits = model(subwords, subword_to_word_indices)[0]\n",
        "\n",
        "    preds = torch.topk(logits, k=1, dim=-1)[1].squeeze().cpu().numpy()\n",
        "    labels = [i2w[preds[i]] for i in range(len(preds))]\n",
        "\n",
        "    hasil[\"words\"].append(text)\n",
        "    hasil['label'].append(labels)\n",
        "    # hasil = pd.DataFrame({'words': text, 'label': labels})\n",
        "\n",
        "    hasil_full = pd.DataFrame(hasil)\n",
        "\n",
        "  except:\n",
        "    pass\n",
        "\n",
        "word = [item for sublist in hasil_full['words'].tolist() for item in sublist]\n",
        "label = [item for sublist in hasil_full['label'].tolist() for item in sublist]\n",
        "\n",
        "hasil = pd.DataFrame({'words': word, 'label': label})"
      ],
      "metadata": {
        "id": "yB01nGCZzBvx"
      },
      "execution_count": null,
      "outputs": []
    },
    {
      "cell_type": "code",
      "source": [
        "hasil_full"
      ],
      "metadata": {
        "colab": {
          "base_uri": "https://localhost:8080/",
          "height": 739
        },
        "id": "Ji61vDbT0tzK",
        "outputId": "1152d868-8dbb-4dcf-df85-b57110b7f028"
      },
      "execution_count": null,
      "outputs": [
        {
          "output_type": "execute_result",
          "data": {
            "text/plain": [
              "                                                words  \\\n",
              "0   [ketua, dpp, pdi, perjuangan, puan, maharani, ...   \n",
              "1   [puan, megawati, bicara, potensi, jokowi, mega...   \n",
              "2   [wadah, maksudnya, ayo, maju, ayo, bakti, laku...   \n",
              "3   [puan, ketua, pdi, p, megawati, menempatkan, k...   \n",
              "4   [acara, pdi, perjuangan, bicara, acara, intern...   \n",
              "5   [puan, megawati, merendahkan, jokowi, nasib, j...   \n",
              "6   [ketua, dpr, ri, bilang, ibundanya, menyayangi...   \n",
              "7   [mega, sayang, banget, jokowi, hormat, jokowi,...   \n",
              "8   [puan, lantas, menyinggung, pidato, megawati, ...   \n",
              "9   [mega, mengaku, pasang, badan, dirundung, joko...   \n",
              "10  [puan, sikap, megawati, betapa, menyayangi, me...   \n",
              "11         [kali, mendengar, bu, mega, membela, puan]   \n",
              "12           [bully, membela, jokowi, sayang, hormat]   \n",
              "13  [puan, pidatonya, megawati, memuji, jokowi, me...   \n",
              "14  [puan, megawati, buruk, menghina, jokowi, pida...   \n",
              "15  [merendahkan, nggak, hormat, kebalikan, mantan...   \n",
              "16  [nama, presiden, jokowi, berulang, kali, disin...   \n",
              "17  [hadapan, ribuan, kader, hadir, megawati, berk...   \n",
              "18  [jokowi, kayak, lho, mentang, mentang, iya, jo...   \n",
              "19  [seloroh, megawati, disambut, tawa, tamu, unda...   \n",
              "20  [presiden, ri, bilang, seandainya, pdi, p, duk...   \n",
              "21  [lho, legal, formal, lho, beliau, presiden, le...   \n",
              "\n",
              "                                                label  \n",
              "0   [O, O, B-ORGANISATION, O, B-PERSON, I-PERSON, ...  \n",
              "1   [B-PERSON, I-PERSON, O, O, B-PERSON, O, O, O, ...  \n",
              "2   [O, O, O, O, O, O, O, O, O, O, O, O, O, O, O, ...  \n",
              "3   [B-PERSON, O, B-ORGANISATION, O, B-PERSON, O, ...  \n",
              "4   [O, B-ORGANISATION, I-ORGANISATION, O, O, O, O...  \n",
              "5           [B-PERSON, I-PERSON, O, O, O, O, O, O, O]  \n",
              "6   [O, B-ORGANISATION, I-ORGANISATION, O, O, O, O...  \n",
              "7                            [O, O, O, O, O, O, O, O]  \n",
              "8   [B-PERSON, I-PERSON, O, O, B-PERSON, O, O, B-P...  \n",
              "9              [B-PERSON, O, O, O, O, B-PERSON, O, O]  \n",
              "10  [O, O, B-PERSON, O, O, O, B-PERSON, O, B-PERSO...  \n",
              "11            [O, O, B-PERSON, I-PERSON, O, B-PERSON]  \n",
              "12                                    [O, O, O, O, O]  \n",
              "13  [O, O, B-PERSON, O, O, O, O, O, B-PLACE, I-PLA...  \n",
              "14            [B-PERSON, I-PERSON, O, O, B-PERSON, O]  \n",
              "15            [O, O, O, O, O, O, O, O, O, O, O, O, O]  \n",
              "16  [O, O, O, O, O, O, B-PERSON, O, O, O, O, O, O,...  \n",
              "17              [O, O, O, O, B-PERSON, O, O, O, O, O]  \n",
              "18  [O, O, O, O, O, O, O, O, O, O, O, O, B-PERSON, O]  \n",
              "19  [B-PERSON, B-PERSON, O, O, O, O, B-PERSON, O, ...  \n",
              "20                        [O, O, O, O, O, O, O, O, O]  \n",
              "21                        [O, O, O, O, O, O, O, O, O]  "
            ],
            "text/html": [
              "\n",
              "  <div id=\"df-aa7ede3e-10fa-4dce-9fc5-efc65a8a9ef7\">\n",
              "    <div class=\"colab-df-container\">\n",
              "      <div>\n",
              "<style scoped>\n",
              "    .dataframe tbody tr th:only-of-type {\n",
              "        vertical-align: middle;\n",
              "    }\n",
              "\n",
              "    .dataframe tbody tr th {\n",
              "        vertical-align: top;\n",
              "    }\n",
              "\n",
              "    .dataframe thead th {\n",
              "        text-align: right;\n",
              "    }\n",
              "</style>\n",
              "<table border=\"1\" class=\"dataframe\">\n",
              "  <thead>\n",
              "    <tr style=\"text-align: right;\">\n",
              "      <th></th>\n",
              "      <th>words</th>\n",
              "      <th>label</th>\n",
              "    </tr>\n",
              "  </thead>\n",
              "  <tbody>\n",
              "    <tr>\n",
              "      <th>0</th>\n",
              "      <td>[ketua, dpp, pdi, perjuangan, puan, maharani, ...</td>\n",
              "      <td>[O, O, B-ORGANISATION, O, B-PERSON, I-PERSON, ...</td>\n",
              "    </tr>\n",
              "    <tr>\n",
              "      <th>1</th>\n",
              "      <td>[puan, megawati, bicara, potensi, jokowi, mega...</td>\n",
              "      <td>[B-PERSON, I-PERSON, O, O, B-PERSON, O, O, O, ...</td>\n",
              "    </tr>\n",
              "    <tr>\n",
              "      <th>2</th>\n",
              "      <td>[wadah, maksudnya, ayo, maju, ayo, bakti, laku...</td>\n",
              "      <td>[O, O, O, O, O, O, O, O, O, O, O, O, O, O, O, ...</td>\n",
              "    </tr>\n",
              "    <tr>\n",
              "      <th>3</th>\n",
              "      <td>[puan, ketua, pdi, p, megawati, menempatkan, k...</td>\n",
              "      <td>[B-PERSON, O, B-ORGANISATION, O, B-PERSON, O, ...</td>\n",
              "    </tr>\n",
              "    <tr>\n",
              "      <th>4</th>\n",
              "      <td>[acara, pdi, perjuangan, bicara, acara, intern...</td>\n",
              "      <td>[O, B-ORGANISATION, I-ORGANISATION, O, O, O, O...</td>\n",
              "    </tr>\n",
              "    <tr>\n",
              "      <th>5</th>\n",
              "      <td>[puan, megawati, merendahkan, jokowi, nasib, j...</td>\n",
              "      <td>[B-PERSON, I-PERSON, O, O, O, O, O, O, O]</td>\n",
              "    </tr>\n",
              "    <tr>\n",
              "      <th>6</th>\n",
              "      <td>[ketua, dpr, ri, bilang, ibundanya, menyayangi...</td>\n",
              "      <td>[O, B-ORGANISATION, I-ORGANISATION, O, O, O, O...</td>\n",
              "    </tr>\n",
              "    <tr>\n",
              "      <th>7</th>\n",
              "      <td>[mega, sayang, banget, jokowi, hormat, jokowi,...</td>\n",
              "      <td>[O, O, O, O, O, O, O, O]</td>\n",
              "    </tr>\n",
              "    <tr>\n",
              "      <th>8</th>\n",
              "      <td>[puan, lantas, menyinggung, pidato, megawati, ...</td>\n",
              "      <td>[B-PERSON, I-PERSON, O, O, B-PERSON, O, O, B-P...</td>\n",
              "    </tr>\n",
              "    <tr>\n",
              "      <th>9</th>\n",
              "      <td>[mega, mengaku, pasang, badan, dirundung, joko...</td>\n",
              "      <td>[B-PERSON, O, O, O, O, B-PERSON, O, O]</td>\n",
              "    </tr>\n",
              "    <tr>\n",
              "      <th>10</th>\n",
              "      <td>[puan, sikap, megawati, betapa, menyayangi, me...</td>\n",
              "      <td>[O, O, B-PERSON, O, O, O, B-PERSON, O, B-PERSO...</td>\n",
              "    </tr>\n",
              "    <tr>\n",
              "      <th>11</th>\n",
              "      <td>[kali, mendengar, bu, mega, membela, puan]</td>\n",
              "      <td>[O, O, B-PERSON, I-PERSON, O, B-PERSON]</td>\n",
              "    </tr>\n",
              "    <tr>\n",
              "      <th>12</th>\n",
              "      <td>[bully, membela, jokowi, sayang, hormat]</td>\n",
              "      <td>[O, O, O, O, O]</td>\n",
              "    </tr>\n",
              "    <tr>\n",
              "      <th>13</th>\n",
              "      <td>[puan, pidatonya, megawati, memuji, jokowi, me...</td>\n",
              "      <td>[O, O, B-PERSON, O, O, O, O, O, B-PLACE, I-PLA...</td>\n",
              "    </tr>\n",
              "    <tr>\n",
              "      <th>14</th>\n",
              "      <td>[puan, megawati, buruk, menghina, jokowi, pida...</td>\n",
              "      <td>[B-PERSON, I-PERSON, O, O, B-PERSON, O]</td>\n",
              "    </tr>\n",
              "    <tr>\n",
              "      <th>15</th>\n",
              "      <td>[merendahkan, nggak, hormat, kebalikan, mantan...</td>\n",
              "      <td>[O, O, O, O, O, O, O, O, O, O, O, O, O]</td>\n",
              "    </tr>\n",
              "    <tr>\n",
              "      <th>16</th>\n",
              "      <td>[nama, presiden, jokowi, berulang, kali, disin...</td>\n",
              "      <td>[O, O, O, O, O, O, B-PERSON, O, O, O, O, O, O,...</td>\n",
              "    </tr>\n",
              "    <tr>\n",
              "      <th>17</th>\n",
              "      <td>[hadapan, ribuan, kader, hadir, megawati, berk...</td>\n",
              "      <td>[O, O, O, O, B-PERSON, O, O, O, O, O]</td>\n",
              "    </tr>\n",
              "    <tr>\n",
              "      <th>18</th>\n",
              "      <td>[jokowi, kayak, lho, mentang, mentang, iya, jo...</td>\n",
              "      <td>[O, O, O, O, O, O, O, O, O, O, O, O, B-PERSON, O]</td>\n",
              "    </tr>\n",
              "    <tr>\n",
              "      <th>19</th>\n",
              "      <td>[seloroh, megawati, disambut, tawa, tamu, unda...</td>\n",
              "      <td>[B-PERSON, B-PERSON, O, O, O, O, B-PERSON, O, ...</td>\n",
              "    </tr>\n",
              "    <tr>\n",
              "      <th>20</th>\n",
              "      <td>[presiden, ri, bilang, seandainya, pdi, p, duk...</td>\n",
              "      <td>[O, O, O, O, O, O, O, O, O]</td>\n",
              "    </tr>\n",
              "    <tr>\n",
              "      <th>21</th>\n",
              "      <td>[lho, legal, formal, lho, beliau, presiden, le...</td>\n",
              "      <td>[O, O, O, O, O, O, O, O, O]</td>\n",
              "    </tr>\n",
              "  </tbody>\n",
              "</table>\n",
              "</div>\n",
              "      <button class=\"colab-df-convert\" onclick=\"convertToInteractive('df-aa7ede3e-10fa-4dce-9fc5-efc65a8a9ef7')\"\n",
              "              title=\"Convert this dataframe to an interactive table.\"\n",
              "              style=\"display:none;\">\n",
              "        \n",
              "  <svg xmlns=\"http://www.w3.org/2000/svg\" height=\"24px\"viewBox=\"0 0 24 24\"\n",
              "       width=\"24px\">\n",
              "    <path d=\"M0 0h24v24H0V0z\" fill=\"none\"/>\n",
              "    <path d=\"M18.56 5.44l.94 2.06.94-2.06 2.06-.94-2.06-.94-.94-2.06-.94 2.06-2.06.94zm-11 1L8.5 8.5l.94-2.06 2.06-.94-2.06-.94L8.5 2.5l-.94 2.06-2.06.94zm10 10l.94 2.06.94-2.06 2.06-.94-2.06-.94-.94-2.06-.94 2.06-2.06.94z\"/><path d=\"M17.41 7.96l-1.37-1.37c-.4-.4-.92-.59-1.43-.59-.52 0-1.04.2-1.43.59L10.3 9.45l-7.72 7.72c-.78.78-.78 2.05 0 2.83L4 21.41c.39.39.9.59 1.41.59.51 0 1.02-.2 1.41-.59l7.78-7.78 2.81-2.81c.8-.78.8-2.07 0-2.86zM5.41 20L4 18.59l7.72-7.72 1.47 1.35L5.41 20z\"/>\n",
              "  </svg>\n",
              "      </button>\n",
              "      \n",
              "  <style>\n",
              "    .colab-df-container {\n",
              "      display:flex;\n",
              "      flex-wrap:wrap;\n",
              "      gap: 12px;\n",
              "    }\n",
              "\n",
              "    .colab-df-convert {\n",
              "      background-color: #E8F0FE;\n",
              "      border: none;\n",
              "      border-radius: 50%;\n",
              "      cursor: pointer;\n",
              "      display: none;\n",
              "      fill: #1967D2;\n",
              "      height: 32px;\n",
              "      padding: 0 0 0 0;\n",
              "      width: 32px;\n",
              "    }\n",
              "\n",
              "    .colab-df-convert:hover {\n",
              "      background-color: #E2EBFA;\n",
              "      box-shadow: 0px 1px 2px rgba(60, 64, 67, 0.3), 0px 1px 3px 1px rgba(60, 64, 67, 0.15);\n",
              "      fill: #174EA6;\n",
              "    }\n",
              "\n",
              "    [theme=dark] .colab-df-convert {\n",
              "      background-color: #3B4455;\n",
              "      fill: #D2E3FC;\n",
              "    }\n",
              "\n",
              "    [theme=dark] .colab-df-convert:hover {\n",
              "      background-color: #434B5C;\n",
              "      box-shadow: 0px 1px 3px 1px rgba(0, 0, 0, 0.15);\n",
              "      filter: drop-shadow(0px 1px 2px rgba(0, 0, 0, 0.3));\n",
              "      fill: #FFFFFF;\n",
              "    }\n",
              "  </style>\n",
              "\n",
              "      <script>\n",
              "        const buttonEl =\n",
              "          document.querySelector('#df-aa7ede3e-10fa-4dce-9fc5-efc65a8a9ef7 button.colab-df-convert');\n",
              "        buttonEl.style.display =\n",
              "          google.colab.kernel.accessAllowed ? 'block' : 'none';\n",
              "\n",
              "        async function convertToInteractive(key) {\n",
              "          const element = document.querySelector('#df-aa7ede3e-10fa-4dce-9fc5-efc65a8a9ef7');\n",
              "          const dataTable =\n",
              "            await google.colab.kernel.invokeFunction('convertToInteractive',\n",
              "                                                     [key], {});\n",
              "          if (!dataTable) return;\n",
              "\n",
              "          const docLinkHtml = 'Like what you see? Visit the ' +\n",
              "            '<a target=\"_blank\" href=https://colab.research.google.com/notebooks/data_table.ipynb>data table notebook</a>'\n",
              "            + ' to learn more about interactive tables.';\n",
              "          element.innerHTML = '';\n",
              "          dataTable['output_type'] = 'display_data';\n",
              "          await google.colab.output.renderOutput(dataTable, element);\n",
              "          const docLink = document.createElement('div');\n",
              "          docLink.innerHTML = docLinkHtml;\n",
              "          element.appendChild(docLink);\n",
              "        }\n",
              "      </script>\n",
              "    </div>\n",
              "  </div>\n",
              "  "
            ]
          },
          "metadata": {},
          "execution_count": 50
        }
      ]
    },
    {
      "cell_type": "code",
      "source": [
        "hasil"
      ],
      "metadata": {
        "colab": {
          "base_uri": "https://localhost:8080/",
          "height": 423
        },
        "id": "6hW9Px0353Rv",
        "outputId": "9d1f6659-ec0f-4b2a-c59f-e72293e5b3f9"
      },
      "execution_count": null,
      "outputs": [
        {
          "output_type": "execute_result",
          "data": {
            "text/plain": [
              "          words           label\n",
              "0         ketua               O\n",
              "1           dpp               O\n",
              "2           pdi  B-ORGANISATION\n",
              "3    perjuangan               O\n",
              "4          puan        B-PERSON\n",
              "..          ...             ...\n",
              "266      beliau               O\n",
              "267    presiden               O\n",
              "268       legal               O\n",
              "269      formal               O\n",
              "270     diikuti               O\n",
              "\n",
              "[271 rows x 2 columns]"
            ],
            "text/html": [
              "\n",
              "  <div id=\"df-9896c692-38f1-4f8c-8cea-817524b15ee0\">\n",
              "    <div class=\"colab-df-container\">\n",
              "      <div>\n",
              "<style scoped>\n",
              "    .dataframe tbody tr th:only-of-type {\n",
              "        vertical-align: middle;\n",
              "    }\n",
              "\n",
              "    .dataframe tbody tr th {\n",
              "        vertical-align: top;\n",
              "    }\n",
              "\n",
              "    .dataframe thead th {\n",
              "        text-align: right;\n",
              "    }\n",
              "</style>\n",
              "<table border=\"1\" class=\"dataframe\">\n",
              "  <thead>\n",
              "    <tr style=\"text-align: right;\">\n",
              "      <th></th>\n",
              "      <th>words</th>\n",
              "      <th>label</th>\n",
              "    </tr>\n",
              "  </thead>\n",
              "  <tbody>\n",
              "    <tr>\n",
              "      <th>0</th>\n",
              "      <td>ketua</td>\n",
              "      <td>O</td>\n",
              "    </tr>\n",
              "    <tr>\n",
              "      <th>1</th>\n",
              "      <td>dpp</td>\n",
              "      <td>O</td>\n",
              "    </tr>\n",
              "    <tr>\n",
              "      <th>2</th>\n",
              "      <td>pdi</td>\n",
              "      <td>B-ORGANISATION</td>\n",
              "    </tr>\n",
              "    <tr>\n",
              "      <th>3</th>\n",
              "      <td>perjuangan</td>\n",
              "      <td>O</td>\n",
              "    </tr>\n",
              "    <tr>\n",
              "      <th>4</th>\n",
              "      <td>puan</td>\n",
              "      <td>B-PERSON</td>\n",
              "    </tr>\n",
              "    <tr>\n",
              "      <th>...</th>\n",
              "      <td>...</td>\n",
              "      <td>...</td>\n",
              "    </tr>\n",
              "    <tr>\n",
              "      <th>266</th>\n",
              "      <td>beliau</td>\n",
              "      <td>O</td>\n",
              "    </tr>\n",
              "    <tr>\n",
              "      <th>267</th>\n",
              "      <td>presiden</td>\n",
              "      <td>O</td>\n",
              "    </tr>\n",
              "    <tr>\n",
              "      <th>268</th>\n",
              "      <td>legal</td>\n",
              "      <td>O</td>\n",
              "    </tr>\n",
              "    <tr>\n",
              "      <th>269</th>\n",
              "      <td>formal</td>\n",
              "      <td>O</td>\n",
              "    </tr>\n",
              "    <tr>\n",
              "      <th>270</th>\n",
              "      <td>diikuti</td>\n",
              "      <td>O</td>\n",
              "    </tr>\n",
              "  </tbody>\n",
              "</table>\n",
              "<p>271 rows × 2 columns</p>\n",
              "</div>\n",
              "      <button class=\"colab-df-convert\" onclick=\"convertToInteractive('df-9896c692-38f1-4f8c-8cea-817524b15ee0')\"\n",
              "              title=\"Convert this dataframe to an interactive table.\"\n",
              "              style=\"display:none;\">\n",
              "        \n",
              "  <svg xmlns=\"http://www.w3.org/2000/svg\" height=\"24px\"viewBox=\"0 0 24 24\"\n",
              "       width=\"24px\">\n",
              "    <path d=\"M0 0h24v24H0V0z\" fill=\"none\"/>\n",
              "    <path d=\"M18.56 5.44l.94 2.06.94-2.06 2.06-.94-2.06-.94-.94-2.06-.94 2.06-2.06.94zm-11 1L8.5 8.5l.94-2.06 2.06-.94-2.06-.94L8.5 2.5l-.94 2.06-2.06.94zm10 10l.94 2.06.94-2.06 2.06-.94-2.06-.94-.94-2.06-.94 2.06-2.06.94z\"/><path d=\"M17.41 7.96l-1.37-1.37c-.4-.4-.92-.59-1.43-.59-.52 0-1.04.2-1.43.59L10.3 9.45l-7.72 7.72c-.78.78-.78 2.05 0 2.83L4 21.41c.39.39.9.59 1.41.59.51 0 1.02-.2 1.41-.59l7.78-7.78 2.81-2.81c.8-.78.8-2.07 0-2.86zM5.41 20L4 18.59l7.72-7.72 1.47 1.35L5.41 20z\"/>\n",
              "  </svg>\n",
              "      </button>\n",
              "      \n",
              "  <style>\n",
              "    .colab-df-container {\n",
              "      display:flex;\n",
              "      flex-wrap:wrap;\n",
              "      gap: 12px;\n",
              "    }\n",
              "\n",
              "    .colab-df-convert {\n",
              "      background-color: #E8F0FE;\n",
              "      border: none;\n",
              "      border-radius: 50%;\n",
              "      cursor: pointer;\n",
              "      display: none;\n",
              "      fill: #1967D2;\n",
              "      height: 32px;\n",
              "      padding: 0 0 0 0;\n",
              "      width: 32px;\n",
              "    }\n",
              "\n",
              "    .colab-df-convert:hover {\n",
              "      background-color: #E2EBFA;\n",
              "      box-shadow: 0px 1px 2px rgba(60, 64, 67, 0.3), 0px 1px 3px 1px rgba(60, 64, 67, 0.15);\n",
              "      fill: #174EA6;\n",
              "    }\n",
              "\n",
              "    [theme=dark] .colab-df-convert {\n",
              "      background-color: #3B4455;\n",
              "      fill: #D2E3FC;\n",
              "    }\n",
              "\n",
              "    [theme=dark] .colab-df-convert:hover {\n",
              "      background-color: #434B5C;\n",
              "      box-shadow: 0px 1px 3px 1px rgba(0, 0, 0, 0.15);\n",
              "      filter: drop-shadow(0px 1px 2px rgba(0, 0, 0, 0.3));\n",
              "      fill: #FFFFFF;\n",
              "    }\n",
              "  </style>\n",
              "\n",
              "      <script>\n",
              "        const buttonEl =\n",
              "          document.querySelector('#df-9896c692-38f1-4f8c-8cea-817524b15ee0 button.colab-df-convert');\n",
              "        buttonEl.style.display =\n",
              "          google.colab.kernel.accessAllowed ? 'block' : 'none';\n",
              "\n",
              "        async function convertToInteractive(key) {\n",
              "          const element = document.querySelector('#df-9896c692-38f1-4f8c-8cea-817524b15ee0');\n",
              "          const dataTable =\n",
              "            await google.colab.kernel.invokeFunction('convertToInteractive',\n",
              "                                                     [key], {});\n",
              "          if (!dataTable) return;\n",
              "\n",
              "          const docLinkHtml = 'Like what you see? Visit the ' +\n",
              "            '<a target=\"_blank\" href=https://colab.research.google.com/notebooks/data_table.ipynb>data table notebook</a>'\n",
              "            + ' to learn more about interactive tables.';\n",
              "          element.innerHTML = '';\n",
              "          dataTable['output_type'] = 'display_data';\n",
              "          await google.colab.output.renderOutput(dataTable, element);\n",
              "          const docLink = document.createElement('div');\n",
              "          docLink.innerHTML = docLinkHtml;\n",
              "          element.appendChild(docLink);\n",
              "        }\n",
              "      </script>\n",
              "    </div>\n",
              "  </div>\n",
              "  "
            ]
          },
          "metadata": {},
          "execution_count": 51
        }
      ]
    },
    {
      "cell_type": "code",
      "source": [
        "# hasil.to_csv('/content/drive/MyDrive/nolimit/NER/model/hasil_tes.csv', index=False)"
      ],
      "metadata": {
        "id": "bFUFFXGh61s-"
      },
      "execution_count": null,
      "outputs": []
    },
    {
      "cell_type": "code",
      "execution_count": null,
      "metadata": {
        "id": "U9sHarOWLSPR"
      },
      "outputs": [],
      "source": [
        "# ini yang satuan\n",
        "\n",
        "# text = text_cleaning(text_mentah, True)\n",
        "# text = word_tokenize(text)\n",
        "# subwords, subword_to_word_indices = word_subword_tokenize(text, tokenizer)\n",
        "\n",
        "# subwords = torch.LongTensor(subwords).view(1, -1).to(model.device)\n",
        "# subword_to_word_indices = torch.LongTensor(subword_to_word_indices).view(1, -1).to(model.device)\n",
        "# logits = model(subwords, subword_to_word_indices)[0]\n",
        "\n",
        "# preds = torch.topk(logits, k=1, dim=-1)[1].squeeze().cpu().numpy()\n",
        "# labels = [i2w[preds[i]] for i in range(len(preds))]\n",
        "\n",
        "# hasil = pd.DataFrame({'words': text, 'label': labels})"
      ]
    },
    {
      "cell_type": "code",
      "execution_count": null,
      "metadata": {
        "id": "Q6APaydNLUDH"
      },
      "outputs": [],
      "source": [
        "# kalau udha dapat hasil di df nya maka kesini\n",
        "\n",
        "hasil = hasil.drop_duplicates().reset_index(drop=True)\n",
        "hasil = hasil[hasil['label'] != 'O'].reset_index(drop=True)"
      ]
    },
    {
      "cell_type": "code",
      "execution_count": null,
      "metadata": {
        "colab": {
          "base_uri": "https://localhost:8080/",
          "height": 927
        },
        "id": "VJusqBiWMmx-",
        "outputId": "559fd60a-8193-4c04-cbb5-907fcc25eeb0"
      },
      "outputs": [
        {
          "output_type": "execute_result",
          "data": {
            "text/plain": [
              "            words           label\n",
              "0             pdi  B-ORGANISATION\n",
              "1            puan        B-PERSON\n",
              "2        maharani        I-PERSON\n",
              "3        megawati        B-PERSON\n",
              "4   soekarnoputri        I-PERSON\n",
              "5            joko        B-PERSON\n",
              "6          widodo        I-PERSON\n",
              "7          partai  I-ORGANISATION\n",
              "8         banteng  I-ORGANISATION\n",
              "9        megawati        I-PERSON\n",
              "10         jokowi        B-PERSON\n",
              "11           rosi        B-PERSON\n",
              "12         kompas  I-ORGANISATION\n",
              "13             tv  I-ORGANISATION\n",
              "14         partai  B-ORGANISATION\n",
              "15           mega        B-PERSON\n",
              "16     perjuangan  I-ORGANISATION\n",
              "17            dpr  B-ORGANISATION\n",
              "18             ri  I-ORGANISATION\n",
              "19         lantas        I-PERSON\n",
              "20             bu        B-PERSON\n",
              "21           mega        I-PERSON\n",
              "22            dki         B-PLACE\n",
              "23        jakarta         I-PLACE\n",
              "24              p  I-ORGANISATION\n",
              "25        jakarta         B-PLACE\n",
              "26      kemayoran         B-PLACE\n",
              "27        seloroh        B-PERSON"
            ],
            "text/html": [
              "\n",
              "  <div id=\"df-0393e18c-97df-4fe1-84a9-56484866c766\">\n",
              "    <div class=\"colab-df-container\">\n",
              "      <div>\n",
              "<style scoped>\n",
              "    .dataframe tbody tr th:only-of-type {\n",
              "        vertical-align: middle;\n",
              "    }\n",
              "\n",
              "    .dataframe tbody tr th {\n",
              "        vertical-align: top;\n",
              "    }\n",
              "\n",
              "    .dataframe thead th {\n",
              "        text-align: right;\n",
              "    }\n",
              "</style>\n",
              "<table border=\"1\" class=\"dataframe\">\n",
              "  <thead>\n",
              "    <tr style=\"text-align: right;\">\n",
              "      <th></th>\n",
              "      <th>words</th>\n",
              "      <th>label</th>\n",
              "    </tr>\n",
              "  </thead>\n",
              "  <tbody>\n",
              "    <tr>\n",
              "      <th>0</th>\n",
              "      <td>pdi</td>\n",
              "      <td>B-ORGANISATION</td>\n",
              "    </tr>\n",
              "    <tr>\n",
              "      <th>1</th>\n",
              "      <td>puan</td>\n",
              "      <td>B-PERSON</td>\n",
              "    </tr>\n",
              "    <tr>\n",
              "      <th>2</th>\n",
              "      <td>maharani</td>\n",
              "      <td>I-PERSON</td>\n",
              "    </tr>\n",
              "    <tr>\n",
              "      <th>3</th>\n",
              "      <td>megawati</td>\n",
              "      <td>B-PERSON</td>\n",
              "    </tr>\n",
              "    <tr>\n",
              "      <th>4</th>\n",
              "      <td>soekarnoputri</td>\n",
              "      <td>I-PERSON</td>\n",
              "    </tr>\n",
              "    <tr>\n",
              "      <th>5</th>\n",
              "      <td>joko</td>\n",
              "      <td>B-PERSON</td>\n",
              "    </tr>\n",
              "    <tr>\n",
              "      <th>6</th>\n",
              "      <td>widodo</td>\n",
              "      <td>I-PERSON</td>\n",
              "    </tr>\n",
              "    <tr>\n",
              "      <th>7</th>\n",
              "      <td>partai</td>\n",
              "      <td>I-ORGANISATION</td>\n",
              "    </tr>\n",
              "    <tr>\n",
              "      <th>8</th>\n",
              "      <td>banteng</td>\n",
              "      <td>I-ORGANISATION</td>\n",
              "    </tr>\n",
              "    <tr>\n",
              "      <th>9</th>\n",
              "      <td>megawati</td>\n",
              "      <td>I-PERSON</td>\n",
              "    </tr>\n",
              "    <tr>\n",
              "      <th>10</th>\n",
              "      <td>jokowi</td>\n",
              "      <td>B-PERSON</td>\n",
              "    </tr>\n",
              "    <tr>\n",
              "      <th>11</th>\n",
              "      <td>rosi</td>\n",
              "      <td>B-PERSON</td>\n",
              "    </tr>\n",
              "    <tr>\n",
              "      <th>12</th>\n",
              "      <td>kompas</td>\n",
              "      <td>I-ORGANISATION</td>\n",
              "    </tr>\n",
              "    <tr>\n",
              "      <th>13</th>\n",
              "      <td>tv</td>\n",
              "      <td>I-ORGANISATION</td>\n",
              "    </tr>\n",
              "    <tr>\n",
              "      <th>14</th>\n",
              "      <td>partai</td>\n",
              "      <td>B-ORGANISATION</td>\n",
              "    </tr>\n",
              "    <tr>\n",
              "      <th>15</th>\n",
              "      <td>mega</td>\n",
              "      <td>B-PERSON</td>\n",
              "    </tr>\n",
              "    <tr>\n",
              "      <th>16</th>\n",
              "      <td>perjuangan</td>\n",
              "      <td>I-ORGANISATION</td>\n",
              "    </tr>\n",
              "    <tr>\n",
              "      <th>17</th>\n",
              "      <td>dpr</td>\n",
              "      <td>B-ORGANISATION</td>\n",
              "    </tr>\n",
              "    <tr>\n",
              "      <th>18</th>\n",
              "      <td>ri</td>\n",
              "      <td>I-ORGANISATION</td>\n",
              "    </tr>\n",
              "    <tr>\n",
              "      <th>19</th>\n",
              "      <td>lantas</td>\n",
              "      <td>I-PERSON</td>\n",
              "    </tr>\n",
              "    <tr>\n",
              "      <th>20</th>\n",
              "      <td>bu</td>\n",
              "      <td>B-PERSON</td>\n",
              "    </tr>\n",
              "    <tr>\n",
              "      <th>21</th>\n",
              "      <td>mega</td>\n",
              "      <td>I-PERSON</td>\n",
              "    </tr>\n",
              "    <tr>\n",
              "      <th>22</th>\n",
              "      <td>dki</td>\n",
              "      <td>B-PLACE</td>\n",
              "    </tr>\n",
              "    <tr>\n",
              "      <th>23</th>\n",
              "      <td>jakarta</td>\n",
              "      <td>I-PLACE</td>\n",
              "    </tr>\n",
              "    <tr>\n",
              "      <th>24</th>\n",
              "      <td>p</td>\n",
              "      <td>I-ORGANISATION</td>\n",
              "    </tr>\n",
              "    <tr>\n",
              "      <th>25</th>\n",
              "      <td>jakarta</td>\n",
              "      <td>B-PLACE</td>\n",
              "    </tr>\n",
              "    <tr>\n",
              "      <th>26</th>\n",
              "      <td>kemayoran</td>\n",
              "      <td>B-PLACE</td>\n",
              "    </tr>\n",
              "    <tr>\n",
              "      <th>27</th>\n",
              "      <td>seloroh</td>\n",
              "      <td>B-PERSON</td>\n",
              "    </tr>\n",
              "  </tbody>\n",
              "</table>\n",
              "</div>\n",
              "      <button class=\"colab-df-convert\" onclick=\"convertToInteractive('df-0393e18c-97df-4fe1-84a9-56484866c766')\"\n",
              "              title=\"Convert this dataframe to an interactive table.\"\n",
              "              style=\"display:none;\">\n",
              "        \n",
              "  <svg xmlns=\"http://www.w3.org/2000/svg\" height=\"24px\"viewBox=\"0 0 24 24\"\n",
              "       width=\"24px\">\n",
              "    <path d=\"M0 0h24v24H0V0z\" fill=\"none\"/>\n",
              "    <path d=\"M18.56 5.44l.94 2.06.94-2.06 2.06-.94-2.06-.94-.94-2.06-.94 2.06-2.06.94zm-11 1L8.5 8.5l.94-2.06 2.06-.94-2.06-.94L8.5 2.5l-.94 2.06-2.06.94zm10 10l.94 2.06.94-2.06 2.06-.94-2.06-.94-.94-2.06-.94 2.06-2.06.94z\"/><path d=\"M17.41 7.96l-1.37-1.37c-.4-.4-.92-.59-1.43-.59-.52 0-1.04.2-1.43.59L10.3 9.45l-7.72 7.72c-.78.78-.78 2.05 0 2.83L4 21.41c.39.39.9.59 1.41.59.51 0 1.02-.2 1.41-.59l7.78-7.78 2.81-2.81c.8-.78.8-2.07 0-2.86zM5.41 20L4 18.59l7.72-7.72 1.47 1.35L5.41 20z\"/>\n",
              "  </svg>\n",
              "      </button>\n",
              "      \n",
              "  <style>\n",
              "    .colab-df-container {\n",
              "      display:flex;\n",
              "      flex-wrap:wrap;\n",
              "      gap: 12px;\n",
              "    }\n",
              "\n",
              "    .colab-df-convert {\n",
              "      background-color: #E8F0FE;\n",
              "      border: none;\n",
              "      border-radius: 50%;\n",
              "      cursor: pointer;\n",
              "      display: none;\n",
              "      fill: #1967D2;\n",
              "      height: 32px;\n",
              "      padding: 0 0 0 0;\n",
              "      width: 32px;\n",
              "    }\n",
              "\n",
              "    .colab-df-convert:hover {\n",
              "      background-color: #E2EBFA;\n",
              "      box-shadow: 0px 1px 2px rgba(60, 64, 67, 0.3), 0px 1px 3px 1px rgba(60, 64, 67, 0.15);\n",
              "      fill: #174EA6;\n",
              "    }\n",
              "\n",
              "    [theme=dark] .colab-df-convert {\n",
              "      background-color: #3B4455;\n",
              "      fill: #D2E3FC;\n",
              "    }\n",
              "\n",
              "    [theme=dark] .colab-df-convert:hover {\n",
              "      background-color: #434B5C;\n",
              "      box-shadow: 0px 1px 3px 1px rgba(0, 0, 0, 0.15);\n",
              "      filter: drop-shadow(0px 1px 2px rgba(0, 0, 0, 0.3));\n",
              "      fill: #FFFFFF;\n",
              "    }\n",
              "  </style>\n",
              "\n",
              "      <script>\n",
              "        const buttonEl =\n",
              "          document.querySelector('#df-0393e18c-97df-4fe1-84a9-56484866c766 button.colab-df-convert');\n",
              "        buttonEl.style.display =\n",
              "          google.colab.kernel.accessAllowed ? 'block' : 'none';\n",
              "\n",
              "        async function convertToInteractive(key) {\n",
              "          const element = document.querySelector('#df-0393e18c-97df-4fe1-84a9-56484866c766');\n",
              "          const dataTable =\n",
              "            await google.colab.kernel.invokeFunction('convertToInteractive',\n",
              "                                                     [key], {});\n",
              "          if (!dataTable) return;\n",
              "\n",
              "          const docLinkHtml = 'Like what you see? Visit the ' +\n",
              "            '<a target=\"_blank\" href=https://colab.research.google.com/notebooks/data_table.ipynb>data table notebook</a>'\n",
              "            + ' to learn more about interactive tables.';\n",
              "          element.innerHTML = '';\n",
              "          dataTable['output_type'] = 'display_data';\n",
              "          await google.colab.output.renderOutput(dataTable, element);\n",
              "          const docLink = document.createElement('div');\n",
              "          docLink.innerHTML = docLinkHtml;\n",
              "          element.appendChild(docLink);\n",
              "        }\n",
              "      </script>\n",
              "    </div>\n",
              "  </div>\n",
              "  "
            ]
          },
          "metadata": {},
          "execution_count": 55
        }
      ],
      "source": [
        "hasil"
      ]
    },
    {
      "cell_type": "code",
      "source": [
        "#full dibawah ini\n",
        "\n",
        "# print(text_mentah)\n",
        "print('-'*100)\n",
        "\n",
        "output = {}\n",
        "\n",
        "for i in range(len(hasil)):\n",
        "\n",
        "  # --------------- PERSON -----------------------------\n",
        "  try:\n",
        "    if hasil['label'][i]=='B-PERSON' and hasil['label'][i+1]!='I-PERSON':\n",
        "      print(hasil['words'][i], '=> PERSON')\n",
        "      output[hasil['words'][i]] = 'PERSON'\n",
        "    else:\n",
        "      pass\n",
        "\n",
        "  except:\n",
        "    pass\n",
        "\n",
        "  try:\n",
        "    if hasil['label'][i]=='B-PERSON' and ((i+1)==len(hasil)):\n",
        "      print(hasil['words'][i], '=> PERSON')\n",
        "      output[hasil['words'][i]] = 'PERSON'\n",
        "\n",
        "    else:\n",
        "      pass\n",
        "\n",
        "  except:\n",
        "    pass\n",
        "\n",
        "  try:\n",
        "    if hasil['label'][i]=='B-PERSON' and hasil['label'][i+1]=='I-PERSON' and hasil['label'][i+2]=='I-PERSON':\n",
        "      print(hasil['words'][i],hasil['words'][i+1],hasil['words'][i+2], '=> PERSON')\n",
        "      output[hasil['words'][i],hasil['words'][i+1],hasil['words'][i+2]] = 'PERSON'\n",
        "    elif hasil['label'][i]=='B-PERSON' and hasil['label'][i+1]=='I-PERSON':\n",
        "      print(hasil['words'][i],hasil['words'][i+1], '=> PERSON')\n",
        "      output[hasil['words'][i],hasil['words'][i+1]] = 'PERSON'\n",
        "    else:\n",
        "      pass\n",
        "\n",
        "  except:\n",
        "    pass\n",
        "\n",
        "\n",
        "  # --------------- PLACE -----------------------------\n",
        "  try:\n",
        "    if hasil['label'][i]=='B-PLACE' and hasil['label'][i+1]!='I-PLACE':\n",
        "      print(hasil['words'][i], '=> PLACE')\n",
        "      output[hasil['words'][i]] = 'PLACE'\n",
        "    else:\n",
        "      pass\n",
        "\n",
        "  except:\n",
        "    if hasil['label'][i]=='B-PLACE' and ((i+1)==len(hasil)):\n",
        "      print(hasil['words'][i], '=> PLACE')\n",
        "      output[hasil['words'][i]] = 'PLACE'\n",
        "    else:\n",
        "      pass\n",
        "\n",
        "  try:\n",
        "    if hasil['label'][i]=='B-PLACE' and hasil['label'][i+1]=='I-PLACE' and hasil['label'][i+2]=='I-PLACE':\n",
        "      print(hasil['words'][i],hasil['words'][i+1],hasil['words'][i+2], '=> PLACE')\n",
        "      output[hasil['words'][i],hasil['words'][i+1],hasil['words'][i+2]] = 'PLACE'\n",
        "    elif hasil['label'][i]=='B-PLACE' and hasil['label'][i+1]=='I-PLACE':\n",
        "      print(hasil['words'][i],hasil['words'][i+1], '=> PLACE')\n",
        "      output[hasil['words'][i],hasil['words'][i+1]] = 'PLACE'\n",
        "    else:\n",
        "      pass\n",
        "\n",
        "  except:\n",
        "    pass\n",
        "\n",
        "  # --------------- ORGANISATION ----------------------------\n",
        "  try:\n",
        "    if hasil['label'][i]=='B-ORGANISATION' and hasil['label'][i+1]!='I-ORGANISATION':\n",
        "      print(hasil['words'][i], '=> ORGANISATION')\n",
        "      output[hasil['words'][i]] = 'ORGANISATION'\n",
        "    else:\n",
        "      pass\n",
        "\n",
        "  except:\n",
        "    if hasil['label'][i]=='B-ORGANISATION' and ((i+1)==len(hasil)):\n",
        "      print(hasil['words'][i], '=> ORGANISATION')\n",
        "      output[hasil['words'][i]] = 'ORGANISATION'\n",
        "    else:\n",
        "      pass\n",
        "\n",
        "  try:\n",
        "    if hasil['label'][i]=='B-ORGANISATION' and hasil['label'][i+1]=='I-ORGANISATION' and hasil['label'][i+2]=='I-ORGANISATION':\n",
        "      print(hasil['words'][i],hasil['words'][i+1],hasil['words'][i+2], '=> ORGANISATION')\n",
        "      output[hasil['words'][i],hasil['words'][i+1]],hasil['words'][i+2] = 'ORGANISATION'\n",
        "    elif hasil['label'][i]=='B-ORGANISATION' and hasil['label'][i+1]=='I-ORGANISATION':\n",
        "      print(hasil['words'][i],hasil['words'][i+1], '=> ORGANISATION')\n",
        "      output[hasil['words'][i],hasil['words'][i+1]] = 'ORGANISATION'\n",
        "    else:\n",
        "      pass\n",
        "\n",
        "  except:\n",
        "    pass\n",
        "\n",
        "  # --------------- O -----------------------------\n",
        "  try:\n",
        "    if hasil['label'][i]=='O':\n",
        "      print(hasil['words'][i], '=> O')\n",
        "      output[hasil['words'][i]] = 'O'\n",
        "    else:\n",
        "      pass\n",
        "\n",
        "  except:\n",
        "    pass\n",
        "\n",
        "# for x,y in enumerate(text):\n",
        "#   if bool(re.findall(r\"(?=(\"+'|'.join(kata)+r\"))\", y)) == True:\n",
        "#     #print(y)\n",
        "\n",
        "#     if y == 'kata':\n",
        "#       print(' '.join([str(elem) for elem in text]).split('kata')[0].strip())"
      ],
      "metadata": {
        "colab": {
          "base_uri": "https://localhost:8080/"
        },
        "id": "mlCwe56G7dcH",
        "outputId": "042fd4bf-9762-4240-cca5-f2eed9f31225"
      },
      "execution_count": null,
      "outputs": [
        {
          "output_type": "stream",
          "name": "stdout",
          "text": [
            "----------------------------------------------------------------------------------------------------\n",
            "pdi => ORGANISATION\n",
            "puan maharani => PERSON\n",
            "megawati soekarnoputri => PERSON\n",
            "joko widodo => PERSON\n",
            "jokowi => PERSON\n",
            "rosi => PERSON\n",
            "partai => ORGANISATION\n",
            "mega => PERSON\n",
            "dpr ri => ORGANISATION\n",
            "bu mega => PERSON\n",
            "dki jakarta => PLACE\n",
            "jakarta => PLACE\n",
            "kemayoran => PLACE\n",
            "seloroh => PERSON\n"
          ]
        }
      ]
    },
    {
      "cell_type": "code",
      "execution_count": null,
      "metadata": {
        "id": "8OUQm2FLRQpy"
      },
      "outputs": [],
      "source": [
        "# # ini coba yang baru\n",
        "\n",
        "# output = {}\n",
        "\n",
        "# for i in range(len(hasil)):\n",
        "\n",
        "#   # --------------- PERSON -----------------------------\n",
        "#   try:\n",
        "#     if hasil['label'][i]=='B-PERSON' and hasil['label'][i+1]!='I-PERSON':\n",
        "#       print(hasil['words'][i], '=> PERSON')\n",
        "#       output[hasil['words'][i]] = 'PERSON'\n",
        "#     else:\n",
        "#       pass\n",
        "\n",
        "#   except:\n",
        "#     pass\n",
        "\n",
        "#   try:\n",
        "#     if hasil['label'][i]=='B-PERSON' and ((i+1)==len(hasil)):\n",
        "#       print(hasil['words'][i], '=> PERSON')\n",
        "#       output[hasil['words'][i]] = 'PERSON'\n",
        "\n",
        "#     else:\n",
        "#       pass\n",
        "\n",
        "#   except:\n",
        "#     pass\n",
        "\n",
        "#   try:\n",
        "#     if hasil['label'][i]=='B-PERSON' and hasil['label'][i+1]=='I-PERSON' and hasil['label'][i+2]=='I-PERSON':\n",
        "#       print(hasil['words'][i],hasil['words'][i+1],hasil['words'][i+2], '=> PERSON')\n",
        "#       output[hasil['words'][i],hasil['words'][i+1],hasil['words'][i+2]] = 'PERSON'\n",
        "#     elif hasil['label'][i]=='B-PERSON' and hasil['label'][i+1]=='I-PERSON':\n",
        "#       print(hasil['words'][i],hasil['words'][i+1], '=> PERSON')\n",
        "#       output[hasil['words'][i],hasil['words'][i+1]] = 'PERSON'\n",
        "#     else:\n",
        "#       pass\n",
        "\n",
        "#   except:\n",
        "#     pass"
      ]
    },
    {
      "cell_type": "code",
      "execution_count": null,
      "metadata": {
        "id": "h4OhvqExH6vZ"
      },
      "outputs": [],
      "source": [
        "# output"
      ]
    },
    {
      "cell_type": "code",
      "execution_count": null,
      "metadata": {
        "id": "qXTea2JI1zQt",
        "colab": {
          "base_uri": "https://localhost:8080/"
        },
        "outputId": "54f912c5-6419-407e-aa2a-02c34a2e586f"
      },
      "outputs": [
        {
          "output_type": "execute_result",
          "data": {
            "text/plain": [
              "dict_items([('pdi', 'ORGANISATION'), (('puan', 'maharani'), 'PERSON'), (('megawati', 'soekarnoputri'), 'PERSON'), (('joko', 'widodo'), 'PERSON'), ('jokowi', 'PERSON'), ('rosi', 'PERSON'), ('partai', 'ORGANISATION'), ('mega', 'PERSON'), (('dpr', 'ri'), 'ORGANISATION'), (('bu', 'mega'), 'PERSON'), (('dki', 'jakarta'), 'PLACE'), ('jakarta', 'PLACE'), ('kemayoran', 'PLACE'), ('seloroh', 'PERSON')])"
            ]
          },
          "metadata": {},
          "execution_count": 59
        }
      ],
      "source": [
        "output.items()"
      ]
    },
    {
      "cell_type": "code",
      "execution_count": null,
      "metadata": {
        "id": "Z1lv-WRudZC3"
      },
      "outputs": [],
      "source": [
        "new_output = {}\n",
        "for k,v in output.items():\n",
        "  if type(k) == tuple:\n",
        "    new_output[' '.join(k)] = v\n",
        "\n",
        "  else:\n",
        "    new_output[''.join(k)] = v\n",
        "\n",
        "# new_output\n",
        "\n",
        "df = pd.DataFrame()\n",
        "\n",
        "df['text'] = new_output.keys()\n",
        "df['label'] = new_output.values()"
      ]
    },
    {
      "cell_type": "code",
      "execution_count": null,
      "metadata": {
        "colab": {
          "base_uri": "https://localhost:8080/"
        },
        "id": "A4FLt0iBCGrq",
        "outputId": "f90af03d-958e-48eb-8f7d-c562fc715b1c"
      },
      "outputs": [
        {
          "output_type": "execute_result",
          "data": {
            "text/plain": [
              "PERSON          8\n",
              "ORGANISATION    3\n",
              "PLACE           3\n",
              "Name: label, dtype: int64"
            ]
          },
          "metadata": {},
          "execution_count": 61
        }
      ],
      "source": [
        "df['label'].value_counts()"
      ]
    },
    {
      "cell_type": "markdown",
      "source": [
        "### Hasil"
      ],
      "metadata": {
        "id": "dL2HcmZjJiPH"
      }
    },
    {
      "cell_type": "code",
      "execution_count": null,
      "metadata": {
        "colab": {
          "base_uri": "https://localhost:8080/"
        },
        "id": "2XxV8IYNCMuq",
        "outputId": "8165f1ea-42ba-46ad-e639-f271465e32ec"
      },
      "outputs": [
        {
          "output_type": "stream",
          "name": "stdout",
          "text": [
            "                      text   label\n",
            "1            puan maharani  PERSON\n",
            "2   megawati soekarnoputri  PERSON\n",
            "3              joko widodo  PERSON\n",
            "4                   jokowi  PERSON\n",
            "5                     rosi  PERSON\n",
            "7                     mega  PERSON\n",
            "9                  bu mega  PERSON\n",
            "13                 seloroh  PERSON\n",
            "           text  label\n",
            "10  dki jakarta  PLACE\n",
            "11      jakarta  PLACE\n",
            "12    kemayoran  PLACE\n",
            "     text         label\n",
            "0     pdi  ORGANISATION\n",
            "6  partai  ORGANISATION\n",
            "8  dpr ri  ORGANISATION\n"
          ]
        }
      ],
      "source": [
        "print(df[df['label'] == 'PERSON'])\n",
        "print(df[df['label'] == 'PLACE'])\n",
        "print(df[df['label'] == 'ORGANISATION'])"
      ]
    },
    {
      "cell_type": "code",
      "source": [],
      "metadata": {
        "id": "fX4bfGdtqTkH"
      },
      "execution_count": null,
      "outputs": []
    },
    {
      "cell_type": "code",
      "source": [
        "# df.to_csv('/content/drive/MyDrive/nolimit/NER/model/hasil_model3do.csv', index=False)"
      ],
      "metadata": {
        "id": "v8PTD8RT8DV4"
      },
      "execution_count": null,
      "outputs": []
    },
    {
      "cell_type": "markdown",
      "source": [
        "## Predict Proba"
      ],
      "metadata": {
        "id": "oHazEt4eqg_K"
      }
    },
    {
      "cell_type": "code",
      "source": [
        "new_text = re.sub(r\".*- \", \"\", text_mentah)\n",
        "# print(new_text)\n",
        "\n",
        "sentences = []\n",
        "start = 0\n",
        "for match in re.finditer(r'\\n', new_text):\n",
        "    end = match.start()\n",
        "    sentences.append(new_text[start:end])\n",
        "    start = match.end()\n",
        "\n",
        "# add the last sentence\n",
        "sentences.append(new_text[start:])\n",
        "sentences.remove(sentences[-1])\n",
        "print(sentences)\n",
        "print(len(sentences))"
      ],
      "metadata": {
        "colab": {
          "base_uri": "https://localhost:8080/"
        },
        "outputId": "3e46cf7b-5c85-4309-e4e5-cf2ddaa1d77e",
        "id": "n373Ei3kqg_K"
      },
      "execution_count": null,
      "outputs": [
        {
          "output_type": "stream",
          "name": "stdout",
          "text": [
            "['Ketua DPP PDI Perjuangan Puan Maharani menjelaskan maksud dari pidato Megawati Soekarnoputri di acara Hari Ulang Tahun (HUT) ke-50 PDI-P yang menyinggung nasib Presiden Joko Widodo jika tak ada partai banteng.', '', 'Menurut Puan, Megawati bicara demikian karena dia melihat potensi besar di diri Jokowi. Mega tengah mengibaratkan PDI-P sebagai wadah bagi para kader, termasuk Jokowi, untuk berjuang.', '', '\"Jadi ini sebagai wadah. Jadi maksudnya, ayo dong kita sama-sama maju, ayo dong sama-sama kita memberikan bakti kita, atau apa yang bisa kita lakukan untuk bisa membangun bangsa dan negara. Kan diperlukan, it takes two to tango untuk bisa melaksanakan hal itu,\" kata Puan dalam acara Rosi Kompas TV, dikutip Jumat (13/1/2023).', '', 'Puan mengatakan, sebagai ketua umum PDI-P, Megawati selalu menempatkan diri sebagai ibu bagi kader-kader partai banteng. Dia pun menilai, pernyataan Mega itu wajar diucapkan seorang ketua umum partai.', '', '\"Kenapa di acara PDI Perjuangan bicara seperti itu, karena ini acara internal, dianggap semua (kader) itu anak-anaknya,\" ujarnya.', '', 'Puan mengatakan, Megawati tak bermaksud merendahkan Jokowi dengan mengatakan nasib Jokowi mungkin berbeda jika PDI-P tak ada.', '', 'Sebaliknya, Ketua DPR RI itu bilang, ibundanya sangat menyayangi dan menghormati Jokowi.', '', '\"Kalau tahu, Ibu Mega itu sayang banget sama Pak Jokowi. Dan tentu saja hormat sekali sama Pak Jokowi sebagai presiden,\" kata Puan.', '', 'Puan lantas menyinggung pidato Megawati beberapa waktu lalu yang menyebut bahwa dia menangis karena Jokowi terus menerus dirundung.', '', 'Mega bahkan mengaku siap pasang badan, tak apa dia dirundung asalkan bukan bukan Jokowi yang kena bully.', '', 'Menurut Puan, sikap Megawati itu menunjukkan betapa dia sangat menyayangi dan menghormati Jokowi sebagai adiknya. Bahwa Megawati ingin Jokowi sukses menjalankan tugas-tugasnya sebagai kepala negara.', '', '\"Saya baru pertama kali ini mendengar Bu Mega membela seseorang sampai seperti itu,\" ucap Puan.', '', 'bully karena saya mau membela Pak Jokowi. Itu kalau bukan sayang dan hormat apa,\" tuturnya.', '', 'Lagi pula, lanjut Puan, dalam pidatonya Megawati juga sempat memuji Jokowi dengan menyebut bahwa mantan Gubernur DKI Jakarta itu pintar sehingga PDI-P bersedia mengusungnya jadi pemimpin.', '', 'Oleh karenanya, Puan menegaskan bahwa Megawati tak bermaksud buruk, apalagi menghina Jokowi lewat pidatonya.', '', '\"Jadi bukan ada yang rasa yang mau merendahkan atau sepertinya nggak hormat, itu justru kebalikan,\" tutur mantan Menteri Koordinator Bidang Pembangunan Manusia dan Kebudayaan (Menko PMK) itu.', '', 'Sebelumnya, nama Presiden Jokowi berulang kali disinggung oleh Megawati dalam pidatonya di acara Hari Ulang Tahun (HUT) ke-50 PDI-P yang digelar di Jakarta International Expo, Kemayoran, Jakarta Pusat, Selasa (10/1/2023).', '', 'Di hadapan ribuan kader yang hadir, Megawati berkelakar, nasib Jokowi tidak akan sama seperti sekarang jika tak ada PDI-P.', '', '\"Pak Jokowi itu kayak begitu lho, mentang-mentang. Lah iya, padahal Pak Jokowi kalau enggak ada PDI Perjuangan juga, aduh, kasihan dah,\" kata Megawati sambil tertawa.', '', 'Seloroh Megawati tersebut disambut tawa para tamu undangan, termasuk Jokowi yang duduk di barisan kursi tamu terdepan.', '', 'Presiden kelima RI itu bilang, seandainya PDI-P tak memberikan dukungan, maka Jokowi tidak akan jadi presiden seperti sekarang.', '', '\"Lho legal formal lho, beliau jadi presiden itu enggak ada kan ini, legal formal diikuti terus sama saya,\" ujarnya.', '']\n",
            "44\n"
          ]
        }
      ]
    },
    {
      "cell_type": "code",
      "source": [
        "# per paragraf predict\n",
        "\n",
        "hasil = {\"words\":[],\n",
        "         \"label\":[]\n",
        "         }\n",
        "\n",
        "for i in sentences:\n",
        "\n",
        "  text = text_cleaning(i, True)\n",
        "  text = word_tokenize(text)\n",
        "  subwords, subword_to_word_indices = word_subword_tokenize(text, tokenizer)\n",
        "\n",
        "  subwords = torch.LongTensor(subwords).view(1, -1).to(model.device)\n",
        "  subword_to_word_indices = torch.LongTensor(subword_to_word_indices).view(1, -1).to(model.device)\n",
        "\n",
        "  try:\n",
        "    logits = model(subwords, subword_to_word_indices)[0]\n",
        "\n",
        "    preds = torch.topk(logits, k=1, dim=-1)[1].squeeze().cpu().numpy()\n",
        "    labels = [i2w[preds[i]] for i in range(len(preds))]\n",
        "\n",
        "    hasil[\"words\"].append(text)\n",
        "    hasil['label'].append(labels)\n",
        "    # hasil = pd.DataFrame({'words': text, 'label': labels})\n",
        "\n",
        "    hasil_full = pd.DataFrame(hasil)\n",
        "\n",
        "  except:\n",
        "    pass\n",
        "\n",
        "word = [item for sublist in hasil_full['words'].tolist() for item in sublist]\n",
        "label = [item for sublist in hasil_full['label'].tolist() for item in sublist]\n",
        "\n",
        "hasil = pd.DataFrame({'words': word, 'label': label})"
      ],
      "metadata": {
        "id": "-0VXDFU6qg_L"
      },
      "execution_count": null,
      "outputs": []
    },
    {
      "cell_type": "code",
      "source": [
        "prob"
      ],
      "metadata": {
        "colab": {
          "base_uri": "https://localhost:8080/"
        },
        "id": "pAbKiI8q4geQ",
        "outputId": "19902c14-8081-45dd-92ab-1ce4497f659b"
      },
      "execution_count": null,
      "outputs": [
        {
          "output_type": "execute_result",
          "data": {
            "text/plain": [
              "tensor([[[6.4746e-21, 4.2191e-17, 1.4871e-18, 2.0433e-10, 1.3137e-10,\n",
              "          8.2974e-02, 3.0406e-21],\n",
              "         [5.9463e-21, 5.6480e-17, 1.4152e-18, 2.1060e-10, 1.1887e-10,\n",
              "          8.1811e-02, 3.1043e-21],\n",
              "         [4.2698e-13, 9.9994e-01, 3.7998e-10, 3.3535e-04, 9.4790e-05,\n",
              "          4.2999e-16, 4.4829e-14],\n",
              "         [9.9113e-17, 2.6390e-14, 1.3912e-07, 6.6072e-08, 1.1556e-05,\n",
              "          9.4451e-10, 4.4539e-18],\n",
              "         [7.0019e-10, 6.6614e-06, 7.1133e-08, 1.0770e-01, 6.0667e-02,\n",
              "          7.8975e-21, 3.7755e-01],\n",
              "         [4.0125e-01, 6.7647e-06, 5.4587e-08, 2.7470e-01, 7.6255e-02,\n",
              "          5.9517e-21, 2.7241e-10],\n",
              "         [7.2259e-21, 3.7828e-17, 1.5910e-18, 1.9818e-10, 1.3826e-10,\n",
              "          8.3589e-02, 2.9465e-21],\n",
              "         [6.3957e-21, 3.9516e-17, 1.4820e-18, 2.0983e-10, 1.3921e-10,\n",
              "          8.3947e-02, 3.0658e-21],\n",
              "         [5.9923e-10, 6.3748e-06, 6.8715e-08, 1.2840e-01, 5.4874e-02,\n",
              "          8.4486e-21, 3.7236e-01],\n",
              "         [3.3360e-01, 5.5213e-06, 4.5510e-08, 2.3978e-01, 5.0868e-02,\n",
              "          8.7406e-21, 1.9328e-10],\n",
              "         [6.5824e-21, 3.9255e-17, 1.5954e-18, 2.1063e-10, 1.3903e-10,\n",
              "          8.3839e-02, 2.8994e-21],\n",
              "         [6.1073e-21, 4.2787e-17, 1.4524e-18, 2.2694e-10, 1.3103e-10,\n",
              "          8.4448e-02, 3.1686e-21],\n",
              "         [5.9125e-21, 4.9945e-17, 1.4252e-18, 2.3042e-10, 1.2997e-10,\n",
              "          8.3214e-02, 3.0281e-21],\n",
              "         [6.3653e-21, 6.9032e-17, 1.6116e-18, 1.8326e-10, 1.1577e-10,\n",
              "          7.5917e-02, 3.2654e-21],\n",
              "         [7.6542e-21, 8.0792e-16, 2.8954e-18, 1.0009e-10, 6.3248e-11,\n",
              "          3.4053e-02, 5.4156e-21],\n",
              "         [1.3257e-20, 4.1359e-17, 7.1041e-18, 8.7225e-11, 1.6039e-10,\n",
              "          5.3512e-02, 3.1312e-21],\n",
              "         [6.6948e-21, 3.8668e-17, 1.4902e-18, 2.1222e-10, 1.4174e-10,\n",
              "          8.4342e-02, 2.9839e-21],\n",
              "         [6.5356e-21, 4.1800e-17, 1.4768e-18, 2.1248e-10, 1.3793e-10,\n",
              "          8.4564e-02, 3.0845e-21],\n",
              "         [5.9917e-21, 4.4387e-17, 1.4025e-18, 2.2313e-10, 1.2615e-10,\n",
              "          8.3789e-02, 3.3507e-21],\n",
              "         [2.6851e-10, 4.4341e-06, 4.7711e-08, 4.9431e-02, 3.7290e-02,\n",
              "          1.9874e-20, 2.5009e-01],\n",
              "         [2.6514e-01, 4.2177e-06, 5.7102e-08, 1.3441e-01, 2.5388e-02,\n",
              "          1.5205e-20, 1.5142e-10],\n",
              "         [8.9665e-06, 3.1070e-05, 8.6557e-03, 4.3501e-02, 7.4676e-04,\n",
              "          1.0230e-19, 7.6078e-13],\n",
              "         [5.4455e-11, 2.6932e-08, 9.9134e-01, 2.1748e-02, 6.9381e-01,\n",
              "          5.1476e-19, 1.4981e-12]]], grad_fn=<SoftmaxBackward0>)"
            ]
          },
          "metadata": {},
          "execution_count": 245
        }
      ]
    },
    {
      "cell_type": "code",
      "source": [
        "# coba cari proba nya\n",
        "\n",
        "hasil = {\"words\":[],\n",
        "         \"label\":[],\n",
        "         \"proba\":[]\n",
        "         }\n",
        "\n",
        "text = 'Ketua DPP PDI Perjuangan Puan Maharani menjelaskan maksud dari pidato Megawati Soekarnoputri di acara Hari Ulang Tahun (HUT) ke-50 PDI-P yang menyinggung nasib Presiden Joko Widodo jika tak ada partai banteng.'\n",
        "text = text_cleaning(text, True)\n",
        "text = word_tokenize(text)\n",
        "subwords, subword_to_word_indices = word_subword_tokenize(text, tokenizer)\n",
        "\n",
        "subwords = torch.LongTensor(subwords).view(1, -1).to(model.device)\n",
        "subword_to_word_indices = torch.LongTensor(subword_to_word_indices).view(1, -1).to(model.device)\n",
        "\n",
        "import torch.nn.functional as nnf\n",
        "\n",
        "try:\n",
        "  logits = model(subwords, subword_to_word_indices)[0]\n",
        "\n",
        "  prob = nnf.softmax(logits, dim=1)\n",
        "\n",
        "  top_p, top_class = prob.topk(k=1, dim = -1)\n",
        "  top_class = top_class.reshape(-1).numpy()\n",
        "\n",
        "  # labels = [i2w[top_class[i]] for i in range(len(top_class))]\n",
        "  proba = top_p.reshape(-1).tolist()\n",
        "\n",
        "  preds = torch.topk(logits, k=1, dim=-1)[1].squeeze().cpu().numpy()\n",
        "  labels = [i2w[preds[i]] for i in range(len(preds))]\n",
        "\n",
        "  hasil[\"words\"].append(text)\n",
        "  hasil['label'].append(labels)\n",
        "  hasil['proba'].append(proba)\n",
        "\n",
        "  # hasil = pd.DataFrame({'words': text, 'label': labels, 'proba': top_p})\n",
        "\n",
        "  hasil_full = pd.DataFrame(hasil)\n",
        "\n",
        "except:\n",
        "  pass"
      ],
      "metadata": {
        "id": "1bXe769muJIn"
      },
      "execution_count": null,
      "outputs": []
    },
    {
      "cell_type": "code",
      "source": [
        "hasil_full"
      ],
      "metadata": {
        "colab": {
          "base_uri": "https://localhost:8080/",
          "height": 125
        },
        "id": "sFUv6hmIuzqZ",
        "outputId": "7588ad19-6832-48e3-d7a7-a23f871710e3"
      },
      "execution_count": null,
      "outputs": [
        {
          "output_type": "execute_result",
          "data": {
            "text/plain": [
              "                                               words  \\\n",
              "0  [ketua, dpp, pdi, perjuangan, puan, maharani, ...   \n",
              "\n",
              "                                               label  \\\n",
              "0  [O, O, B-ORGANISATION, O, B-PERSON, I-PERSON, ...   \n",
              "\n",
              "                                               proba  \n",
              "0  [0.08297403901815414, 0.08181145042181015, 0.9...  "
            ],
            "text/html": [
              "\n",
              "  <div id=\"df-ea4502c7-f43d-4462-b1c4-6e3ab4822f36\">\n",
              "    <div class=\"colab-df-container\">\n",
              "      <div>\n",
              "<style scoped>\n",
              "    .dataframe tbody tr th:only-of-type {\n",
              "        vertical-align: middle;\n",
              "    }\n",
              "\n",
              "    .dataframe tbody tr th {\n",
              "        vertical-align: top;\n",
              "    }\n",
              "\n",
              "    .dataframe thead th {\n",
              "        text-align: right;\n",
              "    }\n",
              "</style>\n",
              "<table border=\"1\" class=\"dataframe\">\n",
              "  <thead>\n",
              "    <tr style=\"text-align: right;\">\n",
              "      <th></th>\n",
              "      <th>words</th>\n",
              "      <th>label</th>\n",
              "      <th>proba</th>\n",
              "    </tr>\n",
              "  </thead>\n",
              "  <tbody>\n",
              "    <tr>\n",
              "      <th>0</th>\n",
              "      <td>[ketua, dpp, pdi, perjuangan, puan, maharani, ...</td>\n",
              "      <td>[O, O, B-ORGANISATION, O, B-PERSON, I-PERSON, ...</td>\n",
              "      <td>[0.08297403901815414, 0.08181145042181015, 0.9...</td>\n",
              "    </tr>\n",
              "  </tbody>\n",
              "</table>\n",
              "</div>\n",
              "      <button class=\"colab-df-convert\" onclick=\"convertToInteractive('df-ea4502c7-f43d-4462-b1c4-6e3ab4822f36')\"\n",
              "              title=\"Convert this dataframe to an interactive table.\"\n",
              "              style=\"display:none;\">\n",
              "        \n",
              "  <svg xmlns=\"http://www.w3.org/2000/svg\" height=\"24px\"viewBox=\"0 0 24 24\"\n",
              "       width=\"24px\">\n",
              "    <path d=\"M0 0h24v24H0V0z\" fill=\"none\"/>\n",
              "    <path d=\"M18.56 5.44l.94 2.06.94-2.06 2.06-.94-2.06-.94-.94-2.06-.94 2.06-2.06.94zm-11 1L8.5 8.5l.94-2.06 2.06-.94-2.06-.94L8.5 2.5l-.94 2.06-2.06.94zm10 10l.94 2.06.94-2.06 2.06-.94-2.06-.94-.94-2.06-.94 2.06-2.06.94z\"/><path d=\"M17.41 7.96l-1.37-1.37c-.4-.4-.92-.59-1.43-.59-.52 0-1.04.2-1.43.59L10.3 9.45l-7.72 7.72c-.78.78-.78 2.05 0 2.83L4 21.41c.39.39.9.59 1.41.59.51 0 1.02-.2 1.41-.59l7.78-7.78 2.81-2.81c.8-.78.8-2.07 0-2.86zM5.41 20L4 18.59l7.72-7.72 1.47 1.35L5.41 20z\"/>\n",
              "  </svg>\n",
              "      </button>\n",
              "      \n",
              "  <style>\n",
              "    .colab-df-container {\n",
              "      display:flex;\n",
              "      flex-wrap:wrap;\n",
              "      gap: 12px;\n",
              "    }\n",
              "\n",
              "    .colab-df-convert {\n",
              "      background-color: #E8F0FE;\n",
              "      border: none;\n",
              "      border-radius: 50%;\n",
              "      cursor: pointer;\n",
              "      display: none;\n",
              "      fill: #1967D2;\n",
              "      height: 32px;\n",
              "      padding: 0 0 0 0;\n",
              "      width: 32px;\n",
              "    }\n",
              "\n",
              "    .colab-df-convert:hover {\n",
              "      background-color: #E2EBFA;\n",
              "      box-shadow: 0px 1px 2px rgba(60, 64, 67, 0.3), 0px 1px 3px 1px rgba(60, 64, 67, 0.15);\n",
              "      fill: #174EA6;\n",
              "    }\n",
              "\n",
              "    [theme=dark] .colab-df-convert {\n",
              "      background-color: #3B4455;\n",
              "      fill: #D2E3FC;\n",
              "    }\n",
              "\n",
              "    [theme=dark] .colab-df-convert:hover {\n",
              "      background-color: #434B5C;\n",
              "      box-shadow: 0px 1px 3px 1px rgba(0, 0, 0, 0.15);\n",
              "      filter: drop-shadow(0px 1px 2px rgba(0, 0, 0, 0.3));\n",
              "      fill: #FFFFFF;\n",
              "    }\n",
              "  </style>\n",
              "\n",
              "      <script>\n",
              "        const buttonEl =\n",
              "          document.querySelector('#df-ea4502c7-f43d-4462-b1c4-6e3ab4822f36 button.colab-df-convert');\n",
              "        buttonEl.style.display =\n",
              "          google.colab.kernel.accessAllowed ? 'block' : 'none';\n",
              "\n",
              "        async function convertToInteractive(key) {\n",
              "          const element = document.querySelector('#df-ea4502c7-f43d-4462-b1c4-6e3ab4822f36');\n",
              "          const dataTable =\n",
              "            await google.colab.kernel.invokeFunction('convertToInteractive',\n",
              "                                                     [key], {});\n",
              "          if (!dataTable) return;\n",
              "\n",
              "          const docLinkHtml = 'Like what you see? Visit the ' +\n",
              "            '<a target=\"_blank\" href=https://colab.research.google.com/notebooks/data_table.ipynb>data table notebook</a>'\n",
              "            + ' to learn more about interactive tables.';\n",
              "          element.innerHTML = '';\n",
              "          dataTable['output_type'] = 'display_data';\n",
              "          await google.colab.output.renderOutput(dataTable, element);\n",
              "          const docLink = document.createElement('div');\n",
              "          docLink.innerHTML = docLinkHtml;\n",
              "          element.appendChild(docLink);\n",
              "        }\n",
              "      </script>\n",
              "    </div>\n",
              "  </div>\n",
              "  "
            ]
          },
          "metadata": {},
          "execution_count": 235
        }
      ]
    },
    {
      "cell_type": "code",
      "source": [
        "word = [item for sublist in hasil_full['words'].tolist() for item in sublist]\n",
        "label = [item for sublist in hasil_full['label'].tolist() for item in sublist]\n",
        "proba = [item for sublist in hasil_full['proba'].tolist() for item in sublist]\n",
        "\n",
        "hasil = pd.DataFrame({'words': word, 'label': label, 'proba': proba})"
      ],
      "metadata": {
        "id": "n_lDwXYw3OW4"
      },
      "execution_count": null,
      "outputs": []
    },
    {
      "cell_type": "code",
      "source": [
        "hasil"
      ],
      "metadata": {
        "colab": {
          "base_uri": "https://localhost:8080/",
          "height": 770
        },
        "id": "_rciDhp420sK",
        "outputId": "b42adda3-b9d4-4885-fc6f-08a08d2c4dcc"
      },
      "execution_count": null,
      "outputs": [
        {
          "output_type": "execute_result",
          "data": {
            "text/plain": [
              "            words           label     proba\n",
              "0           ketua               O  0.082974\n",
              "1             dpp               O  0.081811\n",
              "2             pdi  B-ORGANISATION  0.999935\n",
              "3      perjuangan               O  0.000012\n",
              "4            puan        B-PERSON  0.377553\n",
              "5        maharani        I-PERSON  0.401251\n",
              "6          maksud               O  0.083589\n",
              "7          pidato               O  0.083947\n",
              "8        megawati        B-PERSON  0.372362\n",
              "9   soekarnoputri        I-PERSON  0.333600\n",
              "10          acara               O  0.083839\n",
              "11          ulang               O  0.084448\n",
              "12            hut               O  0.083214\n",
              "13             50               O  0.075917\n",
              "14            pdi               O  0.034053\n",
              "15              p               O  0.053512\n",
              "16    menyinggung               O  0.084342\n",
              "17          nasib               O  0.084564\n",
              "18       presiden               O  0.083789\n",
              "19           joko        B-PERSON  0.250085\n",
              "20         widodo        I-PERSON  0.265140\n",
              "21         partai  I-ORGANISATION  0.043501\n",
              "22        banteng  I-ORGANISATION  0.991344"
            ],
            "text/html": [
              "\n",
              "  <div id=\"df-7dcb549e-16d9-4f3c-9f72-64df0cdc17d1\">\n",
              "    <div class=\"colab-df-container\">\n",
              "      <div>\n",
              "<style scoped>\n",
              "    .dataframe tbody tr th:only-of-type {\n",
              "        vertical-align: middle;\n",
              "    }\n",
              "\n",
              "    .dataframe tbody tr th {\n",
              "        vertical-align: top;\n",
              "    }\n",
              "\n",
              "    .dataframe thead th {\n",
              "        text-align: right;\n",
              "    }\n",
              "</style>\n",
              "<table border=\"1\" class=\"dataframe\">\n",
              "  <thead>\n",
              "    <tr style=\"text-align: right;\">\n",
              "      <th></th>\n",
              "      <th>words</th>\n",
              "      <th>label</th>\n",
              "      <th>proba</th>\n",
              "    </tr>\n",
              "  </thead>\n",
              "  <tbody>\n",
              "    <tr>\n",
              "      <th>0</th>\n",
              "      <td>ketua</td>\n",
              "      <td>O</td>\n",
              "      <td>0.082974</td>\n",
              "    </tr>\n",
              "    <tr>\n",
              "      <th>1</th>\n",
              "      <td>dpp</td>\n",
              "      <td>O</td>\n",
              "      <td>0.081811</td>\n",
              "    </tr>\n",
              "    <tr>\n",
              "      <th>2</th>\n",
              "      <td>pdi</td>\n",
              "      <td>B-ORGANISATION</td>\n",
              "      <td>0.999935</td>\n",
              "    </tr>\n",
              "    <tr>\n",
              "      <th>3</th>\n",
              "      <td>perjuangan</td>\n",
              "      <td>O</td>\n",
              "      <td>0.000012</td>\n",
              "    </tr>\n",
              "    <tr>\n",
              "      <th>4</th>\n",
              "      <td>puan</td>\n",
              "      <td>B-PERSON</td>\n",
              "      <td>0.377553</td>\n",
              "    </tr>\n",
              "    <tr>\n",
              "      <th>5</th>\n",
              "      <td>maharani</td>\n",
              "      <td>I-PERSON</td>\n",
              "      <td>0.401251</td>\n",
              "    </tr>\n",
              "    <tr>\n",
              "      <th>6</th>\n",
              "      <td>maksud</td>\n",
              "      <td>O</td>\n",
              "      <td>0.083589</td>\n",
              "    </tr>\n",
              "    <tr>\n",
              "      <th>7</th>\n",
              "      <td>pidato</td>\n",
              "      <td>O</td>\n",
              "      <td>0.083947</td>\n",
              "    </tr>\n",
              "    <tr>\n",
              "      <th>8</th>\n",
              "      <td>megawati</td>\n",
              "      <td>B-PERSON</td>\n",
              "      <td>0.372362</td>\n",
              "    </tr>\n",
              "    <tr>\n",
              "      <th>9</th>\n",
              "      <td>soekarnoputri</td>\n",
              "      <td>I-PERSON</td>\n",
              "      <td>0.333600</td>\n",
              "    </tr>\n",
              "    <tr>\n",
              "      <th>10</th>\n",
              "      <td>acara</td>\n",
              "      <td>O</td>\n",
              "      <td>0.083839</td>\n",
              "    </tr>\n",
              "    <tr>\n",
              "      <th>11</th>\n",
              "      <td>ulang</td>\n",
              "      <td>O</td>\n",
              "      <td>0.084448</td>\n",
              "    </tr>\n",
              "    <tr>\n",
              "      <th>12</th>\n",
              "      <td>hut</td>\n",
              "      <td>O</td>\n",
              "      <td>0.083214</td>\n",
              "    </tr>\n",
              "    <tr>\n",
              "      <th>13</th>\n",
              "      <td>50</td>\n",
              "      <td>O</td>\n",
              "      <td>0.075917</td>\n",
              "    </tr>\n",
              "    <tr>\n",
              "      <th>14</th>\n",
              "      <td>pdi</td>\n",
              "      <td>O</td>\n",
              "      <td>0.034053</td>\n",
              "    </tr>\n",
              "    <tr>\n",
              "      <th>15</th>\n",
              "      <td>p</td>\n",
              "      <td>O</td>\n",
              "      <td>0.053512</td>\n",
              "    </tr>\n",
              "    <tr>\n",
              "      <th>16</th>\n",
              "      <td>menyinggung</td>\n",
              "      <td>O</td>\n",
              "      <td>0.084342</td>\n",
              "    </tr>\n",
              "    <tr>\n",
              "      <th>17</th>\n",
              "      <td>nasib</td>\n",
              "      <td>O</td>\n",
              "      <td>0.084564</td>\n",
              "    </tr>\n",
              "    <tr>\n",
              "      <th>18</th>\n",
              "      <td>presiden</td>\n",
              "      <td>O</td>\n",
              "      <td>0.083789</td>\n",
              "    </tr>\n",
              "    <tr>\n",
              "      <th>19</th>\n",
              "      <td>joko</td>\n",
              "      <td>B-PERSON</td>\n",
              "      <td>0.250085</td>\n",
              "    </tr>\n",
              "    <tr>\n",
              "      <th>20</th>\n",
              "      <td>widodo</td>\n",
              "      <td>I-PERSON</td>\n",
              "      <td>0.265140</td>\n",
              "    </tr>\n",
              "    <tr>\n",
              "      <th>21</th>\n",
              "      <td>partai</td>\n",
              "      <td>I-ORGANISATION</td>\n",
              "      <td>0.043501</td>\n",
              "    </tr>\n",
              "    <tr>\n",
              "      <th>22</th>\n",
              "      <td>banteng</td>\n",
              "      <td>I-ORGANISATION</td>\n",
              "      <td>0.991344</td>\n",
              "    </tr>\n",
              "  </tbody>\n",
              "</table>\n",
              "</div>\n",
              "      <button class=\"colab-df-convert\" onclick=\"convertToInteractive('df-7dcb549e-16d9-4f3c-9f72-64df0cdc17d1')\"\n",
              "              title=\"Convert this dataframe to an interactive table.\"\n",
              "              style=\"display:none;\">\n",
              "        \n",
              "  <svg xmlns=\"http://www.w3.org/2000/svg\" height=\"24px\"viewBox=\"0 0 24 24\"\n",
              "       width=\"24px\">\n",
              "    <path d=\"M0 0h24v24H0V0z\" fill=\"none\"/>\n",
              "    <path d=\"M18.56 5.44l.94 2.06.94-2.06 2.06-.94-2.06-.94-.94-2.06-.94 2.06-2.06.94zm-11 1L8.5 8.5l.94-2.06 2.06-.94-2.06-.94L8.5 2.5l-.94 2.06-2.06.94zm10 10l.94 2.06.94-2.06 2.06-.94-2.06-.94-.94-2.06-.94 2.06-2.06.94z\"/><path d=\"M17.41 7.96l-1.37-1.37c-.4-.4-.92-.59-1.43-.59-.52 0-1.04.2-1.43.59L10.3 9.45l-7.72 7.72c-.78.78-.78 2.05 0 2.83L4 21.41c.39.39.9.59 1.41.59.51 0 1.02-.2 1.41-.59l7.78-7.78 2.81-2.81c.8-.78.8-2.07 0-2.86zM5.41 20L4 18.59l7.72-7.72 1.47 1.35L5.41 20z\"/>\n",
              "  </svg>\n",
              "      </button>\n",
              "      \n",
              "  <style>\n",
              "    .colab-df-container {\n",
              "      display:flex;\n",
              "      flex-wrap:wrap;\n",
              "      gap: 12px;\n",
              "    }\n",
              "\n",
              "    .colab-df-convert {\n",
              "      background-color: #E8F0FE;\n",
              "      border: none;\n",
              "      border-radius: 50%;\n",
              "      cursor: pointer;\n",
              "      display: none;\n",
              "      fill: #1967D2;\n",
              "      height: 32px;\n",
              "      padding: 0 0 0 0;\n",
              "      width: 32px;\n",
              "    }\n",
              "\n",
              "    .colab-df-convert:hover {\n",
              "      background-color: #E2EBFA;\n",
              "      box-shadow: 0px 1px 2px rgba(60, 64, 67, 0.3), 0px 1px 3px 1px rgba(60, 64, 67, 0.15);\n",
              "      fill: #174EA6;\n",
              "    }\n",
              "\n",
              "    [theme=dark] .colab-df-convert {\n",
              "      background-color: #3B4455;\n",
              "      fill: #D2E3FC;\n",
              "    }\n",
              "\n",
              "    [theme=dark] .colab-df-convert:hover {\n",
              "      background-color: #434B5C;\n",
              "      box-shadow: 0px 1px 3px 1px rgba(0, 0, 0, 0.15);\n",
              "      filter: drop-shadow(0px 1px 2px rgba(0, 0, 0, 0.3));\n",
              "      fill: #FFFFFF;\n",
              "    }\n",
              "  </style>\n",
              "\n",
              "      <script>\n",
              "        const buttonEl =\n",
              "          document.querySelector('#df-7dcb549e-16d9-4f3c-9f72-64df0cdc17d1 button.colab-df-convert');\n",
              "        buttonEl.style.display =\n",
              "          google.colab.kernel.accessAllowed ? 'block' : 'none';\n",
              "\n",
              "        async function convertToInteractive(key) {\n",
              "          const element = document.querySelector('#df-7dcb549e-16d9-4f3c-9f72-64df0cdc17d1');\n",
              "          const dataTable =\n",
              "            await google.colab.kernel.invokeFunction('convertToInteractive',\n",
              "                                                     [key], {});\n",
              "          if (!dataTable) return;\n",
              "\n",
              "          const docLinkHtml = 'Like what you see? Visit the ' +\n",
              "            '<a target=\"_blank\" href=https://colab.research.google.com/notebooks/data_table.ipynb>data table notebook</a>'\n",
              "            + ' to learn more about interactive tables.';\n",
              "          element.innerHTML = '';\n",
              "          dataTable['output_type'] = 'display_data';\n",
              "          await google.colab.output.renderOutput(dataTable, element);\n",
              "          const docLink = document.createElement('div');\n",
              "          docLink.innerHTML = docLinkHtml;\n",
              "          element.appendChild(docLink);\n",
              "        }\n",
              "      </script>\n",
              "    </div>\n",
              "  </div>\n",
              "  "
            ]
          },
          "metadata": {},
          "execution_count": 237
        }
      ]
    },
    {
      "cell_type": "code",
      "source": [
        "# import torch.nn.functional as nnf\n",
        "\n",
        "# prob = nnf.softmax(logits, dim=1)\n",
        "\n",
        "# top_p, top_class = prob.topk(k=1, dim = -1)\n",
        "# top_p = top_p.reshape(-1).tolist()\n",
        "# top_class = top_class.reshape(-1).numpy()"
      ],
      "metadata": {
        "id": "jnuv6XVDsHCm"
      },
      "execution_count": null,
      "outputs": []
    },
    {
      "cell_type": "code",
      "source": [
        "# convert_class = [i2w[top_class[i]] for i in range(len(top_class))]\n",
        "\n",
        "# for p,c in zip(top_p[0].tolist(), top_class[0].tolist()):\n",
        "#   print(c)\n",
        "#   for num in p:\n",
        "#     print(\"{:f}\".format(num))"
      ],
      "metadata": {
        "id": "oLvqjHpUvltc"
      },
      "execution_count": null,
      "outputs": []
    },
    {
      "cell_type": "code",
      "execution_count": null,
      "metadata": {
        "id": "nKS8Z1ukqg_M"
      },
      "outputs": [],
      "source": [
        "# kalau udha dapat hasil di df nya maka kesini\n",
        "\n",
        "hasil = hasil.drop_duplicates().reset_index(drop=True)\n",
        "hasil = hasil[hasil['label'] != 'O'].reset_index(drop=True)"
      ]
    },
    {
      "cell_type": "code",
      "execution_count": null,
      "metadata": {
        "colab": {
          "base_uri": "https://localhost:8080/",
          "height": 331
        },
        "outputId": "7ff3220b-6eef-4bda-aafc-bf28519243aa",
        "id": "PrTgBbqTqg_M"
      },
      "outputs": [
        {
          "output_type": "execute_result",
          "data": {
            "text/plain": [
              "           words           label     proba\n",
              "0            pdi  B-ORGANISATION  0.999935\n",
              "1           puan        B-PERSON  0.377553\n",
              "2       maharani        I-PERSON  0.401251\n",
              "3       megawati        B-PERSON  0.372362\n",
              "4  soekarnoputri        I-PERSON  0.333600\n",
              "5           joko        B-PERSON  0.250085\n",
              "6         widodo        I-PERSON  0.265140\n",
              "7         partai  I-ORGANISATION  0.043501\n",
              "8        banteng  I-ORGANISATION  0.991344"
            ],
            "text/html": [
              "\n",
              "  <div id=\"df-84377376-05fe-4fc7-aa4b-6d58787d8ed8\">\n",
              "    <div class=\"colab-df-container\">\n",
              "      <div>\n",
              "<style scoped>\n",
              "    .dataframe tbody tr th:only-of-type {\n",
              "        vertical-align: middle;\n",
              "    }\n",
              "\n",
              "    .dataframe tbody tr th {\n",
              "        vertical-align: top;\n",
              "    }\n",
              "\n",
              "    .dataframe thead th {\n",
              "        text-align: right;\n",
              "    }\n",
              "</style>\n",
              "<table border=\"1\" class=\"dataframe\">\n",
              "  <thead>\n",
              "    <tr style=\"text-align: right;\">\n",
              "      <th></th>\n",
              "      <th>words</th>\n",
              "      <th>label</th>\n",
              "      <th>proba</th>\n",
              "    </tr>\n",
              "  </thead>\n",
              "  <tbody>\n",
              "    <tr>\n",
              "      <th>0</th>\n",
              "      <td>pdi</td>\n",
              "      <td>B-ORGANISATION</td>\n",
              "      <td>0.999935</td>\n",
              "    </tr>\n",
              "    <tr>\n",
              "      <th>1</th>\n",
              "      <td>puan</td>\n",
              "      <td>B-PERSON</td>\n",
              "      <td>0.377553</td>\n",
              "    </tr>\n",
              "    <tr>\n",
              "      <th>2</th>\n",
              "      <td>maharani</td>\n",
              "      <td>I-PERSON</td>\n",
              "      <td>0.401251</td>\n",
              "    </tr>\n",
              "    <tr>\n",
              "      <th>3</th>\n",
              "      <td>megawati</td>\n",
              "      <td>B-PERSON</td>\n",
              "      <td>0.372362</td>\n",
              "    </tr>\n",
              "    <tr>\n",
              "      <th>4</th>\n",
              "      <td>soekarnoputri</td>\n",
              "      <td>I-PERSON</td>\n",
              "      <td>0.333600</td>\n",
              "    </tr>\n",
              "    <tr>\n",
              "      <th>5</th>\n",
              "      <td>joko</td>\n",
              "      <td>B-PERSON</td>\n",
              "      <td>0.250085</td>\n",
              "    </tr>\n",
              "    <tr>\n",
              "      <th>6</th>\n",
              "      <td>widodo</td>\n",
              "      <td>I-PERSON</td>\n",
              "      <td>0.265140</td>\n",
              "    </tr>\n",
              "    <tr>\n",
              "      <th>7</th>\n",
              "      <td>partai</td>\n",
              "      <td>I-ORGANISATION</td>\n",
              "      <td>0.043501</td>\n",
              "    </tr>\n",
              "    <tr>\n",
              "      <th>8</th>\n",
              "      <td>banteng</td>\n",
              "      <td>I-ORGANISATION</td>\n",
              "      <td>0.991344</td>\n",
              "    </tr>\n",
              "  </tbody>\n",
              "</table>\n",
              "</div>\n",
              "      <button class=\"colab-df-convert\" onclick=\"convertToInteractive('df-84377376-05fe-4fc7-aa4b-6d58787d8ed8')\"\n",
              "              title=\"Convert this dataframe to an interactive table.\"\n",
              "              style=\"display:none;\">\n",
              "        \n",
              "  <svg xmlns=\"http://www.w3.org/2000/svg\" height=\"24px\"viewBox=\"0 0 24 24\"\n",
              "       width=\"24px\">\n",
              "    <path d=\"M0 0h24v24H0V0z\" fill=\"none\"/>\n",
              "    <path d=\"M18.56 5.44l.94 2.06.94-2.06 2.06-.94-2.06-.94-.94-2.06-.94 2.06-2.06.94zm-11 1L8.5 8.5l.94-2.06 2.06-.94-2.06-.94L8.5 2.5l-.94 2.06-2.06.94zm10 10l.94 2.06.94-2.06 2.06-.94-2.06-.94-.94-2.06-.94 2.06-2.06.94z\"/><path d=\"M17.41 7.96l-1.37-1.37c-.4-.4-.92-.59-1.43-.59-.52 0-1.04.2-1.43.59L10.3 9.45l-7.72 7.72c-.78.78-.78 2.05 0 2.83L4 21.41c.39.39.9.59 1.41.59.51 0 1.02-.2 1.41-.59l7.78-7.78 2.81-2.81c.8-.78.8-2.07 0-2.86zM5.41 20L4 18.59l7.72-7.72 1.47 1.35L5.41 20z\"/>\n",
              "  </svg>\n",
              "      </button>\n",
              "      \n",
              "  <style>\n",
              "    .colab-df-container {\n",
              "      display:flex;\n",
              "      flex-wrap:wrap;\n",
              "      gap: 12px;\n",
              "    }\n",
              "\n",
              "    .colab-df-convert {\n",
              "      background-color: #E8F0FE;\n",
              "      border: none;\n",
              "      border-radius: 50%;\n",
              "      cursor: pointer;\n",
              "      display: none;\n",
              "      fill: #1967D2;\n",
              "      height: 32px;\n",
              "      padding: 0 0 0 0;\n",
              "      width: 32px;\n",
              "    }\n",
              "\n",
              "    .colab-df-convert:hover {\n",
              "      background-color: #E2EBFA;\n",
              "      box-shadow: 0px 1px 2px rgba(60, 64, 67, 0.3), 0px 1px 3px 1px rgba(60, 64, 67, 0.15);\n",
              "      fill: #174EA6;\n",
              "    }\n",
              "\n",
              "    [theme=dark] .colab-df-convert {\n",
              "      background-color: #3B4455;\n",
              "      fill: #D2E3FC;\n",
              "    }\n",
              "\n",
              "    [theme=dark] .colab-df-convert:hover {\n",
              "      background-color: #434B5C;\n",
              "      box-shadow: 0px 1px 3px 1px rgba(0, 0, 0, 0.15);\n",
              "      filter: drop-shadow(0px 1px 2px rgba(0, 0, 0, 0.3));\n",
              "      fill: #FFFFFF;\n",
              "    }\n",
              "  </style>\n",
              "\n",
              "      <script>\n",
              "        const buttonEl =\n",
              "          document.querySelector('#df-84377376-05fe-4fc7-aa4b-6d58787d8ed8 button.colab-df-convert');\n",
              "        buttonEl.style.display =\n",
              "          google.colab.kernel.accessAllowed ? 'block' : 'none';\n",
              "\n",
              "        async function convertToInteractive(key) {\n",
              "          const element = document.querySelector('#df-84377376-05fe-4fc7-aa4b-6d58787d8ed8');\n",
              "          const dataTable =\n",
              "            await google.colab.kernel.invokeFunction('convertToInteractive',\n",
              "                                                     [key], {});\n",
              "          if (!dataTable) return;\n",
              "\n",
              "          const docLinkHtml = 'Like what you see? Visit the ' +\n",
              "            '<a target=\"_blank\" href=https://colab.research.google.com/notebooks/data_table.ipynb>data table notebook</a>'\n",
              "            + ' to learn more about interactive tables.';\n",
              "          element.innerHTML = '';\n",
              "          dataTable['output_type'] = 'display_data';\n",
              "          await google.colab.output.renderOutput(dataTable, element);\n",
              "          const docLink = document.createElement('div');\n",
              "          docLink.innerHTML = docLinkHtml;\n",
              "          element.appendChild(docLink);\n",
              "        }\n",
              "      </script>\n",
              "    </div>\n",
              "  </div>\n",
              "  "
            ]
          },
          "metadata": {},
          "execution_count": 239
        }
      ],
      "source": [
        "hasil"
      ]
    },
    {
      "cell_type": "code",
      "source": [
        "#full dibawah ini\n",
        "\n",
        "# print(text_mentah)\n",
        "print('-'*100)\n",
        "\n",
        "output = {}\n",
        "\n",
        "for i in range(len(hasil)):\n",
        "\n",
        "  # --------------- PERSON -----------------------------\n",
        "  try:\n",
        "    if hasil['label'][i]=='B-PERSON' and hasil['label'][i+1]!='I-PERSON':\n",
        "      print(hasil['words'][i], '=> PERSON')\n",
        "      output[hasil['words'][i]] = 'PERSON'\n",
        "    else:\n",
        "      pass\n",
        "\n",
        "  except:\n",
        "    pass\n",
        "\n",
        "  try:\n",
        "    if hasil['label'][i]=='B-PERSON' and ((i+1)==len(hasil)):\n",
        "      print(hasil['words'][i], '=> PERSON')\n",
        "      output[hasil['words'][i]] = 'PERSON'\n",
        "\n",
        "    else:\n",
        "      pass\n",
        "\n",
        "  except:\n",
        "    pass\n",
        "\n",
        "  try:\n",
        "    if hasil['label'][i]=='B-PERSON' and hasil['label'][i+1]=='I-PERSON' and hasil['label'][i+2]=='I-PERSON':\n",
        "      print(hasil['words'][i],hasil['words'][i+1],hasil['words'][i+2], '=> PERSON')\n",
        "      output[hasil['words'][i],hasil['words'][i+1],hasil['words'][i+2]] = 'PERSON'\n",
        "    elif hasil['label'][i]=='B-PERSON' and hasil['label'][i+1]=='I-PERSON':\n",
        "      print(hasil['words'][i],hasil['words'][i+1], '=> PERSON')\n",
        "      output[hasil['words'][i],hasil['words'][i+1]] = 'PERSON'\n",
        "    else:\n",
        "      pass\n",
        "\n",
        "  except:\n",
        "    pass\n",
        "\n",
        "\n",
        "  # --------------- PLACE -----------------------------\n",
        "  try:\n",
        "    if hasil['label'][i]=='B-PLACE' and hasil['label'][i+1]!='I-PLACE':\n",
        "      print(hasil['words'][i], '=> PLACE')\n",
        "      output[hasil['words'][i]] = 'PLACE'\n",
        "    else:\n",
        "      pass\n",
        "\n",
        "  except:\n",
        "    if hasil['label'][i]=='B-PLACE' and ((i+1)==len(hasil)):\n",
        "      print(hasil['words'][i], '=> PLACE')\n",
        "      output[hasil['words'][i]] = 'PLACE'\n",
        "    else:\n",
        "      pass\n",
        "\n",
        "  try:\n",
        "    if hasil['label'][i]=='B-PLACE' and hasil['label'][i+1]=='I-PLACE' and hasil['label'][i+2]=='I-PLACE':\n",
        "      print(hasil['words'][i],hasil['words'][i+1],hasil['words'][i+2], '=> PLACE')\n",
        "      output[hasil['words'][i],hasil['words'][i+1],hasil['words'][i+2]] = 'PLACE'\n",
        "    elif hasil['label'][i]=='B-PLACE' and hasil['label'][i+1]=='I-PLACE':\n",
        "      print(hasil['words'][i],hasil['words'][i+1], '=> PLACE')\n",
        "      output[hasil['words'][i],hasil['words'][i+1]] = 'PLACE'\n",
        "    else:\n",
        "      pass\n",
        "\n",
        "  except:\n",
        "    pass\n",
        "\n",
        "  # --------------- ORGANISATION ----------------------------\n",
        "  try:\n",
        "    if hasil['label'][i]=='B-ORGANISATION' and hasil['label'][i+1]!='I-ORGANISATION':\n",
        "      print(hasil['words'][i], '=> ORGANISATION')\n",
        "      output[hasil['words'][i]] = 'ORGANISATION'\n",
        "    else:\n",
        "      pass\n",
        "\n",
        "  except:\n",
        "    if hasil['label'][i]=='B-ORGANISATION' and ((i+1)==len(hasil)):\n",
        "      print(hasil['words'][i], '=> ORGANISATION')\n",
        "      output[hasil['words'][i]] = 'ORGANISATION'\n",
        "    else:\n",
        "      pass\n",
        "\n",
        "  try:\n",
        "    if hasil['label'][i]=='B-ORGANISATION' and hasil['label'][i+1]=='I-ORGANISATION' and hasil['label'][i+2]=='I-ORGANISATION':\n",
        "      print(hasil['words'][i],hasil['words'][i+1],hasil['words'][i+2], '=> ORGANISATION')\n",
        "      output[hasil['words'][i],hasil['words'][i+1]],hasil['words'][i+2] = 'ORGANISATION'\n",
        "    elif hasil['label'][i]=='B-ORGANISATION' and hasil['label'][i+1]=='I-ORGANISATION':\n",
        "      print(hasil['words'][i],hasil['words'][i+1], '=> ORGANISATION')\n",
        "      output[hasil['words'][i],hasil['words'][i+1]] = 'ORGANISATION'\n",
        "    else:\n",
        "      pass\n",
        "\n",
        "  except:\n",
        "    pass\n",
        "\n",
        "  # --------------- O -----------------------------\n",
        "  try:\n",
        "    if hasil['label'][i]=='O':\n",
        "      print(hasil['words'][i], '=> O')\n",
        "      output[hasil['words'][i]] = 'O'\n",
        "    else:\n",
        "      pass\n",
        "\n",
        "  except:\n",
        "    pass\n",
        "\n",
        "# for x,y in enumerate(text):\n",
        "#   if bool(re.findall(r\"(?=(\"+'|'.join(kata)+r\"))\", y)) == True:\n",
        "#     #print(y)\n",
        "\n",
        "#     if y == 'kata':\n",
        "#       print(' '.join([str(elem) for elem in text]).split('kata')[0].strip())"
      ],
      "metadata": {
        "colab": {
          "base_uri": "https://localhost:8080/"
        },
        "outputId": "9f1f3d58-7a53-4b88-9be8-b64c9ca932c4",
        "id": "SW2bwdq4qg_M"
      },
      "execution_count": null,
      "outputs": [
        {
          "output_type": "stream",
          "name": "stdout",
          "text": [
            "----------------------------------------------------------------------------------------------------\n",
            "pdi => ORGANISATION\n",
            "puan maharani => PERSON\n",
            "megawati soekarnoputri => PERSON\n",
            "joko widodo => PERSON\n"
          ]
        }
      ]
    },
    {
      "cell_type": "code",
      "execution_count": null,
      "metadata": {
        "id": "A-kRasoVqg_N"
      },
      "outputs": [],
      "source": [
        "# output"
      ]
    },
    {
      "cell_type": "code",
      "execution_count": null,
      "metadata": {
        "colab": {
          "base_uri": "https://localhost:8080/"
        },
        "outputId": "6b6e109c-b6f8-4cb3-8b25-248124064018",
        "id": "KXMcirZqqg_N"
      },
      "outputs": [
        {
          "output_type": "execute_result",
          "data": {
            "text/plain": [
              "dict_items([('pdi', 'ORGANISATION'), (('puan', 'maharani'), 'PERSON'), (('megawati', 'soekarnoputri'), 'PERSON'), (('joko', 'widodo'), 'PERSON')])"
            ]
          },
          "metadata": {},
          "execution_count": 241
        }
      ],
      "source": [
        "output.items()"
      ]
    },
    {
      "cell_type": "code",
      "execution_count": null,
      "metadata": {
        "id": "GyrXqXegqg_N"
      },
      "outputs": [],
      "source": [
        "new_output = {}\n",
        "for k,v in output.items():\n",
        "  if type(k) == tuple:\n",
        "    new_output[' '.join(k)] = v\n",
        "\n",
        "  else:\n",
        "    new_output[''.join(k)] = v\n",
        "\n",
        "# new_output\n",
        "\n",
        "df = pd.DataFrame()\n",
        "\n",
        "df['text'] = new_output.keys()\n",
        "df['label'] = new_output.values()"
      ]
    },
    {
      "cell_type": "code",
      "execution_count": null,
      "metadata": {
        "colab": {
          "base_uri": "https://localhost:8080/"
        },
        "outputId": "20473ee2-ef95-46b6-b081-6dcf883d4636",
        "id": "dp0y5Xbtqg_N"
      },
      "outputs": [
        {
          "output_type": "execute_result",
          "data": {
            "text/plain": [
              "PERSON          3\n",
              "ORGANISATION    1\n",
              "Name: label, dtype: int64"
            ]
          },
          "metadata": {},
          "execution_count": 243
        }
      ],
      "source": [
        "df['label'].value_counts()"
      ]
    },
    {
      "cell_type": "markdown",
      "source": [
        "### Hasil"
      ],
      "metadata": {
        "id": "9iR52Ogbqg_N"
      }
    },
    {
      "cell_type": "code",
      "execution_count": null,
      "metadata": {
        "colab": {
          "base_uri": "https://localhost:8080/"
        },
        "outputId": "f959179e-20af-4719-a02e-c35719c8c914",
        "id": "RzKEQ_wrqg_N"
      },
      "outputs": [
        {
          "output_type": "stream",
          "name": "stdout",
          "text": [
            "                     text   label\n",
            "1           puan maharani  PERSON\n",
            "2  megawati soekarnoputri  PERSON\n",
            "3             joko widodo  PERSON\n",
            "Empty DataFrame\n",
            "Columns: [text, label]\n",
            "Index: []\n",
            "  text         label\n",
            "0  pdi  ORGANISATION\n"
          ]
        }
      ],
      "source": [
        "print(df[df['label'] == 'PERSON'])\n",
        "print(df[df['label'] == 'PLACE'])\n",
        "print(df[df['label'] == 'ORGANISATION'])"
      ]
    },
    {
      "cell_type": "code",
      "source": [],
      "metadata": {
        "id": "DEMMEXj_qg_N"
      },
      "execution_count": null,
      "outputs": []
    },
    {
      "cell_type": "code",
      "source": [
        "# df.to_csv('/content/drive/MyDrive/nolimit/NER/model/hasil_model3do.csv', index=False)"
      ],
      "metadata": {
        "id": "aU1zPZbxqg_O"
      },
      "execution_count": null,
      "outputs": []
    },
    {
      "cell_type": "markdown",
      "source": [
        "# Statement"
      ],
      "metadata": {
        "id": "-HwC_MMBgCC1"
      }
    },
    {
      "cell_type": "markdown",
      "source": [
        "## **untuk statement**"
      ],
      "metadata": {
        "id": "hhnI6go8JGl1"
      }
    },
    {
      "cell_type": "code",
      "execution_count": null,
      "metadata": {
        "id": "VIJ8sLepVcwH"
      },
      "outputs": [],
      "source": [
        "kata = [\n",
        "        'Ujar',\n",
        "        'Kata',\n",
        "        'Ucap',\n",
        "        'Mengatakan',\n",
        "        'Mengucapkan',\n",
        "        'Menugaskan',\n",
        "        'Bertanya',\n",
        "        'Berkata',\n",
        "        'Jawab',\n",
        "        'Perintah',\n",
        "        'Memerintahkan',\n",
        "        'Menugaskan',\n",
        "        'Menanyakan',\n",
        "        'Berkata',\n",
        "        'Berucap',\n",
        "        'Menyuruh',\n",
        "        'Memanggil',\n",
        "        'Cetus',\n",
        "        'Celetuk',\n",
        "        'Menyambut',\n",
        "        'Sambut',\n",
        "        'Menyanggah',\n",
        "        'Sanggah',\n",
        "        'Menyapa',\n",
        "        'Sapa',\n",
        "        'Tegur',\n",
        "        'Menegur',\n",
        "        'Harap',\n",
        "        'Balas',\n",
        "        'Membalas',\n",
        "        'Potong',\n",
        "        'Memotong',\n",
        "        'Usul',\n",
        "        'Mengusulkan',\n",
        "        'Menyampaikan',\n",
        "        'Tolak',\n",
        "        'Menolaknya',\n",
        "        'Ungkap',\n",
        "        'Mengungkapkan',\n",
        "        'Sahut',\n",
        "        'Lanjut',\n",
        "        'Saran',\n",
        "        'Menyarankan',\n",
        "        'Menyela'\n",
        "        ]"
      ]
    },
    {
      "cell_type": "code",
      "execution_count": null,
      "metadata": {
        "id": "Bdc62zruWcFj"
      },
      "outputs": [],
      "source": [
        "kata = [x.lower() for x in kata]"
      ]
    },
    {
      "cell_type": "code",
      "execution_count": null,
      "metadata": {
        "id": "fg0kbCQ4Wjfm"
      },
      "outputs": [],
      "source": [
        "print(kata)"
      ]
    },
    {
      "cell_type": "markdown",
      "metadata": {
        "id": "-sikgOTq-wMZ"
      },
      "source": [
        "**bismillah dibawah bisa untuk statement**"
      ]
    },
    {
      "cell_type": "markdown",
      "metadata": {
        "id": "fCDD7t5As7Jn"
      },
      "source": [
        "- list of paragraf\n",
        "- list of statement/kalimat\n",
        "- detect statement\n",
        "- dapat people dan statement\n",
        "- statement nya sentimen kan"
      ]
    },
    {
      "cell_type": "markdown",
      "metadata": {
        "id": "luJo2njauWDV"
      },
      "source": [
        "**tahap flow NER & Statement:** *Q1*\n",
        "\n",
        "- artikel\n",
        "- paragraf\n",
        "- kalimat\n",
        "- detect statement\n",
        "- extract statement + entity\n",
        "- classification sentiment"
      ]
    },
    {
      "cell_type": "code",
      "source": [
        "# artikel puan contoh\n",
        "\n",
        "text_mentah = \"\"\"JAKARTA, KOMPAS.com - Ketua DPP PDI Perjuangan Puan Maharani menjelaskan maksud dari pidato Megawati Soekarnoputri di acara Hari Ulang Tahun (HUT) ke-50 PDI-P yang menyinggung nasib Presiden Joko Widodo jika tak ada partai banteng.\n",
        "\n",
        "Menurut Puan, Megawati bicara demikian karena dia melihat potensi besar di diri Jokowi. Mega tengah mengibaratkan PDI-P sebagai wadah bagi para kader, termasuk Jokowi, untuk berjuang.\n",
        "\n",
        "\"Jadi ini sebagai wadah. Jadi maksudnya, ayo dong kita sama-sama maju, ayo dong sama-sama kita memberikan bakti kita, atau apa yang bisa kita lakukan untuk bisa membangun bangsa dan negara. Kan diperlukan, it takes two to tango untuk bisa melaksanakan hal itu,\" kata Puan dalam acara Rosi Kompas TV, dikutip Jumat (13/1/2023).\n",
        "\n",
        "Puan mengatakan, sebagai ketua umum PDI-P, Megawati selalu menempatkan diri sebagai ibu bagi kader-kader partai banteng. Dia pun menilai, pernyataan Mega itu wajar diucapkan seorang ketua umum partai.\n",
        "\n",
        "\"Kenapa di acara PDI Perjuangan bicara seperti itu, karena ini acara internal, dianggap semua (kader) itu anak-anaknya,\" ujarnya.\n",
        "\n",
        "Puan mengatakan, Megawati tak bermaksud merendahkan Jokowi dengan mengatakan nasib Jokowi mungkin berbeda jika PDI-P tak ada.\n",
        "\n",
        "Sebaliknya, Ketua DPR RI itu bilang, ibundanya sangat menyayangi dan menghormati Jokowi.\n",
        "\n",
        "\"Kalau tahu, Ibu Mega itu sayang banget sama Pak Jokowi. Dan tentu saja hormat sekali sama Pak Jokowi sebagai presiden,\" kata Puan.\n",
        "\n",
        "Puan lantas menyinggung pidato Megawati beberapa waktu lalu yang menyebut bahwa dia menangis karena Jokowi terus menerus dirundung.\n",
        "\n",
        "Mega bahkan mengaku siap pasang badan, tak apa dia dirundung asalkan bukan bukan Jokowi yang kena bully.\n",
        "\n",
        "Menurut Puan, sikap Megawati itu menunjukkan betapa dia sangat menyayangi dan menghormati Jokowi sebagai adiknya. Bahwa Megawati ingin Jokowi sukses menjalankan tugas-tugasnya sebagai kepala negara.\n",
        "\n",
        "\"Saya baru pertama kali ini mendengar Bu Mega membela seseorang sampai seperti itu,\" ucap Puan.\n",
        "\n",
        "\"Bahkan (Megawati) sampai (mengatakan), nggak papa saya di- bully karena saya mau membela Pak Jokowi. Itu kalau bukan sayang dan hormat apa,\" tuturnya.\n",
        "\n",
        "Lagi pula, lanjut Puan, dalam pidatonya Megawati juga sempat memuji Jokowi dengan menyebut bahwa mantan Gubernur DKI Jakarta itu pintar sehingga PDI-P bersedia mengusungnya jadi pemimpin.\n",
        "\n",
        "Oleh karenanya, Puan menegaskan bahwa Megawati tak bermaksud buruk, apalagi menghina Jokowi lewat pidatonya.\n",
        "\n",
        "\"Jadi bukan ada yang rasa yang mau merendahkan atau sepertinya nggak hormat, itu justru kebalikan,\" tutur mantan Menteri Koordinator Bidang Pembangunan Manusia dan Kebudayaan (Menko PMK) itu.\n",
        "\n",
        "Sebelumnya, nama Presiden Jokowi berulang kali disinggung oleh Megawati dalam pidatonya di acara Hari Ulang Tahun (HUT) ke-50 PDI-P yang digelar di Jakarta International Expo, Kemayoran, Jakarta Pusat, Selasa (10/1/2023).\n",
        "\n",
        "Di hadapan ribuan kader yang hadir, Megawati berkelakar, nasib Jokowi tidak akan sama seperti sekarang jika tak ada PDI-P.\n",
        "\n",
        "\"Pak Jokowi itu kayak begitu lho, mentang-mentang. Lah iya, padahal Pak Jokowi kalau enggak ada PDI Perjuangan juga, aduh, kasihan dah,\" kata Megawati sambil tertawa.\n",
        "\n",
        "Seloroh Megawati tersebut disambut tawa para tamu undangan, termasuk Jokowi yang duduk di barisan kursi tamu terdepan.\n",
        "\n",
        "Presiden kelima RI itu bilang, seandainya PDI-P tak memberikan dukungan, maka Jokowi tidak akan jadi presiden seperti sekarang.\n",
        "\n",
        "\"Lho legal formal lho, beliau jadi presiden itu enggak ada kan ini, legal formal diikuti terus sama saya,\" ujarnya.\n",
        "\n",
        "Pernyataan Megawati itu pun memunculkan kritik dari sejumlah kalangan. Putri Soekarno itu bahkan dianggap merendahkan presiden.\"\"\""
      ],
      "metadata": {
        "id": "aL5P8nUmoCE2"
      },
      "execution_count": null,
      "outputs": []
    },
    {
      "cell_type": "markdown",
      "source": [
        "## input artikel"
      ],
      "metadata": {
        "id": "Yv6BuVpaPHW5"
      }
    },
    {
      "cell_type": "code",
      "source": [
        "import re"
      ],
      "metadata": {
        "id": "528Dc-9FIZRV"
      },
      "execution_count": null,
      "outputs": []
    },
    {
      "cell_type": "code",
      "execution_count": null,
      "metadata": {
        "id": "UljpESvoe5ng"
      },
      "outputs": [],
      "source": [
        "text_mentah = \"\"\"Garut: Gempa berkekuatan magnitudo 4,3 pada Rabu, 1 Februari pukul 22.57 WIB telah menyebabkan 495 rumah mengalami kerusakan tepatnya berada di Kecamatan Pasirwangi dan Kecamatan Samarang, Kabupaten Garut. Kejadian tersebut tidak menyebabkan korban jiwa tetapi, petugas gabungan TNI, Polri dan BPBD masih terus melakukan pendataan.\n",
        "\n",
        "Berdasarkan data laporan BPBD Kabupaten Garut, hingga Kamis malam tidak ada korban jiwa. Tercatat total rumah terdampak sebanyak 495 unit rumah, terdiri dari 367 unit rumah mengalami rusak ringan (RR), 111 unit rumah rusak sedang (RS) dan 17 unit rumah rusak berat, serta 8 unit fasilitas pendidikan mengalami kerusakan.\n",
        "\n",
        "Kepala Pelaksana Badan Penanggulangan Bencana Daerah Kabupaten Garut, Satria Budi mengatakan, gempa bumi berkekuatan 4,3 magnitudo terletak pada koordinat 7.27 LS dan 107.73 BT, atau tepatnya berlokasi di darat pada jarak 19 kilometer Barat Daya Kabupaten Garut pada kedalaman 3 kilometer.\n",
        "\n",
        "\"Berdasarkan rilis BMKG, dampak gempa bumi yang digambarkan peta tingkat guncangan (Shakemap) BMKG dan berdasarkan laporan dari masyarakat dirasakan di wilayah GarutÂ Pasirwangi, Cisurupan, Bayongbong, Samarang dengan Skala Intensitas IV MMI. Dengan memperhatikan lokasi episenter dan kedalaman hiposenternya, gempabumi yang terjadi merupakan jenis gempabumi dangkal akibat aktivitas Sesar Garsela,\" katanya, Jumat, 3 Februari 2023.\n",
        "\n",
        "Sementara Wakil Bupati Garut, Helmi Budiman meminta masyarakat untuk tetap tenang. Petugas gabungan TNI, Polri dan BPBD sedang melakukan verifikasi di lapangan.\n",
        "\n",
        "\"Secara umum untuk di Kecamatan Samarang lebih sedikit tapi kondisinya berat dan sedang, tapi di Pasirwangi jumlahnya memang banyak 370 tapi ringan dan sedang. Jadi, sekarang ini sedang melakukan verifikasi dulu dan personil yang melakukan assessment di lapangan, kita panggil di BPBD dan nanti akan melakukan pembahasan sehingga nanti tindaklanjut akan dilakukan bisa semakin jelas,\" ujarnya.\n",
        "\n",
        "Ia berharap masyarakat yang rumahnya mengalami rusak berat untuk sementara waktu supaya berpindah ke lokasi lebih aman, karena ditakutkan gempa susulan yang terjadi.\n",
        "\n",
        "\"Jadi, harap tenang dan siap-siap ya kalau ada gempa susulan sekali lagi rumah yang rusak berat lah ya untuk tidak ditinggali dulu, dan tentu yang bisa kita lakukan yang terbaik itu lakukanlah, bisa di keluarga, bisa di tetangga atau di tempat yang lain yang aman,\" paparnya.\n",
        "\"\"\""
      ]
    },
    {
      "cell_type": "markdown",
      "metadata": {
        "id": "dsX-Zq-YfYvR"
      },
      "source": [
        "**1. Extract paragraf dari artikel**\n",
        "\n"
      ]
    },
    {
      "cell_type": "code",
      "execution_count": null,
      "metadata": {
        "colab": {
          "base_uri": "https://localhost:8080/"
        },
        "id": "0wLHjSDDhzpk",
        "outputId": "f316f419-7a7f-45ec-c7ec-29f9bfcf7ea0"
      },
      "outputs": [
        {
          "output_type": "stream",
          "name": "stdout",
          "text": [
            "['Garut: Gempa berkekuatan magnitudo 4,3 pada Rabu, 1 Februari pukul 22.57 WIB telah menyebabkan 495 rumah mengalami kerusakan tepatnya berada di Kecamatan Pasirwangi dan Kecamatan Samarang, Kabupaten Garut. Kejadian tersebut tidak menyebabkan korban jiwa tetapi, petugas gabungan TNI, Polri dan BPBD masih terus melakukan pendataan.', 'Berdasarkan data laporan BPBD Kabupaten Garut, hingga Kamis malam tidak ada korban jiwa. Tercatat total rumah terdampak sebanyak 495 unit rumah, terdiri dari 367 unit rumah mengalami rusak ringan (RR), 111 unit rumah rusak sedang (RS) dan 17 unit rumah rusak berat, serta 8 unit fasilitas pendidikan mengalami kerusakan.', '', 'Kepala Pelaksana Badan Penanggulangan Bencana Daerah Kabupaten Garut, Satria Budi mengatakan, gempa bumi berkekuatan 4,3 magnitudo terletak pada koordinat 7.27 LS dan 107.73 BT, atau tepatnya berlokasi di darat pada jarak 19 kilometer Barat Daya Kabupaten Garut pada kedalaman 3 kilometer.', '', '\"Berdasarkan rilis BMKG, dampak gempa bumi yang digambarkan peta tingkat guncangan (Shakemap) BMKG dan berdasarkan laporan dari masyarakat dirasakan di wilayah GarutÂ Pasirwangi, Cisurupan, Bayongbong, Samarang dengan Skala Intensitas IV MMI. Dengan memperhatikan lokasi episenter dan kedalaman hiposenternya, gempabumi yang terjadi merupakan jenis gempabumi dangkal akibat aktivitas Sesar Garsela,\" katanya, Jumat, 3 Februari 2023.', '', 'Sementara Wakil Bupati Garut, Helmi Budiman meminta masyarakat untuk tetap tenang. Petugas gabungan TNI, Polri dan BPBD sedang melakukan verifikasi di lapangan.', '', '\"Secara umum untuk di Kecamatan Samarang lebih sedikit tapi kondisinya berat dan sedang, tapi di Pasirwangi jumlahnya memang banyak 370 tapi ringan dan sedang. Jadi, sekarang ini sedang melakukan verifikasi dulu dan personil yang melakukan assessment di lapangan, kita panggil di BPBD dan nanti akan melakukan pembahasan sehingga nanti tindaklanjut akan dilakukan bisa semakin jelas,\" ujarnya.', '', 'Ia berharap masyarakat yang rumahnya mengalami rusak berat untuk sementara waktu supaya berpindah ke lokasi lebih aman, karena ditakutkan gempa susulan yang terjadi.', '', '\"Jadi, harap tenang dan siap-siap ya kalau ada gempa susulan sekali lagi rumah yang rusak berat lah ya untuk tidak ditinggali dulu, dan tentu yang bisa kita lakukan yang terbaik itu lakukanlah, bisa di keluarga, bisa di tetangga atau di tempat yang lain yang aman,\" paparnya.', '']\n",
            "15\n"
          ]
        }
      ],
      "source": [
        "new_text = re.sub(r\".*- \", \"\", text_mentah)\n",
        "# print(new_text)\n",
        "\n",
        "sentences = []\n",
        "start = 0\n",
        "for match in re.finditer(r'\\n', new_text):\n",
        "    end = match.start()\n",
        "    sentences.append(new_text[start:end])\n",
        "    start = match.end()\n",
        "\n",
        "# add the last sentence\n",
        "sentences.append(new_text[start:])\n",
        "sentences.remove(sentences[-1])\n",
        "print(sentences)\n",
        "print(len(sentences))"
      ]
    },
    {
      "cell_type": "code",
      "execution_count": null,
      "metadata": {
        "colab": {
          "base_uri": "https://localhost:8080/"
        },
        "id": "X1jB85aK9i-d",
        "outputId": "2dd95a3e-cc51-476a-ae9b-0952cce8e464"
      },
      "outputs": [
        {
          "output_type": "stream",
          "name": "stdout",
          "text": [
            "0 - Garut: Gempa berkekuatan magnitudo 4,3 pada Rabu, 1 Februari pukul 22.57 WIB telah menyebabkan 495 rumah mengalami kerusakan tepatnya berada di Kecamatan Pasirwangi dan Kecamatan Samarang, Kabupaten Garut. Kejadian tersebut tidak menyebabkan korban jiwa tetapi, petugas gabungan TNI, Polri dan BPBD masih terus melakukan pendataan.\n",
            "1 - Berdasarkan data laporan BPBD Kabupaten Garut, hingga Kamis malam tidak ada korban jiwa. Tercatat total rumah terdampak sebanyak 495 unit rumah, terdiri dari 367 unit rumah mengalami rusak ringan (RR), 111 unit rumah rusak sedang (RS) dan 17 unit rumah rusak berat, serta 8 unit fasilitas pendidikan mengalami kerusakan.\n",
            "2 - Kepala Pelaksana Badan Penanggulangan Bencana Daerah Kabupaten Garut, Satria Budi mengatakan, gempa bumi berkekuatan 4,3 magnitudo terletak pada koordinat 7.27 LS dan 107.73 BT, atau tepatnya berlokasi di darat pada jarak 19 kilometer Barat Daya Kabupaten Garut pada kedalaman 3 kilometer.\n",
            "3 - \"Berdasarkan rilis BMKG, dampak gempa bumi yang digambarkan peta tingkat guncangan (Shakemap) BMKG dan berdasarkan laporan dari masyarakat dirasakan di wilayah GarutÂ Pasirwangi, Cisurupan, Bayongbong, Samarang dengan Skala Intensitas IV MMI. Dengan memperhatikan lokasi episenter dan kedalaman hiposenternya, gempabumi yang terjadi merupakan jenis gempabumi dangkal akibat aktivitas Sesar Garsela,\" katanya, Jumat, 3 Februari 2023.\n",
            "4 - Sementara Wakil Bupati Garut, Helmi Budiman meminta masyarakat untuk tetap tenang. Petugas gabungan TNI, Polri dan BPBD sedang melakukan verifikasi di lapangan.\n",
            "5 - \"Secara umum untuk di Kecamatan Samarang lebih sedikit tapi kondisinya berat dan sedang, tapi di Pasirwangi jumlahnya memang banyak 370 tapi ringan dan sedang. Jadi, sekarang ini sedang melakukan verifikasi dulu dan personil yang melakukan assessment di lapangan, kita panggil di BPBD dan nanti akan melakukan pembahasan sehingga nanti tindaklanjut akan dilakukan bisa semakin jelas,\" ujarnya.\n",
            "6 - Ia berharap masyarakat yang rumahnya mengalami rusak berat untuk sementara waktu supaya berpindah ke lokasi lebih aman, karena ditakutkan gempa susulan yang terjadi.\n",
            "7 - \"Jadi, harap tenang dan siap-siap ya kalau ada gempa susulan sekali lagi rumah yang rusak berat lah ya untuk tidak ditinggali dulu, dan tentu yang bisa kita lakukan yang terbaik itu lakukanlah, bisa di keluarga, bisa di tetangga atau di tempat yang lain yang aman,\" paparnya.\n"
          ]
        }
      ],
      "source": [
        "for i, y in enumerate(sentences):\n",
        "  if len(y) < 10:\n",
        "    sentences.remove(sentences[i])\n",
        "  else:\n",
        "    pass\n",
        "\n",
        "for i, y in enumerate(sentences):\n",
        "  print(i, '-', y)"
      ]
    },
    {
      "cell_type": "code",
      "source": [
        "# sentence = sentences[7].lower()\n",
        "# sentence"
      ],
      "metadata": {
        "id": "Ls7yH39PCdgX"
      },
      "execution_count": null,
      "outputs": []
    },
    {
      "cell_type": "code",
      "source": [
        "#mengatakan\n",
        "people = 'aku'\n",
        "match = re.search(r\"(.*?) mengatakan(.*)\", sentence)\n",
        "if match:\n",
        "  if 'itu' in match.group(1):\n",
        "    people = people\n",
        "\n",
        "  elif 'yang' in match.group(1):\n",
        "    people = ''\n",
        "    statement = ''\n",
        "\n",
        "  elif 'juga' in match.group(1):\n",
        "    people = match.group(1).split()\n",
        "    people.remove('juga')\n",
        "    people = ' '.join(people[-2:])\n",
        "\n",
        "    statement = match.group(2)\n",
        "    if len(statement) < 20:\n",
        "      statement = ''\n",
        "      people = people\n",
        "\n",
        "  else:\n",
        "    people = match.group(1)\n",
        "    if len(people) > 20:\n",
        "      comma_index = people.rfind(',')\n",
        "      people = people[comma_index+1:].strip()\n",
        "\n",
        "    if len(people) > 20:\n",
        "      split = people.split()\n",
        "      people = \" \".join(split[:2])\n",
        "\n",
        "    if len(people) > 15:\n",
        "      people = match.group(1)\n",
        "      people = people[comma_index+1:].strip()\n",
        "      split = people.split()\n",
        "      people = \" \".join(split[-1:])\n",
        "\n",
        "      if 'juga' in people:\n",
        "        people = match.group(1)\n",
        "        people = people[comma_index+1:].strip()\n",
        "        split = people.split()\n",
        "        people = \" \".join(split[:2])\n",
        "\n",
        "    statement = match.group(2)\n",
        "    if len(statement) < 20:\n",
        "      statement = ''\n",
        "      people = people\n",
        "\n",
        "  print(people, \"==>\", statement)\n",
        "\n",
        "  people = people"
      ],
      "metadata": {
        "id": "4ASsO3Y7CbGG"
      },
      "execution_count": null,
      "outputs": []
    },
    {
      "cell_type": "code",
      "source": [
        "len('sri mulyani')"
      ],
      "metadata": {
        "colab": {
          "base_uri": "https://localhost:8080/"
        },
        "id": "W9DWPeK9HVK0",
        "outputId": "7e735872-2978-4457-8018-ded61fc622a6"
      },
      "execution_count": null,
      "outputs": [
        {
          "output_type": "execute_result",
          "data": {
            "text/plain": [
              "11"
            ]
          },
          "metadata": {},
          "execution_count": 384
        }
      ]
    },
    {
      "cell_type": "markdown",
      "source": [
        "## **dibawah ini udah mulai bisa FIX**"
      ],
      "metadata": {
        "id": "Z7DfWvF7YpIU"
      }
    },
    {
      "cell_type": "code",
      "source": [
        "# coba generate statement pakai kalimat dari paragraf aja\n",
        "\n",
        "# get yang mau di ambil\n",
        "# sentence = sentences[21].lower()\n",
        "# print(sentence)\n",
        "# print('----------'*30)\n",
        "\n",
        "sentences = [x.lower() for x in sentences]\n",
        "people = ''\n",
        "\n",
        "for sentence in sentences:\n",
        "  #menurut\n",
        "  match = re.search(r\"menurut (.*?),\", sentence)\n",
        "  if match:\n",
        "    statement = sentence.split(match.group(0))[1]\n",
        "\n",
        "    if 'dia' not in match.group(1):\n",
        "      people = match.group(1)\n",
        "    elif 'dia' in match.group(1):\n",
        "      people = ''\n",
        "      statement = ''\n",
        "\n",
        "    if len(people) > 20:\n",
        "      people = ''\n",
        "      statement = ''\n",
        "    else:\n",
        "      pass\n",
        "\n",
        "    print(people, \"==>\", statement)\n",
        "\n",
        "  #menurut\n",
        "  match = re.search(r\"\\bmenurut\\b\", sentence)\n",
        "\n",
        "  if match:\n",
        "      statement = sentence[:match.start()].strip()\n",
        "\n",
        "      if 'dia' not in sentence[match.end():].strip():\n",
        "        people = sentence[match.end():].strip()\n",
        "      elif 'dia' in sentence[match.end():].strip():\n",
        "        people = people\n",
        "        statement = ''\n",
        "\n",
        "      if len(people) > 20:\n",
        "        people = ''\n",
        "        statement = ''\n",
        "      else:\n",
        "        pass\n",
        "\n",
        "      if len(people) < 10:\n",
        "        people = ''\n",
        "        statement = ''\n",
        "\n",
        "      # people = sentence[match.end():].strip()\n",
        "      print(people, \"==>\", statement)\n",
        "\n",
        "  #kata\n",
        "  match = re.search(r\"kata (.*)\", sentence)\n",
        "  if match:\n",
        "    if 'dia' not in match.group(1).split(\" \")[0]:\n",
        "      people = match.group(1).split(\" \")[0]\n",
        "    elif 'dia' in match.group(1).split(\" \")[0]:\n",
        "      people = people\n",
        "\n",
        "    if people.endswith(\".\"):\n",
        "      people = people[:-1]\n",
        "\n",
        "    statement = sentence.split(match.group(0))[0]\n",
        "    if len(statement) < 20:\n",
        "      try:\n",
        "        statement = sentence.split(\",\", 1)[1]\n",
        "\n",
        "      except:\n",
        "        pass\n",
        "\n",
        "    if 'lain' not in match.group(1).split(\" \")[0]:\n",
        "      people = match.group(1).split(\" \")[0]\n",
        "    elif 'lain' in match.group(1).split(\" \")[0]:\n",
        "      people = ''\n",
        "      statement = ''\n",
        "\n",
        "    if 'dia' not in people:\n",
        "      people = people\n",
        "    elif 'dia' in people:\n",
        "      people = ''\n",
        "      statement = ''\n",
        "\n",
        "    if len(statement) < 20:\n",
        "      people = ''\n",
        "      statement = ''\n",
        "    else:\n",
        "      pass\n",
        "\n",
        "    print(people, \"==>\", statement)\n",
        "\n",
        "  # #jelas\n",
        "  # match = re.search(r\"\\bjelas\\b\", sentence)\n",
        "  # if match:\n",
        "  #   statement = sentence[start_index:end_index].strip()\n",
        "\n",
        "  #   start_index = match.end()\n",
        "  #   end_index = len(sentence)\n",
        "  #   if len(sentence[start_index:end_index].strip())<20:\n",
        "  #     people = ''\n",
        "  #     statement = ''\n",
        "  #   else:\n",
        "  #     people = sentence[start_index:end_index].strip()\n",
        "\n",
        "  #   start_index = 0\n",
        "  #   end_index = match.start()\n",
        "\n",
        "  #   print(people, \"==>\", statement)\n",
        "\n",
        "  #jelas\n",
        "  match = re.search(r\"\\bjelas\\b\", sentence)\n",
        "  if match:\n",
        "    start_index = 0\n",
        "    end_index = match.start()\n",
        "\n",
        "    statement = sentence[start_index:end_index].strip()\n",
        "\n",
        "    start_index = match.end()\n",
        "    end_index = len(sentence)\n",
        "    if len(sentence[start_index:end_index].strip())>20:\n",
        "      people = ''\n",
        "      statement = ''\n",
        "    else:\n",
        "      people = sentence[start_index:end_index].strip()\n",
        "\n",
        "    print(people, \"==>\", statement)\n",
        "\n",
        "  #mengatakan\n",
        "  match = re.search(r\"(.*?) mengatakan(.*)\", sentence)\n",
        "  if match:\n",
        "    if 'itu' in match.group(1):\n",
        "      people = people\n",
        "\n",
        "    elif 'yang' in match.group(1):\n",
        "      people = ''\n",
        "      statement = ''\n",
        "\n",
        "    elif 'juga' in match.group(1):\n",
        "      people = match.group(1).split()\n",
        "      people.remove('juga')\n",
        "      people = ' '.join(people[-2:])\n",
        "\n",
        "      statement = match.group(2)\n",
        "      if len(statement) < 20:\n",
        "        statement = ''\n",
        "        people = people\n",
        "\n",
        "    else:\n",
        "      people = match.group(1)\n",
        "      if len(people) > 20:\n",
        "        comma_index = people.rfind(',')\n",
        "        people = people[comma_index+1:].strip()\n",
        "\n",
        "      if len(people) > 20:\n",
        "        split = people.split()\n",
        "        people = \" \".join(split[:2])\n",
        "\n",
        "      if len(people) > 15:\n",
        "        people = match.group(1)\n",
        "        people = people[comma_index+1:].strip()\n",
        "        split = people.split()\n",
        "        people = \" \".join(split[-1:])\n",
        "\n",
        "        if 'juga' in people:\n",
        "          people = match.group(1)\n",
        "          people = people[comma_index+1:].strip()\n",
        "          split = people.split()\n",
        "          people = \" \".join(split[:2])\n",
        "\n",
        "      statement = match.group(2)\n",
        "      if len(statement) < 20:\n",
        "        statement = ''\n",
        "        people = people\n",
        "\n",
        "    print(people, \"==>\", statement)\n",
        "\n",
        "    people = people\n",
        "\n",
        "  #ujarnya\n",
        "  match = re.search(r\"(.*?) ujarnya\\.\", sentence)\n",
        "  if match:\n",
        "    # people = people.mode()\n",
        "    people = people\n",
        "    statement = match.group(1)\n",
        "    print(people, \"==>\", statement)\n",
        "\n",
        "  #sebaliknya\n",
        "  match = re.search(r\"sebaliknya,(.*)\", sentence)\n",
        "  if match:\n",
        "    # people = people.mode()\n",
        "    after_keyword = match.group(1)\n",
        "    statement = after_keyword.split(\",\", 1)[1]\n",
        "    print(people, \"==>\", statement)\n",
        "\n",
        "  #ucap\n",
        "  match = re.search(r\"ucap (.*)\", sentence)\n",
        "  if match:\n",
        "    if 'dia' not in match.group(1).split(\" \")[0]:\n",
        "      people = match.group(1).split(\" \")[0]\n",
        "    elif 'dia' in match.group(1).split(\" \")[0]:\n",
        "      people = people\n",
        "\n",
        "    if people.endswith(\".\"):\n",
        "      people = people[:-1]\n",
        "    statement = sentence.split(match.group(0))[0]\n",
        "    print(people, \"==>\", statement)\n",
        "\n",
        "  #tuturnya\n",
        "  match = re.search(r\"(.*?) tuturnya\\.\", sentence)\n",
        "  if match:\n",
        "    # people = people.mode()\n",
        "    statement = match.group(1)\n",
        "    print(people, \"==>\", statement)\n",
        "\n",
        "  #lanjut\n",
        "  match = re.search(r\"lanjut (.*?),\", sentence)\n",
        "  if match:\n",
        "      people = match.group(1)\n",
        "      statement = sentence.split(people)[1]\n",
        "      print(people, \"==>\", statement)\n",
        "\n",
        "  #menegaskan\n",
        "  match = re.search(r\"menegaskan\", sentence)\n",
        "  if match:\n",
        "    words = sentence.split(\"menegaskan\")\n",
        "\n",
        "    if len(words[0].split(\", \")[-1].split()) >= 5:\n",
        "      people = people\n",
        "    else:\n",
        "      people = words[0].split(\", \")[-1]\n",
        "\n",
        "    if 'ia' in words[0].split(\", \")[-1]:\n",
        "      people = people\n",
        "    else:\n",
        "      pass\n",
        "\n",
        "    if people == '':\n",
        "      people = ' '.join(words[0].split(\", \")[-1].split()[-3:])\n",
        "\n",
        "    # people = words[0].split(\", \")[-1]\n",
        "    statement = words[1]\n",
        "    print(people, \"==>\", statement)\n",
        "\n",
        "  #menuturkan\n",
        "  match = re.search(r\"menuturkan (.*)\", sentence)\n",
        "  if match:\n",
        "    statement = match.group(1)\n",
        "    people = sentence.split(\"menuturkan\")[0]\n",
        "    if \",\" in people:\n",
        "      people = people.split(\",\", 1)[1]\n",
        "    print(people, \"==>\", statement)\n",
        "\n",
        "  #tutur\n",
        "  match = re.search(r\"tutur (.*)\", sentence)\n",
        "  if match:\n",
        "    words = match.group(1).strip()\n",
        "    if len(words.split()) == 1:\n",
        "      people = words.split()[0]\n",
        "    else:\n",
        "      people = people\n",
        "\n",
        "    statement = sentence.split(match.group(0))[0]\n",
        "    print(people, \"==>\", statement)\n",
        "\n",
        "  #menurutnya\n",
        "  match = re.search(r\"menurutnya,\", sentence)\n",
        "  if match:\n",
        "    start_index = match.end()\n",
        "    end_index = len(sentence)\n",
        "    statement = sentence[start_index:end_index].strip()\n",
        "    print(people, \"==>\", statement)\n",
        "\n",
        "  #ungkap\n",
        "  word = \"ungkap\"\n",
        "  match = re.search(r\"\\b\" + word + r\"\\b\", sentence)\n",
        "  if match:\n",
        "    start = match.start()\n",
        "    statement= sentence[:start]\n",
        "    people = re.split(r\"\\W+\", sentence[start+len(word):])[1]\n",
        "    print(people, \"==>\", statement)\n",
        "\n",
        "  #imbuh\n",
        "  match = re.search(r\"imbuh (.*)\", sentence)\n",
        "  if match:\n",
        "    people = match.group(1).split(\" \")[0]\n",
        "    if people.endswith(\",\"):\n",
        "      people = people[:-1]\n",
        "    statement = sentence.split(match.group(0))[0]\n",
        "    print(people, \"==>\", statement)\n",
        "\n",
        "  #ujar\n",
        "  match = re.search(r\"ujar (.*)\", sentence)\n",
        "  if match:\n",
        "    if '.' in match.group(1).split(\" \")[0]:\n",
        "      if match.group(1).split(\" \")[0].split(\".\")[0] == 'dia':\n",
        "        people = people\n",
        "      else:\n",
        "        people = match.group(1).split(\" \")[0].split(\".\")[0]\n",
        "    else:\n",
        "      people = match.group(1).split(\" \")[0]\n",
        "\n",
        "    if 'akun' in people:\n",
        "      people = \" \".join(match.group(1).split(\" \")[:2])\n",
        "\n",
        "    if people.endswith(\".\"):\n",
        "      people = people[:-1]\n",
        "\n",
        "    statement = sentence.split(match.group(0))[0]\n",
        "    print(people, \"==>\", statement)\n",
        "\n",
        "  # #mengungkapkan\n",
        "  # match = re.search(r\"(?<=mengungkapkan ).+?(?=\\.)\", sentence)\n",
        "  # if match:\n",
        "  #   people = sentence[:match.start()].replace(\"mengungkapkan\", \"\").strip()\n",
        "  #   statement = match.group().strip()\n",
        "  #   print(people, \"==>\", statement)\n",
        "\n",
        "  #mengungkapkan\n",
        "  match = re.search(r\"(?<=mengungkapkan ).+?(?=\\.)\", sentence)\n",
        "  if match:\n",
        "    people = ' '.join(sentence[:match.start()].replace(\"mengungkapkan\", \"\").strip().split()[:2])\n",
        "    statement = match.group().strip()\n",
        "    print(people, \"==>\", statement)\n",
        "\n",
        "  #tutup\n",
        "  match = re.search(r\"\\btutup\\b (.*)\", sentence)\n",
        "  if match:\n",
        "    words = match.group(1).strip()\n",
        "    if len(words.split()) == 1:\n",
        "      people = words.split()[0]\n",
        "    else:\n",
        "      people = people\n",
        "\n",
        "    if '.' in people:\n",
        "      split_titik = people.split(\".\")\n",
        "      people = split_titik[0].strip()\n",
        "\n",
        "    statement = sentence.split(match.group(0))[0]\n",
        "    print(people, \"==>\", statement)\n",
        "\n",
        "  #sambungnya\n",
        "  match = re.search(r\"sambungnya\", sentence)\n",
        "  if match:\n",
        "    people = people\n",
        "    statement = sentence.split(match.group(0))[0].strip()\n",
        "\n",
        "    print(people, \"==>\", statement)\n",
        "\n",
        "  #tambahnya\n",
        "  match = re.search(r\"tambahnya\", sentence)\n",
        "  if match:\n",
        "    people = people\n",
        "    statement = sentence.split(match.group(0))[0].strip()\n",
        "\n",
        "    print(people, \"==>\", statement)\n",
        "\n",
        "  #pungkas\n",
        "  match = re.search(r\"\\bpungkas\\b\", sentence)\n",
        "  if match:\n",
        "    people = sentence.split(match.group(0))[1].strip()\n",
        "    statement = sentence.split(match.group(0))[0].strip()\n",
        "\n",
        "    print(people, \"==>\", statement)\n",
        "\n",
        "  #katanya\n",
        "  match = re.search(r\"katanya\", sentence)\n",
        "  if match:\n",
        "    people = people\n",
        "    statement = sentence.split(match.group(0))[0].strip()\n",
        "    print(people, \"==>\", statement)\n",
        "\n",
        "\n",
        "  #pungkasnya\n",
        "  match = re.search(r\"pungkasnya\", sentence)\n",
        "  if match:\n",
        "    people = people\n",
        "    statement = sentence.split(match.group(0))[0].strip()\n",
        "\n",
        "    print(people, \"==>\", statement)\n",
        "\n",
        "  #menuturkan\n",
        "  match = re.search(r'([a-zA-Z]+(?:\\s+[a-zA-Z]+)?)\\s+menuturkan,\\s+(.*)', sentence)\n",
        "  if match:\n",
        "    if 'pun' in match.group(1):\n",
        "      people = people\n",
        "\n",
        "    else:\n",
        "\n",
        "      if match.group(1) == 'ia':\n",
        "        people = peopleW\n",
        "      else:\n",
        "        people = match.group(1)\n",
        "        if len(people.split()) == 1:\n",
        "          people = people.split()[0]\n",
        "\n",
        "    statement = match.group(2)\n",
        "    print(people, \"==>\", statement)\n",
        "\n",
        "  #beber\n",
        "  match = re.search(r'(.*)\\bbeber\\b\\s(\\w+)\\s(.*)', sentence)\n",
        "  if match:\n",
        "      statement = match.group(1).strip()\n",
        "      people = match.group(2)\n",
        "      print(people, \"==>\", statement)\n",
        "  else:\n",
        "      pass\n",
        "\n",
        "  #berharap\n",
        "  match = re.search(r'(\\w+)\\sberharap,\\s(.*)', sentence)\n",
        "  if match:\n",
        "    people = match.group(1)\n",
        "    statement = match.group(2).strip()\n",
        "    print(people, \"==>\", statement)\n",
        "  else:\n",
        "    pass\n",
        "\n",
        "  #tandas\n",
        "  match = re.search(r\"\\btandas\\b\", sentence)\n",
        "  if match:\n",
        "    index = match.start()\n",
        "    statement = sentence[:index].strip()\n",
        "    people = sentence[index+len(\"tandas\"):].strip()\n",
        "    print(people, \"==>\", statement)\n",
        "  else:\n",
        "    pass\n",
        "\n",
        "  #sebut\n",
        "  match = re.search(r\"\\bsebut\\b\", sentence)\n",
        "  if match:\n",
        "    index = match.start()\n",
        "    statement = sentence[:index].strip()\n",
        "    people = sentence[index+len(\"sebut\"):].strip()\n",
        "    print(people, \"==>\", statement)\n",
        "  else:\n",
        "    pass\n",
        "\n",
        "  #menyebutkan\n",
        "  match = re.search(r\"\\bmenyebutkan\\b\", sentence)\n",
        "  if match:\n",
        "    if sentence[:match.start()].strip() == 'ia':\n",
        "      people = people\n",
        "    else:\n",
        "      people = sentence[:match.start()].strip()\n",
        "\n",
        "    statement = sentence[match.end()+2:].strip()\n",
        "\n",
        "    if len(people)>20:\n",
        "      people = ''\n",
        "      statement = ''\n",
        "\n",
        "    print(people, \"==>\", statement)\n",
        "\n",
        "  #imbuhnya\n",
        "  match = re.search(r\"imbuhnya\", sentence)\n",
        "  if match:\n",
        "    people = people\n",
        "    statement = sentence.split(match.group(0))[0].strip()\n",
        "\n",
        "    print(people, \"==>\", statement)\n",
        "\n",
        "  #tambah\n",
        "  match = re.search(r\"\\btambah\\b\", sentence)\n",
        "  if match:\n",
        "    index = match.start()\n",
        "    statement = sentence[:index].strip()\n",
        "\n",
        "    if 'dia' in sentence[index+len(\"tambah\"):].strip():\n",
        "      people = people\n",
        "    else:\n",
        "      people = sentence[index+len(\"tambah\"):].strip()\n",
        "    print(people, \"==>\", statement)\n",
        "  else:\n",
        "    pass\n",
        "\n",
        "  #ucapnya\n",
        "  match = re.search(r\"ucapnya\", sentence)\n",
        "  if match:\n",
        "    people = people\n",
        "    statement = sentence.split(match.group(0))[0].strip()\n",
        "\n",
        "    print(people, \"==>\", statement)"
      ],
      "metadata": {
        "colab": {
          "base_uri": "https://localhost:8080/"
        },
        "id": "6Fev9t7b9wJz",
        "outputId": "92ed74a7-f18b-4353-9931-6628d816dbfa"
      },
      "execution_count": null,
      "outputs": [
        {
          "output_type": "stream",
          "name": "stdout",
          "text": [
            "satria budi ==> , gempa bumi berkekuatan 4,3 magnitudo terletak pada koordinat 7.27 ls dan 107.73 bt, atau tepatnya berlokasi di darat pada jarak 19 kilometer barat daya kabupaten garut pada kedalaman 3 kilometer.\n",
            "satria budi ==> \"berdasarkan rilis bmkg, dampak gempa bumi yang digambarkan peta tingkat guncangan (shakemap) bmkg dan berdasarkan laporan dari masyarakat dirasakan di wilayah garutâ pasirwangi, cisurupan, bayongbong, samarang dengan skala intensitas iv mmi. dengan memperhatikan lokasi episenter dan kedalaman hiposenternya, gempabumi yang terjadi merupakan jenis gempabumi dangkal akibat aktivitas sesar garsela,\"\n",
            ",\" ujarnya. ==> \"secara umum untuk di kecamatan samarang lebih sedikit tapi kondisinya berat dan sedang, tapi di pasirwangi jumlahnya memang banyak 370 tapi ringan dan sedang. jadi, sekarang ini sedang melakukan verifikasi dulu dan personil yang melakukan assessment di lapangan, kita panggil di bpbd dan nanti akan melakukan pembahasan sehingga nanti tindaklanjut akan dilakukan bisa semakin\n",
            ",\" ujarnya. ==> \"secara umum untuk di kecamatan samarang lebih sedikit tapi kondisinya berat dan sedang, tapi di pasirwangi jumlahnya memang banyak 370 tapi ringan dan sedang. jadi, sekarang ini sedang melakukan verifikasi dulu dan personil yang melakukan assessment di lapangan, kita panggil di bpbd dan nanti akan melakukan pembahasan sehingga nanti tindaklanjut akan dilakukan bisa semakin jelas,\"\n",
            "akan dilakukan bisa semakin jelas ==> ,\" ujarnya.\n"
          ]
        }
      ]
    },
    {
      "cell_type": "markdown",
      "source": [
        "### kesini untuk hasil"
      ],
      "metadata": {
        "id": "yiCweh-eql_J"
      }
    },
    {
      "cell_type": "code",
      "source": [
        "# coba stopwords di people agar string selain nama di remove\n",
        "\n",
        "people_statement = {'people' : 'statement nya apa',\n",
        "                    'luhut juga' : 'bahwa indonesia sedang berupaya untuk mengembangkan dan memperluas industri hilir, agar bisa memenuhi target menjadi produsen baterai lithium terbesar di dunia.'}"
      ],
      "metadata": {
        "id": "OB-r9p7N3kcN"
      },
      "execution_count": null,
      "outputs": []
    },
    {
      "cell_type": "code",
      "source": [
        "import nltk\n",
        "nltk.download('stopwords')\n",
        "from nltk.corpus import stopwords\n",
        "\n",
        "stop_words = set(stopwords.words('indonesian'))"
      ],
      "metadata": {
        "colab": {
          "base_uri": "https://localhost:8080/"
        },
        "id": "tZk0nbWu4rjU",
        "outputId": "d3a30b40-9e48-4e3d-ff74-0da2ef9fc832"
      },
      "execution_count": null,
      "outputs": [
        {
          "output_type": "stream",
          "name": "stderr",
          "text": [
            "[nltk_data] Downloading package stopwords to /root/nltk_data...\n",
            "[nltk_data]   Package stopwords is already up-to-date!\n"
          ]
        }
      ]
    },
    {
      "cell_type": "code",
      "source": [
        "new_people_statement = {}\n",
        "# Menghapus stopwords dari kunci dictionary\n",
        "for key, value in people_statement.items():\n",
        "    words = key.split()\n",
        "    filtered_words = [word for word in words if word not in stop_words]\n",
        "    new_key = ' '.join(filtered_words)\n",
        "    new_people_statement[new_key] = value\n",
        "\n",
        "print(new_people_statement)"
      ],
      "metadata": {
        "colab": {
          "base_uri": "https://localhost:8080/"
        },
        "id": "J9n1f8I_4unn",
        "outputId": "07da26e4-faf4-4124-b445-551b45c1a990"
      },
      "execution_count": null,
      "outputs": [
        {
          "output_type": "stream",
          "name": "stdout",
          "text": [
            "{'people': 'statement nya apa', 'luhut': 'bahwa indonesia sedang berupaya untuk mengembangkan dan memperluas industri hilir, agar bisa memenuhi target menjadi produsen baterai lithium terbesar di dunia.'}\n"
          ]
        }
      ]
    },
    {
      "cell_type": "markdown",
      "metadata": {
        "id": "TvlbRgpmkhXW"
      },
      "source": [
        "# ** gak dipakai... 2. Ambil kalimat yang di apit oleh tanda kutip tanda koma  dan titik**"
      ]
    },
    {
      "cell_type": "code",
      "execution_count": null,
      "metadata": {
        "colab": {
          "base_uri": "https://localhost:8080/"
        },
        "id": "3Gk7AS5XNVxI",
        "outputId": "9da67a26-9d0d-4231-9bbb-4f1971dc962d"
      },
      "outputs": [
        {
          "name": "stdout",
          "output_type": "stream",
          "text": [
            "0 - PKB menggelar forum Ijtima Ulama Nusantara pada 13-14 Januari 2023. Forum tersebut menghasilkan sejumlah keputusan penting bagi partai tersebut. Diantaranya adalah menegaskan pencalonan Muhaimin Iskandar sebagai Capres atau Cawapres dan penetapan pasangan calon maksimal pada Maret mendatang.\n",
            "1 - Saat ditanya lebih lanjut soal hasil forum Ijtima Ulama Nusantara yang menyebutkan PKB harus menetapkan pasangan Capres-Cawapres maksimal Maret mendatang, dia pun hanya bungkam. Prabowo hanya memberikan kode jempol sambil pergi memasuki kendaraannya.\n",
            "2 -  “Prinsipnya, Prabowo menghargai dan mempertimbangkan serius hasil Ijtima Ulama Nusantara\n",
            "3 -  elektabilitasnya menurut sejumlah lembaga survei masih sangat rendah\n",
            "4 - ” ujar Muzani. ”Tapi intinya, di bulan puasa pada pertengahan Maret sudah terkonsolidasikan semua.\n",
            "5 -  Mereka yang akan membicarakan hal tersebut,” ujar Muzani\n",
            "6 - Harapannya kan seperti itu, Prabowo yang jadi capres dan Cak Imin (Muhaimin) yang menjadi wapres,” kata Muzani saat ditemui secara terpisah di acara peresmian Sekber Gerindra-PKB. “Prinsipnya, Prabowo menghargai dan mempertimbangkan serius hasil Ijtima Ulama Nusantara.\n",
            "7 -  di bulan puasa pada pertengahan Maret sudah terkonsolidasikan semua\n",
            "8 -  Wakil Sekjen Gerindra, Ahmad Muzani, menyatakan pihaknya memahami keputusan forum tersebut, meskipun demikian mereka belum dapat memutuskan siapa yang akan menjadi pendamping Prabowo\n",
            "9 -  Prabowo Subianto, belum dapat memastikan dirinya bersama Ketua Umum Partai Kebangkitan Bangsa (PKB), Muhaimin Iskandar, akan maju pada Pemilihan Presiden (Pilpres) 2024. Meskipun telah menerima hasil forum Ijtima Ulama Nusantara yang digelar PKB pertengahan bulan lalu, Prabowo masih belum mau memastikan Muhaimin sebagai pendampingnya\n",
            "10 - Cawapres maksimal Maret mendatang, dia pun hanya bungkam\n",
            "11 -  Forum tersebut menghasilkan sejumlah keputusan penting bagi partai tersebut\n",
            "12 -  Prabowo hanya memberikan kode jempol sambil pergi memasuki kendaraannya\n",
            "13 -  Dia pun irit bicara soal peluang Muhaimin menjadi pendampingnya pada Pilpres 2024\n",
            "14 - \"Mandat itu ada di tangan ketua umum. Mereka yang akan membicarakan hal tersebut,” ujar Muzani. ”Tapi intinya, di bulan puasa pada pertengahan Maret sudah terkonsolidasikan semua.”\n",
            "15 -  Muzani memberi sinyal akan dilakukan pada Maret mendatang\n",
            "16 - Ya kita Ikuti semua perkembangan,\n",
            "17 - “Harapannya kan seperti itu, Prabowo yang jadi capres dan Cak Imin (Muhaimin) yang menjadi wapres,” kata Muzani saat ditemui secara terpisah di acara peresmian Sekber Gerindra-PKB. “Prinsipnya, Prabowo menghargai dan mempertimbangkan serius hasil Ijtima Ulama Nusantara.”\n",
            "18 -  dia pun hanya bungkam. Prabowo hanya memberikan kode jempol sambil pergi memasuki kendaraannya\n",
            "19 -  Prabowo yang jadi capres dan Cak Imin (Muhaimin) yang menjadi wapres,” kata Muzani saat ditemui secara terpisah di acara peresmian Sekber Gerindra-PKB. “Prinsipnya, Prabowo menghargai dan mempertimbangkan serius hasil Ijtima Ulama Nusantara.\n",
            "20 -  Ahmad Muzani, menyatakan pihaknya memahami keputusan forum tersebut, meskipun demikian mereka belum dapat memutuskan siapa yang akan menjadi pendamping Prabowo\n",
            "21 -  Prabowo Subianto, belum dapat memastikan dirinya bersama Ketua Umum Partai Kebangkitan Bangsa (PKB), Muhaimin Iskandar, akan maju pada Pemilihan Presiden (Pilpres) 2024\n",
            "22 - \" kata Prabowo saat ditemui di Sekretariat Bersama Gerindra-PKB di kawasan Menteng, Jakarta Pusat, Senin, 23 Januari 2023\n",
            "23 -  Sementara Muhaimin meskipun diusung menjadi Capres atau Cawapres, elektabilitasnya menurut sejumlah lembaga survei masih sangat rendah\n",
            "24 -  Meskipun telah menerima hasil forum Ijtima Ulama Nusantara yang digelar PKB pertengahan bulan lalu, Prabowo masih belum mau memastikan Muhaimin sebagai pendampingnya\n",
            "25 -  Soal kapan penetapan pasangan Capres dan Cawapres, Muzani memberi sinyal akan dilakukan pada Maret mendatang\n",
            "26 -  Prabowo menghargai dan mempertimbangkan serius hasil Ijtima Ulama Nusantara\n",
            "27 - PKB di kawasan Menteng, Jakarta Pusat, Senin, 23 Januari 2023\n",
            "28 -  Prabowo yang jadi capres dan Cak Imin (Muhaimin) yang menjadi wapres,” kata Muzani saat ditemui secara terpisah di acara peresmian Sekber Gerindra-PKB\n",
            "29 -  Kedua partai bersepakat untuk menjalin kerjasama demi mendapatkan tiket mengajukan pasangan calon pada Pilpres 2024\n",
            "30 -  Prabowo masih belum mau memastikan Muhaimin sebagai pendampingnya\n"
          ]
        }
      ],
      "source": [
        "quotes = []\n",
        "\n",
        "for x,y in enumerate(sentences):\n",
        "\n",
        "  # print('Untuk kumpulan kalimat pada paragraf', x)\n",
        "\n",
        "  quoted_strings = re.findall(r'“([^\"]*)”', y)\n",
        "  for string in quoted_strings:\n",
        "      if len(string) < 30:\n",
        "        quotes.append(y)\n",
        "        # print('-', y)\n",
        "      else:\n",
        "        quotes.append(string)\n",
        "        # print('-', string)\n",
        "\n",
        "  quoted_strings = re.findall(r'\"([^\"]*)\"', y)\n",
        "  for string in quoted_strings:\n",
        "      if len(string) < 30:\n",
        "        quotes.append(y)\n",
        "        # print('-', y)\n",
        "      else:\n",
        "        quotes.append(string)\n",
        "        #print('-', string)\n",
        "\n",
        "  quoted_strings = re.findall(r\"\"\"'([^\"]*)'\"\"\", y)\n",
        "  for string in quoted_strings:\n",
        "      if len(string) < 30:\n",
        "        quotes.append(y)\n",
        "        #print('-', y)\n",
        "      else:\n",
        "        quotes.append(string)\n",
        "        #print('-', string)\n",
        "\n",
        "  quoted_strings = re.findall(r\"\"\"'([^']*)'\"\"\", y)\n",
        "  for string in quoted_strings:\n",
        "      if len(string) < 30:\n",
        "        quotes.append(y)\n",
        "        #print('-', y)\n",
        "      else:\n",
        "        quotes.append(string)\n",
        "        #print('-', string)\n",
        "\n",
        "  quoted_strings = re.findall(r\"\"\",([^']*).\"\"\", y)\n",
        "  for string in quoted_strings:\n",
        "      if len(string) < 30:\n",
        "        quotes.append(y)\n",
        "        #print('-', y)\n",
        "      else:\n",
        "        quotes.append(string)\n",
        "        #print('-', string)\n",
        "\n",
        "  quoted_strings = re.findall(r',([^.]+)[.]', y)\n",
        "  for string in quoted_strings:\n",
        "      if len(string) < 30:\n",
        "        quotes.append(y)\n",
        "        #print('-', y)\n",
        "      else:\n",
        "        quotes.append(string)\n",
        "        #print('-', string)\n",
        "\n",
        "  quoted_strings = re.findall(r'\\.([^.]+)[.]', y)\n",
        "  for string in quoted_strings:\n",
        "      if len(string) < 30:\n",
        "        quotes.append(y)\n",
        "        #print('-', y)\n",
        "      else:\n",
        "        quotes.append(string)\n",
        "        #print('-', string)\n",
        "\n",
        "  quoted_strings = re.findall(r'\\-([^.]+)[.]', y)\n",
        "  for string in quoted_strings:\n",
        "      if len(string) < 30:\n",
        "        quotes.append(y)\n",
        "        #print('-', y)\n",
        "      else:\n",
        "        quotes.append(string)\n",
        "        #print('-', string)\n",
        "\n",
        "\n",
        "\n",
        "  # print('------------------------------'*100)\n",
        "\n",
        "quotes = list(set(quotes))\n",
        "\n",
        "for i, q in enumerate(quotes):\n",
        "  print(i, '-', q)"
      ]
    },
    {
      "cell_type": "code",
      "execution_count": null,
      "metadata": {
        "colab": {
          "base_uri": "https://localhost:8080/"
        },
        "id": "tcTwPj7crLmF",
        "outputId": "103e0236-00f3-4c60-873a-eb7c52e315cb"
      },
      "outputs": [
        {
          "data": {
            "text/plain": [
              "31"
            ]
          },
          "execution_count": 196,
          "metadata": {},
          "output_type": "execute_result"
        }
      ],
      "source": [
        "len(quotes)"
      ]
    },
    {
      "cell_type": "markdown",
      "metadata": {
        "id": "I7HeOmLckyze"
      },
      "source": [
        "Split menggunakan kalimat yang didapat diatas kemudian search tipe statement yang ada, misalnya 'kata' split dan cari apakah ada string 'kata' pada kalimat setelah di split, jika ada maka jadikan setelah kata itu people dan kalimat yg di ekstrak diatas menjadi statement nya. begitu juga yang lain."
      ]
    },
    {
      "cell_type": "markdown",
      "metadata": {
        "id": "rz9hdn3Dw-hs"
      },
      "source": [
        "**dibawah ini untuk generate statement & people**"
      ]
    },
    {
      "cell_type": "code",
      "execution_count": null,
      "metadata": {
        "id": "z1_ZlgIN1tx5"
      },
      "outputs": [],
      "source": [
        "quotes = sentences"
      ]
    },
    {
      "cell_type": "code",
      "execution_count": null,
      "metadata": {
        "colab": {
          "base_uri": "https://localhost:8080/"
        },
        "id": "Zblp52yTzMQB",
        "outputId": "216009f6-58b0-446e-f6de-21aec965b591"
      },
      "outputs": [
        {
          "name": "stdout",
          "output_type": "stream",
          "text": [
            "tidak ditemukan dalam text_mentah\n",
            "tidak ditemukan dalam text_mentah\n",
            "ditemukan dalam text_mentah\n",
            "2\n",
            "\"Ya kita Ikuti semua perkembangan,\" kata Prabowo saat ditemui di Sekretariat Bersama Gerindra-PKB di kawasan Menteng, Jakarta Pusat, Senin, 23 Januari 2023.\n",
            "tidak ditemukan dalam text_mentah\n",
            "tidak ditemukan dalam text_mentah\n",
            "tidak ditemukan dalam text_mentah\n",
            "tidak ditemukan dalam text_mentah\n",
            "ditemukan dalam text_mentah\n",
            "7\n",
            "“Harapannya kan seperti itu, Prabowo yang jadi capres dan Cak Imin (Muhaimin) yang menjadi wapres,” kata Muzani saat ditemui secara terpisah di acara peresmian Sekber Gerindra-PKB. “Prinsipnya, Prabowo menghargai dan mempertimbangkan serius hasil Ijtima Ulama Nusantara.”\n",
            "tidak ditemukan dalam text_mentah\n",
            "tidak ditemukan dalam text_mentah\n",
            "tidak ditemukan dalam text_mentah\n"
          ]
        }
      ],
      "source": [
        "import re\n",
        "\n",
        "for x,y in enumerate(quotes):\n",
        "  match = re.search(r'kata', y.lower())\n",
        "  if match:\n",
        "      print(\"ditemukan dalam text_mentah\")\n",
        "      print(x)\n",
        "      print(y)\n",
        "  else:\n",
        "      print(\"tidak ditemukan dalam text_mentah\")"
      ]
    },
    {
      "cell_type": "code",
      "execution_count": null,
      "metadata": {
        "colab": {
          "base_uri": "https://localhost:8080/"
        },
        "id": "KtBH3a3xzmx2",
        "outputId": "31a5aeb3-5abf-4aa6-a5b2-111119b52b92"
      },
      "outputs": [
        {
          "data": {
            "text/plain": [
              "31"
            ]
          },
          "execution_count": 232,
          "metadata": {},
          "output_type": "execute_result"
        }
      ],
      "source": [
        "len(quotes)"
      ]
    },
    {
      "cell_type": "code",
      "execution_count": null,
      "metadata": {
        "colab": {
          "base_uri": "https://localhost:8080/",
          "height": 53
        },
        "id": "6xWaEM1_18gW",
        "outputId": "a3ac615a-eae5-4a09-b3ec-36a01b6c5f4c"
      },
      "outputs": [
        {
          "data": {
            "application/vnd.google.colaboratory.intrinsic+json": {
              "type": "string"
            },
            "text/plain": [
              "'\"Ya kita Ikuti semua perkembangan,\" kata Prabowo saat ditemui di Sekretariat Bersama Gerindra-PKB di kawasan Menteng, Jakarta Pusat, Senin, 23 Januari 2023.'"
            ]
          },
          "execution_count": 246,
          "metadata": {},
          "output_type": "execute_result"
        }
      ],
      "source": [
        "quotes[2]"
      ]
    },
    {
      "cell_type": "code",
      "execution_count": null,
      "metadata": {
        "id": "P2dqTWYX0Dku"
      },
      "outputs": [],
      "source": [
        "re.search(r'kata (\\w+)', text_mentah.split(quotes[6])[1][0:20])"
      ]
    },
    {
      "cell_type": "code",
      "execution_count": null,
      "metadata": {
        "colab": {
          "base_uri": "https://localhost:8080/"
        },
        "id": "aHX_6HXYxsZo",
        "outputId": "ece1b5a5-8dfd-423d-9c9e-70e252fb4533"
      },
      "outputs": [
        {
          "name": "stdout",
          "output_type": "stream",
          "text": [
            "Prabowo ==> Ya kita Ikuti semua perkembangan,\n"
          ]
        }
      ],
      "source": [
        "for i in range(len(quotes)):\n",
        "\n",
        "  match = re.search(r'kata (\\w+)', text_mentah.split(quotes[i])[1][0:20])\n",
        "  if match:\n",
        "      people = match.group(1)\n",
        "      print(people, '==>', quotes[i])"
      ]
    },
    {
      "cell_type": "code",
      "execution_count": null,
      "metadata": {
        "id": "VG3yrE1n3IMD"
      },
      "outputs": [],
      "source": [
        "q = quotes"
      ]
    },
    {
      "cell_type": "code",
      "execution_count": null,
      "metadata": {
        "id": "kq8wJoVC3BQD"
      },
      "outputs": [],
      "source": [
        "quotes = []\n",
        "\n",
        "for i in q:\n",
        "  # print(i)\n",
        "  quotes.append(i.lower())"
      ]
    },
    {
      "cell_type": "code",
      "execution_count": null,
      "metadata": {
        "colab": {
          "base_uri": "https://localhost:8080/"
        },
        "id": "SOuoso3G3dpr",
        "outputId": "e5fee5c8-4f31-4fa7-cd7b-1705beb2e7f2"
      },
      "outputs": [
        {
          "data": {
            "text/plain": [
              "['pkb menggelar forum ijtima ulama nusantara pada 13-14 januari 2023. forum tersebut menghasilkan sejumlah keputusan penting bagi partai tersebut. diantaranya adalah menegaskan pencalonan muhaimin iskandar sebagai capres atau cawapres dan penetapan pasangan calon maksimal pada maret mendatang.',\n",
              " 'saat ditanya lebih lanjut soal hasil forum ijtima ulama nusantara yang menyebutkan pkb harus menetapkan pasangan capres-cawapres maksimal maret mendatang, dia pun hanya bungkam. prabowo hanya memberikan kode jempol sambil pergi memasuki kendaraannya.',\n",
              " ' “prinsipnya, prabowo menghargai dan mempertimbangkan serius hasil ijtima ulama nusantara',\n",
              " ' elektabilitasnya menurut sejumlah lembaga survei masih sangat rendah',\n",
              " '” ujar muzani. ”tapi intinya, di bulan puasa pada pertengahan maret sudah terkonsolidasikan semua.',\n",
              " ' mereka yang akan membicarakan hal tersebut,” ujar muzani',\n",
              " 'harapannya kan seperti itu, prabowo yang jadi capres dan cak imin (muhaimin) yang menjadi wapres,” kata muzani saat ditemui secara terpisah di acara peresmian sekber gerindra-pkb. “prinsipnya, prabowo menghargai dan mempertimbangkan serius hasil ijtima ulama nusantara.',\n",
              " ' di bulan puasa pada pertengahan maret sudah terkonsolidasikan semua',\n",
              " ' wakil sekjen gerindra, ahmad muzani, menyatakan pihaknya memahami keputusan forum tersebut, meskipun demikian mereka belum dapat memutuskan siapa yang akan menjadi pendamping prabowo',\n",
              " ' prabowo subianto, belum dapat memastikan dirinya bersama ketua umum partai kebangkitan bangsa (pkb), muhaimin iskandar, akan maju pada pemilihan presiden (pilpres) 2024. meskipun telah menerima hasil forum ijtima ulama nusantara yang digelar pkb pertengahan bulan lalu, prabowo masih belum mau memastikan muhaimin sebagai pendampingnya',\n",
              " 'cawapres maksimal maret mendatang, dia pun hanya bungkam',\n",
              " ' forum tersebut menghasilkan sejumlah keputusan penting bagi partai tersebut',\n",
              " ' prabowo hanya memberikan kode jempol sambil pergi memasuki kendaraannya',\n",
              " ' dia pun irit bicara soal peluang muhaimin menjadi pendampingnya pada pilpres 2024',\n",
              " '\"mandat itu ada di tangan ketua umum. mereka yang akan membicarakan hal tersebut,” ujar muzani. ”tapi intinya, di bulan puasa pada pertengahan maret sudah terkonsolidasikan semua.”',\n",
              " ' muzani memberi sinyal akan dilakukan pada maret mendatang',\n",
              " 'ya kita ikuti semua perkembangan,',\n",
              " '“harapannya kan seperti itu, prabowo yang jadi capres dan cak imin (muhaimin) yang menjadi wapres,” kata muzani saat ditemui secara terpisah di acara peresmian sekber gerindra-pkb. “prinsipnya, prabowo menghargai dan mempertimbangkan serius hasil ijtima ulama nusantara.”',\n",
              " ' dia pun hanya bungkam. prabowo hanya memberikan kode jempol sambil pergi memasuki kendaraannya',\n",
              " ' prabowo yang jadi capres dan cak imin (muhaimin) yang menjadi wapres,” kata muzani saat ditemui secara terpisah di acara peresmian sekber gerindra-pkb. “prinsipnya, prabowo menghargai dan mempertimbangkan serius hasil ijtima ulama nusantara.',\n",
              " ' ahmad muzani, menyatakan pihaknya memahami keputusan forum tersebut, meskipun demikian mereka belum dapat memutuskan siapa yang akan menjadi pendamping prabowo',\n",
              " ' prabowo subianto, belum dapat memastikan dirinya bersama ketua umum partai kebangkitan bangsa (pkb), muhaimin iskandar, akan maju pada pemilihan presiden (pilpres) 2024',\n",
              " '\" kata prabowo saat ditemui di sekretariat bersama gerindra-pkb di kawasan menteng, jakarta pusat, senin, 23 januari 2023',\n",
              " ' sementara muhaimin meskipun diusung menjadi capres atau cawapres, elektabilitasnya menurut sejumlah lembaga survei masih sangat rendah',\n",
              " ' meskipun telah menerima hasil forum ijtima ulama nusantara yang digelar pkb pertengahan bulan lalu, prabowo masih belum mau memastikan muhaimin sebagai pendampingnya',\n",
              " ' soal kapan penetapan pasangan capres dan cawapres, muzani memberi sinyal akan dilakukan pada maret mendatang',\n",
              " ' prabowo menghargai dan mempertimbangkan serius hasil ijtima ulama nusantara',\n",
              " 'pkb di kawasan menteng, jakarta pusat, senin, 23 januari 2023',\n",
              " ' prabowo yang jadi capres dan cak imin (muhaimin) yang menjadi wapres,” kata muzani saat ditemui secara terpisah di acara peresmian sekber gerindra-pkb',\n",
              " ' kedua partai bersepakat untuk menjalin kerjasama demi mendapatkan tiket mengajukan pasangan calon pada pilpres 2024',\n",
              " ' prabowo masih belum mau memastikan muhaimin sebagai pendampingnya']"
            ]
          },
          "execution_count": 262,
          "metadata": {},
          "output_type": "execute_result"
        }
      ],
      "source": [
        "quotes"
      ]
    },
    {
      "cell_type": "code",
      "execution_count": null,
      "metadata": {
        "colab": {
          "base_uri": "https://localhost:8080/",
          "height": 434
        },
        "id": "c_gBoS9N4JGc",
        "outputId": "8cfbe493-461b-4f2f-e84c-89c468712ab3"
      },
      "outputs": [
        {
          "data": {
            "application/vnd.google.colaboratory.intrinsic+json": {
              "type": "string"
            },
            "text/plain": [
              "'TEMPO.CO, Jakarta - Ketua Umum Partai Gerindra, Prabowo Subianto, belum dapat memastikan dirinya bersama Ketua Umum Partai Kebangkitan Bangsa (PKB), Muhaimin Iskandar, akan maju pada Pemilihan Presiden (Pilpres) 2024. Meskipun telah menerima hasil forum Ijtima Ulama Nusantara yang digelar PKB pertengahan bulan lalu, Prabowo masih belum mau memastikan Muhaimin sebagai pendampingnya.\\nPrabowo menyatakan masih akan mempertimbangkan hasil forum tersebut. Dia pun irit bicara soal peluang Muhaimin menjadi pendampingnya pada Pilpres 2024.\\n\"Ya kita Ikuti semua perkembangan,\" kata Prabowo saat ditemui di Sekretariat Bersama Gerindra-PKB di kawasan Menteng, Jakarta Pusat, Senin, 23 Januari 2023.\\nSaat ditanya lebih lanjut soal hasil forum Ijtima Ulama Nusantara yang menyebutkan PKB harus menetapkan pasangan Capres-Cawapres maksimal Maret mendatang, dia pun hanya bungkam. Prabowo hanya memberikan kode jempol sambil pergi memasuki kendaraannya.\\nPKB menggelar forum Ijtima Ulama Nusantara pada 13-14 Januari 2023. Forum tersebut menghasilkan sejumlah keputusan penting bagi partai tersebut. Diantaranya adalah menegaskan pencalonan Muhaimin Iskandar sebagai Capres atau Cawapres dan penetapan pasangan calon maksimal pada Maret mendatang.\\nGerindra masih buka peluang tokoh lain dampingi Prabowo\\nHasil forum Ijtima Ulama Nusantara itu telah disampaikan Muhaimin kepada Prabowo Subianto. Wakil Sekjen Gerindra, Ahmad Muzani, menyatakan pihaknya memahami keputusan forum tersebut, meskipun demikian mereka belum dapat memutuskan siapa yang akan menjadi pendamping Prabowo.\\n“Harapannya kan seperti itu, Prabowo yang jadi capres dan Cak Imin (Muhaimin) yang menjadi wapres,” kata Muzani saat ditemui secara terpisah di acara peresmian Sekber Gerindra-PKB. “Prinsipnya, Prabowo menghargai dan mempertimbangkan serius hasil Ijtima Ulama Nusantara.”\\nMuzani justru menyatakan pihaknya masih membuka peluang tokoh lain yang mendampingi Prabowo jika memang elektabilitasnya lebih tinggi dari Muhaimin Iskandar. Soal kapan penetapan pasangan Capres dan Cawapres, Muzani memberi sinyal akan dilakukan pada Maret mendatang.\\n\"Mandat itu ada di tangan ketua umum. Mereka yang akan membicarakan hal tersebut,” ujar Muzani. ”Tapi intinya, di bulan puasa pada pertengahan Maret sudah terkonsolidasikan semua.”\\nGerindra dan PKB telah mendeklarasikan Koalisi Kebangkitan Indonesia Raya sejak Agustus 2022. Kedua partai bersepakat untuk menjalin kerjasama demi mendapatkan tiket mengajukan pasangan calon pada Pilpres 2024. Prabowo Subianto disebut sebagai calon presiden dari koalisi tersebut karena masih menjadi tokoh sentral yang memiliki elektabilitas tinggi. Sementara Muhaimin meskipun diusung menjadi Capres atau Cawapres, elektabilitasnya menurut sejumlah lembaga survei masih sangat rendah.\\n'"
            ]
          },
          "execution_count": 271,
          "metadata": {},
          "output_type": "execute_result"
        }
      ],
      "source": [
        "text_mentah"
      ]
    },
    {
      "cell_type": "code",
      "execution_count": null,
      "metadata": {
        "colab": {
          "base_uri": "https://localhost:8080/",
          "height": 236
        },
        "id": "0smNLegYPSlh",
        "outputId": "0c496797-0a4d-4736-e835-c698af877559"
      },
      "outputs": [
        {
          "ename": "IndexError",
          "evalue": "ignored",
          "output_type": "error",
          "traceback": [
            "\u001b[0;31m---------------------------------------------------------------------------\u001b[0m",
            "\u001b[0;31mIndexError\u001b[0m                                Traceback (most recent call last)",
            "\u001b[0;32m<ipython-input-266-261e8e450a00>\u001b[0m in \u001b[0;36m<module>\u001b[0;34m\u001b[0m\n\u001b[1;32m      3\u001b[0m \u001b[0;32mfor\u001b[0m \u001b[0mi\u001b[0m \u001b[0;32min\u001b[0m \u001b[0mrange\u001b[0m\u001b[0;34m(\u001b[0m\u001b[0mlen\u001b[0m\u001b[0;34m(\u001b[0m\u001b[0mquotes\u001b[0m\u001b[0;34m)\u001b[0m\u001b[0;34m)\u001b[0m\u001b[0;34m:\u001b[0m\u001b[0;34m\u001b[0m\u001b[0;34m\u001b[0m\u001b[0m\n\u001b[1;32m      4\u001b[0m \u001b[0;34m\u001b[0m\u001b[0m\n\u001b[0;32m----> 5\u001b[0;31m   \u001b[0mmatch\u001b[0m \u001b[0;34m=\u001b[0m \u001b[0mre\u001b[0m\u001b[0;34m.\u001b[0m\u001b[0msearch\u001b[0m\u001b[0;34m(\u001b[0m\u001b[0;34mr'ucap (\\w+)'\u001b[0m\u001b[0;34m,\u001b[0m \u001b[0mtext_mentah\u001b[0m\u001b[0;34m.\u001b[0m\u001b[0msplit\u001b[0m\u001b[0;34m(\u001b[0m\u001b[0mquotes\u001b[0m\u001b[0;34m[\u001b[0m\u001b[0mi\u001b[0m\u001b[0;34m]\u001b[0m\u001b[0;34m)\u001b[0m\u001b[0;34m[\u001b[0m\u001b[0;36m1\u001b[0m\u001b[0;34m]\u001b[0m\u001b[0;34m[\u001b[0m\u001b[0;36m0\u001b[0m\u001b[0;34m:\u001b[0m\u001b[0;36m20\u001b[0m\u001b[0;34m]\u001b[0m\u001b[0;34m)\u001b[0m\u001b[0;34m\u001b[0m\u001b[0;34m\u001b[0m\u001b[0m\n\u001b[0m\u001b[1;32m      6\u001b[0m   \u001b[0;32mif\u001b[0m \u001b[0mmatch\u001b[0m\u001b[0;34m:\u001b[0m\u001b[0;34m\u001b[0m\u001b[0;34m\u001b[0m\u001b[0m\n\u001b[1;32m      7\u001b[0m       \u001b[0mpeople\u001b[0m \u001b[0;34m=\u001b[0m \u001b[0mmatch\u001b[0m\u001b[0;34m.\u001b[0m\u001b[0mgroup\u001b[0m\u001b[0;34m(\u001b[0m\u001b[0;36m1\u001b[0m\u001b[0;34m)\u001b[0m\u001b[0;34m\u001b[0m\u001b[0;34m\u001b[0m\u001b[0m\n",
            "\u001b[0;31mIndexError\u001b[0m: list index out of range"
          ]
        }
      ],
      "source": [
        "output_people = []\n",
        "\n",
        "for i in range(len(quotes)):\n",
        "\n",
        "  match = re.search(r'ucap (\\w+)', text_mentah.split(quotes[i])[1][0:20])\n",
        "  if match:\n",
        "      people = match.group(1)\n",
        "      output_people.append(people)\n",
        "      print(people, '==>', quotes[i])\n",
        "\n",
        "  match = re.search(r'kata (\\w+)', text_mentah.split(quotes[i])[1][0:20])\n",
        "  if match:\n",
        "      people = match.group(1)\n",
        "      output_people.append(people)\n",
        "      print(people, '==>', quotes[i])\n",
        "\n",
        "  match = re.search(r'ujarnya', text_mentah.split(quotes[i])[1][0:30])\n",
        "  if match:\n",
        "      # people = match.group(1)\n",
        "      print(people, '==>', quotes[i])\n",
        "\n",
        "  match = re.search(r'tutur (\\w+ \\w+ \\w+)', text_mentah.split(quotes[i])[1][0:30])\n",
        "  if match:\n",
        "      people = match.group(1)\n",
        "      output_people.append(people)\n",
        "      print(people, '==>', quotes[i])\n",
        "\n",
        "  match = re.search(r'ujar (\\w+)', text_mentah.split(quotes[i])[1][0:20])\n",
        "  if match:\n",
        "      people = match.group(1)\n",
        "      output_people.append(people)\n",
        "      print(people, '==>', quotes[i])\n",
        "\n",
        "  match = re.search(r'(\\w+) mengatakan', text_mentah.split(quotes[i])[0][-20:-1])\n",
        "  if match:\n",
        "      people = match.group(1)\n",
        "      output_people.append(people)\n",
        "      print(people, '==>', quotes[i])\n",
        "\n",
        "  match = re.search(r'(\\w+) menyebut', text_mentah.split(quotes[i])[0][-20:-1])\n",
        "  if match:\n",
        "      people = match.group(1)\n",
        "      output_people.append(people)\n",
        "      print(people, '==>', quotes[i])\n",
        "\n",
        "  match = re.search(r'tegasnya', text_mentah.split(quotes[i])[1][0:30])\n",
        "  if match:\n",
        "      # people = match.group(1)\n",
        "      print(people, '==>', quotes[i])\n",
        "\n",
        "  match = re.search(r'sambungnya', text_mentah.split(quotes[i])[1][0:30])\n",
        "  if match:\n",
        "      # people = match.group(1)\n",
        "      print(people, '==>', quotes[i])\n",
        "\n",
        "  match = re.search(r'sambungnya', text_mentah.split(quotes[i])[1][0:30])\n",
        "  if match:\n",
        "      # people = match.group(1)\n",
        "      print(people, '==>', quotes[i])"
      ]
    },
    {
      "cell_type": "code",
      "execution_count": null,
      "metadata": {
        "id": "pMVVYBhW9Mtp"
      },
      "outputs": [],
      "source": [
        "people = 'dia'\n",
        "if people == 'dia':\n",
        "  print('bisa')"
      ]
    },
    {
      "cell_type": "code",
      "execution_count": null,
      "metadata": {
        "id": "XMpIic_H9E6k"
      },
      "outputs": [],
      "source": [
        "count = Counter(output_people)\n",
        "mode = count.most_common(1)[0][0]\n",
        "print(mode)"
      ]
    },
    {
      "cell_type": "code",
      "execution_count": null,
      "metadata": {
        "id": "Bn9rKA1C8Jg9"
      },
      "outputs": [],
      "source": [
        "output_people"
      ]
    },
    {
      "cell_type": "code",
      "execution_count": null,
      "metadata": {
        "id": "YwAJoakW5FUc"
      },
      "outputs": [],
      "source": [
        "print(re.search(r'mengakatan', text_mentah.split(quotes[-1])[0][-20:-1]))"
      ]
    },
    {
      "cell_type": "code",
      "execution_count": null,
      "metadata": {
        "id": "NliWg0-04lyy"
      },
      "outputs": [],
      "source": [
        "text_mentah.split(quotes[-1])[0][-20:-1]"
      ]
    },
    {
      "cell_type": "code",
      "execution_count": null,
      "metadata": {
        "id": "uK8BLZhJOHWn"
      },
      "outputs": [],
      "source": [
        "match = re.search(r'kata (\\w+)', text_mentah.split(quotes[0])[1][0:12])\n",
        "if match:\n",
        "    people = match.group(1)\n",
        "    print(people, '==>', quotes[0])\n",
        "\n",
        "match = re.search(r'ujarnya', text_mentah.split(quotes[1])[1][0:30])\n",
        "if match:\n",
        "    # people = match.group(1)\n",
        "    print(people, '==>', quotes[1])\n",
        "\n",
        "match = re.search(r'tutur (\\w+ \\w+ \\w+)', text_mentah.split(quotes[2])[1][0:30])\n",
        "if match:\n",
        "    people = match.group(1)\n",
        "    print(people, '==>', quotes[2])\n",
        "\n",
        "# match = re.search(r'ujar (\\w+)', text_mentah.split(quotes[2])[1][0:20])\n",
        "# if match:\n",
        "#     people = match.group(1)\n",
        "#     print(people, '==>', quotes[3])"
      ]
    },
    {
      "cell_type": "code",
      "execution_count": null,
      "metadata": {
        "id": "PfkbJ7tgMSyr"
      },
      "outputs": [],
      "source": [
        "import pandas as pd\n",
        "\n",
        "# Menentukan titik pembagian\n",
        "split_index = df[df['text'] == 'kata'].index[0]\n",
        "\n",
        "# Membagi DataFrame menjadi dua bagian\n",
        "df_part1 = df.iloc[:split_index].reset_index(drop=True)\n",
        "df_part2 = df.iloc[split_index:].reset_index(drop=True)\n",
        "\n",
        "print(df_part1)\n",
        "print(df_part2)"
      ]
    },
    {
      "cell_type": "code",
      "execution_count": null,
      "metadata": {
        "id": "OJrzETT3Cams"
      },
      "outputs": [],
      "source": [
        "df_part1"
      ]
    },
    {
      "cell_type": "code",
      "execution_count": null,
      "metadata": {
        "id": "2tjmoC-zDYoI"
      },
      "outputs": [],
      "source": [
        "text_mentah"
      ]
    },
    {
      "cell_type": "code",
      "execution_count": null,
      "metadata": {
        "id": "wuIJzj8MAveN"
      },
      "outputs": [],
      "source": [
        "df_part1[df_part1['text'] == '“']\n",
        "\n",
        "# print(df_part2['text'][1], '=>', df_part1)"
      ]
    },
    {
      "cell_type": "code",
      "execution_count": null,
      "metadata": {
        "id": "F_Q1LeMEEbxU"
      },
      "outputs": [],
      "source": [
        "' '.join(df_part1['text'])"
      ]
    },
    {
      "cell_type": "code",
      "execution_count": null,
      "metadata": {
        "id": "ctGlgXRD_-6S"
      },
      "outputs": [],
      "source": [
        "dt = []\n",
        "dl = []\n",
        "statement = {}\n",
        "\n",
        "for t,l in zip(df['text'].tolist(), df['label'].tolist()):\n",
        "  # print(t, '-->', l)\n",
        "  dt.append(t)\n",
        "  dl.append(l)\n",
        "\n",
        "  if l == 'PERSON':\n",
        "    print(type(t))\n",
        "    print(t, 'mengatakan : ', ' '.join(str(txt) for txt in text_mentah.lower().split(t)[0].split(',')[:-1]))\n",
        "    # statement = {t : ' '.join(str(txt) for txt in text_new.lower().split(t)[0].split(',')[:-1]))}\n",
        "\n",
        "    # if bool(re.search(r\"kata\", text_mentah.lower())) == True:\n",
        "    #   # print(t)\n",
        "    #   statement[t] = ' '.join(str(txt) for txt in text_mentah.lower().split(\"kata\")[0].split(',')[0:]).strip()\n",
        "    #   # split = ' '.join(str(txt) for txt in text_mentah.lower().split(t)[1].split(',')[:-1]).strip()\n",
        "    #   split_index = df[df['text'] == 'kata'].index[0]\n",
        "    #   statement = df.iloc[:split_index].reset_index(drop=True)\n",
        "    #   people = df.iloc[split_index:].reset_index(drop=True)\n",
        "\n",
        "\n",
        "\n",
        "    # # elif bool(re.search(r\"memaparkan\", text_mentah.lower())) == True:\n",
        "    # #   statement[t] = text_mentah.lower().split('memaparkan,')[1].strip()\n",
        "\n",
        "    # # break\n",
        "\n",
        "output = {dt[i]: dl[i] for i in range(len(dt))}\n",
        "# print(text_mentah.lower())\n",
        "print(statement)"
      ]
    },
    {
      "cell_type": "code",
      "execution_count": null,
      "metadata": {
        "id": "4Dyf9olYfbIe"
      },
      "outputs": [],
      "source": [
        "print(text_mentah.lower())"
      ]
    },
    {
      "cell_type": "code",
      "execution_count": null,
      "metadata": {
        "id": "NaY3en67e-po"
      },
      "outputs": [],
      "source": [
        "dt = []\n",
        "dl = []\n",
        "statement = {}\n",
        "\n",
        "for t,l in zip(df['text'].tolist(), df['label'].tolist()):\n",
        "  # print(t, '-->', l)\n",
        "  dt.append(t)\n",
        "  dl.append(l)\n",
        "\n",
        "  if l == 'PERSON':\n",
        "    # print(type(t))\n",
        "    # print(t, 'mengatakan : ', ' '.join(str(txt) for txt in text_new.lower().split(t)[0].split(',')[:-1]))\n",
        "    # statement = {t : ' '.join(str(txt) for txt in text_new.lower().split(t)[0].split(',')[:-1]))}\n",
        "\n",
        "    if bool(re.search(r\"kata\", text_mentah.lower())) == True:\n",
        "      # print(t)\n",
        "      statement[t] = ' '.join(str(txt) for txt in text_mentah.lower().split(\"kata\")[0].split(',')[0:]).strip()\n",
        "      # split = ' '.join(str(txt) for txt in text_mentah.lower().split(t)[1].split(',')[:-1]).strip()\n",
        "\n",
        "\n",
        "    # elif bool(re.search(r\"memaparkan\", text_mentah.lower())) == True:\n",
        "    #   statement[t] = text_mentah.lower().split('memaparkan,')[1].strip()\n",
        "\n",
        "    # break\n",
        "\n",
        "output = {dt[i]: dl[i] for i in range(len(dt))}\n",
        "# print(text_mentah.lower())\n",
        "print(statement)"
      ]
    },
    {
      "cell_type": "code",
      "execution_count": null,
      "metadata": {
        "id": "ncyezO1DfrUb"
      },
      "outputs": [],
      "source": [
        "print(dt)"
      ]
    },
    {
      "cell_type": "code",
      "execution_count": null,
      "metadata": {
        "id": "_28x00DSohlQ"
      },
      "outputs": [],
      "source": [
        "print(dh)"
      ]
    },
    {
      "cell_type": "code",
      "execution_count": null,
      "metadata": {
        "id": "InX3Rqno2ZPm"
      },
      "outputs": [],
      "source": [
        "df.shape"
      ]
    },
    {
      "cell_type": "code",
      "execution_count": null,
      "metadata": {
        "id": "M4LJMSzZpXSU"
      },
      "outputs": [],
      "source": [
        "df"
      ]
    },
    {
      "cell_type": "code",
      "execution_count": null,
      "metadata": {
        "id": "168R-Q8S9wWl"
      },
      "outputs": [],
      "source": [
        "df[df.label == 'PERSON']"
      ]
    },
    {
      "cell_type": "code",
      "execution_count": null,
      "metadata": {
        "id": "nzJ-t_23AGx-"
      },
      "outputs": [],
      "source": [
        "\" \".join(df['text'])"
      ]
    },
    {
      "cell_type": "code",
      "execution_count": null,
      "metadata": {
        "id": "ZsuI-dzzEFr1"
      },
      "outputs": [],
      "source": [
        "import pandas as pd\n",
        "\n",
        "# Buat DataFrame sederhana\n",
        "df = pd.DataFrame({'kalimat': ['ini adalah contoh kalimat sederhana','ini adalah contoh kalimat sederhana yang tidak ada kata contoh']})\n",
        "\n",
        "# Mengecek apakah kata 'contoh' ada dalam data dari kolom 'kalimat'\n",
        "df['has_contoh'] = df['kalimat'].str.contains(\"contoh\")\n",
        "\n",
        "# Membagi data dalam kolom 'kalimat' berdasarkan kata 'contoh' jika kolom 'has_contoh' True\n",
        "df.loc[df['has_contoh'] == True, 'kalimat_split'] = df.loc[df['has_contoh'] == True]['kalimat'].str.split('contoh')\n",
        "\n",
        "# Tampilkan DataFrame\n",
        "print(df)\n"
      ]
    },
    {
      "cell_type": "code",
      "execution_count": null,
      "metadata": {
        "id": "DU2NXLQxIJMP"
      },
      "outputs": [],
      "source": [
        "df['text'][0]"
      ]
    },
    {
      "cell_type": "code",
      "execution_count": null,
      "metadata": {
        "id": "QwueRR_LJwIR"
      },
      "outputs": [],
      "source": [
        "import pandas as pd\n",
        "\n",
        "# Buat DataFrame sederhana\n",
        "df = pd.DataFrame({'value': ['part1-part2','part3-part4','part5-part6']})\n",
        "\n",
        "# Membagi data dalam kolom 'value' berdasarkan karakter '-'\n",
        "df['value'].str.split('-',expand=True)"
      ]
    },
    {
      "cell_type": "code",
      "execution_count": null,
      "metadata": {
        "id": "lrDbmE_sLLXH"
      },
      "outputs": [],
      "source": [
        "' '.join(df['text'].tolist()).split('louis van gaal')"
      ]
    },
    {
      "cell_type": "code",
      "execution_count": null,
      "metadata": {
        "id": "GH3FRuOXM-wb"
      },
      "outputs": [],
      "source": [
        "text_mentah.lower().split('louis van gaal')"
      ]
    },
    {
      "cell_type": "code",
      "execution_count": null,
      "metadata": {
        "id": "ZEEEUFm7_IG_"
      },
      "outputs": [],
      "source": [
        "# coba\n",
        "\n",
        "for i in range(len(df)):\n",
        "  if df['label'][i] == 'PERSON':\n",
        "    print(text_mentah.lower().split(df['text'][i]))\n",
        "\n",
        "\n",
        "\n",
        "    for x in text_mentah.lower().split(df['text'][i]):\n",
        "      print(x)\n",
        "\n",
        "    break"
      ]
    },
    {
      "cell_type": "code",
      "execution_count": null,
      "metadata": {
        "id": "Rc8CbY24xQ1G"
      },
      "outputs": [],
      "source": [
        "print(kata)"
      ]
    },
    {
      "cell_type": "code",
      "execution_count": null,
      "metadata": {
        "id": "yozhWUDVzx8D"
      },
      "outputs": [],
      "source": [
        "text_mentah.lower()"
      ]
    },
    {
      "cell_type": "code",
      "execution_count": null,
      "metadata": {
        "id": "ThEDo-hl6Y77"
      },
      "outputs": [],
      "source": [
        "l_text = text_mentah.lower().split()"
      ]
    },
    {
      "cell_type": "code",
      "execution_count": null,
      "metadata": {
        "id": "CZ2TBngN6hHP"
      },
      "outputs": [],
      "source": [
        "print(l_text)"
      ]
    },
    {
      "cell_type": "code",
      "execution_count": null,
      "metadata": {
        "id": "bIvicZGE8Ffs"
      },
      "outputs": [],
      "source": [
        "' '.join(l_text)"
      ]
    },
    {
      "cell_type": "code",
      "execution_count": null,
      "metadata": {
        "id": "V8oiMUxVwMpt"
      },
      "outputs": [],
      "source": [
        "for i, v in enumerate(l_text):\n",
        "\n",
        "  if v == 'kata':\n",
        "    print(' '.join(l_text).split(v)[1])\n",
        "\n",
        "    print(len(' '.join(l_text).split(v)))"
      ]
    },
    {
      "cell_type": "code",
      "execution_count": null,
      "metadata": {
        "id": "mQeqvdExCxjk"
      },
      "outputs": [],
      "source": [
        "for y in range(len(hasil)):\n",
        "\n",
        "  if hasil['words'][y] == 'kata':\n",
        "    # print(hasil['words'].tolist())\n",
        "    # print(y)\n",
        "    hasil_kata = hasil.iloc[y:]\n",
        "    # print(hasil_kata)\n",
        "\n",
        "# print(hasil_kata['words'].tolist())\n",
        "for i in range(hasil_kata.index[0], hasil_kata.index[-1]+1):\n",
        "  # print(i)\n",
        "\n",
        "  try:\n",
        "    if hasil_kata['label'][i]=='B-PERSON' and hasil_kata['label'][i+1]!='I-PERSON':\n",
        "      print(hasil_kata['words'][i], '=> PERSON')\n",
        "    else:\n",
        "      pass\n",
        "\n",
        "  except:\n",
        "    if hasil_kata['label'][i]=='B-PERSON' and ((i+1)==len(hasil_kata)):\n",
        "      print(hasil_kata['words'][i], '=> PERSON')\n",
        "    else:\n",
        "      pass\n",
        "\n",
        "  try:\n",
        "    if hasil_kata['label'][i]=='B-PERSON' and hasil_kata['label'][i+1]=='I-PERSON' and hasil_kata['label'][i+2]=='I-PERSON':\n",
        "      print(hasil_kata['words'][i],hasil_kata['words'][i+1],hasil_kata['words'][i+2], '=> PERSON')\n",
        "    elif hasil_kata['label'][i]=='B-PERSON' and hasil_kata['label'][i+1]=='I-PERSON':\n",
        "      print(hasil_kata['words'][i],hasil_kata['words'][i+1], '=> PERSON')\n",
        "    else:\n",
        "      pass\n",
        "\n",
        "  except:\n",
        "    pass\n",
        "\n",
        "# print(' '.join([str(elem) for elem in text]))\n",
        "# print('-'*100)\n",
        "\n",
        "for x,y in enumerate(text):\n",
        "  if bool(re.findall(r\"(?=(\"+'|'.join(kata)+r\"))\", y)) == True:\n",
        "    #print(y)\n",
        "\n",
        "    if y == 'kata':\n",
        "      print(' '.join([str(elem) for elem in text]).split('kata')[0].strip())"
      ]
    },
    {
      "cell_type": "code",
      "execution_count": null,
      "metadata": {
        "id": "9H4aQpTfYTGh"
      },
      "outputs": [],
      "source": [
        "print(' '.join([str(elem) for elem in text]))\n",
        "print('-'*100)\n",
        "\n",
        "for x,y in enumerate(text):\n",
        "  if bool(re.findall(r\"(?=(\"+'|'.join(kata)+r\"))\", y)) == True:\n",
        "    #print(y)\n",
        "\n",
        "    if y == 'kata':\n",
        "      print(' '.join([str(elem) for elem in text]).split('kata')[0].strip())"
      ]
    }
  ],
  "metadata": {
    "colab": {
      "collapsed_sections": [
        "xZEbuHz_QTRB",
        "AjdZ9hS2DdyP",
        "Yho6fkxLk9rX",
        "OSDcfTUdlBuu",
        "cBGsyxc5T3MW",
        "Ic6URMcTlD1G",
        "pyi2wCIafvDA",
        "NpRn31jAufDl",
        "U5wenNYgudnt",
        "8fl6CSLOXMlD",
        "Vx9BFih5v6ZK",
        "4Y1bhe7kukdl",
        "Ollrmj61suW2",
        "gZtChrJI8YSW",
        "BJ7UAG9kKxTg",
        "SihgPVJMNHBz",
        "J5QJRm8lNKlp",
        "d4UK4ydLNMlv",
        "zq5lBjNTNNTy",
        "sT0riWZSNOMv",
        "BUakw9ZdNPeJ",
        "5BTm_6s2NQQB",
        "lKTtqvlyNRC_",
        "nGNaNtBmNR-g",
        "nQi-0Kl3qUzo",
        "oHazEt4eqg_K",
        "TvlbRgpmkhXW"
      ],
      "provenance": []
    },
    "gpuClass": "standard",
    "kernelspec": {
      "display_name": "Python 3",
      "name": "python3"
    },
    "language_info": {
      "name": "python"
    },
    "widgets": {
      "application/vnd.jupyter.widget-state+json": {
        "3f5b8dbfcfe7488891f9b4b748cbb0b9": {
          "model_module": "@jupyter-widgets/controls",
          "model_name": "HBoxModel",
          "model_module_version": "1.5.0",
          "state": {
            "_dom_classes": [],
            "_model_module": "@jupyter-widgets/controls",
            "_model_module_version": "1.5.0",
            "_model_name": "HBoxModel",
            "_view_count": null,
            "_view_module": "@jupyter-widgets/controls",
            "_view_module_version": "1.5.0",
            "_view_name": "HBoxView",
            "box_style": "",
            "children": [
              "IPY_MODEL_d4bfe40c75b34b1e98f0e9a652fae1d9",
              "IPY_MODEL_23484d34ae35432a922626ac68ab1a10",
              "IPY_MODEL_39e7fd3b65c4436082a78796da363bf7"
            ],
            "layout": "IPY_MODEL_be59eccb7d5b4b0ea3e4edc946e7178b"
          }
        },
        "d4bfe40c75b34b1e98f0e9a652fae1d9": {
          "model_module": "@jupyter-widgets/controls",
          "model_name": "HTMLModel",
          "model_module_version": "1.5.0",
          "state": {
            "_dom_classes": [],
            "_model_module": "@jupyter-widgets/controls",
            "_model_module_version": "1.5.0",
            "_model_name": "HTMLModel",
            "_view_count": null,
            "_view_module": "@jupyter-widgets/controls",
            "_view_module_version": "1.5.0",
            "_view_name": "HTMLView",
            "description": "",
            "description_tooltip": null,
            "layout": "IPY_MODEL_ae029b0d40214aa3a931dfe18e99c484",
            "placeholder": "​",
            "style": "IPY_MODEL_62a73a03deda44ee976f90d9782596d4",
            "value": "Downloading: 100%"
          }
        },
        "23484d34ae35432a922626ac68ab1a10": {
          "model_module": "@jupyter-widgets/controls",
          "model_name": "FloatProgressModel",
          "model_module_version": "1.5.0",
          "state": {
            "_dom_classes": [],
            "_model_module": "@jupyter-widgets/controls",
            "_model_module_version": "1.5.0",
            "_model_name": "FloatProgressModel",
            "_view_count": null,
            "_view_module": "@jupyter-widgets/controls",
            "_view_module_version": "1.5.0",
            "_view_name": "ProgressView",
            "bar_style": "success",
            "description": "",
            "description_tooltip": null,
            "layout": "IPY_MODEL_849390b55d0a4d77bf7439b6eac2c939",
            "max": 497810400,
            "min": 0,
            "orientation": "horizontal",
            "style": "IPY_MODEL_53f9ee1a78a843d1bd4ba6f72f38f034",
            "value": 497810400
          }
        },
        "39e7fd3b65c4436082a78796da363bf7": {
          "model_module": "@jupyter-widgets/controls",
          "model_name": "HTMLModel",
          "model_module_version": "1.5.0",
          "state": {
            "_dom_classes": [],
            "_model_module": "@jupyter-widgets/controls",
            "_model_module_version": "1.5.0",
            "_model_name": "HTMLModel",
            "_view_count": null,
            "_view_module": "@jupyter-widgets/controls",
            "_view_module_version": "1.5.0",
            "_view_name": "HTMLView",
            "description": "",
            "description_tooltip": null,
            "layout": "IPY_MODEL_6466224b929a40489734292e863de6d3",
            "placeholder": "​",
            "style": "IPY_MODEL_1c9aa0fff492439998e53722def2570a",
            "value": " 498M/498M [00:08&lt;00:00, 34.1MB/s]"
          }
        },
        "be59eccb7d5b4b0ea3e4edc946e7178b": {
          "model_module": "@jupyter-widgets/base",
          "model_name": "LayoutModel",
          "model_module_version": "1.2.0",
          "state": {
            "_model_module": "@jupyter-widgets/base",
            "_model_module_version": "1.2.0",
            "_model_name": "LayoutModel",
            "_view_count": null,
            "_view_module": "@jupyter-widgets/base",
            "_view_module_version": "1.2.0",
            "_view_name": "LayoutView",
            "align_content": null,
            "align_items": null,
            "align_self": null,
            "border": null,
            "bottom": null,
            "display": null,
            "flex": null,
            "flex_flow": null,
            "grid_area": null,
            "grid_auto_columns": null,
            "grid_auto_flow": null,
            "grid_auto_rows": null,
            "grid_column": null,
            "grid_gap": null,
            "grid_row": null,
            "grid_template_areas": null,
            "grid_template_columns": null,
            "grid_template_rows": null,
            "height": null,
            "justify_content": null,
            "justify_items": null,
            "left": null,
            "margin": null,
            "max_height": null,
            "max_width": null,
            "min_height": null,
            "min_width": null,
            "object_fit": null,
            "object_position": null,
            "order": null,
            "overflow": null,
            "overflow_x": null,
            "overflow_y": null,
            "padding": null,
            "right": null,
            "top": null,
            "visibility": null,
            "width": null
          }
        },
        "ae029b0d40214aa3a931dfe18e99c484": {
          "model_module": "@jupyter-widgets/base",
          "model_name": "LayoutModel",
          "model_module_version": "1.2.0",
          "state": {
            "_model_module": "@jupyter-widgets/base",
            "_model_module_version": "1.2.0",
            "_model_name": "LayoutModel",
            "_view_count": null,
            "_view_module": "@jupyter-widgets/base",
            "_view_module_version": "1.2.0",
            "_view_name": "LayoutView",
            "align_content": null,
            "align_items": null,
            "align_self": null,
            "border": null,
            "bottom": null,
            "display": null,
            "flex": null,
            "flex_flow": null,
            "grid_area": null,
            "grid_auto_columns": null,
            "grid_auto_flow": null,
            "grid_auto_rows": null,
            "grid_column": null,
            "grid_gap": null,
            "grid_row": null,
            "grid_template_areas": null,
            "grid_template_columns": null,
            "grid_template_rows": null,
            "height": null,
            "justify_content": null,
            "justify_items": null,
            "left": null,
            "margin": null,
            "max_height": null,
            "max_width": null,
            "min_height": null,
            "min_width": null,
            "object_fit": null,
            "object_position": null,
            "order": null,
            "overflow": null,
            "overflow_x": null,
            "overflow_y": null,
            "padding": null,
            "right": null,
            "top": null,
            "visibility": null,
            "width": null
          }
        },
        "62a73a03deda44ee976f90d9782596d4": {
          "model_module": "@jupyter-widgets/controls",
          "model_name": "DescriptionStyleModel",
          "model_module_version": "1.5.0",
          "state": {
            "_model_module": "@jupyter-widgets/controls",
            "_model_module_version": "1.5.0",
            "_model_name": "DescriptionStyleModel",
            "_view_count": null,
            "_view_module": "@jupyter-widgets/base",
            "_view_module_version": "1.2.0",
            "_view_name": "StyleView",
            "description_width": ""
          }
        },
        "849390b55d0a4d77bf7439b6eac2c939": {
          "model_module": "@jupyter-widgets/base",
          "model_name": "LayoutModel",
          "model_module_version": "1.2.0",
          "state": {
            "_model_module": "@jupyter-widgets/base",
            "_model_module_version": "1.2.0",
            "_model_name": "LayoutModel",
            "_view_count": null,
            "_view_module": "@jupyter-widgets/base",
            "_view_module_version": "1.2.0",
            "_view_name": "LayoutView",
            "align_content": null,
            "align_items": null,
            "align_self": null,
            "border": null,
            "bottom": null,
            "display": null,
            "flex": null,
            "flex_flow": null,
            "grid_area": null,
            "grid_auto_columns": null,
            "grid_auto_flow": null,
            "grid_auto_rows": null,
            "grid_column": null,
            "grid_gap": null,
            "grid_row": null,
            "grid_template_areas": null,
            "grid_template_columns": null,
            "grid_template_rows": null,
            "height": null,
            "justify_content": null,
            "justify_items": null,
            "left": null,
            "margin": null,
            "max_height": null,
            "max_width": null,
            "min_height": null,
            "min_width": null,
            "object_fit": null,
            "object_position": null,
            "order": null,
            "overflow": null,
            "overflow_x": null,
            "overflow_y": null,
            "padding": null,
            "right": null,
            "top": null,
            "visibility": null,
            "width": null
          }
        },
        "53f9ee1a78a843d1bd4ba6f72f38f034": {
          "model_module": "@jupyter-widgets/controls",
          "model_name": "ProgressStyleModel",
          "model_module_version": "1.5.0",
          "state": {
            "_model_module": "@jupyter-widgets/controls",
            "_model_module_version": "1.5.0",
            "_model_name": "ProgressStyleModel",
            "_view_count": null,
            "_view_module": "@jupyter-widgets/base",
            "_view_module_version": "1.2.0",
            "_view_name": "StyleView",
            "bar_color": null,
            "description_width": ""
          }
        },
        "6466224b929a40489734292e863de6d3": {
          "model_module": "@jupyter-widgets/base",
          "model_name": "LayoutModel",
          "model_module_version": "1.2.0",
          "state": {
            "_model_module": "@jupyter-widgets/base",
            "_model_module_version": "1.2.0",
            "_model_name": "LayoutModel",
            "_view_count": null,
            "_view_module": "@jupyter-widgets/base",
            "_view_module_version": "1.2.0",
            "_view_name": "LayoutView",
            "align_content": null,
            "align_items": null,
            "align_self": null,
            "border": null,
            "bottom": null,
            "display": null,
            "flex": null,
            "flex_flow": null,
            "grid_area": null,
            "grid_auto_columns": null,
            "grid_auto_flow": null,
            "grid_auto_rows": null,
            "grid_column": null,
            "grid_gap": null,
            "grid_row": null,
            "grid_template_areas": null,
            "grid_template_columns": null,
            "grid_template_rows": null,
            "height": null,
            "justify_content": null,
            "justify_items": null,
            "left": null,
            "margin": null,
            "max_height": null,
            "max_width": null,
            "min_height": null,
            "min_width": null,
            "object_fit": null,
            "object_position": null,
            "order": null,
            "overflow": null,
            "overflow_x": null,
            "overflow_y": null,
            "padding": null,
            "right": null,
            "top": null,
            "visibility": null,
            "width": null
          }
        },
        "1c9aa0fff492439998e53722def2570a": {
          "model_module": "@jupyter-widgets/controls",
          "model_name": "DescriptionStyleModel",
          "model_module_version": "1.5.0",
          "state": {
            "_model_module": "@jupyter-widgets/controls",
            "_model_module_version": "1.5.0",
            "_model_name": "DescriptionStyleModel",
            "_view_count": null,
            "_view_module": "@jupyter-widgets/base",
            "_view_module_version": "1.2.0",
            "_view_name": "StyleView",
            "description_width": ""
          }
        },
        "fcdf79404b71448fbd06edd46a266da8": {
          "model_module": "@jupyter-widgets/controls",
          "model_name": "HBoxModel",
          "model_module_version": "1.5.0",
          "state": {
            "_dom_classes": [],
            "_model_module": "@jupyter-widgets/controls",
            "_model_module_version": "1.5.0",
            "_model_name": "HBoxModel",
            "_view_count": null,
            "_view_module": "@jupyter-widgets/controls",
            "_view_module_version": "1.5.0",
            "_view_name": "HBoxView",
            "box_style": "",
            "children": [
              "IPY_MODEL_8b4e92f5d2f34c37b208cbd50eda7110",
              "IPY_MODEL_96ae55c4beab46a9bafd415cb221e37b",
              "IPY_MODEL_ac81edf3549d448fb0cd1c0d0b105c13"
            ],
            "layout": "IPY_MODEL_5802b136746a44949433fb98a61af3a9"
          }
        },
        "8b4e92f5d2f34c37b208cbd50eda7110": {
          "model_module": "@jupyter-widgets/controls",
          "model_name": "HTMLModel",
          "model_module_version": "1.5.0",
          "state": {
            "_dom_classes": [],
            "_model_module": "@jupyter-widgets/controls",
            "_model_module_version": "1.5.0",
            "_model_name": "HTMLModel",
            "_view_count": null,
            "_view_module": "@jupyter-widgets/controls",
            "_view_module_version": "1.5.0",
            "_view_name": "HTMLView",
            "description": "",
            "description_tooltip": null,
            "layout": "IPY_MODEL_45e1fdf253dd415a8059fdedf758f8cd",
            "placeholder": "​",
            "style": "IPY_MODEL_a10f94765b51404caca03d9d90d5fa1a",
            "value": "Downloading: 100%"
          }
        },
        "96ae55c4beab46a9bafd415cb221e37b": {
          "model_module": "@jupyter-widgets/controls",
          "model_name": "FloatProgressModel",
          "model_module_version": "1.5.0",
          "state": {
            "_dom_classes": [],
            "_model_module": "@jupyter-widgets/controls",
            "_model_module_version": "1.5.0",
            "_model_name": "FloatProgressModel",
            "_view_count": null,
            "_view_module": "@jupyter-widgets/controls",
            "_view_module_version": "1.5.0",
            "_view_name": "ProgressView",
            "bar_style": "success",
            "description": "",
            "description_tooltip": null,
            "layout": "IPY_MODEL_2cda40ebf3af43c4898e1da9406253c2",
            "max": 229167,
            "min": 0,
            "orientation": "horizontal",
            "style": "IPY_MODEL_8d04cd0ab5504625b0cc5893c3e897b9",
            "value": 229167
          }
        },
        "ac81edf3549d448fb0cd1c0d0b105c13": {
          "model_module": "@jupyter-widgets/controls",
          "model_name": "HTMLModel",
          "model_module_version": "1.5.0",
          "state": {
            "_dom_classes": [],
            "_model_module": "@jupyter-widgets/controls",
            "_model_module_version": "1.5.0",
            "_model_name": "HTMLModel",
            "_view_count": null,
            "_view_module": "@jupyter-widgets/controls",
            "_view_module_version": "1.5.0",
            "_view_name": "HTMLView",
            "description": "",
            "description_tooltip": null,
            "layout": "IPY_MODEL_19f393903aa94884a1e1df15df9e494f",
            "placeholder": "​",
            "style": "IPY_MODEL_cef44fcdc63f41fa97cc13e39592e4c1",
            "value": " 229k/229k [00:00&lt;00:00, 308kB/s]"
          }
        },
        "5802b136746a44949433fb98a61af3a9": {
          "model_module": "@jupyter-widgets/base",
          "model_name": "LayoutModel",
          "model_module_version": "1.2.0",
          "state": {
            "_model_module": "@jupyter-widgets/base",
            "_model_module_version": "1.2.0",
            "_model_name": "LayoutModel",
            "_view_count": null,
            "_view_module": "@jupyter-widgets/base",
            "_view_module_version": "1.2.0",
            "_view_name": "LayoutView",
            "align_content": null,
            "align_items": null,
            "align_self": null,
            "border": null,
            "bottom": null,
            "display": null,
            "flex": null,
            "flex_flow": null,
            "grid_area": null,
            "grid_auto_columns": null,
            "grid_auto_flow": null,
            "grid_auto_rows": null,
            "grid_column": null,
            "grid_gap": null,
            "grid_row": null,
            "grid_template_areas": null,
            "grid_template_columns": null,
            "grid_template_rows": null,
            "height": null,
            "justify_content": null,
            "justify_items": null,
            "left": null,
            "margin": null,
            "max_height": null,
            "max_width": null,
            "min_height": null,
            "min_width": null,
            "object_fit": null,
            "object_position": null,
            "order": null,
            "overflow": null,
            "overflow_x": null,
            "overflow_y": null,
            "padding": null,
            "right": null,
            "top": null,
            "visibility": null,
            "width": null
          }
        },
        "45e1fdf253dd415a8059fdedf758f8cd": {
          "model_module": "@jupyter-widgets/base",
          "model_name": "LayoutModel",
          "model_module_version": "1.2.0",
          "state": {
            "_model_module": "@jupyter-widgets/base",
            "_model_module_version": "1.2.0",
            "_model_name": "LayoutModel",
            "_view_count": null,
            "_view_module": "@jupyter-widgets/base",
            "_view_module_version": "1.2.0",
            "_view_name": "LayoutView",
            "align_content": null,
            "align_items": null,
            "align_self": null,
            "border": null,
            "bottom": null,
            "display": null,
            "flex": null,
            "flex_flow": null,
            "grid_area": null,
            "grid_auto_columns": null,
            "grid_auto_flow": null,
            "grid_auto_rows": null,
            "grid_column": null,
            "grid_gap": null,
            "grid_row": null,
            "grid_template_areas": null,
            "grid_template_columns": null,
            "grid_template_rows": null,
            "height": null,
            "justify_content": null,
            "justify_items": null,
            "left": null,
            "margin": null,
            "max_height": null,
            "max_width": null,
            "min_height": null,
            "min_width": null,
            "object_fit": null,
            "object_position": null,
            "order": null,
            "overflow": null,
            "overflow_x": null,
            "overflow_y": null,
            "padding": null,
            "right": null,
            "top": null,
            "visibility": null,
            "width": null
          }
        },
        "a10f94765b51404caca03d9d90d5fa1a": {
          "model_module": "@jupyter-widgets/controls",
          "model_name": "DescriptionStyleModel",
          "model_module_version": "1.5.0",
          "state": {
            "_model_module": "@jupyter-widgets/controls",
            "_model_module_version": "1.5.0",
            "_model_name": "DescriptionStyleModel",
            "_view_count": null,
            "_view_module": "@jupyter-widgets/base",
            "_view_module_version": "1.2.0",
            "_view_name": "StyleView",
            "description_width": ""
          }
        },
        "2cda40ebf3af43c4898e1da9406253c2": {
          "model_module": "@jupyter-widgets/base",
          "model_name": "LayoutModel",
          "model_module_version": "1.2.0",
          "state": {
            "_model_module": "@jupyter-widgets/base",
            "_model_module_version": "1.2.0",
            "_model_name": "LayoutModel",
            "_view_count": null,
            "_view_module": "@jupyter-widgets/base",
            "_view_module_version": "1.2.0",
            "_view_name": "LayoutView",
            "align_content": null,
            "align_items": null,
            "align_self": null,
            "border": null,
            "bottom": null,
            "display": null,
            "flex": null,
            "flex_flow": null,
            "grid_area": null,
            "grid_auto_columns": null,
            "grid_auto_flow": null,
            "grid_auto_rows": null,
            "grid_column": null,
            "grid_gap": null,
            "grid_row": null,
            "grid_template_areas": null,
            "grid_template_columns": null,
            "grid_template_rows": null,
            "height": null,
            "justify_content": null,
            "justify_items": null,
            "left": null,
            "margin": null,
            "max_height": null,
            "max_width": null,
            "min_height": null,
            "min_width": null,
            "object_fit": null,
            "object_position": null,
            "order": null,
            "overflow": null,
            "overflow_x": null,
            "overflow_y": null,
            "padding": null,
            "right": null,
            "top": null,
            "visibility": null,
            "width": null
          }
        },
        "8d04cd0ab5504625b0cc5893c3e897b9": {
          "model_module": "@jupyter-widgets/controls",
          "model_name": "ProgressStyleModel",
          "model_module_version": "1.5.0",
          "state": {
            "_model_module": "@jupyter-widgets/controls",
            "_model_module_version": "1.5.0",
            "_model_name": "ProgressStyleModel",
            "_view_count": null,
            "_view_module": "@jupyter-widgets/base",
            "_view_module_version": "1.2.0",
            "_view_name": "StyleView",
            "bar_color": null,
            "description_width": ""
          }
        },
        "19f393903aa94884a1e1df15df9e494f": {
          "model_module": "@jupyter-widgets/base",
          "model_name": "LayoutModel",
          "model_module_version": "1.2.0",
          "state": {
            "_model_module": "@jupyter-widgets/base",
            "_model_module_version": "1.2.0",
            "_model_name": "LayoutModel",
            "_view_count": null,
            "_view_module": "@jupyter-widgets/base",
            "_view_module_version": "1.2.0",
            "_view_name": "LayoutView",
            "align_content": null,
            "align_items": null,
            "align_self": null,
            "border": null,
            "bottom": null,
            "display": null,
            "flex": null,
            "flex_flow": null,
            "grid_area": null,
            "grid_auto_columns": null,
            "grid_auto_flow": null,
            "grid_auto_rows": null,
            "grid_column": null,
            "grid_gap": null,
            "grid_row": null,
            "grid_template_areas": null,
            "grid_template_columns": null,
            "grid_template_rows": null,
            "height": null,
            "justify_content": null,
            "justify_items": null,
            "left": null,
            "margin": null,
            "max_height": null,
            "max_width": null,
            "min_height": null,
            "min_width": null,
            "object_fit": null,
            "object_position": null,
            "order": null,
            "overflow": null,
            "overflow_x": null,
            "overflow_y": null,
            "padding": null,
            "right": null,
            "top": null,
            "visibility": null,
            "width": null
          }
        },
        "cef44fcdc63f41fa97cc13e39592e4c1": {
          "model_module": "@jupyter-widgets/controls",
          "model_name": "DescriptionStyleModel",
          "model_module_version": "1.5.0",
          "state": {
            "_model_module": "@jupyter-widgets/controls",
            "_model_module_version": "1.5.0",
            "_model_name": "DescriptionStyleModel",
            "_view_count": null,
            "_view_module": "@jupyter-widgets/base",
            "_view_module_version": "1.2.0",
            "_view_name": "StyleView",
            "description_width": ""
          }
        },
        "6281c054e9904a138940bc77c9a10819": {
          "model_module": "@jupyter-widgets/controls",
          "model_name": "HBoxModel",
          "model_module_version": "1.5.0",
          "state": {
            "_dom_classes": [],
            "_model_module": "@jupyter-widgets/controls",
            "_model_module_version": "1.5.0",
            "_model_name": "HBoxModel",
            "_view_count": null,
            "_view_module": "@jupyter-widgets/controls",
            "_view_module_version": "1.5.0",
            "_view_name": "HBoxView",
            "box_style": "",
            "children": [
              "IPY_MODEL_3d0afb2d8b1e4c1abf476f8a3b00d529",
              "IPY_MODEL_d0a87aefb77b4c46b9a3c4d9fde43819",
              "IPY_MODEL_dd895cc7736146e098d31bfded2d8a1e"
            ],
            "layout": "IPY_MODEL_6a836b8bc32f45db8b902f6ff3dbaeb9"
          }
        },
        "3d0afb2d8b1e4c1abf476f8a3b00d529": {
          "model_module": "@jupyter-widgets/controls",
          "model_name": "HTMLModel",
          "model_module_version": "1.5.0",
          "state": {
            "_dom_classes": [],
            "_model_module": "@jupyter-widgets/controls",
            "_model_module_version": "1.5.0",
            "_model_name": "HTMLModel",
            "_view_count": null,
            "_view_module": "@jupyter-widgets/controls",
            "_view_module_version": "1.5.0",
            "_view_name": "HTMLView",
            "description": "",
            "description_tooltip": null,
            "layout": "IPY_MODEL_f0f2fd1133c04255802393b77a71f30a",
            "placeholder": "​",
            "style": "IPY_MODEL_b2d31e97f2fc454d804ac77306635cab",
            "value": "Downloading: 100%"
          }
        },
        "d0a87aefb77b4c46b9a3c4d9fde43819": {
          "model_module": "@jupyter-widgets/controls",
          "model_name": "FloatProgressModel",
          "model_module_version": "1.5.0",
          "state": {
            "_dom_classes": [],
            "_model_module": "@jupyter-widgets/controls",
            "_model_module_version": "1.5.0",
            "_model_name": "FloatProgressModel",
            "_view_count": null,
            "_view_module": "@jupyter-widgets/controls",
            "_view_module_version": "1.5.0",
            "_view_name": "ProgressView",
            "bar_style": "success",
            "description": "",
            "description_tooltip": null,
            "layout": "IPY_MODEL_53ae4fd8aa0b4769b4ada423a7e0c828",
            "max": 112,
            "min": 0,
            "orientation": "horizontal",
            "style": "IPY_MODEL_7b31d4e5f449497c9358827a6aa936a4",
            "value": 112
          }
        },
        "dd895cc7736146e098d31bfded2d8a1e": {
          "model_module": "@jupyter-widgets/controls",
          "model_name": "HTMLModel",
          "model_module_version": "1.5.0",
          "state": {
            "_dom_classes": [],
            "_model_module": "@jupyter-widgets/controls",
            "_model_module_version": "1.5.0",
            "_model_name": "HTMLModel",
            "_view_count": null,
            "_view_module": "@jupyter-widgets/controls",
            "_view_module_version": "1.5.0",
            "_view_name": "HTMLView",
            "description": "",
            "description_tooltip": null,
            "layout": "IPY_MODEL_a04f011d68c3495281b5f2713e14c2a3",
            "placeholder": "​",
            "style": "IPY_MODEL_ef930894834547c593cae29edd4085bb",
            "value": " 112/112 [00:00&lt;00:00, 5.01kB/s]"
          }
        },
        "6a836b8bc32f45db8b902f6ff3dbaeb9": {
          "model_module": "@jupyter-widgets/base",
          "model_name": "LayoutModel",
          "model_module_version": "1.2.0",
          "state": {
            "_model_module": "@jupyter-widgets/base",
            "_model_module_version": "1.2.0",
            "_model_name": "LayoutModel",
            "_view_count": null,
            "_view_module": "@jupyter-widgets/base",
            "_view_module_version": "1.2.0",
            "_view_name": "LayoutView",
            "align_content": null,
            "align_items": null,
            "align_self": null,
            "border": null,
            "bottom": null,
            "display": null,
            "flex": null,
            "flex_flow": null,
            "grid_area": null,
            "grid_auto_columns": null,
            "grid_auto_flow": null,
            "grid_auto_rows": null,
            "grid_column": null,
            "grid_gap": null,
            "grid_row": null,
            "grid_template_areas": null,
            "grid_template_columns": null,
            "grid_template_rows": null,
            "height": null,
            "justify_content": null,
            "justify_items": null,
            "left": null,
            "margin": null,
            "max_height": null,
            "max_width": null,
            "min_height": null,
            "min_width": null,
            "object_fit": null,
            "object_position": null,
            "order": null,
            "overflow": null,
            "overflow_x": null,
            "overflow_y": null,
            "padding": null,
            "right": null,
            "top": null,
            "visibility": null,
            "width": null
          }
        },
        "f0f2fd1133c04255802393b77a71f30a": {
          "model_module": "@jupyter-widgets/base",
          "model_name": "LayoutModel",
          "model_module_version": "1.2.0",
          "state": {
            "_model_module": "@jupyter-widgets/base",
            "_model_module_version": "1.2.0",
            "_model_name": "LayoutModel",
            "_view_count": null,
            "_view_module": "@jupyter-widgets/base",
            "_view_module_version": "1.2.0",
            "_view_name": "LayoutView",
            "align_content": null,
            "align_items": null,
            "align_self": null,
            "border": null,
            "bottom": null,
            "display": null,
            "flex": null,
            "flex_flow": null,
            "grid_area": null,
            "grid_auto_columns": null,
            "grid_auto_flow": null,
            "grid_auto_rows": null,
            "grid_column": null,
            "grid_gap": null,
            "grid_row": null,
            "grid_template_areas": null,
            "grid_template_columns": null,
            "grid_template_rows": null,
            "height": null,
            "justify_content": null,
            "justify_items": null,
            "left": null,
            "margin": null,
            "max_height": null,
            "max_width": null,
            "min_height": null,
            "min_width": null,
            "object_fit": null,
            "object_position": null,
            "order": null,
            "overflow": null,
            "overflow_x": null,
            "overflow_y": null,
            "padding": null,
            "right": null,
            "top": null,
            "visibility": null,
            "width": null
          }
        },
        "b2d31e97f2fc454d804ac77306635cab": {
          "model_module": "@jupyter-widgets/controls",
          "model_name": "DescriptionStyleModel",
          "model_module_version": "1.5.0",
          "state": {
            "_model_module": "@jupyter-widgets/controls",
            "_model_module_version": "1.5.0",
            "_model_name": "DescriptionStyleModel",
            "_view_count": null,
            "_view_module": "@jupyter-widgets/base",
            "_view_module_version": "1.2.0",
            "_view_name": "StyleView",
            "description_width": ""
          }
        },
        "53ae4fd8aa0b4769b4ada423a7e0c828": {
          "model_module": "@jupyter-widgets/base",
          "model_name": "LayoutModel",
          "model_module_version": "1.2.0",
          "state": {
            "_model_module": "@jupyter-widgets/base",
            "_model_module_version": "1.2.0",
            "_model_name": "LayoutModel",
            "_view_count": null,
            "_view_module": "@jupyter-widgets/base",
            "_view_module_version": "1.2.0",
            "_view_name": "LayoutView",
            "align_content": null,
            "align_items": null,
            "align_self": null,
            "border": null,
            "bottom": null,
            "display": null,
            "flex": null,
            "flex_flow": null,
            "grid_area": null,
            "grid_auto_columns": null,
            "grid_auto_flow": null,
            "grid_auto_rows": null,
            "grid_column": null,
            "grid_gap": null,
            "grid_row": null,
            "grid_template_areas": null,
            "grid_template_columns": null,
            "grid_template_rows": null,
            "height": null,
            "justify_content": null,
            "justify_items": null,
            "left": null,
            "margin": null,
            "max_height": null,
            "max_width": null,
            "min_height": null,
            "min_width": null,
            "object_fit": null,
            "object_position": null,
            "order": null,
            "overflow": null,
            "overflow_x": null,
            "overflow_y": null,
            "padding": null,
            "right": null,
            "top": null,
            "visibility": null,
            "width": null
          }
        },
        "7b31d4e5f449497c9358827a6aa936a4": {
          "model_module": "@jupyter-widgets/controls",
          "model_name": "ProgressStyleModel",
          "model_module_version": "1.5.0",
          "state": {
            "_model_module": "@jupyter-widgets/controls",
            "_model_module_version": "1.5.0",
            "_model_name": "ProgressStyleModel",
            "_view_count": null,
            "_view_module": "@jupyter-widgets/base",
            "_view_module_version": "1.2.0",
            "_view_name": "StyleView",
            "bar_color": null,
            "description_width": ""
          }
        },
        "a04f011d68c3495281b5f2713e14c2a3": {
          "model_module": "@jupyter-widgets/base",
          "model_name": "LayoutModel",
          "model_module_version": "1.2.0",
          "state": {
            "_model_module": "@jupyter-widgets/base",
            "_model_module_version": "1.2.0",
            "_model_name": "LayoutModel",
            "_view_count": null,
            "_view_module": "@jupyter-widgets/base",
            "_view_module_version": "1.2.0",
            "_view_name": "LayoutView",
            "align_content": null,
            "align_items": null,
            "align_self": null,
            "border": null,
            "bottom": null,
            "display": null,
            "flex": null,
            "flex_flow": null,
            "grid_area": null,
            "grid_auto_columns": null,
            "grid_auto_flow": null,
            "grid_auto_rows": null,
            "grid_column": null,
            "grid_gap": null,
            "grid_row": null,
            "grid_template_areas": null,
            "grid_template_columns": null,
            "grid_template_rows": null,
            "height": null,
            "justify_content": null,
            "justify_items": null,
            "left": null,
            "margin": null,
            "max_height": null,
            "max_width": null,
            "min_height": null,
            "min_width": null,
            "object_fit": null,
            "object_position": null,
            "order": null,
            "overflow": null,
            "overflow_x": null,
            "overflow_y": null,
            "padding": null,
            "right": null,
            "top": null,
            "visibility": null,
            "width": null
          }
        },
        "ef930894834547c593cae29edd4085bb": {
          "model_module": "@jupyter-widgets/controls",
          "model_name": "DescriptionStyleModel",
          "model_module_version": "1.5.0",
          "state": {
            "_model_module": "@jupyter-widgets/controls",
            "_model_module_version": "1.5.0",
            "_model_name": "DescriptionStyleModel",
            "_view_count": null,
            "_view_module": "@jupyter-widgets/base",
            "_view_module_version": "1.2.0",
            "_view_name": "StyleView",
            "description_width": ""
          }
        },
        "e6b31b87397b4d4c89db19a84abaa8a0": {
          "model_module": "@jupyter-widgets/controls",
          "model_name": "HBoxModel",
          "model_module_version": "1.5.0",
          "state": {
            "_dom_classes": [],
            "_model_module": "@jupyter-widgets/controls",
            "_model_module_version": "1.5.0",
            "_model_name": "HBoxModel",
            "_view_count": null,
            "_view_module": "@jupyter-widgets/controls",
            "_view_module_version": "1.5.0",
            "_view_name": "HBoxView",
            "box_style": "",
            "children": [
              "IPY_MODEL_72512e31321a489585b7e9fc692279d7",
              "IPY_MODEL_42a43ffeb4d549e2817a836acbf17f1a",
              "IPY_MODEL_dc6c4ab9e57e4740b76ee707ad22cef3"
            ],
            "layout": "IPY_MODEL_b47ec9859a834c43809570607f315c39"
          }
        },
        "72512e31321a489585b7e9fc692279d7": {
          "model_module": "@jupyter-widgets/controls",
          "model_name": "HTMLModel",
          "model_module_version": "1.5.0",
          "state": {
            "_dom_classes": [],
            "_model_module": "@jupyter-widgets/controls",
            "_model_module_version": "1.5.0",
            "_model_name": "HTMLModel",
            "_view_count": null,
            "_view_module": "@jupyter-widgets/controls",
            "_view_module_version": "1.5.0",
            "_view_name": "HTMLView",
            "description": "",
            "description_tooltip": null,
            "layout": "IPY_MODEL_2cbfbf3d3fe8462da897ba5f854fc374",
            "placeholder": "​",
            "style": "IPY_MODEL_a76ceaf2591449849616793b2ac721e2",
            "value": "Downloading: 100%"
          }
        },
        "42a43ffeb4d549e2817a836acbf17f1a": {
          "model_module": "@jupyter-widgets/controls",
          "model_name": "FloatProgressModel",
          "model_module_version": "1.5.0",
          "state": {
            "_dom_classes": [],
            "_model_module": "@jupyter-widgets/controls",
            "_model_module_version": "1.5.0",
            "_model_name": "FloatProgressModel",
            "_view_count": null,
            "_view_module": "@jupyter-widgets/controls",
            "_view_module_version": "1.5.0",
            "_view_name": "ProgressView",
            "bar_style": "success",
            "description": "",
            "description_tooltip": null,
            "layout": "IPY_MODEL_73934380345f4ce2a935f7eec3a2dbee",
            "max": 2,
            "min": 0,
            "orientation": "horizontal",
            "style": "IPY_MODEL_180adf7fea8845d79739f6c1c8bf37c7",
            "value": 2
          }
        },
        "dc6c4ab9e57e4740b76ee707ad22cef3": {
          "model_module": "@jupyter-widgets/controls",
          "model_name": "HTMLModel",
          "model_module_version": "1.5.0",
          "state": {
            "_dom_classes": [],
            "_model_module": "@jupyter-widgets/controls",
            "_model_module_version": "1.5.0",
            "_model_name": "HTMLModel",
            "_view_count": null,
            "_view_module": "@jupyter-widgets/controls",
            "_view_module_version": "1.5.0",
            "_view_name": "HTMLView",
            "description": "",
            "description_tooltip": null,
            "layout": "IPY_MODEL_55b4ff379f204ebd99609fce6864f032",
            "placeholder": "​",
            "style": "IPY_MODEL_14f92d14a22f455e858066fb040fd492",
            "value": " 2.00/2.00 [00:00&lt;00:00, 101B/s]"
          }
        },
        "b47ec9859a834c43809570607f315c39": {
          "model_module": "@jupyter-widgets/base",
          "model_name": "LayoutModel",
          "model_module_version": "1.2.0",
          "state": {
            "_model_module": "@jupyter-widgets/base",
            "_model_module_version": "1.2.0",
            "_model_name": "LayoutModel",
            "_view_count": null,
            "_view_module": "@jupyter-widgets/base",
            "_view_module_version": "1.2.0",
            "_view_name": "LayoutView",
            "align_content": null,
            "align_items": null,
            "align_self": null,
            "border": null,
            "bottom": null,
            "display": null,
            "flex": null,
            "flex_flow": null,
            "grid_area": null,
            "grid_auto_columns": null,
            "grid_auto_flow": null,
            "grid_auto_rows": null,
            "grid_column": null,
            "grid_gap": null,
            "grid_row": null,
            "grid_template_areas": null,
            "grid_template_columns": null,
            "grid_template_rows": null,
            "height": null,
            "justify_content": null,
            "justify_items": null,
            "left": null,
            "margin": null,
            "max_height": null,
            "max_width": null,
            "min_height": null,
            "min_width": null,
            "object_fit": null,
            "object_position": null,
            "order": null,
            "overflow": null,
            "overflow_x": null,
            "overflow_y": null,
            "padding": null,
            "right": null,
            "top": null,
            "visibility": null,
            "width": null
          }
        },
        "2cbfbf3d3fe8462da897ba5f854fc374": {
          "model_module": "@jupyter-widgets/base",
          "model_name": "LayoutModel",
          "model_module_version": "1.2.0",
          "state": {
            "_model_module": "@jupyter-widgets/base",
            "_model_module_version": "1.2.0",
            "_model_name": "LayoutModel",
            "_view_count": null,
            "_view_module": "@jupyter-widgets/base",
            "_view_module_version": "1.2.0",
            "_view_name": "LayoutView",
            "align_content": null,
            "align_items": null,
            "align_self": null,
            "border": null,
            "bottom": null,
            "display": null,
            "flex": null,
            "flex_flow": null,
            "grid_area": null,
            "grid_auto_columns": null,
            "grid_auto_flow": null,
            "grid_auto_rows": null,
            "grid_column": null,
            "grid_gap": null,
            "grid_row": null,
            "grid_template_areas": null,
            "grid_template_columns": null,
            "grid_template_rows": null,
            "height": null,
            "justify_content": null,
            "justify_items": null,
            "left": null,
            "margin": null,
            "max_height": null,
            "max_width": null,
            "min_height": null,
            "min_width": null,
            "object_fit": null,
            "object_position": null,
            "order": null,
            "overflow": null,
            "overflow_x": null,
            "overflow_y": null,
            "padding": null,
            "right": null,
            "top": null,
            "visibility": null,
            "width": null
          }
        },
        "a76ceaf2591449849616793b2ac721e2": {
          "model_module": "@jupyter-widgets/controls",
          "model_name": "DescriptionStyleModel",
          "model_module_version": "1.5.0",
          "state": {
            "_model_module": "@jupyter-widgets/controls",
            "_model_module_version": "1.5.0",
            "_model_name": "DescriptionStyleModel",
            "_view_count": null,
            "_view_module": "@jupyter-widgets/base",
            "_view_module_version": "1.2.0",
            "_view_name": "StyleView",
            "description_width": ""
          }
        },
        "73934380345f4ce2a935f7eec3a2dbee": {
          "model_module": "@jupyter-widgets/base",
          "model_name": "LayoutModel",
          "model_module_version": "1.2.0",
          "state": {
            "_model_module": "@jupyter-widgets/base",
            "_model_module_version": "1.2.0",
            "_model_name": "LayoutModel",
            "_view_count": null,
            "_view_module": "@jupyter-widgets/base",
            "_view_module_version": "1.2.0",
            "_view_name": "LayoutView",
            "align_content": null,
            "align_items": null,
            "align_self": null,
            "border": null,
            "bottom": null,
            "display": null,
            "flex": null,
            "flex_flow": null,
            "grid_area": null,
            "grid_auto_columns": null,
            "grid_auto_flow": null,
            "grid_auto_rows": null,
            "grid_column": null,
            "grid_gap": null,
            "grid_row": null,
            "grid_template_areas": null,
            "grid_template_columns": null,
            "grid_template_rows": null,
            "height": null,
            "justify_content": null,
            "justify_items": null,
            "left": null,
            "margin": null,
            "max_height": null,
            "max_width": null,
            "min_height": null,
            "min_width": null,
            "object_fit": null,
            "object_position": null,
            "order": null,
            "overflow": null,
            "overflow_x": null,
            "overflow_y": null,
            "padding": null,
            "right": null,
            "top": null,
            "visibility": null,
            "width": null
          }
        },
        "180adf7fea8845d79739f6c1c8bf37c7": {
          "model_module": "@jupyter-widgets/controls",
          "model_name": "ProgressStyleModel",
          "model_module_version": "1.5.0",
          "state": {
            "_model_module": "@jupyter-widgets/controls",
            "_model_module_version": "1.5.0",
            "_model_name": "ProgressStyleModel",
            "_view_count": null,
            "_view_module": "@jupyter-widgets/base",
            "_view_module_version": "1.2.0",
            "_view_name": "StyleView",
            "bar_color": null,
            "description_width": ""
          }
        },
        "55b4ff379f204ebd99609fce6864f032": {
          "model_module": "@jupyter-widgets/base",
          "model_name": "LayoutModel",
          "model_module_version": "1.2.0",
          "state": {
            "_model_module": "@jupyter-widgets/base",
            "_model_module_version": "1.2.0",
            "_model_name": "LayoutModel",
            "_view_count": null,
            "_view_module": "@jupyter-widgets/base",
            "_view_module_version": "1.2.0",
            "_view_name": "LayoutView",
            "align_content": null,
            "align_items": null,
            "align_self": null,
            "border": null,
            "bottom": null,
            "display": null,
            "flex": null,
            "flex_flow": null,
            "grid_area": null,
            "grid_auto_columns": null,
            "grid_auto_flow": null,
            "grid_auto_rows": null,
            "grid_column": null,
            "grid_gap": null,
            "grid_row": null,
            "grid_template_areas": null,
            "grid_template_columns": null,
            "grid_template_rows": null,
            "height": null,
            "justify_content": null,
            "justify_items": null,
            "left": null,
            "margin": null,
            "max_height": null,
            "max_width": null,
            "min_height": null,
            "min_width": null,
            "object_fit": null,
            "object_position": null,
            "order": null,
            "overflow": null,
            "overflow_x": null,
            "overflow_y": null,
            "padding": null,
            "right": null,
            "top": null,
            "visibility": null,
            "width": null
          }
        },
        "14f92d14a22f455e858066fb040fd492": {
          "model_module": "@jupyter-widgets/controls",
          "model_name": "DescriptionStyleModel",
          "model_module_version": "1.5.0",
          "state": {
            "_model_module": "@jupyter-widgets/controls",
            "_model_module_version": "1.5.0",
            "_model_name": "DescriptionStyleModel",
            "_view_count": null,
            "_view_module": "@jupyter-widgets/base",
            "_view_module_version": "1.2.0",
            "_view_name": "StyleView",
            "description_width": ""
          }
        },
        "2e241d031a834fe296355378780aee37": {
          "model_module": "@jupyter-widgets/controls",
          "model_name": "HBoxModel",
          "model_module_version": "1.5.0",
          "state": {
            "_dom_classes": [],
            "_model_module": "@jupyter-widgets/controls",
            "_model_module_version": "1.5.0",
            "_model_name": "HBoxModel",
            "_view_count": null,
            "_view_module": "@jupyter-widgets/controls",
            "_view_module_version": "1.5.0",
            "_view_name": "HBoxView",
            "box_style": "",
            "children": [
              "IPY_MODEL_49932e8804ee42378616ac678e313c63",
              "IPY_MODEL_47aa23527a074eb89f55ac616acd0625",
              "IPY_MODEL_fcba8800bceb4f77b0057ef01ab6edd4"
            ],
            "layout": "IPY_MODEL_bddd98f57cca486384ef44c882a32f42"
          }
        },
        "49932e8804ee42378616ac678e313c63": {
          "model_module": "@jupyter-widgets/controls",
          "model_name": "HTMLModel",
          "model_module_version": "1.5.0",
          "state": {
            "_dom_classes": [],
            "_model_module": "@jupyter-widgets/controls",
            "_model_module_version": "1.5.0",
            "_model_name": "HTMLModel",
            "_view_count": null,
            "_view_module": "@jupyter-widgets/controls",
            "_view_module_version": "1.5.0",
            "_view_name": "HTMLView",
            "description": "",
            "description_tooltip": null,
            "layout": "IPY_MODEL_a76df900fc444958bf7e7d9f2d7572ad",
            "placeholder": "​",
            "style": "IPY_MODEL_5524f4bc766a427190edd957954e3656",
            "value": "Downloading: 100%"
          }
        },
        "47aa23527a074eb89f55ac616acd0625": {
          "model_module": "@jupyter-widgets/controls",
          "model_name": "FloatProgressModel",
          "model_module_version": "1.5.0",
          "state": {
            "_dom_classes": [],
            "_model_module": "@jupyter-widgets/controls",
            "_model_module_version": "1.5.0",
            "_model_name": "FloatProgressModel",
            "_view_count": null,
            "_view_module": "@jupyter-widgets/controls",
            "_view_module_version": "1.5.0",
            "_view_name": "ProgressView",
            "bar_style": "success",
            "description": "",
            "description_tooltip": null,
            "layout": "IPY_MODEL_2b6ecf917ad142729cb732d66aebb02a",
            "max": 1534,
            "min": 0,
            "orientation": "horizontal",
            "style": "IPY_MODEL_addb08e477bf463fb298e50514a909da",
            "value": 1534
          }
        },
        "fcba8800bceb4f77b0057ef01ab6edd4": {
          "model_module": "@jupyter-widgets/controls",
          "model_name": "HTMLModel",
          "model_module_version": "1.5.0",
          "state": {
            "_dom_classes": [],
            "_model_module": "@jupyter-widgets/controls",
            "_model_module_version": "1.5.0",
            "_model_name": "HTMLModel",
            "_view_count": null,
            "_view_module": "@jupyter-widgets/controls",
            "_view_module_version": "1.5.0",
            "_view_name": "HTMLView",
            "description": "",
            "description_tooltip": null,
            "layout": "IPY_MODEL_3fd56568608145a49e5bb8773a9b5393",
            "placeholder": "​",
            "style": "IPY_MODEL_f7ce6bdb238e43a8bb19d7a395690ef4",
            "value": " 1.53k/1.53k [00:00&lt;00:00, 57.7kB/s]"
          }
        },
        "bddd98f57cca486384ef44c882a32f42": {
          "model_module": "@jupyter-widgets/base",
          "model_name": "LayoutModel",
          "model_module_version": "1.2.0",
          "state": {
            "_model_module": "@jupyter-widgets/base",
            "_model_module_version": "1.2.0",
            "_model_name": "LayoutModel",
            "_view_count": null,
            "_view_module": "@jupyter-widgets/base",
            "_view_module_version": "1.2.0",
            "_view_name": "LayoutView",
            "align_content": null,
            "align_items": null,
            "align_self": null,
            "border": null,
            "bottom": null,
            "display": null,
            "flex": null,
            "flex_flow": null,
            "grid_area": null,
            "grid_auto_columns": null,
            "grid_auto_flow": null,
            "grid_auto_rows": null,
            "grid_column": null,
            "grid_gap": null,
            "grid_row": null,
            "grid_template_areas": null,
            "grid_template_columns": null,
            "grid_template_rows": null,
            "height": null,
            "justify_content": null,
            "justify_items": null,
            "left": null,
            "margin": null,
            "max_height": null,
            "max_width": null,
            "min_height": null,
            "min_width": null,
            "object_fit": null,
            "object_position": null,
            "order": null,
            "overflow": null,
            "overflow_x": null,
            "overflow_y": null,
            "padding": null,
            "right": null,
            "top": null,
            "visibility": null,
            "width": null
          }
        },
        "a76df900fc444958bf7e7d9f2d7572ad": {
          "model_module": "@jupyter-widgets/base",
          "model_name": "LayoutModel",
          "model_module_version": "1.2.0",
          "state": {
            "_model_module": "@jupyter-widgets/base",
            "_model_module_version": "1.2.0",
            "_model_name": "LayoutModel",
            "_view_count": null,
            "_view_module": "@jupyter-widgets/base",
            "_view_module_version": "1.2.0",
            "_view_name": "LayoutView",
            "align_content": null,
            "align_items": null,
            "align_self": null,
            "border": null,
            "bottom": null,
            "display": null,
            "flex": null,
            "flex_flow": null,
            "grid_area": null,
            "grid_auto_columns": null,
            "grid_auto_flow": null,
            "grid_auto_rows": null,
            "grid_column": null,
            "grid_gap": null,
            "grid_row": null,
            "grid_template_areas": null,
            "grid_template_columns": null,
            "grid_template_rows": null,
            "height": null,
            "justify_content": null,
            "justify_items": null,
            "left": null,
            "margin": null,
            "max_height": null,
            "max_width": null,
            "min_height": null,
            "min_width": null,
            "object_fit": null,
            "object_position": null,
            "order": null,
            "overflow": null,
            "overflow_x": null,
            "overflow_y": null,
            "padding": null,
            "right": null,
            "top": null,
            "visibility": null,
            "width": null
          }
        },
        "5524f4bc766a427190edd957954e3656": {
          "model_module": "@jupyter-widgets/controls",
          "model_name": "DescriptionStyleModel",
          "model_module_version": "1.5.0",
          "state": {
            "_model_module": "@jupyter-widgets/controls",
            "_model_module_version": "1.5.0",
            "_model_name": "DescriptionStyleModel",
            "_view_count": null,
            "_view_module": "@jupyter-widgets/base",
            "_view_module_version": "1.2.0",
            "_view_name": "StyleView",
            "description_width": ""
          }
        },
        "2b6ecf917ad142729cb732d66aebb02a": {
          "model_module": "@jupyter-widgets/base",
          "model_name": "LayoutModel",
          "model_module_version": "1.2.0",
          "state": {
            "_model_module": "@jupyter-widgets/base",
            "_model_module_version": "1.2.0",
            "_model_name": "LayoutModel",
            "_view_count": null,
            "_view_module": "@jupyter-widgets/base",
            "_view_module_version": "1.2.0",
            "_view_name": "LayoutView",
            "align_content": null,
            "align_items": null,
            "align_self": null,
            "border": null,
            "bottom": null,
            "display": null,
            "flex": null,
            "flex_flow": null,
            "grid_area": null,
            "grid_auto_columns": null,
            "grid_auto_flow": null,
            "grid_auto_rows": null,
            "grid_column": null,
            "grid_gap": null,
            "grid_row": null,
            "grid_template_areas": null,
            "grid_template_columns": null,
            "grid_template_rows": null,
            "height": null,
            "justify_content": null,
            "justify_items": null,
            "left": null,
            "margin": null,
            "max_height": null,
            "max_width": null,
            "min_height": null,
            "min_width": null,
            "object_fit": null,
            "object_position": null,
            "order": null,
            "overflow": null,
            "overflow_x": null,
            "overflow_y": null,
            "padding": null,
            "right": null,
            "top": null,
            "visibility": null,
            "width": null
          }
        },
        "addb08e477bf463fb298e50514a909da": {
          "model_module": "@jupyter-widgets/controls",
          "model_name": "ProgressStyleModel",
          "model_module_version": "1.5.0",
          "state": {
            "_model_module": "@jupyter-widgets/controls",
            "_model_module_version": "1.5.0",
            "_model_name": "ProgressStyleModel",
            "_view_count": null,
            "_view_module": "@jupyter-widgets/base",
            "_view_module_version": "1.2.0",
            "_view_name": "StyleView",
            "bar_color": null,
            "description_width": ""
          }
        },
        "3fd56568608145a49e5bb8773a9b5393": {
          "model_module": "@jupyter-widgets/base",
          "model_name": "LayoutModel",
          "model_module_version": "1.2.0",
          "state": {
            "_model_module": "@jupyter-widgets/base",
            "_model_module_version": "1.2.0",
            "_model_name": "LayoutModel",
            "_view_count": null,
            "_view_module": "@jupyter-widgets/base",
            "_view_module_version": "1.2.0",
            "_view_name": "LayoutView",
            "align_content": null,
            "align_items": null,
            "align_self": null,
            "border": null,
            "bottom": null,
            "display": null,
            "flex": null,
            "flex_flow": null,
            "grid_area": null,
            "grid_auto_columns": null,
            "grid_auto_flow": null,
            "grid_auto_rows": null,
            "grid_column": null,
            "grid_gap": null,
            "grid_row": null,
            "grid_template_areas": null,
            "grid_template_columns": null,
            "grid_template_rows": null,
            "height": null,
            "justify_content": null,
            "justify_items": null,
            "left": null,
            "margin": null,
            "max_height": null,
            "max_width": null,
            "min_height": null,
            "min_width": null,
            "object_fit": null,
            "object_position": null,
            "order": null,
            "overflow": null,
            "overflow_x": null,
            "overflow_y": null,
            "padding": null,
            "right": null,
            "top": null,
            "visibility": null,
            "width": null
          }
        },
        "f7ce6bdb238e43a8bb19d7a395690ef4": {
          "model_module": "@jupyter-widgets/controls",
          "model_name": "DescriptionStyleModel",
          "model_module_version": "1.5.0",
          "state": {
            "_model_module": "@jupyter-widgets/controls",
            "_model_module_version": "1.5.0",
            "_model_name": "DescriptionStyleModel",
            "_view_count": null,
            "_view_module": "@jupyter-widgets/base",
            "_view_module_version": "1.2.0",
            "_view_name": "StyleView",
            "description_width": ""
          }
        }
      }
    }
  },
  "nbformat": 4,
  "nbformat_minor": 0
}