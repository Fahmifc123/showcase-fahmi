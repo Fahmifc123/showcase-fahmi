{
  "nbformat": 4,
  "nbformat_minor": 0,
  "metadata": {
    "colab": {
      "provenance": [],
      "collapsed_sections": [
        "AJ5pm8FcfsR2",
        "2biNBHVp3QOa",
        "F4JLaocI5RTL"
      ]
    },
    "kernelspec": {
      "name": "python3",
      "display_name": "Python 3"
    }
  },
  "cells": [
    {
      "cell_type": "code",
      "metadata": {
        "id": "l5NsGumorWYq"
      },
      "source": [
        "from google.colab import drive\n",
        "drive.mount('/content/drive', force_remount=True)"
      ],
      "execution_count": null,
      "outputs": []
    },
    {
      "cell_type": "code",
      "metadata": {
        "id": "6LL0wD9i4mV5"
      },
      "source": [
        "import numpy as np\n",
        "import pandas as pd\n",
        "import re\n",
        "\n",
        "import nltk\n",
        "from nltk.corpus import stopwords\n",
        "nltk.download('stopwords')\n",
        "nltk.download('punkt')\n",
        "from nltk.tokenize import word_tokenize\n",
        "from sklearn.metrics.pairwise import cosine_similarity\n",
        "!pip install --upgrade gensim\n",
        "import gensim\n",
        "from gensim.models import KeyedVectors\n",
        "from gensim.models import Word2Vec"
      ],
      "execution_count": null,
      "outputs": []
    },
    {
      "cell_type": "markdown",
      "metadata": {
        "id": "AJ5pm8FcfsR2"
      },
      "source": [
        "## dataset pre-processing"
      ]
    },
    {
      "cell_type": "markdown",
      "metadata": {
        "id": "JoaBLP7_PboD"
      },
      "source": [
        "### rumpun"
      ]
    },
    {
      "cell_type": "code",
      "metadata": {
        "colab": {
          "base_uri": "https://localhost:8080/",
          "height": 754
        },
        "id": "4QsFPaUuf1Qk",
        "outputId": "f304febe-02c3-46f9-9fec-65ec55ab5b43"
      },
      "source": [
        "# rumpun\n",
        "# df_rumpun = pd.read_csv('/content/drive/MyDrive/ngoding/freelance/setneg/new_deskripsi_rumpun_setneg.csv')\n",
        "# df_rumpun = pd.read_excel('/content/drive/MyDrive/ngoding/freelance/setneg/data baru cleaning/rumpun_jabatan_pendidikan.xlsx', sheet_name='Jurusan per Rumpun')\n",
        "df_rumpun = pd.read_csv('/content/drive/MyDrive/ngoding/freelance/setneg/data baru cleaning/data_clean_new/output_new_0612/output/output_0812/pengalaman, timkerja, piawai/timkerja piawai baru.csv')\n",
        "\n",
        "df_rumpun"
      ],
      "execution_count": null,
      "outputs": [
        {
          "output_type": "execute_result",
          "data": {
            "text/html": [
              "<div>\n",
              "<style scoped>\n",
              "    .dataframe tbody tr th:only-of-type {\n",
              "        vertical-align: middle;\n",
              "    }\n",
              "\n",
              "    .dataframe tbody tr th {\n",
              "        vertical-align: top;\n",
              "    }\n",
              "\n",
              "    .dataframe thead th {\n",
              "        text-align: right;\n",
              "    }\n",
              "</style>\n",
              "<table border=\"1\" class=\"dataframe\">\n",
              "  <thead>\n",
              "    <tr style=\"text-align: right;\">\n",
              "      <th></th>\n",
              "      <th>idtimkerja</th>\n",
              "      <th>idtalenta</th>\n",
              "      <th>nama_kegiatan</th>\n",
              "      <th>keterangan</th>\n",
              "      <th>keluarga_jabatan</th>\n",
              "      <th>fungsi_jabatan</th>\n",
              "      <th>peran_jabatan</th>\n",
              "    </tr>\n",
              "  </thead>\n",
              "  <tbody>\n",
              "    <tr>\n",
              "      <th>0</th>\n",
              "      <td>1483</td>\n",
              "      <td>1026</td>\n",
              "      <td>(1) Pengelola Arsip pada masing-masing unit ke...</td>\n",
              "      <td>Pengawasan dan pengelola arsip internal di lin...</td>\n",
              "      <td>Administrasi Umum</td>\n",
              "      <td>Arsip</td>\n",
              "      <td>NaN</td>\n",
              "    </tr>\n",
              "    <tr>\n",
              "      <th>1</th>\n",
              "      <td>474</td>\n",
              "      <td>997</td>\n",
              "      <td>ANGGOTA PANITIA PEMERIKSA HASIL PEKERJAAN</td>\n",
              "      <td>NaN</td>\n",
              "      <td>Pelayanan Umum</td>\n",
              "      <td>Pengelolaan Perlengkapan dan Peralatan</td>\n",
              "      <td>NaN</td>\n",
              "    </tr>\n",
              "    <tr>\n",
              "      <th>2</th>\n",
              "      <td>2362</td>\n",
              "      <td>862</td>\n",
              "      <td>ANGGOTA PENDUKUNG BIDANG SARANA FISIK HUT RI K...</td>\n",
              "      <td>PENGANGKATAN PERSONEL UNTUK DIPERBANTUKAN PADA...</td>\n",
              "      <td>Pelayanan Umum</td>\n",
              "      <td>Pengelolaan Perlengkapan dan Peralatan</td>\n",
              "      <td>NaN</td>\n",
              "    </tr>\n",
              "    <tr>\n",
              "      <th>3</th>\n",
              "      <td>507</td>\n",
              "      <td>1090</td>\n",
              "      <td>Acara Refleksi Akhir Tahun 2020</td>\n",
              "      <td>Koordinator Bahan Paparan Deputi Bidang Admini...</td>\n",
              "      <td>Keprotokolan</td>\n",
              "      <td>Protokol VVIP dan VIP</td>\n",
              "      <td>NaN</td>\n",
              "    </tr>\n",
              "    <tr>\n",
              "      <th>4</th>\n",
              "      <td>1158</td>\n",
              "      <td>636</td>\n",
              "      <td>Acara Silaturahmi Ibu Hj. Wury Maruf Amin deng...</td>\n",
              "      <td>Sebagai Wakil Ketua</td>\n",
              "      <td>Keprotokolan</td>\n",
              "      <td>Protokol VVIP dan VIP</td>\n",
              "      <td>NaN</td>\n",
              "    </tr>\n",
              "    <tr>\n",
              "      <th>...</th>\n",
              "      <td>...</td>\n",
              "      <td>...</td>\n",
              "      <td>...</td>\n",
              "      <td>...</td>\n",
              "      <td>...</td>\n",
              "      <td>...</td>\n",
              "      <td>...</td>\n",
              "    </tr>\n",
              "    <tr>\n",
              "      <th>2377</th>\n",
              "      <td>1675</td>\n",
              "      <td>1632</td>\n",
              "      <td>pemelihara sarana dan prasarana pada biro Umum...</td>\n",
              "      <td>anggota panitia</td>\n",
              "      <td>Pelayanan Umum</td>\n",
              "      <td>Pengelolaan Perlengkapan dan Peralatan</td>\n",
              "      <td>NaN</td>\n",
              "    </tr>\n",
              "    <tr>\n",
              "      <th>2378</th>\n",
              "      <td>1564</td>\n",
              "      <td>1632</td>\n",
              "      <td>pemelihara sarana dan prasrana</td>\n",
              "      <td>anggota</td>\n",
              "      <td>Pelayanan Umum</td>\n",
              "      <td>Pengelolaan Perlengkapan dan Peralatan</td>\n",
              "      <td>NaN</td>\n",
              "    </tr>\n",
              "    <tr>\n",
              "      <th>2379</th>\n",
              "      <td>1983</td>\n",
              "      <td>1005</td>\n",
              "      <td>penetapan user pejabat dan operator penguna ap...</td>\n",
              "      <td>penetapan user pejabat dan operator penguna ap...</td>\n",
              "      <td>Perencanaan, Keuangan, Akuntabilitas, dan Audit</td>\n",
              "      <td>Keuangan</td>\n",
              "      <td>NaN</td>\n",
              "    </tr>\n",
              "    <tr>\n",
              "      <th>2380</th>\n",
              "      <td>2685</td>\n",
              "      <td>1208</td>\n",
              "      <td>tim Refleksi Akhir Tahun Setwapres</td>\n",
              "      <td>Anggota</td>\n",
              "      <td>Administrasi Umum</td>\n",
              "      <td>Tata Usaha</td>\n",
              "      <td>NaN</td>\n",
              "    </tr>\n",
              "    <tr>\n",
              "      <th>2381</th>\n",
              "      <td>87</td>\n",
              "      <td>1208</td>\n",
              "      <td>tim monitoring verifikasi lahan baku sawah</td>\n",
              "      <td>Anggota</td>\n",
              "      <td>Administrasi Umum</td>\n",
              "      <td>Tata Usaha</td>\n",
              "      <td>NaN</td>\n",
              "    </tr>\n",
              "  </tbody>\n",
              "</table>\n",
              "<p>2382 rows × 7 columns</p>\n",
              "</div>"
            ],
            "text/plain": [
              "      idtimkerja  ...  peran_jabatan\n",
              "0           1483  ...            NaN\n",
              "1            474  ...            NaN\n",
              "2           2362  ...            NaN\n",
              "3            507  ...            NaN\n",
              "4           1158  ...            NaN\n",
              "...          ...  ...            ...\n",
              "2377        1675  ...            NaN\n",
              "2378        1564  ...            NaN\n",
              "2379        1983  ...            NaN\n",
              "2380        2685  ...            NaN\n",
              "2381          87  ...            NaN\n",
              "\n",
              "[2382 rows x 7 columns]"
            ]
          },
          "metadata": {},
          "execution_count": 128
        }
      ]
    },
    {
      "cell_type": "code",
      "source": [
        "# df_rumpun = df_rumpun.assign(jurusan=df_rumpun['jurusan'].str.split(',')).explode('jurusan')"
      ],
      "metadata": {
        "id": "M7lsWAWf88ZG"
      },
      "execution_count": null,
      "outputs": []
    },
    {
      "cell_type": "code",
      "source": [
        "# df_rumpun = df_rumpun.reset_index(drop=True)"
      ],
      "metadata": {
        "id": "aNe7nviJ9DDm"
      },
      "execution_count": null,
      "outputs": []
    },
    {
      "cell_type": "code",
      "source": [
        "df_rumpun"
      ],
      "metadata": {
        "colab": {
          "base_uri": "https://localhost:8080/",
          "height": 754
        },
        "id": "FyQ4Q54i-OLK",
        "outputId": "ff78280d-34eb-47c0-be75-1096136cec43"
      },
      "execution_count": null,
      "outputs": [
        {
          "output_type": "execute_result",
          "data": {
            "text/html": [
              "<div>\n",
              "<style scoped>\n",
              "    .dataframe tbody tr th:only-of-type {\n",
              "        vertical-align: middle;\n",
              "    }\n",
              "\n",
              "    .dataframe tbody tr th {\n",
              "        vertical-align: top;\n",
              "    }\n",
              "\n",
              "    .dataframe thead th {\n",
              "        text-align: right;\n",
              "    }\n",
              "</style>\n",
              "<table border=\"1\" class=\"dataframe\">\n",
              "  <thead>\n",
              "    <tr style=\"text-align: right;\">\n",
              "      <th></th>\n",
              "      <th>idtimkerja</th>\n",
              "      <th>idtalenta</th>\n",
              "      <th>nama_kegiatan</th>\n",
              "      <th>keterangan</th>\n",
              "      <th>keluarga_jabatan</th>\n",
              "      <th>fungsi_jabatan</th>\n",
              "      <th>peran_jabatan</th>\n",
              "    </tr>\n",
              "  </thead>\n",
              "  <tbody>\n",
              "    <tr>\n",
              "      <th>0</th>\n",
              "      <td>1483</td>\n",
              "      <td>1026</td>\n",
              "      <td>(1) Pengelola Arsip pada masing-masing unit ke...</td>\n",
              "      <td>Pengawasan dan pengelola arsip internal di lin...</td>\n",
              "      <td>Administrasi Umum</td>\n",
              "      <td>Arsip</td>\n",
              "      <td>NaN</td>\n",
              "    </tr>\n",
              "    <tr>\n",
              "      <th>1</th>\n",
              "      <td>474</td>\n",
              "      <td>997</td>\n",
              "      <td>ANGGOTA PANITIA PEMERIKSA HASIL PEKERJAAN</td>\n",
              "      <td>NaN</td>\n",
              "      <td>Pelayanan Umum</td>\n",
              "      <td>Pengelolaan Perlengkapan dan Peralatan</td>\n",
              "      <td>NaN</td>\n",
              "    </tr>\n",
              "    <tr>\n",
              "      <th>2</th>\n",
              "      <td>2362</td>\n",
              "      <td>862</td>\n",
              "      <td>ANGGOTA PENDUKUNG BIDANG SARANA FISIK HUT RI K...</td>\n",
              "      <td>PENGANGKATAN PERSONEL UNTUK DIPERBANTUKAN PADA...</td>\n",
              "      <td>Pelayanan Umum</td>\n",
              "      <td>Pengelolaan Perlengkapan dan Peralatan</td>\n",
              "      <td>NaN</td>\n",
              "    </tr>\n",
              "    <tr>\n",
              "      <th>3</th>\n",
              "      <td>507</td>\n",
              "      <td>1090</td>\n",
              "      <td>Acara Refleksi Akhir Tahun 2020</td>\n",
              "      <td>Koordinator Bahan Paparan Deputi Bidang Admini...</td>\n",
              "      <td>Keprotokolan</td>\n",
              "      <td>Protokol VVIP dan VIP</td>\n",
              "      <td>NaN</td>\n",
              "    </tr>\n",
              "    <tr>\n",
              "      <th>4</th>\n",
              "      <td>1158</td>\n",
              "      <td>636</td>\n",
              "      <td>Acara Silaturahmi Ibu Hj. Wury Maruf Amin deng...</td>\n",
              "      <td>Sebagai Wakil Ketua</td>\n",
              "      <td>Keprotokolan</td>\n",
              "      <td>Protokol VVIP dan VIP</td>\n",
              "      <td>NaN</td>\n",
              "    </tr>\n",
              "    <tr>\n",
              "      <th>...</th>\n",
              "      <td>...</td>\n",
              "      <td>...</td>\n",
              "      <td>...</td>\n",
              "      <td>...</td>\n",
              "      <td>...</td>\n",
              "      <td>...</td>\n",
              "      <td>...</td>\n",
              "    </tr>\n",
              "    <tr>\n",
              "      <th>2377</th>\n",
              "      <td>1675</td>\n",
              "      <td>1632</td>\n",
              "      <td>pemelihara sarana dan prasarana pada biro Umum...</td>\n",
              "      <td>anggota panitia</td>\n",
              "      <td>Pelayanan Umum</td>\n",
              "      <td>Pengelolaan Perlengkapan dan Peralatan</td>\n",
              "      <td>NaN</td>\n",
              "    </tr>\n",
              "    <tr>\n",
              "      <th>2378</th>\n",
              "      <td>1564</td>\n",
              "      <td>1632</td>\n",
              "      <td>pemelihara sarana dan prasrana</td>\n",
              "      <td>anggota</td>\n",
              "      <td>Pelayanan Umum</td>\n",
              "      <td>Pengelolaan Perlengkapan dan Peralatan</td>\n",
              "      <td>NaN</td>\n",
              "    </tr>\n",
              "    <tr>\n",
              "      <th>2379</th>\n",
              "      <td>1983</td>\n",
              "      <td>1005</td>\n",
              "      <td>penetapan user pejabat dan operator penguna ap...</td>\n",
              "      <td>penetapan user pejabat dan operator penguna ap...</td>\n",
              "      <td>Perencanaan, Keuangan, Akuntabilitas, dan Audit</td>\n",
              "      <td>Keuangan</td>\n",
              "      <td>NaN</td>\n",
              "    </tr>\n",
              "    <tr>\n",
              "      <th>2380</th>\n",
              "      <td>2685</td>\n",
              "      <td>1208</td>\n",
              "      <td>tim Refleksi Akhir Tahun Setwapres</td>\n",
              "      <td>Anggota</td>\n",
              "      <td>Administrasi Umum</td>\n",
              "      <td>Tata Usaha</td>\n",
              "      <td>NaN</td>\n",
              "    </tr>\n",
              "    <tr>\n",
              "      <th>2381</th>\n",
              "      <td>87</td>\n",
              "      <td>1208</td>\n",
              "      <td>tim monitoring verifikasi lahan baku sawah</td>\n",
              "      <td>Anggota</td>\n",
              "      <td>Administrasi Umum</td>\n",
              "      <td>Tata Usaha</td>\n",
              "      <td>NaN</td>\n",
              "    </tr>\n",
              "  </tbody>\n",
              "</table>\n",
              "<p>2382 rows × 7 columns</p>\n",
              "</div>"
            ],
            "text/plain": [
              "      idtimkerja  ...  peran_jabatan\n",
              "0           1483  ...            NaN\n",
              "1            474  ...            NaN\n",
              "2           2362  ...            NaN\n",
              "3            507  ...            NaN\n",
              "4           1158  ...            NaN\n",
              "...          ...  ...            ...\n",
              "2377        1675  ...            NaN\n",
              "2378        1564  ...            NaN\n",
              "2379        1983  ...            NaN\n",
              "2380        2685  ...            NaN\n",
              "2381          87  ...            NaN\n",
              "\n",
              "[2382 rows x 7 columns]"
            ]
          },
          "metadata": {},
          "execution_count": 129
        }
      ]
    },
    {
      "cell_type": "code",
      "source": [
        "df_rumpun = df_rumpun[['nama_kegiatan', 'keluarga_jabatan', 'fungsi_jabatan']]"
      ],
      "metadata": {
        "id": "E02Lf0VlBXDe"
      },
      "execution_count": null,
      "outputs": []
    },
    {
      "cell_type": "code",
      "source": [
        "df_rumpun.isna().sum()"
      ],
      "metadata": {
        "colab": {
          "base_uri": "https://localhost:8080/"
        },
        "id": "c57UAwyyuMMB",
        "outputId": "69c182ca-21e4-4bb3-d878-065433bc6c9d"
      },
      "execution_count": null,
      "outputs": [
        {
          "output_type": "execute_result",
          "data": {
            "text/plain": [
              "nama_kegiatan        0\n",
              "keluarga_jabatan    26\n",
              "fungsi_jabatan      27\n",
              "dtype: int64"
            ]
          },
          "metadata": {},
          "execution_count": 131
        }
      ]
    },
    {
      "cell_type": "code",
      "source": [
        "df_rumpun = df_rumpun.dropna().reset_index(drop=True)"
      ],
      "metadata": {
        "id": "SCI0wa7-B3p6"
      },
      "execution_count": null,
      "outputs": []
    },
    {
      "cell_type": "code",
      "source": [
        "df_rumpun"
      ],
      "metadata": {
        "colab": {
          "base_uri": "https://localhost:8080/",
          "height": 510
        },
        "id": "b55L0jspyat8",
        "outputId": "80d699a9-db9c-4f0f-e38a-d510e8161072"
      },
      "execution_count": null,
      "outputs": [
        {
          "output_type": "execute_result",
          "data": {
            "text/html": [
              "<div>\n",
              "<style scoped>\n",
              "    .dataframe tbody tr th:only-of-type {\n",
              "        vertical-align: middle;\n",
              "    }\n",
              "\n",
              "    .dataframe tbody tr th {\n",
              "        vertical-align: top;\n",
              "    }\n",
              "\n",
              "    .dataframe thead th {\n",
              "        text-align: right;\n",
              "    }\n",
              "</style>\n",
              "<table border=\"1\" class=\"dataframe\">\n",
              "  <thead>\n",
              "    <tr style=\"text-align: right;\">\n",
              "      <th></th>\n",
              "      <th>nama_kegiatan</th>\n",
              "      <th>keluarga_jabatan</th>\n",
              "      <th>fungsi_jabatan</th>\n",
              "    </tr>\n",
              "  </thead>\n",
              "  <tbody>\n",
              "    <tr>\n",
              "      <th>0</th>\n",
              "      <td>(1) Pengelola Arsip pada masing-masing unit ke...</td>\n",
              "      <td>Administrasi Umum</td>\n",
              "      <td>Arsip</td>\n",
              "    </tr>\n",
              "    <tr>\n",
              "      <th>1</th>\n",
              "      <td>ANGGOTA PANITIA PEMERIKSA HASIL PEKERJAAN</td>\n",
              "      <td>Pelayanan Umum</td>\n",
              "      <td>Pengelolaan Perlengkapan dan Peralatan</td>\n",
              "    </tr>\n",
              "    <tr>\n",
              "      <th>2</th>\n",
              "      <td>ANGGOTA PENDUKUNG BIDANG SARANA FISIK HUT RI K...</td>\n",
              "      <td>Pelayanan Umum</td>\n",
              "      <td>Pengelolaan Perlengkapan dan Peralatan</td>\n",
              "    </tr>\n",
              "    <tr>\n",
              "      <th>3</th>\n",
              "      <td>Acara Refleksi Akhir Tahun 2020</td>\n",
              "      <td>Keprotokolan</td>\n",
              "      <td>Protokol VVIP dan VIP</td>\n",
              "    </tr>\n",
              "    <tr>\n",
              "      <th>4</th>\n",
              "      <td>Acara Silaturahmi Ibu Hj. Wury Maruf Amin deng...</td>\n",
              "      <td>Keprotokolan</td>\n",
              "      <td>Protokol VVIP dan VIP</td>\n",
              "    </tr>\n",
              "    <tr>\n",
              "      <th>...</th>\n",
              "      <td>...</td>\n",
              "      <td>...</td>\n",
              "      <td>...</td>\n",
              "    </tr>\n",
              "    <tr>\n",
              "      <th>2350</th>\n",
              "      <td>pemelihara sarana dan prasarana pada biro Umum...</td>\n",
              "      <td>Pelayanan Umum</td>\n",
              "      <td>Pengelolaan Perlengkapan dan Peralatan</td>\n",
              "    </tr>\n",
              "    <tr>\n",
              "      <th>2351</th>\n",
              "      <td>pemelihara sarana dan prasrana</td>\n",
              "      <td>Pelayanan Umum</td>\n",
              "      <td>Pengelolaan Perlengkapan dan Peralatan</td>\n",
              "    </tr>\n",
              "    <tr>\n",
              "      <th>2352</th>\n",
              "      <td>penetapan user pejabat dan operator penguna ap...</td>\n",
              "      <td>Perencanaan, Keuangan, Akuntabilitas, dan Audit</td>\n",
              "      <td>Keuangan</td>\n",
              "    </tr>\n",
              "    <tr>\n",
              "      <th>2353</th>\n",
              "      <td>tim Refleksi Akhir Tahun Setwapres</td>\n",
              "      <td>Administrasi Umum</td>\n",
              "      <td>Tata Usaha</td>\n",
              "    </tr>\n",
              "    <tr>\n",
              "      <th>2354</th>\n",
              "      <td>tim monitoring verifikasi lahan baku sawah</td>\n",
              "      <td>Administrasi Umum</td>\n",
              "      <td>Tata Usaha</td>\n",
              "    </tr>\n",
              "  </tbody>\n",
              "</table>\n",
              "<p>2355 rows × 3 columns</p>\n",
              "</div>"
            ],
            "text/plain": [
              "                                          nama_kegiatan  ...                          fungsi_jabatan\n",
              "0     (1) Pengelola Arsip pada masing-masing unit ke...  ...                                   Arsip\n",
              "1             ANGGOTA PANITIA PEMERIKSA HASIL PEKERJAAN  ...  Pengelolaan Perlengkapan dan Peralatan\n",
              "2     ANGGOTA PENDUKUNG BIDANG SARANA FISIK HUT RI K...  ...  Pengelolaan Perlengkapan dan Peralatan\n",
              "3                       Acara Refleksi Akhir Tahun 2020  ...                   Protokol VVIP dan VIP\n",
              "4     Acara Silaturahmi Ibu Hj. Wury Maruf Amin deng...  ...                   Protokol VVIP dan VIP\n",
              "...                                                 ...  ...                                     ...\n",
              "2350  pemelihara sarana dan prasarana pada biro Umum...  ...  Pengelolaan Perlengkapan dan Peralatan\n",
              "2351                     pemelihara sarana dan prasrana  ...  Pengelolaan Perlengkapan dan Peralatan\n",
              "2352  penetapan user pejabat dan operator penguna ap...  ...                                Keuangan\n",
              "2353                 tim Refleksi Akhir Tahun Setwapres  ...                              Tata Usaha\n",
              "2354         tim monitoring verifikasi lahan baku sawah  ...                              Tata Usaha\n",
              "\n",
              "[2355 rows x 3 columns]"
            ]
          },
          "metadata": {},
          "execution_count": 133
        }
      ]
    },
    {
      "cell_type": "code",
      "source": [
        "# df_rumpun.to_csv('/content/drive/MyDrive/ngoding/freelance/setneg/data baru cleaning/data_clean_new/output_new_0612/output/output_0812/rumpun_jurusan.csv', index=False)"
      ],
      "metadata": {
        "id": "JCzERMsQInLx"
      },
      "execution_count": null,
      "outputs": []
    },
    {
      "cell_type": "code",
      "metadata": {
        "colab": {
          "base_uri": "https://localhost:8080/",
          "height": 562
        },
        "id": "AMluiNzAOa4x",
        "outputId": "334c05e4-ac4e-473c-9bf4-b8426e8fdd9a"
      },
      "source": [
        "df_rumpun['decs_clean_rumpun'] = df_rumpun['nama_kegiatan'].replace(np.nan, ' ')\n",
        "df_rumpun['decs_clean_rumpun'] = df_rumpun['decs_clean_rumpun'].map(lambda word: \" \".join(re.findall(\"[a-zA-Z]+\", word)).lower())\n",
        "\n",
        "# stop_words = list(stopwords.words('indonesian'))\n",
        "# for stop_word in stop_words:\n",
        "#     regex_stopword = r\"\\b\" + stop_word + r\"\\b\"\n",
        "#     df_rumpun['decs_clean_rumpun'] = df_rumpun['decs_clean_rumpun'].str.replace(regex_stopword, '')\n",
        "# df_rumpun['decs_clean_rumpun'] = df_rumpun['decs_clean_rumpun'].map(lambda word: word.split())\n",
        "df_rumpun"
      ],
      "execution_count": null,
      "outputs": [
        {
          "output_type": "execute_result",
          "data": {
            "text/html": [
              "<div>\n",
              "<style scoped>\n",
              "    .dataframe tbody tr th:only-of-type {\n",
              "        vertical-align: middle;\n",
              "    }\n",
              "\n",
              "    .dataframe tbody tr th {\n",
              "        vertical-align: top;\n",
              "    }\n",
              "\n",
              "    .dataframe thead th {\n",
              "        text-align: right;\n",
              "    }\n",
              "</style>\n",
              "<table border=\"1\" class=\"dataframe\">\n",
              "  <thead>\n",
              "    <tr style=\"text-align: right;\">\n",
              "      <th></th>\n",
              "      <th>nama_kegiatan</th>\n",
              "      <th>keluarga_jabatan</th>\n",
              "      <th>fungsi_jabatan</th>\n",
              "      <th>decs_clean_rumpun</th>\n",
              "    </tr>\n",
              "  </thead>\n",
              "  <tbody>\n",
              "    <tr>\n",
              "      <th>0</th>\n",
              "      <td>(1) Pengelola Arsip pada masing-masing unit ke...</td>\n",
              "      <td>Administrasi Umum</td>\n",
              "      <td>Arsip</td>\n",
              "      <td>pengelola arsip pada masing masing unit kerja ...</td>\n",
              "    </tr>\n",
              "    <tr>\n",
              "      <th>1</th>\n",
              "      <td>ANGGOTA PANITIA PEMERIKSA HASIL PEKERJAAN</td>\n",
              "      <td>Pelayanan Umum</td>\n",
              "      <td>Pengelolaan Perlengkapan dan Peralatan</td>\n",
              "      <td>anggota panitia pemeriksa hasil pekerjaan</td>\n",
              "    </tr>\n",
              "    <tr>\n",
              "      <th>2</th>\n",
              "      <td>ANGGOTA PENDUKUNG BIDANG SARANA FISIK HUT RI K...</td>\n",
              "      <td>Pelayanan Umum</td>\n",
              "      <td>Pengelolaan Perlengkapan dan Peralatan</td>\n",
              "      <td>anggota pendukung bidang sarana fisik hut ri k...</td>\n",
              "    </tr>\n",
              "    <tr>\n",
              "      <th>3</th>\n",
              "      <td>Acara Refleksi Akhir Tahun 2020</td>\n",
              "      <td>Keprotokolan</td>\n",
              "      <td>Protokol VVIP dan VIP</td>\n",
              "      <td>acara refleksi akhir tahun</td>\n",
              "    </tr>\n",
              "    <tr>\n",
              "      <th>4</th>\n",
              "      <td>Acara Silaturahmi Ibu Hj. Wury Maruf Amin deng...</td>\n",
              "      <td>Keprotokolan</td>\n",
              "      <td>Protokol VVIP dan VIP</td>\n",
              "      <td>acara silaturahmi ibu hj wury maruf amin denga...</td>\n",
              "    </tr>\n",
              "    <tr>\n",
              "      <th>...</th>\n",
              "      <td>...</td>\n",
              "      <td>...</td>\n",
              "      <td>...</td>\n",
              "      <td>...</td>\n",
              "    </tr>\n",
              "    <tr>\n",
              "      <th>2350</th>\n",
              "      <td>pemelihara sarana dan prasarana pada biro Umum...</td>\n",
              "      <td>Pelayanan Umum</td>\n",
              "      <td>Pengelolaan Perlengkapan dan Peralatan</td>\n",
              "      <td>pemelihara sarana dan prasarana pada biro umum...</td>\n",
              "    </tr>\n",
              "    <tr>\n",
              "      <th>2351</th>\n",
              "      <td>pemelihara sarana dan prasrana</td>\n",
              "      <td>Pelayanan Umum</td>\n",
              "      <td>Pengelolaan Perlengkapan dan Peralatan</td>\n",
              "      <td>pemelihara sarana dan prasrana</td>\n",
              "    </tr>\n",
              "    <tr>\n",
              "      <th>2352</th>\n",
              "      <td>penetapan user pejabat dan operator penguna ap...</td>\n",
              "      <td>Perencanaan, Keuangan, Akuntabilitas, dan Audit</td>\n",
              "      <td>Keuangan</td>\n",
              "      <td>penetapan user pejabat dan operator penguna ap...</td>\n",
              "    </tr>\n",
              "    <tr>\n",
              "      <th>2353</th>\n",
              "      <td>tim Refleksi Akhir Tahun Setwapres</td>\n",
              "      <td>Administrasi Umum</td>\n",
              "      <td>Tata Usaha</td>\n",
              "      <td>tim refleksi akhir tahun setwapres</td>\n",
              "    </tr>\n",
              "    <tr>\n",
              "      <th>2354</th>\n",
              "      <td>tim monitoring verifikasi lahan baku sawah</td>\n",
              "      <td>Administrasi Umum</td>\n",
              "      <td>Tata Usaha</td>\n",
              "      <td>tim monitoring verifikasi lahan baku sawah</td>\n",
              "    </tr>\n",
              "  </tbody>\n",
              "</table>\n",
              "<p>2355 rows × 4 columns</p>\n",
              "</div>"
            ],
            "text/plain": [
              "                                          nama_kegiatan  ...                                  decs_clean_rumpun\n",
              "0     (1) Pengelola Arsip pada masing-masing unit ke...  ...  pengelola arsip pada masing masing unit kerja ...\n",
              "1             ANGGOTA PANITIA PEMERIKSA HASIL PEKERJAAN  ...          anggota panitia pemeriksa hasil pekerjaan\n",
              "2     ANGGOTA PENDUKUNG BIDANG SARANA FISIK HUT RI K...  ...  anggota pendukung bidang sarana fisik hut ri k...\n",
              "3                       Acara Refleksi Akhir Tahun 2020  ...                         acara refleksi akhir tahun\n",
              "4     Acara Silaturahmi Ibu Hj. Wury Maruf Amin deng...  ...  acara silaturahmi ibu hj wury maruf amin denga...\n",
              "...                                                 ...  ...                                                ...\n",
              "2350  pemelihara sarana dan prasarana pada biro Umum...  ...  pemelihara sarana dan prasarana pada biro umum...\n",
              "2351                     pemelihara sarana dan prasrana  ...                     pemelihara sarana dan prasrana\n",
              "2352  penetapan user pejabat dan operator penguna ap...  ...  penetapan user pejabat dan operator penguna ap...\n",
              "2353                 tim Refleksi Akhir Tahun Setwapres  ...                 tim refleksi akhir tahun setwapres\n",
              "2354         tim monitoring verifikasi lahan baku sawah  ...         tim monitoring verifikasi lahan baku sawah\n",
              "\n",
              "[2355 rows x 4 columns]"
            ]
          },
          "metadata": {},
          "execution_count": 134
        }
      ]
    },
    {
      "cell_type": "code",
      "source": [
        "df_rumpun.duplicated().sum()"
      ],
      "metadata": {
        "colab": {
          "base_uri": "https://localhost:8080/"
        },
        "id": "MJxFAY4kAacN",
        "outputId": "e843e421-e7f7-4bdc-96cb-9254feba8b2e"
      },
      "execution_count": null,
      "outputs": [
        {
          "output_type": "execute_result",
          "data": {
            "text/plain": [
              "0"
            ]
          },
          "metadata": {},
          "execution_count": 89
        }
      ]
    },
    {
      "cell_type": "code",
      "source": [
        "df_rumpun"
      ],
      "metadata": {
        "colab": {
          "base_uri": "https://localhost:8080/",
          "height": 423
        },
        "id": "l6O8dPBoAQgB",
        "outputId": "579fc076-eba6-4c99-eb1a-1cd68ba1ea6b"
      },
      "execution_count": null,
      "outputs": [
        {
          "output_type": "execute_result",
          "data": {
            "text/html": [
              "<div>\n",
              "<style scoped>\n",
              "    .dataframe tbody tr th:only-of-type {\n",
              "        vertical-align: middle;\n",
              "    }\n",
              "\n",
              "    .dataframe tbody tr th {\n",
              "        vertical-align: top;\n",
              "    }\n",
              "\n",
              "    .dataframe thead th {\n",
              "        text-align: right;\n",
              "    }\n",
              "</style>\n",
              "<table border=\"1\" class=\"dataframe\">\n",
              "  <thead>\n",
              "    <tr style=\"text-align: right;\">\n",
              "      <th></th>\n",
              "      <th>keluargajabatan</th>\n",
              "      <th>fungsi</th>\n",
              "      <th>jurusan</th>\n",
              "      <th>decs_clean_rumpun</th>\n",
              "    </tr>\n",
              "  </thead>\n",
              "  <tbody>\n",
              "    <tr>\n",
              "      <th>0</th>\n",
              "      <td>Teknologi Informasi dan Komunikasi</td>\n",
              "      <td>Sistem Informasi</td>\n",
              "      <td>Teknik Informatika</td>\n",
              "      <td>teknik informatika</td>\n",
              "    </tr>\n",
              "    <tr>\n",
              "      <th>1</th>\n",
              "      <td>Teknologi Informasi dan Komunikasi</td>\n",
              "      <td>Sistem Informasi</td>\n",
              "      <td>Ilmu Komputer</td>\n",
              "      <td>ilmu komputer</td>\n",
              "    </tr>\n",
              "    <tr>\n",
              "      <th>2</th>\n",
              "      <td>Teknologi Informasi dan Komunikasi</td>\n",
              "      <td>Sistem Informasi</td>\n",
              "      <td>Sistem Informasi</td>\n",
              "      <td>sistem informasi</td>\n",
              "    </tr>\n",
              "    <tr>\n",
              "      <th>3</th>\n",
              "      <td>Teknologi Informasi dan Komunikasi</td>\n",
              "      <td>Sistem Informasi</td>\n",
              "      <td>Teknologi Informasi</td>\n",
              "      <td>teknologi informasi</td>\n",
              "    </tr>\n",
              "    <tr>\n",
              "      <th>4</th>\n",
              "      <td>Teknologi Informasi dan Komunikasi</td>\n",
              "      <td>Sistem Informasi</td>\n",
              "      <td>Computer and Network Security</td>\n",
              "      <td>computer and network security</td>\n",
              "    </tr>\n",
              "    <tr>\n",
              "      <th>...</th>\n",
              "      <td>...</td>\n",
              "      <td>...</td>\n",
              "      <td>...</td>\n",
              "      <td>...</td>\n",
              "    </tr>\n",
              "    <tr>\n",
              "      <th>816</th>\n",
              "      <td>Pelayanan Umum</td>\n",
              "      <td>Pelayanan Medis</td>\n",
              "      <td>Ekonomi Manajemen</td>\n",
              "      <td>ekonomi manajemen</td>\n",
              "    </tr>\n",
              "    <tr>\n",
              "      <th>817</th>\n",
              "      <td>Pelayanan Umum</td>\n",
              "      <td>Pelayanan Medis</td>\n",
              "      <td>Pendidikan Bahasa Inggris</td>\n",
              "      <td>pendidikan bahasa inggris</td>\n",
              "    </tr>\n",
              "    <tr>\n",
              "      <th>818</th>\n",
              "      <td>Pelayanan Umum</td>\n",
              "      <td>Pelayanan Medis</td>\n",
              "      <td>Philosophy (Public Health)</td>\n",
              "      <td>philosophy public health</td>\n",
              "    </tr>\n",
              "    <tr>\n",
              "      <th>819</th>\n",
              "      <td>Pelayanan Umum</td>\n",
              "      <td>Pelayanan Medis</td>\n",
              "      <td>Public Health</td>\n",
              "      <td>public health</td>\n",
              "    </tr>\n",
              "    <tr>\n",
              "      <th>820</th>\n",
              "      <td>Pelayanan Umum</td>\n",
              "      <td>Pelayanan Medis</td>\n",
              "      <td>Kesehatan Gigi</td>\n",
              "      <td>kesehatan gigi</td>\n",
              "    </tr>\n",
              "  </tbody>\n",
              "</table>\n",
              "<p>821 rows × 4 columns</p>\n",
              "</div>"
            ],
            "text/plain": [
              "                        keluargajabatan  ...              decs_clean_rumpun\n",
              "0    Teknologi Informasi dan Komunikasi  ...             teknik informatika\n",
              "1    Teknologi Informasi dan Komunikasi  ...                  ilmu komputer\n",
              "2    Teknologi Informasi dan Komunikasi  ...               sistem informasi\n",
              "3    Teknologi Informasi dan Komunikasi  ...            teknologi informasi\n",
              "4    Teknologi Informasi dan Komunikasi  ...  computer and network security\n",
              "..                                  ...  ...                            ...\n",
              "816                      Pelayanan Umum  ...              ekonomi manajemen\n",
              "817                      Pelayanan Umum  ...      pendidikan bahasa inggris\n",
              "818                      Pelayanan Umum  ...       philosophy public health\n",
              "819                      Pelayanan Umum  ...                  public health\n",
              "820                      Pelayanan Umum  ...                 kesehatan gigi\n",
              "\n",
              "[821 rows x 4 columns]"
            ]
          },
          "metadata": {},
          "execution_count": 90
        }
      ]
    },
    {
      "cell_type": "code",
      "source": [
        "df_rumpun['jurusan'].value_counts()"
      ],
      "metadata": {
        "colab": {
          "base_uri": "https://localhost:8080/"
        },
        "id": "w7_tqxWlAmFL",
        "outputId": "f0673242-3a6b-427f-9dd7-b9f0d7746b9a"
      },
      "execution_count": null,
      "outputs": [
        {
          "output_type": "execute_result",
          "data": {
            "text/plain": [
              "Administrasi Negara                             18\n",
              "Administrasi dan Kebijakan Publik               17\n",
              "Master of Public Administration (Management)    17\n",
              "Perencanaan dan Kebijakan Publik                17\n",
              "Master of Public Administration                 17\n",
              "                                                ..\n",
              "Teknik Arsitektur                                1\n",
              "Perhotelan                                       1\n",
              "Marine Science and Management                    1\n",
              "Studi Pertahanan                                 1\n",
              "Manajemen Perusahaan                             1\n",
              "Name: jurusan, Length: 185, dtype: int64"
            ]
          },
          "metadata": {},
          "execution_count": 91
        }
      ]
    },
    {
      "cell_type": "markdown",
      "metadata": {
        "id": "9zy_oB7VPeLm"
      },
      "source": [
        "### riwayat"
      ]
    },
    {
      "cell_type": "code",
      "source": [
        "#load sql riwayat\n",
        "\n"
      ],
      "metadata": {
        "id": "nZtkYLAFxEah"
      },
      "execution_count": null,
      "outputs": []
    },
    {
      "cell_type": "code",
      "metadata": {
        "id": "0qFP5vIpQD1m",
        "colab": {
          "base_uri": "https://localhost:8080/",
          "height": 206
        },
        "outputId": "fb4b9f28-c7e0-43cb-c4e3-6eb63527e2df"
      },
      "source": [
        "#load dataset riwayat\n",
        "\n",
        "df_r = pd.read_csv('/content/drive/MyDrive/ngoding/freelance/setneg/finishing/v1/r_timkerja_prepros_coding.csv')\n",
        "df_r.head()"
      ],
      "execution_count": null,
      "outputs": [
        {
          "output_type": "execute_result",
          "data": {
            "text/html": [
              "<div>\n",
              "<style scoped>\n",
              "    .dataframe tbody tr th:only-of-type {\n",
              "        vertical-align: middle;\n",
              "    }\n",
              "\n",
              "    .dataframe tbody tr th {\n",
              "        vertical-align: top;\n",
              "    }\n",
              "\n",
              "    .dataframe thead th {\n",
              "        text-align: right;\n",
              "    }\n",
              "</style>\n",
              "<table border=\"1\" class=\"dataframe\">\n",
              "  <thead>\n",
              "    <tr style=\"text-align: right;\">\n",
              "      <th></th>\n",
              "      <th>idtimkerja</th>\n",
              "      <th>idtalenta</th>\n",
              "      <th>kegiatan</th>\n",
              "      <th>3</th>\n",
              "      <th>4</th>\n",
              "      <th>5</th>\n",
              "      <th>6</th>\n",
              "      <th>7</th>\n",
              "      <th>8</th>\n",
              "    </tr>\n",
              "  </thead>\n",
              "  <tbody>\n",
              "    <tr>\n",
              "      <th>0</th>\n",
              "      <td>1</td>\n",
              "      <td>1100</td>\n",
              "      <td>Penyiapan Penetapan Kinerja Tahun 2014, Penela...</td>\n",
              "      <td>2.0</td>\n",
              "      <td>2014.0</td>\n",
              "      <td>NaN</td>\n",
              "      <td>NaN</td>\n",
              "      <td>1.0</td>\n",
              "      <td>2021-11-18 13:37:54</td>\n",
              "    </tr>\n",
              "    <tr>\n",
              "      <th>1</th>\n",
              "      <td>2</td>\n",
              "      <td>902</td>\n",
              "      <td>Plt Kepala Subbagian Pemanfaatan BMN</td>\n",
              "      <td>2.0</td>\n",
              "      <td>2014.0</td>\n",
              "      <td>NaN</td>\n",
              "      <td>NaN</td>\n",
              "      <td>1.0</td>\n",
              "      <td>2021-11-18 13:37:54</td>\n",
              "    </tr>\n",
              "    <tr>\n",
              "      <th>2</th>\n",
              "      <td>3</td>\n",
              "      <td>1214</td>\n",
              "      <td>Plt. Kepala Subbagian Dokumentasi dan Penghapu...</td>\n",
              "      <td>2.0</td>\n",
              "      <td>2014.0</td>\n",
              "      <td>NaN</td>\n",
              "      <td>NaN</td>\n",
              "      <td>1.0</td>\n",
              "      <td>2021-11-18 13:37:54</td>\n",
              "    </tr>\n",
              "    <tr>\n",
              "      <th>3</th>\n",
              "      <td>4</td>\n",
              "      <td>1217</td>\n",
              "      <td>Pengadministrasian Data Kehadiran Kerja Pejaba...</td>\n",
              "      <td>2.0</td>\n",
              "      <td>2014.0</td>\n",
              "      <td>NaN</td>\n",
              "      <td>NaN</td>\n",
              "      <td>1.0</td>\n",
              "      <td>2021-11-18 13:37:54</td>\n",
              "    </tr>\n",
              "    <tr>\n",
              "      <th>4</th>\n",
              "      <td>5</td>\n",
              "      <td>276</td>\n",
              "      <td>Staf Pengelola Keuangan AIPI dan PMI</td>\n",
              "      <td>2.0</td>\n",
              "      <td>2014.0</td>\n",
              "      <td>NaN</td>\n",
              "      <td>NaN</td>\n",
              "      <td>1.0</td>\n",
              "      <td>2021-11-18 13:37:54</td>\n",
              "    </tr>\n",
              "  </tbody>\n",
              "</table>\n",
              "</div>"
            ],
            "text/plain": [
              "   idtimkerja  idtalenta  ...    7                    8\n",
              "0           1       1100  ...  1.0  2021-11-18 13:37:54\n",
              "1           2        902  ...  1.0  2021-11-18 13:37:54\n",
              "2           3       1214  ...  1.0  2021-11-18 13:37:54\n",
              "3           4       1217  ...  1.0  2021-11-18 13:37:54\n",
              "4           5        276  ...  1.0  2021-11-18 13:37:54\n",
              "\n",
              "[5 rows x 9 columns]"
            ]
          },
          "metadata": {},
          "execution_count": 135
        }
      ]
    },
    {
      "cell_type": "code",
      "metadata": {
        "colab": {
          "base_uri": "https://localhost:8080/"
        },
        "id": "ipg6K1ZPPmLl",
        "outputId": "498266dc-3d65-42b4-86a3-e987f72caf80"
      },
      "source": [
        "df_r.info()"
      ],
      "execution_count": null,
      "outputs": [
        {
          "output_type": "stream",
          "name": "stdout",
          "text": [
            "<class 'pandas.core.frame.DataFrame'>\n",
            "RangeIndex: 12771 entries, 0 to 12770\n",
            "Data columns (total 9 columns):\n",
            " #   Column      Non-Null Count  Dtype  \n",
            "---  ------      --------------  -----  \n",
            " 0   idtimkerja  12771 non-null  int64  \n",
            " 1   idtalenta   12771 non-null  int64  \n",
            " 2   kegiatan    12771 non-null  object \n",
            " 3   3           12765 non-null  float64\n",
            " 4   4           12765 non-null  float64\n",
            " 5   5           0 non-null      float64\n",
            " 6   6           0 non-null      float64\n",
            " 7   7           12765 non-null  float64\n",
            " 8   8           12765 non-null  object \n",
            "dtypes: float64(5), int64(2), object(2)\n",
            "memory usage: 898.1+ KB\n"
          ]
        }
      ]
    },
    {
      "cell_type": "code",
      "source": [
        "# df_r = df_r['nama_kegiatan'].drop_duplicates()"
      ],
      "metadata": {
        "id": "25DyVWJagLUh"
      },
      "execution_count": null,
      "outputs": []
    },
    {
      "cell_type": "code",
      "source": [
        "# df_r"
      ],
      "metadata": {
        "id": "kZBeYO-3gh77"
      },
      "execution_count": null,
      "outputs": []
    },
    {
      "cell_type": "code",
      "metadata": {
        "id": "IexluoeiPrky"
      },
      "source": [
        "# df_r = df_r[['idjabatan',\t'idtalenta', 'nama_jabatan_new']]\n",
        "df_r = df_r[['idtimkerja', 'idtalenta', 'kegiatan']]"
      ],
      "execution_count": null,
      "outputs": []
    },
    {
      "cell_type": "code",
      "source": [
        "# x = df_r['nama_kegiatan'].duplicated(keep=False)"
      ],
      "metadata": {
        "id": "jQr9raF-agl5"
      },
      "execution_count": null,
      "outputs": []
    },
    {
      "cell_type": "code",
      "source": [
        "# df_r = df_r[x]"
      ],
      "metadata": {
        "id": "01EkJltCa6L-"
      },
      "execution_count": null,
      "outputs": []
    },
    {
      "cell_type": "code",
      "metadata": {
        "colab": {
          "base_uri": "https://localhost:8080/"
        },
        "id": "mLPo9x4oWugj",
        "outputId": "d9b90994-5bf2-4ffc-add5-6850c6de4c4e"
      },
      "source": [
        "df_r.isna().sum()"
      ],
      "execution_count": null,
      "outputs": [
        {
          "output_type": "execute_result",
          "data": {
            "text/plain": [
              "idtimkerja    0\n",
              "idtalenta     0\n",
              "kegiatan      0\n",
              "dtype: int64"
            ]
          },
          "metadata": {},
          "execution_count": 139
        }
      ]
    },
    {
      "cell_type": "code",
      "metadata": {
        "id": "9h0gJqLAPykI"
      },
      "source": [
        "df_r = df_r.dropna()"
      ],
      "execution_count": null,
      "outputs": []
    },
    {
      "cell_type": "code",
      "metadata": {
        "id": "lbCyEMEGXAaB"
      },
      "source": [
        "df_r.reset_index(inplace=True, drop=True)"
      ],
      "execution_count": null,
      "outputs": []
    },
    {
      "cell_type": "code",
      "metadata": {
        "colab": {
          "base_uri": "https://localhost:8080/",
          "height": 206
        },
        "id": "MhiVjEA5QIi0",
        "outputId": "bdcf3097-ed1b-41ac-fac3-16216fae0842"
      },
      "source": [
        "df_r.head()"
      ],
      "execution_count": null,
      "outputs": [
        {
          "output_type": "execute_result",
          "data": {
            "text/html": [
              "<div>\n",
              "<style scoped>\n",
              "    .dataframe tbody tr th:only-of-type {\n",
              "        vertical-align: middle;\n",
              "    }\n",
              "\n",
              "    .dataframe tbody tr th {\n",
              "        vertical-align: top;\n",
              "    }\n",
              "\n",
              "    .dataframe thead th {\n",
              "        text-align: right;\n",
              "    }\n",
              "</style>\n",
              "<table border=\"1\" class=\"dataframe\">\n",
              "  <thead>\n",
              "    <tr style=\"text-align: right;\">\n",
              "      <th></th>\n",
              "      <th>idtimkerja</th>\n",
              "      <th>idtalenta</th>\n",
              "      <th>kegiatan</th>\n",
              "    </tr>\n",
              "  </thead>\n",
              "  <tbody>\n",
              "    <tr>\n",
              "      <th>0</th>\n",
              "      <td>1</td>\n",
              "      <td>1100</td>\n",
              "      <td>Penyiapan Penetapan Kinerja Tahun 2014, Penela...</td>\n",
              "    </tr>\n",
              "    <tr>\n",
              "      <th>1</th>\n",
              "      <td>2</td>\n",
              "      <td>902</td>\n",
              "      <td>Plt Kepala Subbagian Pemanfaatan BMN</td>\n",
              "    </tr>\n",
              "    <tr>\n",
              "      <th>2</th>\n",
              "      <td>3</td>\n",
              "      <td>1214</td>\n",
              "      <td>Plt. Kepala Subbagian Dokumentasi dan Penghapu...</td>\n",
              "    </tr>\n",
              "    <tr>\n",
              "      <th>3</th>\n",
              "      <td>4</td>\n",
              "      <td>1217</td>\n",
              "      <td>Pengadministrasian Data Kehadiran Kerja Pejaba...</td>\n",
              "    </tr>\n",
              "    <tr>\n",
              "      <th>4</th>\n",
              "      <td>5</td>\n",
              "      <td>276</td>\n",
              "      <td>Staf Pengelola Keuangan AIPI dan PMI</td>\n",
              "    </tr>\n",
              "  </tbody>\n",
              "</table>\n",
              "</div>"
            ],
            "text/plain": [
              "   idtimkerja  idtalenta                                           kegiatan\n",
              "0           1       1100  Penyiapan Penetapan Kinerja Tahun 2014, Penela...\n",
              "1           2        902               Plt Kepala Subbagian Pemanfaatan BMN\n",
              "2           3       1214  Plt. Kepala Subbagian Dokumentasi dan Penghapu...\n",
              "3           4       1217  Pengadministrasian Data Kehadiran Kerja Pejaba...\n",
              "4           5        276               Staf Pengelola Keuangan AIPI dan PMI"
            ]
          },
          "metadata": {},
          "execution_count": 140
        }
      ]
    },
    {
      "cell_type": "code",
      "metadata": {
        "id": "B_csrllkPL_0"
      },
      "source": [
        "# # clean the data (remove stopwords, tokenized)\n",
        "\n",
        "# df_r['decs_clean_r'] = df_r[['nama_kegiatan']].apply(lambda x: ' '.join(x), axis=1)\n",
        "# df_r"
      ],
      "execution_count": null,
      "outputs": []
    },
    {
      "cell_type": "code",
      "metadata": {
        "id": "jmB0tdRNxODf"
      },
      "source": [
        "df_r['decs_clean_r'] = df_r['kegiatan'].replace(np.nan, ' ')\n",
        "df_r['decs_clean_r'] = df_r['decs_clean_r'].map(lambda word: \" \".join(re.findall(\"[a-zA-Z]+\", word)).lower())\n",
        "\n",
        "# stop_words = list(stopwords.words('indonesian'))\n",
        "# for stop_word in stop_words:\n",
        "#     regex_stopword = r\"\\b\" + stop_word + r\"\\b\"\n",
        "#     df_r['decs_clean_r'] = df_r['decs_clean_r'].str.replace(regex_stopword, '')\n",
        "# df_r['decs_clean_r'] = df_r['decs_clean_r'].map(lambda word: word.split())\n",
        "df_r.head()"
      ],
      "execution_count": null,
      "outputs": []
    },
    {
      "cell_type": "code",
      "source": [
        "# df_r = df_r[0:100]"
      ],
      "metadata": {
        "id": "2y1HDuq1vShq"
      },
      "execution_count": null,
      "outputs": []
    },
    {
      "cell_type": "code",
      "source": [
        "df_r.shape"
      ],
      "metadata": {
        "colab": {
          "base_uri": "https://localhost:8080/"
        },
        "id": "jIBQ9IzuvVQn",
        "outputId": "01982607-04de-4364-90a8-d86b239bd1de"
      },
      "execution_count": null,
      "outputs": [
        {
          "output_type": "execute_result",
          "data": {
            "text/plain": [
              "(12771, 4)"
            ]
          },
          "metadata": {},
          "execution_count": 142
        }
      ]
    },
    {
      "cell_type": "markdown",
      "metadata": {
        "id": "2biNBHVp3QOa"
      },
      "source": [
        "## matching process"
      ]
    },
    {
      "cell_type": "code",
      "metadata": {
        "id": "riZ9GQHU3Cj4"
      },
      "source": [
        "def avg_sentence_vector(words, model, num_features, index2word_set):\n",
        "    #function to average all words vectors in a given paragraph\n",
        "    # np.zeros(size).reshape((1, size))\n",
        "    featureVec = np.zeros((num_features), dtype=\"float32\")\n",
        "    nwords = 0\n",
        "\n",
        "    for word in words:\n",
        "        if word in index2word_set:\n",
        "            nwords = nwords+1\n",
        "            featureVec = np.add(featureVec, model[word])\n",
        "\n",
        "    if nwords>0:\n",
        "        featureVec = np.divide(featureVec, nwords)\n",
        "    return featureVec"
      ],
      "execution_count": null,
      "outputs": []
    },
    {
      "cell_type": "code",
      "metadata": {
        "id": "R9D53jMU3c4B"
      },
      "source": [
        "def read_data(file_name):\n",
        "    with open(file_name,'r') as f:\n",
        "        word_vocab = set() # not using list to avoid duplicate entry\n",
        "        word2vector = {}\n",
        "        for line in f:\n",
        "            line_ = line.strip() #Remove white space\n",
        "            words_Vec = line_.split()\n",
        "            word_vocab.add(words_Vec[0])\n",
        "            word2vector[words_Vec[0]] = np.array(words_Vec[1:],dtype=float)\n",
        "    print(\"Total Words in DataSet:\",len(word_vocab))\n",
        "    return word_vocab,word2vector"
      ],
      "execution_count": null,
      "outputs": []
    },
    {
      "cell_type": "code",
      "metadata": {
        "colab": {
          "base_uri": "https://localhost:8080/"
        },
        "id": "MDRAZde3RnzJ",
        "outputId": "62a0e992-27c6-46f7-8a43-4d627ca8a5c1"
      },
      "source": [
        "%cd /content/drive/MyDrive/ngoding/freelance/setneg"
      ],
      "execution_count": null,
      "outputs": [
        {
          "output_type": "stream",
          "name": "stdout",
          "text": [
            "/content/drive/MyDrive/ngoding/freelance/setneg\n"
          ]
        }
      ]
    },
    {
      "cell_type": "code",
      "metadata": {
        "id": "q7MdCTfjRZK9"
      },
      "source": [
        "# !wget http://nlp.stanford.edu/data/glove.6B.zip"
      ],
      "execution_count": null,
      "outputs": []
    },
    {
      "cell_type": "code",
      "metadata": {
        "colab": {
          "base_uri": "https://localhost:8080/"
        },
        "id": "RwR8q4FJSNpG",
        "outputId": "36c3f961-de53-424d-e32d-fa45c4009484"
      },
      "source": [
        "# !unzip glove*.zip"
      ],
      "execution_count": null,
      "outputs": [
        {
          "output_type": "stream",
          "name": "stdout",
          "text": [
            "Archive:  glove.6B.zip\n",
            "  inflating: glove.6B.50d.txt        \n",
            "  inflating: glove.6B.100d.txt       \n",
            "  inflating: glove.6B.200d.txt       \n",
            "  inflating: glove.6B.300d.txt       \n"
          ]
        }
      ]
    },
    {
      "cell_type": "code",
      "metadata": {
        "colab": {
          "base_uri": "https://localhost:8080/"
        },
        "id": "I6mRSM-eQjzt",
        "outputId": "8f469f45-b0b6-4153-a655-5b5c5e97bc70"
      },
      "source": [
        "vocab, gloves = read_data(\"/content/drive/MyDrive/ngoding/freelance/setneg/glove.6B.50d.txt\")"
      ],
      "execution_count": null,
      "outputs": [
        {
          "output_type": "stream",
          "name": "stdout",
          "text": [
            "Total Words in DataSet: 400000\n"
          ]
        }
      ]
    },
    {
      "cell_type": "markdown",
      "metadata": {
        "id": "p8UCWwj-89eH"
      },
      "source": [
        "## similarity"
      ]
    },
    {
      "cell_type": "code",
      "metadata": {
        "colab": {
          "base_uri": "https://localhost:8080/"
        },
        "id": "dXIxE61iwH59",
        "outputId": "a3ba9104-fe92-46c8-ed42-3835764052ff"
      },
      "source": [
        "df_r.columns"
      ],
      "execution_count": null,
      "outputs": [
        {
          "output_type": "execute_result",
          "data": {
            "text/plain": [
              "Index(['idtimkerja', 'idtalenta', 'kegiatan', 'decs_clean_r'], dtype='object')"
            ]
          },
          "metadata": {},
          "execution_count": 143
        }
      ]
    },
    {
      "cell_type": "code",
      "metadata": {
        "colab": {
          "base_uri": "https://localhost:8080/"
        },
        "id": "JpBp7G5xwGCv",
        "outputId": "c7c3179e-a900-4561-e16b-7592fa0e0ca6"
      },
      "source": [
        "df_rumpun.columns"
      ],
      "execution_count": null,
      "outputs": [
        {
          "output_type": "execute_result",
          "data": {
            "text/plain": [
              "Index(['nama_kegiatan', 'keluarga_jabatan', 'fungsi_jabatan',\n",
              "       'decs_clean_rumpun'],\n",
              "      dtype='object')"
            ]
          },
          "metadata": {},
          "execution_count": 144
        }
      ]
    },
    {
      "cell_type": "code",
      "metadata": {
        "id": "-yUX5G9Y3mcl",
        "colab": {
          "base_uri": "https://localhost:8080/",
          "height": 597
        },
        "outputId": "694f1551-e6c0-4fdb-ec75-18157cc35593"
      },
      "source": [
        "  # # matching process\n",
        "\n",
        "  # def matching(df_rumpun, df_r):\n",
        "  avg_vector_rumpun = df_rumpun['decs_clean_rumpun'].map(lambda x: avg_sentence_vector(list(dict.fromkeys(x)), model=gloves, num_features=50, index2word_set = vocab))\n",
        "  avg_vector_r = df_r['decs_clean_r'].map(lambda x: avg_sentence_vector(list(dict.fromkeys(x)), model=gloves, num_features=50, index2word_set = vocab))\n",
        "\n",
        "  data_matchs = []\n",
        "  for r in range(0,len(avg_vector_r)):\n",
        "    data_match = []\n",
        "    for rumpun in avg_vector_rumpun:\n",
        "      data_match.append(cosine_similarity([avg_vector_r[r]], [rumpun])[0][0])\n",
        "    data_matchs.append(data_match)\n",
        "\n",
        "  df_data_matchs = pd.DataFrame(columns=['idtimkerja', 'idtalenta', 'nama_kegiatan',\n",
        "                                         'keluarga_jabatan', 'fungsi_jabatan'])\n",
        "\n",
        "  # df_data_matchs = pd.DataFrame(columns=['idpengalamankerja', 'idtalenta', 'jabatan',\n",
        "  #                                        'keluarga_jabatan', 'fungsi_jabatan', 'Jabatan'])\n",
        "\n",
        "  id = 0\n",
        "  for match in range(0,len(data_matchs)):\n",
        "    idx = np.argsort(-np.array(data_matchs[match]))[:1]\n",
        "    for rumpun in range(0, len(idx)):\n",
        "\n",
        "      df_data_matchs.loc[id,'idtimkerja'] = df_r['idtimkerja'][match]\n",
        "      df_data_matchs.loc[id,'idtalenta'] = df_r['idtalenta'][match]\n",
        "      df_data_matchs.loc[id,'nama_kegiatan'] = df_r['kegiatan'][match]\n",
        "      # df_data_matchs.loc[id,'nama_program_new'] = df_r['nama_program_new'][match]\n",
        "\n",
        "      # df_data_matchs.loc[id,'nama_kegiatan'] = df_rumpun['nama_kegiatan'][idx[rumpun]]\n",
        "      df_data_matchs.loc[id,'keluarga_jabatan'] = df_rumpun['keluarga_jabatan'][idx[rumpun]]\n",
        "      df_data_matchs.loc[id,'fungsi_jabatan'] = df_rumpun['fungsi_jabatan'][idx[rumpun]]\n",
        "\n",
        "      df_data_matchs.loc[id,'similarity'] = data_matchs[match][idx[rumpun]]\n",
        "\n",
        "      id += 1\n",
        "\n",
        "  # return df_data_matchs\n",
        "  df_data_matchs"
      ],
      "execution_count": null,
      "outputs": [
        {
          "output_type": "execute_result",
          "data": {
            "text/html": [
              "<div>\n",
              "<style scoped>\n",
              "    .dataframe tbody tr th:only-of-type {\n",
              "        vertical-align: middle;\n",
              "    }\n",
              "\n",
              "    .dataframe tbody tr th {\n",
              "        vertical-align: top;\n",
              "    }\n",
              "\n",
              "    .dataframe thead th {\n",
              "        text-align: right;\n",
              "    }\n",
              "</style>\n",
              "<table border=\"1\" class=\"dataframe\">\n",
              "  <thead>\n",
              "    <tr style=\"text-align: right;\">\n",
              "      <th></th>\n",
              "      <th>idtimkerja</th>\n",
              "      <th>idtalenta</th>\n",
              "      <th>nama_kegiatan</th>\n",
              "      <th>keluarga_jabatan</th>\n",
              "      <th>fungsi_jabatan</th>\n",
              "      <th>similarity</th>\n",
              "    </tr>\n",
              "  </thead>\n",
              "  <tbody>\n",
              "    <tr>\n",
              "      <th>0</th>\n",
              "      <td>1</td>\n",
              "      <td>1100</td>\n",
              "      <td>Penyiapan Penetapan Kinerja Tahun 2014, Penela...</td>\n",
              "      <td>Pelayanan Umum</td>\n",
              "      <td>Pengelolaan Perlengkapan dan Peralatan</td>\n",
              "      <td>1.000000</td>\n",
              "    </tr>\n",
              "    <tr>\n",
              "      <th>1</th>\n",
              "      <td>2</td>\n",
              "      <td>902</td>\n",
              "      <td>Plt Kepala Subbagian Pemanfaatan BMN</td>\n",
              "      <td>Administrasi Umum</td>\n",
              "      <td>Tata Usaha</td>\n",
              "      <td>0.998466</td>\n",
              "    </tr>\n",
              "    <tr>\n",
              "      <th>2</th>\n",
              "      <td>3</td>\n",
              "      <td>1214</td>\n",
              "      <td>Plt. Kepala Subbagian Dokumentasi dan Penghapu...</td>\n",
              "      <td>Pelayanan Umum</td>\n",
              "      <td>Pengelolaan Perlengkapan dan Peralatan</td>\n",
              "      <td>1.000000</td>\n",
              "    </tr>\n",
              "    <tr>\n",
              "      <th>3</th>\n",
              "      <td>4</td>\n",
              "      <td>1217</td>\n",
              "      <td>Pengadministrasian Data Kehadiran Kerja Pejaba...</td>\n",
              "      <td>Administrasi Umum</td>\n",
              "      <td>Tata Usaha</td>\n",
              "      <td>1.000000</td>\n",
              "    </tr>\n",
              "    <tr>\n",
              "      <th>4</th>\n",
              "      <td>5</td>\n",
              "      <td>276</td>\n",
              "      <td>Staf Pengelola Keuangan AIPI dan PMI</td>\n",
              "      <td>Kehumasan</td>\n",
              "      <td>Pengelolaan Informasi Publik</td>\n",
              "      <td>0.999181</td>\n",
              "    </tr>\n",
              "    <tr>\n",
              "      <th>...</th>\n",
              "      <td>...</td>\n",
              "      <td>...</td>\n",
              "      <td>...</td>\n",
              "      <td>...</td>\n",
              "      <td>...</td>\n",
              "      <td>...</td>\n",
              "    </tr>\n",
              "    <tr>\n",
              "      <th>12766</th>\n",
              "      <td>4678</td>\n",
              "      <td>780</td>\n",
              "      <td>Ketua Tim Penyusun Rancangan Peraturan Menteri...</td>\n",
              "      <td>Administrasi Umum</td>\n",
              "      <td>Tata Usaha</td>\n",
              "      <td>1.000000</td>\n",
              "    </tr>\n",
              "    <tr>\n",
              "      <th>12767</th>\n",
              "      <td>4678</td>\n",
              "      <td>780</td>\n",
              "      <td>Penanggungjawab UAPA Kementerian  Sekretariat ...</td>\n",
              "      <td>Pelayanan Umum</td>\n",
              "      <td>Pengelolaan Perlengkapan dan Peralatan</td>\n",
              "      <td>1.000000</td>\n",
              "    </tr>\n",
              "    <tr>\n",
              "      <th>12768</th>\n",
              "      <td>4678</td>\n",
              "      <td>780</td>\n",
              "      <td>Tim Pemeriksa terhadap Tedi Permana, Dkk (5 or...</td>\n",
              "      <td>Kehumasan</td>\n",
              "      <td>Peliputan dan Dokumentasi</td>\n",
              "      <td>1.000000</td>\n",
              "    </tr>\n",
              "    <tr>\n",
              "      <th>12769</th>\n",
              "      <td>4679</td>\n",
              "      <td>101</td>\n",
              "      <td>Panitia HUT RI</td>\n",
              "      <td>Pelayanan Umum</td>\n",
              "      <td>Pengelolaan Perlengkapan dan Peralatan</td>\n",
              "      <td>1.000000</td>\n",
              "    </tr>\n",
              "    <tr>\n",
              "      <th>12770</th>\n",
              "      <td>4679</td>\n",
              "      <td>101</td>\n",
              "      <td>Panitia Penerimaan Hasil Pekerjaan</td>\n",
              "      <td>Sumber Daya Manusia, Kelembagaan, dan Tata Lak...</td>\n",
              "      <td>Pengelolaan Sumber Daya Manusia</td>\n",
              "      <td>0.998594</td>\n",
              "    </tr>\n",
              "  </tbody>\n",
              "</table>\n",
              "<p>12771 rows × 6 columns</p>\n",
              "</div>"
            ],
            "text/plain": [
              "      idtimkerja idtalenta  ...                          fungsi_jabatan similarity\n",
              "0              1      1100  ...  Pengelolaan Perlengkapan dan Peralatan   1.000000\n",
              "1              2       902  ...                              Tata Usaha   0.998466\n",
              "2              3      1214  ...  Pengelolaan Perlengkapan dan Peralatan   1.000000\n",
              "3              4      1217  ...                              Tata Usaha   1.000000\n",
              "4              5       276  ...            Pengelolaan Informasi Publik   0.999181\n",
              "...          ...       ...  ...                                     ...        ...\n",
              "12766       4678       780  ...                              Tata Usaha   1.000000\n",
              "12767       4678       780  ...  Pengelolaan Perlengkapan dan Peralatan   1.000000\n",
              "12768       4678       780  ...               Peliputan dan Dokumentasi   1.000000\n",
              "12769       4679       101  ...  Pengelolaan Perlengkapan dan Peralatan   1.000000\n",
              "12770       4679       101  ...         Pengelolaan Sumber Daya Manusia   0.998594\n",
              "\n",
              "[12771 rows x 6 columns]"
            ]
          },
          "metadata": {},
          "execution_count": 145
        }
      ]
    },
    {
      "cell_type": "code",
      "source": [
        "df_data_matchs.to_csv('/content/drive/MyDrive/ngoding/freelance/setneg/finishing/v1/timkerja-notoken-datasetpiawai.csv', index=False)"
      ],
      "metadata": {
        "id": "ANhBd1HyPHh6"
      },
      "execution_count": null,
      "outputs": []
    },
    {
      "cell_type": "code",
      "metadata": {
        "id": "RoUyNZP2wVEb"
      },
      "source": [
        "matching_result = matching(df_rumpun, df_r)"
      ],
      "execution_count": null,
      "outputs": []
    },
    {
      "cell_type": "code",
      "metadata": {
        "colab": {
          "base_uri": "https://localhost:8080/",
          "height": 770
        },
        "id": "uFfW49v3wheJ",
        "outputId": "725d99d3-d110-41d5-edcc-1fbdc11049c7"
      },
      "source": [
        "matching_result"
      ],
      "execution_count": null,
      "outputs": [
        {
          "output_type": "execute_result",
          "data": {
            "text/html": [
              "<div>\n",
              "<style scoped>\n",
              "    .dataframe tbody tr th:only-of-type {\n",
              "        vertical-align: middle;\n",
              "    }\n",
              "\n",
              "    .dataframe tbody tr th {\n",
              "        vertical-align: top;\n",
              "    }\n",
              "\n",
              "    .dataframe thead th {\n",
              "        text-align: right;\n",
              "    }\n",
              "</style>\n",
              "<table border=\"1\" class=\"dataframe\">\n",
              "  <thead>\n",
              "    <tr style=\"text-align: right;\">\n",
              "      <th></th>\n",
              "      <th>idpengalamankerja</th>\n",
              "      <th>idtalenta</th>\n",
              "      <th>jabatan</th>\n",
              "      <th>nama_kegiatan</th>\n",
              "      <th>keluarga_jabatan</th>\n",
              "      <th>fungsi_jabatan</th>\n",
              "      <th>similarity</th>\n",
              "    </tr>\n",
              "  </thead>\n",
              "  <tbody>\n",
              "    <tr>\n",
              "      <th>0</th>\n",
              "      <td>1</td>\n",
              "      <td>5</td>\n",
              "      <td>Pelaksana Harian Sekretaris Kementerian Sekret...</td>\n",
              "      <td>Tim Panel Seleksi Tenaga Ahli Sekretariat TP2AK</td>\n",
              "      <td>Sumber Daya Manusia, Kelembagaan, dan Tata Lak...</td>\n",
              "      <td>Pengelolaan Sumber Daya Manusia</td>\n",
              "      <td>1.000000</td>\n",
              "    </tr>\n",
              "    <tr>\n",
              "      <th>1</th>\n",
              "      <td>2</td>\n",
              "      <td>5</td>\n",
              "      <td>Pelaksana Harian Sekretaris Kementerian Sekret...</td>\n",
              "      <td>Tim Panel Seleksi Tenaga Ahli Sekretariat TP2AK</td>\n",
              "      <td>Sumber Daya Manusia, Kelembagaan, dan Tata Lak...</td>\n",
              "      <td>Pengelolaan Sumber Daya Manusia</td>\n",
              "      <td>1.000000</td>\n",
              "    </tr>\n",
              "    <tr>\n",
              "      <th>2</th>\n",
              "      <td>3</td>\n",
              "      <td>30</td>\n",
              "      <td>Sekretaris merangkap Anggota Tim Penilai Angka...</td>\n",
              "      <td>(1) Pengelola Arsip pada masing-masing unit ke...</td>\n",
              "      <td>Administrasi Umum</td>\n",
              "      <td>Arsip</td>\n",
              "      <td>1.000000</td>\n",
              "    </tr>\n",
              "    <tr>\n",
              "      <th>3</th>\n",
              "      <td>4</td>\n",
              "      <td>51</td>\n",
              "      <td>Sekretaris Panitia Pengadaan Barang/Jasa (PPBJ...</td>\n",
              "      <td>PIC Aplikasi Penjadwalan Kegiatan Presiden</td>\n",
              "      <td>Administrasi Umum</td>\n",
              "      <td>Tata Usaha</td>\n",
              "      <td>0.999404</td>\n",
              "    </tr>\n",
              "    <tr>\n",
              "      <th>4</th>\n",
              "      <td>5</td>\n",
              "      <td>51</td>\n",
              "      <td>Plh. Kepala Bagian Kendaraan dan Ketertiban Ke...</td>\n",
              "      <td>Tim Pengarah dan Tim Pelaksana PMPRB</td>\n",
              "      <td>Sumber Daya Manusia, Kelembagaan, dan Tata Lak...</td>\n",
              "      <td>Kelembagaan dan Tata Laksana</td>\n",
              "      <td>0.998929</td>\n",
              "    </tr>\n",
              "    <tr>\n",
              "      <th>...</th>\n",
              "      <td>...</td>\n",
              "      <td>...</td>\n",
              "      <td>...</td>\n",
              "      <td>...</td>\n",
              "      <td>...</td>\n",
              "      <td>...</td>\n",
              "      <td>...</td>\n",
              "    </tr>\n",
              "    <tr>\n",
              "      <th>1912</th>\n",
              "      <td>1913</td>\n",
              "      <td>1829</td>\n",
              "      <td>Wakil Ketua merangkap Anggota Tim Penyusun Ran...</td>\n",
              "      <td>Tim Penyusun Rencana Strategis Koperasi Pegawa...</td>\n",
              "      <td>Perencanaan, Keuangan, Akuntabilitas, dan Audit</td>\n",
              "      <td>Perencanaan Program dan Anggaran</td>\n",
              "      <td>0.999012</td>\n",
              "    </tr>\n",
              "    <tr>\n",
              "      <th>1913</th>\n",
              "      <td>1914</td>\n",
              "      <td>1829</td>\n",
              "      <td>Anggota Komite Penjaminan Mutu Diklat Pusdikla...</td>\n",
              "      <td>Pengelola Magang di Lingkungan Kemensetneg</td>\n",
              "      <td>Sumber Daya Manusia, Kelembagaan, dan Tata Lak...</td>\n",
              "      <td>Pengembangan Kompetensi</td>\n",
              "      <td>0.998943</td>\n",
              "    </tr>\n",
              "    <tr>\n",
              "      <th>1914</th>\n",
              "      <td>1915</td>\n",
              "      <td>1829</td>\n",
              "      <td>Wakil Ketua Tim Penyelesaian kerugian Negara d...</td>\n",
              "      <td>Pelaksana Tugas Asdep Pengawasan Penyelenggara...</td>\n",
              "      <td>Administrasi Umum</td>\n",
              "      <td>Tata Usaha</td>\n",
              "      <td>1.000000</td>\n",
              "    </tr>\n",
              "    <tr>\n",
              "      <th>1915</th>\n",
              "      <td>1916</td>\n",
              "      <td>1837</td>\n",
              "      <td>Pelaksana Tugas Kepala Bagian Penganugerahan, ...</td>\n",
              "      <td>Kelompok Kerja (Pokja) Pemilihan Unit Kerja Pe...</td>\n",
              "      <td>Pelayanan Umum</td>\n",
              "      <td>Pengelolaan Perlengkapan dan Peralatan</td>\n",
              "      <td>1.000000</td>\n",
              "    </tr>\n",
              "    <tr>\n",
              "      <th>1916</th>\n",
              "      <td>1917</td>\n",
              "      <td>598</td>\n",
              "      <td>Plh. Sekretaris Militer Presiden</td>\n",
              "      <td>Panitia Pemeriksa Hasil Administrasi Pekerjaan</td>\n",
              "      <td>Pelayanan Umum</td>\n",
              "      <td>Pengelolaan Perlengkapan dan Peralatan</td>\n",
              "      <td>0.998774</td>\n",
              "    </tr>\n",
              "  </tbody>\n",
              "</table>\n",
              "<p>1917 rows × 7 columns</p>\n",
              "</div>"
            ],
            "text/plain": [
              "     idpengalamankerja  ... similarity\n",
              "0                    1  ...   1.000000\n",
              "1                    2  ...   1.000000\n",
              "2                    3  ...   1.000000\n",
              "3                    4  ...   0.999404\n",
              "4                    5  ...   0.998929\n",
              "...                ...  ...        ...\n",
              "1912              1913  ...   0.999012\n",
              "1913              1914  ...   0.998943\n",
              "1914              1915  ...   1.000000\n",
              "1915              1916  ...   1.000000\n",
              "1916              1917  ...   0.998774\n",
              "\n",
              "[1917 rows x 7 columns]"
            ]
          },
          "metadata": {},
          "execution_count": 90
        }
      ]
    },
    {
      "cell_type": "code",
      "metadata": {
        "id": "nTaixlTt-Ot5"
      },
      "source": [
        "matching_result.to_csv('/content/drive/MyDrive/ngoding/freelance/setneg/finishing/v1/pengalaman-notoken-datasetpiawai.csv', index=False)"
      ],
      "execution_count": null,
      "outputs": []
    },
    {
      "cell_type": "code",
      "metadata": {
        "id": "7nftqqvI5QPl"
      },
      "source": [],
      "execution_count": null,
      "outputs": []
    },
    {
      "cell_type": "code",
      "metadata": {
        "id": "B4GlNUzv5QSf"
      },
      "source": [],
      "execution_count": null,
      "outputs": []
    },
    {
      "cell_type": "code",
      "metadata": {
        "id": "FTxFU4325QUn"
      },
      "source": [],
      "execution_count": null,
      "outputs": []
    },
    {
      "cell_type": "markdown",
      "metadata": {
        "id": "F4JLaocI5RTL"
      },
      "source": [
        "# to json"
      ]
    },
    {
      "cell_type": "code",
      "source": [
        "%cd /content/drive/MyDrive/ngoding/freelance/setneg/finishing/v1/output/json"
      ],
      "metadata": {
        "colab": {
          "base_uri": "https://localhost:8080/"
        },
        "id": "_HiQTYZLL6uX",
        "outputId": "82b59dc9-5a6c-4f00-8325-ed2d477885ae"
      },
      "execution_count": null,
      "outputs": [
        {
          "output_type": "stream",
          "name": "stdout",
          "text": [
            "/content/drive/MyDrive/ngoding/freelance/setneg/finishing/v1/output/json\n"
          ]
        }
      ]
    },
    {
      "cell_type": "code",
      "metadata": {
        "id": "8hKCZIymUKRn"
      },
      "source": [
        "import csv\n",
        "import json\n",
        "\n",
        "\n",
        "# Function to convert a CSV to JSON\n",
        "# Takes the file paths as arguments\n",
        "def make_json(csvFilePath, jsonFilePath):\n",
        "\n",
        "    # create a dictionary\n",
        "    data = {}\n",
        "\n",
        "    # Open a csv reader called DictReader\n",
        "    with open(csvFilePath, encoding='utf-8') as csvf:\n",
        "        csvReader = csv.DictReader(csvf)\n",
        "\n",
        "        # Convert each row into a dictionary\n",
        "        # and add it to data\n",
        "        for rows in csvReader:\n",
        "\n",
        "            # Assuming a column named 'No' to\n",
        "            # be the primary key\n",
        "            key = rows['idtalenta']\n",
        "            data[key] = rows\n",
        "\n",
        "    # Open a json writer, and use the json.dumps()\n",
        "    # function to dump data\n",
        "    with open(jsonFilePath, 'w', encoding='utf-8') as jsonf:\n",
        "        jsonf.write(json.dumps(data, indent=4))\n",
        "\n",
        "# Driver Code\n",
        "\n",
        "# Decide the two file paths according to your\n",
        "# computer system\n",
        "csvFilePath = r'2. pengakuan_ver1.csv'\n",
        "jsonFilePath = r'2. pengakuan_ver1.json'\n",
        "\n",
        "# Call the make_json function\n",
        "make_json(csvFilePath, jsonFilePath)"
      ],
      "execution_count": null,
      "outputs": []
    }
  ]
}